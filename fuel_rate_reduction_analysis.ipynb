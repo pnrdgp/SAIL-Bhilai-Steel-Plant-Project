{
  "nbformat": 4,
  "nbformat_minor": 0,
  "metadata": {
    "colab": {
      "provenance": [],
      "authorship_tag": "ABX9TyMkd1/E9dHmSt+5s6mFtB9A",
      "include_colab_link": true
    },
    "kernelspec": {
      "name": "python3",
      "display_name": "Python 3"
    },
    "language_info": {
      "name": "python"
    }
  },
  "cells": [
    {
      "cell_type": "markdown",
      "metadata": {
        "id": "view-in-github",
        "colab_type": "text"
      },
      "source": [
        "<a href=\"https://colab.research.google.com/github/pnrdgp/SAIL-Bhilai-Steel-Plant-Project/blob/main/fuel_rate_reduction_analysis.ipynb\" target=\"_parent\"><img src=\"https://colab.research.google.com/assets/colab-badge.svg\" alt=\"Open In Colab\"/></a>"
      ]
    },
    {
      "cell_type": "code",
      "execution_count": 3,
      "metadata": {
        "colab": {
          "base_uri": "https://localhost:8080/"
        },
        "id": "h5fVGdQXO6ck",
        "outputId": "4f2eab3e-da2d-4398-cffe-4a2368a03266"
      },
      "outputs": [
        {
          "output_type": "stream",
          "name": "stdout",
          "text": [
            "--- Loading and Preparing Data ---\n",
            "Data loaded and cleaned successfully.\n",
            "\n",
            "--- Analysis Setup ---\n",
            "Total Days in Dataset: 234\n",
            "Number of 'Best-in-Class' Days (Top 10.0%): 25\n",
            "Fuel Rate for an Average Day: 571.45 kg/thm\n",
            "Average Fuel Rate for a 'Best-in-Class' Day: 548.06 kg/thm\n",
            "\n",
            "--- Blueprint for High Efficiency ---\n",
            "To move from an 'Average Day' to a 'Best-in-Class Day' (saving approx. 23.4 kg/thm of fuel), the furnace was operated with:\n",
            "--------------------------------------------------------------------------------\n",
            "-> A 27.19 unit LOWER Hot Blast Temp (Avg: 1149.47 vs. Best: 1122.28)\n",
            "-> A 1.06 unit HIGHER Moisture (Avg: 7.16 vs. Best: 8.23)\n",
            "-> A 0.22 unit LOWER Co Efficiency (Avg: 46.04 vs. Best: 45.82)\n",
            "-> A 18.31 unit LOWER Slag Rate (Avg: 505.67 vs. Best: 487.36)\n",
            "-> A 0.01 unit HIGHER Top Pressure (Avg: 2.35 vs. Best: 2.36)\n",
            "-> A 18.24 unit LOWER Flame Temp (Avg: 2181.59 vs. Best: 2163.34)\n",
            "--------------------------------------------------------------------------------\n",
            "\n",
            "This analysis shows the actual, historical parameters that led to the best performance.\n"
          ]
        }
      ],
      "source": [
        "# Imported necessary libraries\n",
        "import pandas as pd\n",
        "import numpy as np\n",
        "import sys\n",
        "\n",
        "# Defined the percentile for \"Best-in-Class\" performance.\n",
        "BEST_IN_CLASS_PERCENTILE = 0.10\n",
        "\n",
        "# --- Step 1: Loading and Preparing Data ---\n",
        "\n",
        "print(\"--- Loading and Preparing Data ---\")\n",
        "try:\n",
        "    # Defining the path to the file in the Colab environment\n",
        "    file_path = 'blastfurnacedata.csv'\n",
        "\n",
        "    # Read the file into a pandas DataFrame\n",
        "    raw_df = pd.read_csv(file_path, encoding='utf-8-sig')\n",
        "\n",
        "    # Rename columns for consistency\n",
        "    raw_df = raw_df.rename(columns={\n",
        "        'ï»¿fuel rate': 'fuel_rate', 'fuel rate': 'fuel_rate', 'moisture': 'moisture',\n",
        "        'co efficiency': 'co_efficiency', 'hot blast temp': 'hot_blast_temp',\n",
        "        'slag rate': 'slag_rate', 'flame temp': 'flame_temp', 'top pressure': 'top_pressure'\n",
        "    })\n",
        "\n",
        "    # Define and clean required columns\n",
        "    required_cols = ['fuel_rate', 'moisture', 'co_efficiency', 'hot_blast_temp', 'slag_rate', 'flame_temp', 'top_pressure']\n",
        "    for col in required_cols:\n",
        "        raw_df[col] = pd.to_numeric(raw_df[col], errors='coerce')\n",
        "    df = raw_df.dropna(subset=required_cols)\n",
        "\n",
        "    print(\"Data loaded and cleaned successfully.\\n\")\n",
        "\n",
        "    # --- Step 2: Identify \"Best-in-Class\" and \"Average\" Performance ---\n",
        "    best_fuel_rate_threshold = df['fuel_rate'].quantile(BEST_IN_CLASS_PERCENTILE)\n",
        "    best_in_class_df = df[df['fuel_rate'] <= best_fuel_rate_threshold]\n",
        "    average_performance = df.mean()\n",
        "    best_in_class_performance = best_in_class_df.mean()\n",
        "\n",
        "    print(f\"--- Analysis Setup ---\")\n",
        "    print(f\"Total Days in Dataset: {len(df)}\")\n",
        "    print(f\"Number of 'Best-in-Class' Days (Top {BEST_IN_CLASS_PERCENTILE*100}%): {len(best_in_class_df)}\")\n",
        "    print(f\"Fuel Rate for an Average Day: {average_performance['fuel_rate']:.2f} kg/thm\")\n",
        "    print(f\"Average Fuel Rate for a 'Best-in-Class' Day: {best_in_class_performance['fuel_rate']:.2f} kg/thm\\n\")\n",
        "\n",
        "    # --- Step 3: Create a Comparison Report ---\n",
        "    comparison_df = pd.DataFrame({\n",
        "        'Average Day': average_performance,\n",
        "        'Best-in-Class Day': best_in_class_performance\n",
        "    })\n",
        "    comparison_df['Difference'] = comparison_df['Best-in-Class Day'] - comparison_df['Average Day']\n",
        "    comparison_df['% Change'] = (comparison_df['Difference'] / comparison_df['Average Day']) * 100\n",
        "\n",
        "    report_cols = ['fuel_rate', 'hot_blast_temp', 'moisture', 'co_efficiency', 'slag_rate', 'top_pressure', 'flame_temp']\n",
        "    final_report = comparison_df.loc[report_cols]\n",
        "\n",
        "    # --- Step 4: Display the Blueprint for Success ---\n",
        "    avg_fuel_rate = final_report.loc['fuel_rate', 'Average Day']\n",
        "    best_fuel_rate = final_report.loc['fuel_rate', 'Best-in-Class Day']\n",
        "    actual_saving = avg_fuel_rate - best_fuel_rate\n",
        "\n",
        "    print(\"--- Blueprint for High Efficiency ---\")\n",
        "    print(f\"To move from an 'Average Day' to a 'Best-in-Class Day' (saving approx. {actual_saving:.1f} kg/thm of fuel), the furnace was operated with:\")\n",
        "    print(\"--------------------------------------------------------------------------------\")\n",
        "\n",
        "    for param in report_cols:\n",
        "        if param == 'fuel_rate': continue\n",
        "\n",
        "        diff = final_report.loc[param, 'Difference']\n",
        "        avg_val = final_report.loc[param, 'Average Day']\n",
        "        best_val = final_report.loc[param, 'Best-in-Class Day']\n",
        "\n",
        "        action = \"HIGHER\" if diff > 0 else \"LOWER\"\n",
        "\n",
        "        print(f\"-> A {abs(diff):.2f} unit {action} {param.replace('_', ' ').title()} (Avg: {avg_val:.2f} vs. Best: {best_val:.2f})\")\n",
        "\n",
        "    print(\"--------------------------------------------------------------------------------\")\n",
        "    print(\"\\nThis analysis shows the actual, historical parameters that led to the best performance.\")\n",
        "\n",
        "except FileNotFoundError:\n",
        "    print(f\"\\nError: Could not find '{file_path}'.\")\n",
        "    print(\"Please make sure you have uploaded the 'blastfurnacedata.csv' file to your Colab session's main directory.\")\n",
        "except Exception as e:\n",
        "    print(f\"\\nAn error occurred during analysis: {e}\")\n"
      ]
    }
  ]
}