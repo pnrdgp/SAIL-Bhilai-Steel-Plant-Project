{
  "nbformat": 4,
  "nbformat_minor": 0,
  "metadata": {
    "colab": {
      "provenance": [],
      "authorship_tag": "ABX9TyO6Bvw786x1Z/Zrx+PCYFhr",
      "include_colab_link": true
    },
    "kernelspec": {
      "name": "python3",
      "display_name": "Python 3"
    },
    "language_info": {
      "name": "python"
    }
  },
  "cells": [
    {
      "cell_type": "markdown",
      "metadata": {
        "id": "view-in-github",
        "colab_type": "text"
      },
      "source": [
        "<a href=\"https://colab.research.google.com/github/pnrdgp/SAIL-Bhilai-Steel-Plant-Project/blob/main/SAIL_BSP.ipynb\" target=\"_parent\"><img src=\"https://colab.research.google.com/assets/colab-badge.svg\" alt=\"Open In Colab\"/></a>"
      ]
    },
    {
      "cell_type": "code",
      "execution_count": 1,
      "metadata": {
        "id": "br-4v6wh1tlm"
      },
      "outputs": [],
      "source": [
        "import pandas as pd\n",
        "import numpy as np\n",
        "import plotly.express as px\n",
        "import matplotlib.pyplot as plt\n",
        "import seaborn as sns\n",
        "from sklearn.model_selection import train_test_split, GridSearchCV\n",
        "from sklearn.ensemble import RandomForestRegressor, GradientBoostingRegressor\n",
        "from sklearn.linear_model import LinearRegression\n",
        "from sklearn.tree import DecisionTreeRegressor\n",
        "from sklearn.metrics import mean_squared_error, r2_score\n",
        "import joblib\n",
        "import os\n",
        "import sys\n"
      ]
    },
    {
      "cell_type": "code",
      "source": [
        "try:\n",
        "    # Use the filename directly after uploading it to the Colab environment\n",
        "    df = pd.read_csv('blastfurnacedata.csv', encoding='utf-8-sig')\n",
        "    print(\"Dataset loaded successfully.\")\n",
        "except FileNotFoundError:\n",
        "    print(\"Error: 'blastfurnacedata.csv' not found. Please upload the file to the Colab environment.\")\n",
        "    sys.exit()\n",
        "\n",
        "df.head()\n"
      ],
      "metadata": {
        "colab": {
          "base_uri": "https://localhost:8080/",
          "height": 224
        },
        "id": "Yr2XhpAf3I0L",
        "outputId": "93422c98-e6eb-4ad9-eb6f-17a7c0fe3cde"
      },
      "execution_count": 4,
      "outputs": [
        {
          "output_type": "stream",
          "name": "stdout",
          "text": [
            "Dataset loaded successfully.\n"
          ]
        },
        {
          "output_type": "execute_result",
          "data": {
            "text/plain": [
              "   fuel rate  moisture  co efficiency  hot blast temp  slag rate  flame temp  \\\n",
              "0      573.0       4.0      46.200000         1140.00        453      2195.3   \n",
              "1      568.6       4.0      46.351058         1162.79        510      2253.9   \n",
              "2      576.6       4.0      45.250000         1170.00        514      2248.2   \n",
              "3      556.6       4.0      46.193430         1152.00        492      2188.7   \n",
              "4      593.4       4.0      43.620000         1111.79        492      2219.9   \n",
              "\n",
              "   top pressure  \n",
              "0          2.24  \n",
              "1          2.26  \n",
              "2          2.33  \n",
              "3          2.36  \n",
              "4          2.45  "
            ],
            "text/html": [
              "\n",
              "  <div id=\"df-63b5f7bf-1179-4f16-bd0e-f5a5e9f49179\" class=\"colab-df-container\">\n",
              "    <div>\n",
              "<style scoped>\n",
              "    .dataframe tbody tr th:only-of-type {\n",
              "        vertical-align: middle;\n",
              "    }\n",
              "\n",
              "    .dataframe tbody tr th {\n",
              "        vertical-align: top;\n",
              "    }\n",
              "\n",
              "    .dataframe thead th {\n",
              "        text-align: right;\n",
              "    }\n",
              "</style>\n",
              "<table border=\"1\" class=\"dataframe\">\n",
              "  <thead>\n",
              "    <tr style=\"text-align: right;\">\n",
              "      <th></th>\n",
              "      <th>fuel rate</th>\n",
              "      <th>moisture</th>\n",
              "      <th>co efficiency</th>\n",
              "      <th>hot blast temp</th>\n",
              "      <th>slag rate</th>\n",
              "      <th>flame temp</th>\n",
              "      <th>top pressure</th>\n",
              "    </tr>\n",
              "  </thead>\n",
              "  <tbody>\n",
              "    <tr>\n",
              "      <th>0</th>\n",
              "      <td>573.0</td>\n",
              "      <td>4.0</td>\n",
              "      <td>46.200000</td>\n",
              "      <td>1140.00</td>\n",
              "      <td>453</td>\n",
              "      <td>2195.3</td>\n",
              "      <td>2.24</td>\n",
              "    </tr>\n",
              "    <tr>\n",
              "      <th>1</th>\n",
              "      <td>568.6</td>\n",
              "      <td>4.0</td>\n",
              "      <td>46.351058</td>\n",
              "      <td>1162.79</td>\n",
              "      <td>510</td>\n",
              "      <td>2253.9</td>\n",
              "      <td>2.26</td>\n",
              "    </tr>\n",
              "    <tr>\n",
              "      <th>2</th>\n",
              "      <td>576.6</td>\n",
              "      <td>4.0</td>\n",
              "      <td>45.250000</td>\n",
              "      <td>1170.00</td>\n",
              "      <td>514</td>\n",
              "      <td>2248.2</td>\n",
              "      <td>2.33</td>\n",
              "    </tr>\n",
              "    <tr>\n",
              "      <th>3</th>\n",
              "      <td>556.6</td>\n",
              "      <td>4.0</td>\n",
              "      <td>46.193430</td>\n",
              "      <td>1152.00</td>\n",
              "      <td>492</td>\n",
              "      <td>2188.7</td>\n",
              "      <td>2.36</td>\n",
              "    </tr>\n",
              "    <tr>\n",
              "      <th>4</th>\n",
              "      <td>593.4</td>\n",
              "      <td>4.0</td>\n",
              "      <td>43.620000</td>\n",
              "      <td>1111.79</td>\n",
              "      <td>492</td>\n",
              "      <td>2219.9</td>\n",
              "      <td>2.45</td>\n",
              "    </tr>\n",
              "  </tbody>\n",
              "</table>\n",
              "</div>\n",
              "    <div class=\"colab-df-buttons\">\n",
              "\n",
              "  <div class=\"colab-df-container\">\n",
              "    <button class=\"colab-df-convert\" onclick=\"convertToInteractive('df-63b5f7bf-1179-4f16-bd0e-f5a5e9f49179')\"\n",
              "            title=\"Convert this dataframe to an interactive table.\"\n",
              "            style=\"display:none;\">\n",
              "\n",
              "  <svg xmlns=\"http://www.w3.org/2000/svg\" height=\"24px\" viewBox=\"0 -960 960 960\">\n",
              "    <path d=\"M120-120v-720h720v720H120Zm60-500h600v-160H180v160Zm220 220h160v-160H400v160Zm0 220h160v-160H400v160ZM180-400h160v-160H180v160Zm440 0h160v-160H620v160ZM180-180h160v-160H180v160Zm440 0h160v-160H620v160Z\"/>\n",
              "  </svg>\n",
              "    </button>\n",
              "\n",
              "  <style>\n",
              "    .colab-df-container {\n",
              "      display:flex;\n",
              "      gap: 12px;\n",
              "    }\n",
              "\n",
              "    .colab-df-convert {\n",
              "      background-color: #E8F0FE;\n",
              "      border: none;\n",
              "      border-radius: 50%;\n",
              "      cursor: pointer;\n",
              "      display: none;\n",
              "      fill: #1967D2;\n",
              "      height: 32px;\n",
              "      padding: 0 0 0 0;\n",
              "      width: 32px;\n",
              "    }\n",
              "\n",
              "    .colab-df-convert:hover {\n",
              "      background-color: #E2EBFA;\n",
              "      box-shadow: 0px 1px 2px rgba(60, 64, 67, 0.3), 0px 1px 3px 1px rgba(60, 64, 67, 0.15);\n",
              "      fill: #174EA6;\n",
              "    }\n",
              "\n",
              "    .colab-df-buttons div {\n",
              "      margin-bottom: 4px;\n",
              "    }\n",
              "\n",
              "    [theme=dark] .colab-df-convert {\n",
              "      background-color: #3B4455;\n",
              "      fill: #D2E3FC;\n",
              "    }\n",
              "\n",
              "    [theme=dark] .colab-df-convert:hover {\n",
              "      background-color: #434B5C;\n",
              "      box-shadow: 0px 1px 3px 1px rgba(0, 0, 0, 0.15);\n",
              "      filter: drop-shadow(0px 1px 2px rgba(0, 0, 0, 0.3));\n",
              "      fill: #FFFFFF;\n",
              "    }\n",
              "  </style>\n",
              "\n",
              "    <script>\n",
              "      const buttonEl =\n",
              "        document.querySelector('#df-63b5f7bf-1179-4f16-bd0e-f5a5e9f49179 button.colab-df-convert');\n",
              "      buttonEl.style.display =\n",
              "        google.colab.kernel.accessAllowed ? 'block' : 'none';\n",
              "\n",
              "      async function convertToInteractive(key) {\n",
              "        const element = document.querySelector('#df-63b5f7bf-1179-4f16-bd0e-f5a5e9f49179');\n",
              "        const dataTable =\n",
              "          await google.colab.kernel.invokeFunction('convertToInteractive',\n",
              "                                                    [key], {});\n",
              "        if (!dataTable) return;\n",
              "\n",
              "        const docLinkHtml = 'Like what you see? Visit the ' +\n",
              "          '<a target=\"_blank\" href=https://colab.research.google.com/notebooks/data_table.ipynb>data table notebook</a>'\n",
              "          + ' to learn more about interactive tables.';\n",
              "        element.innerHTML = '';\n",
              "        dataTable['output_type'] = 'display_data';\n",
              "        await google.colab.output.renderOutput(dataTable, element);\n",
              "        const docLink = document.createElement('div');\n",
              "        docLink.innerHTML = docLinkHtml;\n",
              "        element.appendChild(docLink);\n",
              "      }\n",
              "    </script>\n",
              "  </div>\n",
              "\n",
              "\n",
              "    <div id=\"df-cc21e787-a6ad-4bcd-a141-5a57f158088c\">\n",
              "      <button class=\"colab-df-quickchart\" onclick=\"quickchart('df-cc21e787-a6ad-4bcd-a141-5a57f158088c')\"\n",
              "                title=\"Suggest charts\"\n",
              "                style=\"display:none;\">\n",
              "\n",
              "<svg xmlns=\"http://www.w3.org/2000/svg\" height=\"24px\"viewBox=\"0 0 24 24\"\n",
              "     width=\"24px\">\n",
              "    <g>\n",
              "        <path d=\"M19 3H5c-1.1 0-2 .9-2 2v14c0 1.1.9 2 2 2h14c1.1 0 2-.9 2-2V5c0-1.1-.9-2-2-2zM9 17H7v-7h2v7zm4 0h-2V7h2v10zm4 0h-2v-4h2v4z\"/>\n",
              "    </g>\n",
              "</svg>\n",
              "      </button>\n",
              "\n",
              "<style>\n",
              "  .colab-df-quickchart {\n",
              "      --bg-color: #E8F0FE;\n",
              "      --fill-color: #1967D2;\n",
              "      --hover-bg-color: #E2EBFA;\n",
              "      --hover-fill-color: #174EA6;\n",
              "      --disabled-fill-color: #AAA;\n",
              "      --disabled-bg-color: #DDD;\n",
              "  }\n",
              "\n",
              "  [theme=dark] .colab-df-quickchart {\n",
              "      --bg-color: #3B4455;\n",
              "      --fill-color: #D2E3FC;\n",
              "      --hover-bg-color: #434B5C;\n",
              "      --hover-fill-color: #FFFFFF;\n",
              "      --disabled-bg-color: #3B4455;\n",
              "      --disabled-fill-color: #666;\n",
              "  }\n",
              "\n",
              "  .colab-df-quickchart {\n",
              "    background-color: var(--bg-color);\n",
              "    border: none;\n",
              "    border-radius: 50%;\n",
              "    cursor: pointer;\n",
              "    display: none;\n",
              "    fill: var(--fill-color);\n",
              "    height: 32px;\n",
              "    padding: 0;\n",
              "    width: 32px;\n",
              "  }\n",
              "\n",
              "  .colab-df-quickchart:hover {\n",
              "    background-color: var(--hover-bg-color);\n",
              "    box-shadow: 0 1px 2px rgba(60, 64, 67, 0.3), 0 1px 3px 1px rgba(60, 64, 67, 0.15);\n",
              "    fill: var(--button-hover-fill-color);\n",
              "  }\n",
              "\n",
              "  .colab-df-quickchart-complete:disabled,\n",
              "  .colab-df-quickchart-complete:disabled:hover {\n",
              "    background-color: var(--disabled-bg-color);\n",
              "    fill: var(--disabled-fill-color);\n",
              "    box-shadow: none;\n",
              "  }\n",
              "\n",
              "  .colab-df-spinner {\n",
              "    border: 2px solid var(--fill-color);\n",
              "    border-color: transparent;\n",
              "    border-bottom-color: var(--fill-color);\n",
              "    animation:\n",
              "      spin 1s steps(1) infinite;\n",
              "  }\n",
              "\n",
              "  @keyframes spin {\n",
              "    0% {\n",
              "      border-color: transparent;\n",
              "      border-bottom-color: var(--fill-color);\n",
              "      border-left-color: var(--fill-color);\n",
              "    }\n",
              "    20% {\n",
              "      border-color: transparent;\n",
              "      border-left-color: var(--fill-color);\n",
              "      border-top-color: var(--fill-color);\n",
              "    }\n",
              "    30% {\n",
              "      border-color: transparent;\n",
              "      border-left-color: var(--fill-color);\n",
              "      border-top-color: var(--fill-color);\n",
              "      border-right-color: var(--fill-color);\n",
              "    }\n",
              "    40% {\n",
              "      border-color: transparent;\n",
              "      border-right-color: var(--fill-color);\n",
              "      border-top-color: var(--fill-color);\n",
              "    }\n",
              "    60% {\n",
              "      border-color: transparent;\n",
              "      border-right-color: var(--fill-color);\n",
              "    }\n",
              "    80% {\n",
              "      border-color: transparent;\n",
              "      border-right-color: var(--fill-color);\n",
              "      border-bottom-color: var(--fill-color);\n",
              "    }\n",
              "    90% {\n",
              "      border-color: transparent;\n",
              "      border-bottom-color: var(--fill-color);\n",
              "    }\n",
              "  }\n",
              "</style>\n",
              "\n",
              "      <script>\n",
              "        async function quickchart(key) {\n",
              "          const quickchartButtonEl =\n",
              "            document.querySelector('#' + key + ' button');\n",
              "          quickchartButtonEl.disabled = true;  // To prevent multiple clicks.\n",
              "          quickchartButtonEl.classList.add('colab-df-spinner');\n",
              "          try {\n",
              "            const charts = await google.colab.kernel.invokeFunction(\n",
              "                'suggestCharts', [key], {});\n",
              "          } catch (error) {\n",
              "            console.error('Error during call to suggestCharts:', error);\n",
              "          }\n",
              "          quickchartButtonEl.classList.remove('colab-df-spinner');\n",
              "          quickchartButtonEl.classList.add('colab-df-quickchart-complete');\n",
              "        }\n",
              "        (() => {\n",
              "          let quickchartButtonEl =\n",
              "            document.querySelector('#df-cc21e787-a6ad-4bcd-a141-5a57f158088c button');\n",
              "          quickchartButtonEl.style.display =\n",
              "            google.colab.kernel.accessAllowed ? 'block' : 'none';\n",
              "        })();\n",
              "      </script>\n",
              "    </div>\n",
              "\n",
              "    </div>\n",
              "  </div>\n"
            ],
            "application/vnd.google.colaboratory.intrinsic+json": {
              "type": "dataframe",
              "variable_name": "df",
              "summary": "{\n  \"name\": \"df\",\n  \"rows\": 234,\n  \"fields\": [\n    {\n      \"column\": \"fuel rate\",\n      \"properties\": {\n        \"dtype\": \"number\",\n        \"std\": 14.920306400457257,\n        \"min\": 541.5,\n        \"max\": 606.8,\n        \"num_unique_values\": 199,\n        \"samples\": [\n          573.1,\n          586.1,\n          577.3\n        ],\n        \"semantic_type\": \"\",\n        \"description\": \"\"\n      }\n    },\n    {\n      \"column\": \"moisture\",\n      \"properties\": {\n        \"dtype\": \"number\",\n        \"std\": 1.7466283870008652,\n        \"min\": 4.0,\n        \"max\": 10.7,\n        \"num_unique_values\": 61,\n        \"samples\": [\n          4.0,\n          4.5,\n          8.9\n        ],\n        \"semantic_type\": \"\",\n        \"description\": \"\"\n      }\n    },\n    {\n      \"column\": \"co efficiency\",\n      \"properties\": {\n        \"dtype\": \"number\",\n        \"std\": 1.3800600272466441,\n        \"min\": 41.06,\n        \"max\": 52.29151021,\n        \"num_unique_values\": 187,\n        \"samples\": [\n          45.59,\n          45.59890467,\n          45.92\n        ],\n        \"semantic_type\": \"\",\n        \"description\": \"\"\n      }\n    },\n    {\n      \"column\": \"hot blast temp\",\n      \"properties\": {\n        \"dtype\": \"number\",\n        \"std\": 28.96961368191549,\n        \"min\": 1073.21,\n        \"max\": 1191.71,\n        \"num_unique_values\": 195,\n        \"samples\": [\n          1162.13,\n          1157.46,\n          1162.75\n        ],\n        \"semantic_type\": \"\",\n        \"description\": \"\"\n      }\n    },\n    {\n      \"column\": \"slag rate\",\n      \"properties\": {\n        \"dtype\": \"number\",\n        \"std\": 20,\n        \"min\": 419,\n        \"max\": 560,\n        \"num_unique_values\": 83,\n        \"samples\": [\n          504,\n          453,\n          505\n        ],\n        \"semantic_type\": \"\",\n        \"description\": \"\"\n      }\n    },\n    {\n      \"column\": \"flame temp\",\n      \"properties\": {\n        \"dtype\": \"number\",\n        \"std\": 65.14072934925835,\n        \"min\": 1987.0,\n        \"max\": 2329.7,\n        \"num_unique_values\": 225,\n        \"samples\": [\n          2183.3,\n          2142.4,\n          2158.9\n        ],\n        \"semantic_type\": \"\",\n        \"description\": \"\"\n      }\n    },\n    {\n      \"column\": \"top pressure\",\n      \"properties\": {\n        \"dtype\": \"number\",\n        \"std\": 0.06976444302075348,\n        \"min\": 2.14,\n        \"max\": 2.49,\n        \"num_unique_values\": 34,\n        \"samples\": [\n          2.31,\n          2.3,\n          2.15\n        ],\n        \"semantic_type\": \"\",\n        \"description\": \"\"\n      }\n    }\n  ]\n}"
            }
          },
          "metadata": {},
          "execution_count": 4
        }
      ]
    },
    {
      "cell_type": "code",
      "source": [
        "# Rename Columns\n",
        "df = df.rename(columns={\n",
        "    'ï»¿fuel rate': 'fuel_rate',\n",
        "    'fuel rate': 'fuel_rate',\n",
        "    'moisture': 'moisture',\n",
        "    'co efficiency': 'co_efficiency',\n",
        "    'hot blast temp': 'hot_blast_temp',\n",
        "    'slag rate': 'slag_rate',\n",
        "    'flame temp': 'flame_temp',\n",
        "    'top pressure': 'top_pressure'\n",
        "})\n",
        "\n",
        "print(\"Columns renamed successfully.\")\n",
        "\n",
        "# Validate and Clean Columns\n",
        "required_cols = ['moisture', 'co_efficiency', 'hot_blast_temp',\n",
        "                 'slag_rate', 'flame_temp', 'top_pressure', 'fuel_rate']\n",
        "missing_cols = [col for col in required_cols if col not in df.columns]\n",
        "if missing_cols:\n",
        "    print(f\"\\nMissing Columns: {missing_cols}. Please check your dataset.\")\n",
        "    sys.exit()\n",
        "\n",
        "df[required_cols] = df[required_cols].apply(pd.to_numeric, errors='coerce')\n",
        "df.dropna(subset=required_cols, inplace=True)\n",
        "print(\"\\nData types converted and missing values removed.\")\n",
        "print(f\"Data shape after cleaning: {df.shape}\")\n"
      ],
      "metadata": {
        "colab": {
          "base_uri": "https://localhost:8080/"
        },
        "id": "NFc-aB-S3cYZ",
        "outputId": "21bc2712-9ec6-47e7-e992-5e30dc61e2cc"
      },
      "execution_count": 5,
      "outputs": [
        {
          "output_type": "stream",
          "name": "stdout",
          "text": [
            "Columns renamed successfully.\n",
            "\n",
            "Data types converted and missing values removed.\n",
            "Data shape after cleaning: (234, 7)\n"
          ]
        }
      ]
    },
    {
      "cell_type": "code",
      "source": [
        "Q1 = df[required_cols].quantile(0.30)\n",
        "Q3 = df[required_cols].quantile(0.70)\n",
        "IQR = Q3 - Q1\n",
        "df = df[~((df[required_cols] < (Q1 - 1.5 * IQR)) | (df[required_cols] > (Q3 + 1.5 * IQR))).any(axis=1)]\n",
        "\n",
        "print(f\"Data shape after outlier removal: {df.shape}\")\n"
      ],
      "metadata": {
        "colab": {
          "base_uri": "https://localhost:8080/"
        },
        "id": "pYX1Yzeu3kbp",
        "outputId": "06163a17-7c4b-499f-a5d3-f042dcf9d88c"
      },
      "execution_count": 6,
      "outputs": [
        {
          "output_type": "stream",
          "name": "stdout",
          "text": [
            "Data shape after outlier removal: (177, 7)\n"
          ]
        }
      ]
    },
    {
      "cell_type": "code",
      "source": [
        "fig = px.imshow(df[required_cols].corr(), text_auto=True,\n",
        "                title=\"Correlation Heatmap\", color_continuous_scale='RdBu_r')\n",
        "fig.show()"
      ],
      "metadata": {
        "colab": {
          "base_uri": "https://localhost:8080/",
          "height": 542
        },
        "id": "o0LNnoVd3omf",
        "outputId": "c096ef9b-8530-4a50-f2a2-20467782b584"
      },
      "execution_count": 7,
      "outputs": [
        {
          "output_type": "display_data",
          "data": {
            "text/html": [
              "<html>\n",
              "<head><meta charset=\"utf-8\" /></head>\n",
              "<body>\n",
              "    <div>            <script src=\"https://cdnjs.cloudflare.com/ajax/libs/mathjax/2.7.5/MathJax.js?config=TeX-AMS-MML_SVG\"></script><script type=\"text/javascript\">if (window.MathJax && window.MathJax.Hub && window.MathJax.Hub.Config) {window.MathJax.Hub.Config({SVG: {font: \"STIX-Web\"}});}</script>                <script type=\"text/javascript\">window.PlotlyConfig = {MathJaxConfig: 'local'};</script>\n",
              "        <script charset=\"utf-8\" src=\"https://cdn.plot.ly/plotly-2.35.2.min.js\"></script>                <div id=\"119613b9-044a-4cbe-980c-e2495f9c4f1d\" class=\"plotly-graph-div\" style=\"height:525px; width:100%;\"></div>            <script type=\"text/javascript\">                                    window.PLOTLYENV=window.PLOTLYENV || {};                                    if (document.getElementById(\"119613b9-044a-4cbe-980c-e2495f9c4f1d\")) {                    Plotly.newPlot(                        \"119613b9-044a-4cbe-980c-e2495f9c4f1d\",                        [{\"coloraxis\":\"coloraxis\",\"name\":\"0\",\"texttemplate\":\"%{z}\",\"x\":[\"moisture\",\"co_efficiency\",\"hot_blast_temp\",\"slag_rate\",\"flame_temp\",\"top_pressure\",\"fuel_rate\"],\"y\":[\"moisture\",\"co_efficiency\",\"hot_blast_temp\",\"slag_rate\",\"flame_temp\",\"top_pressure\",\"fuel_rate\"],\"z\":[[1.0,-0.09884375427365906,-0.2662996667568518,-0.12476839766950894,-0.2884546595658779,-0.09549947463343303,-0.28910495236090594],[-0.09884375427365906,1.0,-0.010746727701777807,0.03450800508999859,-0.09939470671054075,0.14552906796097903,0.01325736958677608],[-0.2662996667568518,-0.010746727701777807,1.0,0.5022052740980235,0.23740958928359684,-0.05785801513753148,0.4798024061019906],[-0.12476839766950894,0.03450800508999859,0.5022052740980235,1.0,0.0745309389821172,-0.015615456476255217,0.46226612068825235],[-0.2884546595658779,-0.09939470671054075,0.23740958928359684,0.0745309389821172,1.0,-0.08175206401318938,0.14767901859009744],[-0.09549947463343303,0.14552906796097903,-0.05785801513753148,-0.015615456476255217,-0.08175206401318938,1.0,0.05301679465918329],[-0.28910495236090594,0.01325736958677608,0.4798024061019906,0.46226612068825235,0.14767901859009744,0.05301679465918329,1.0]],\"type\":\"heatmap\",\"xaxis\":\"x\",\"yaxis\":\"y\",\"hovertemplate\":\"x: %{x}\\u003cbr\\u003ey: %{y}\\u003cbr\\u003ecolor: %{z}\\u003cextra\\u003e\\u003c\\u002fextra\\u003e\"}],                        {\"template\":{\"data\":{\"histogram2dcontour\":[{\"type\":\"histogram2dcontour\",\"colorbar\":{\"outlinewidth\":0,\"ticks\":\"\"},\"colorscale\":[[0.0,\"#0d0887\"],[0.1111111111111111,\"#46039f\"],[0.2222222222222222,\"#7201a8\"],[0.3333333333333333,\"#9c179e\"],[0.4444444444444444,\"#bd3786\"],[0.5555555555555556,\"#d8576b\"],[0.6666666666666666,\"#ed7953\"],[0.7777777777777778,\"#fb9f3a\"],[0.8888888888888888,\"#fdca26\"],[1.0,\"#f0f921\"]]}],\"choropleth\":[{\"type\":\"choropleth\",\"colorbar\":{\"outlinewidth\":0,\"ticks\":\"\"}}],\"histogram2d\":[{\"type\":\"histogram2d\",\"colorbar\":{\"outlinewidth\":0,\"ticks\":\"\"},\"colorscale\":[[0.0,\"#0d0887\"],[0.1111111111111111,\"#46039f\"],[0.2222222222222222,\"#7201a8\"],[0.3333333333333333,\"#9c179e\"],[0.4444444444444444,\"#bd3786\"],[0.5555555555555556,\"#d8576b\"],[0.6666666666666666,\"#ed7953\"],[0.7777777777777778,\"#fb9f3a\"],[0.8888888888888888,\"#fdca26\"],[1.0,\"#f0f921\"]]}],\"heatmap\":[{\"type\":\"heatmap\",\"colorbar\":{\"outlinewidth\":0,\"ticks\":\"\"},\"colorscale\":[[0.0,\"#0d0887\"],[0.1111111111111111,\"#46039f\"],[0.2222222222222222,\"#7201a8\"],[0.3333333333333333,\"#9c179e\"],[0.4444444444444444,\"#bd3786\"],[0.5555555555555556,\"#d8576b\"],[0.6666666666666666,\"#ed7953\"],[0.7777777777777778,\"#fb9f3a\"],[0.8888888888888888,\"#fdca26\"],[1.0,\"#f0f921\"]]}],\"heatmapgl\":[{\"type\":\"heatmapgl\",\"colorbar\":{\"outlinewidth\":0,\"ticks\":\"\"},\"colorscale\":[[0.0,\"#0d0887\"],[0.1111111111111111,\"#46039f\"],[0.2222222222222222,\"#7201a8\"],[0.3333333333333333,\"#9c179e\"],[0.4444444444444444,\"#bd3786\"],[0.5555555555555556,\"#d8576b\"],[0.6666666666666666,\"#ed7953\"],[0.7777777777777778,\"#fb9f3a\"],[0.8888888888888888,\"#fdca26\"],[1.0,\"#f0f921\"]]}],\"contourcarpet\":[{\"type\":\"contourcarpet\",\"colorbar\":{\"outlinewidth\":0,\"ticks\":\"\"}}],\"contour\":[{\"type\":\"contour\",\"colorbar\":{\"outlinewidth\":0,\"ticks\":\"\"},\"colorscale\":[[0.0,\"#0d0887\"],[0.1111111111111111,\"#46039f\"],[0.2222222222222222,\"#7201a8\"],[0.3333333333333333,\"#9c179e\"],[0.4444444444444444,\"#bd3786\"],[0.5555555555555556,\"#d8576b\"],[0.6666666666666666,\"#ed7953\"],[0.7777777777777778,\"#fb9f3a\"],[0.8888888888888888,\"#fdca26\"],[1.0,\"#f0f921\"]]}],\"surface\":[{\"type\":\"surface\",\"colorbar\":{\"outlinewidth\":0,\"ticks\":\"\"},\"colorscale\":[[0.0,\"#0d0887\"],[0.1111111111111111,\"#46039f\"],[0.2222222222222222,\"#7201a8\"],[0.3333333333333333,\"#9c179e\"],[0.4444444444444444,\"#bd3786\"],[0.5555555555555556,\"#d8576b\"],[0.6666666666666666,\"#ed7953\"],[0.7777777777777778,\"#fb9f3a\"],[0.8888888888888888,\"#fdca26\"],[1.0,\"#f0f921\"]]}],\"mesh3d\":[{\"type\":\"mesh3d\",\"colorbar\":{\"outlinewidth\":0,\"ticks\":\"\"}}],\"scatter\":[{\"fillpattern\":{\"fillmode\":\"overlay\",\"size\":10,\"solidity\":0.2},\"type\":\"scatter\"}],\"parcoords\":[{\"type\":\"parcoords\",\"line\":{\"colorbar\":{\"outlinewidth\":0,\"ticks\":\"\"}}}],\"scatterpolargl\":[{\"type\":\"scatterpolargl\",\"marker\":{\"colorbar\":{\"outlinewidth\":0,\"ticks\":\"\"}}}],\"bar\":[{\"error_x\":{\"color\":\"#2a3f5f\"},\"error_y\":{\"color\":\"#2a3f5f\"},\"marker\":{\"line\":{\"color\":\"#E5ECF6\",\"width\":0.5},\"pattern\":{\"fillmode\":\"overlay\",\"size\":10,\"solidity\":0.2}},\"type\":\"bar\"}],\"scattergeo\":[{\"type\":\"scattergeo\",\"marker\":{\"colorbar\":{\"outlinewidth\":0,\"ticks\":\"\"}}}],\"scatterpolar\":[{\"type\":\"scatterpolar\",\"marker\":{\"colorbar\":{\"outlinewidth\":0,\"ticks\":\"\"}}}],\"histogram\":[{\"marker\":{\"pattern\":{\"fillmode\":\"overlay\",\"size\":10,\"solidity\":0.2}},\"type\":\"histogram\"}],\"scattergl\":[{\"type\":\"scattergl\",\"marker\":{\"colorbar\":{\"outlinewidth\":0,\"ticks\":\"\"}}}],\"scatter3d\":[{\"type\":\"scatter3d\",\"line\":{\"colorbar\":{\"outlinewidth\":0,\"ticks\":\"\"}},\"marker\":{\"colorbar\":{\"outlinewidth\":0,\"ticks\":\"\"}}}],\"scattermapbox\":[{\"type\":\"scattermapbox\",\"marker\":{\"colorbar\":{\"outlinewidth\":0,\"ticks\":\"\"}}}],\"scatterternary\":[{\"type\":\"scatterternary\",\"marker\":{\"colorbar\":{\"outlinewidth\":0,\"ticks\":\"\"}}}],\"scattercarpet\":[{\"type\":\"scattercarpet\",\"marker\":{\"colorbar\":{\"outlinewidth\":0,\"ticks\":\"\"}}}],\"carpet\":[{\"aaxis\":{\"endlinecolor\":\"#2a3f5f\",\"gridcolor\":\"white\",\"linecolor\":\"white\",\"minorgridcolor\":\"white\",\"startlinecolor\":\"#2a3f5f\"},\"baxis\":{\"endlinecolor\":\"#2a3f5f\",\"gridcolor\":\"white\",\"linecolor\":\"white\",\"minorgridcolor\":\"white\",\"startlinecolor\":\"#2a3f5f\"},\"type\":\"carpet\"}],\"table\":[{\"cells\":{\"fill\":{\"color\":\"#EBF0F8\"},\"line\":{\"color\":\"white\"}},\"header\":{\"fill\":{\"color\":\"#C8D4E3\"},\"line\":{\"color\":\"white\"}},\"type\":\"table\"}],\"barpolar\":[{\"marker\":{\"line\":{\"color\":\"#E5ECF6\",\"width\":0.5},\"pattern\":{\"fillmode\":\"overlay\",\"size\":10,\"solidity\":0.2}},\"type\":\"barpolar\"}],\"pie\":[{\"automargin\":true,\"type\":\"pie\"}]},\"layout\":{\"autotypenumbers\":\"strict\",\"colorway\":[\"#636efa\",\"#EF553B\",\"#00cc96\",\"#ab63fa\",\"#FFA15A\",\"#19d3f3\",\"#FF6692\",\"#B6E880\",\"#FF97FF\",\"#FECB52\"],\"font\":{\"color\":\"#2a3f5f\"},\"hovermode\":\"closest\",\"hoverlabel\":{\"align\":\"left\"},\"paper_bgcolor\":\"white\",\"plot_bgcolor\":\"#E5ECF6\",\"polar\":{\"bgcolor\":\"#E5ECF6\",\"angularaxis\":{\"gridcolor\":\"white\",\"linecolor\":\"white\",\"ticks\":\"\"},\"radialaxis\":{\"gridcolor\":\"white\",\"linecolor\":\"white\",\"ticks\":\"\"}},\"ternary\":{\"bgcolor\":\"#E5ECF6\",\"aaxis\":{\"gridcolor\":\"white\",\"linecolor\":\"white\",\"ticks\":\"\"},\"baxis\":{\"gridcolor\":\"white\",\"linecolor\":\"white\",\"ticks\":\"\"},\"caxis\":{\"gridcolor\":\"white\",\"linecolor\":\"white\",\"ticks\":\"\"}},\"coloraxis\":{\"colorbar\":{\"outlinewidth\":0,\"ticks\":\"\"}},\"colorscale\":{\"sequential\":[[0.0,\"#0d0887\"],[0.1111111111111111,\"#46039f\"],[0.2222222222222222,\"#7201a8\"],[0.3333333333333333,\"#9c179e\"],[0.4444444444444444,\"#bd3786\"],[0.5555555555555556,\"#d8576b\"],[0.6666666666666666,\"#ed7953\"],[0.7777777777777778,\"#fb9f3a\"],[0.8888888888888888,\"#fdca26\"],[1.0,\"#f0f921\"]],\"sequentialminus\":[[0.0,\"#0d0887\"],[0.1111111111111111,\"#46039f\"],[0.2222222222222222,\"#7201a8\"],[0.3333333333333333,\"#9c179e\"],[0.4444444444444444,\"#bd3786\"],[0.5555555555555556,\"#d8576b\"],[0.6666666666666666,\"#ed7953\"],[0.7777777777777778,\"#fb9f3a\"],[0.8888888888888888,\"#fdca26\"],[1.0,\"#f0f921\"]],\"diverging\":[[0,\"#8e0152\"],[0.1,\"#c51b7d\"],[0.2,\"#de77ae\"],[0.3,\"#f1b6da\"],[0.4,\"#fde0ef\"],[0.5,\"#f7f7f7\"],[0.6,\"#e6f5d0\"],[0.7,\"#b8e186\"],[0.8,\"#7fbc41\"],[0.9,\"#4d9221\"],[1,\"#276419\"]]},\"xaxis\":{\"gridcolor\":\"white\",\"linecolor\":\"white\",\"ticks\":\"\",\"title\":{\"standoff\":15},\"zerolinecolor\":\"white\",\"automargin\":true,\"zerolinewidth\":2},\"yaxis\":{\"gridcolor\":\"white\",\"linecolor\":\"white\",\"ticks\":\"\",\"title\":{\"standoff\":15},\"zerolinecolor\":\"white\",\"automargin\":true,\"zerolinewidth\":2},\"scene\":{\"xaxis\":{\"backgroundcolor\":\"#E5ECF6\",\"gridcolor\":\"white\",\"linecolor\":\"white\",\"showbackground\":true,\"ticks\":\"\",\"zerolinecolor\":\"white\",\"gridwidth\":2},\"yaxis\":{\"backgroundcolor\":\"#E5ECF6\",\"gridcolor\":\"white\",\"linecolor\":\"white\",\"showbackground\":true,\"ticks\":\"\",\"zerolinecolor\":\"white\",\"gridwidth\":2},\"zaxis\":{\"backgroundcolor\":\"#E5ECF6\",\"gridcolor\":\"white\",\"linecolor\":\"white\",\"showbackground\":true,\"ticks\":\"\",\"zerolinecolor\":\"white\",\"gridwidth\":2}},\"shapedefaults\":{\"line\":{\"color\":\"#2a3f5f\"}},\"annotationdefaults\":{\"arrowcolor\":\"#2a3f5f\",\"arrowhead\":0,\"arrowwidth\":1},\"geo\":{\"bgcolor\":\"white\",\"landcolor\":\"#E5ECF6\",\"subunitcolor\":\"white\",\"showland\":true,\"showlakes\":true,\"lakecolor\":\"white\"},\"title\":{\"x\":0.05},\"mapbox\":{\"style\":\"light\"}}},\"xaxis\":{\"anchor\":\"y\",\"domain\":[0.0,1.0],\"scaleanchor\":\"y\",\"constrain\":\"domain\"},\"yaxis\":{\"anchor\":\"x\",\"domain\":[0.0,1.0],\"autorange\":\"reversed\",\"constrain\":\"domain\"},\"coloraxis\":{\"colorscale\":[[0.0,\"rgb(5,48,97)\"],[0.1,\"rgb(33,102,172)\"],[0.2,\"rgb(67,147,195)\"],[0.3,\"rgb(146,197,222)\"],[0.4,\"rgb(209,229,240)\"],[0.5,\"rgb(247,247,247)\"],[0.6,\"rgb(253,219,199)\"],[0.7,\"rgb(244,165,130)\"],[0.8,\"rgb(214,96,77)\"],[0.9,\"rgb(178,24,43)\"],[1.0,\"rgb(103,0,31)\"]]},\"title\":{\"text\":\"Correlation Heatmap\"}},                        {\"responsive\": true}                    ).then(function(){\n",
              "                            \n",
              "var gd = document.getElementById('119613b9-044a-4cbe-980c-e2495f9c4f1d');\n",
              "var x = new MutationObserver(function (mutations, observer) {{\n",
              "        var display = window.getComputedStyle(gd).display;\n",
              "        if (!display || display === 'none') {{\n",
              "            console.log([gd, 'removed!']);\n",
              "            Plotly.purge(gd);\n",
              "            observer.disconnect();\n",
              "        }}\n",
              "}});\n",
              "\n",
              "// Listen for the removal of the full notebook cells\n",
              "var notebookContainer = gd.closest('#notebook-container');\n",
              "if (notebookContainer) {{\n",
              "    x.observe(notebookContainer, {childList: true});\n",
              "}}\n",
              "\n",
              "// Listen for the clearing of the current output cell\n",
              "var outputEl = gd.closest('.output');\n",
              "if (outputEl) {{\n",
              "    x.observe(outputEl, {childList: true});\n",
              "}}\n",
              "\n",
              "                        })                };                            </script>        </div>\n",
              "</body>\n",
              "</html>"
            ]
          },
          "metadata": {}
        }
      ]
    },
    {
      "cell_type": "code",
      "source": [
        "features = ['moisture', 'co_efficiency', 'hot_blast_temp',\n",
        "            'slag_rate', 'flame_temp', 'top_pressure']\n",
        "\n",
        "for feature in features:\n",
        "    fig = px.scatter(df, x=feature, y='fuel_rate',\n",
        "                     trendline=\"ols\",\n",
        "                     title=f'{feature.replace(\"_\", \" \").title()} vs Fuel Rate',\n",
        "                     labels={feature: feature.replace('_', ' ').title(), 'fuel_rate': 'Fuel Rate'},\n",
        "                     color_discrete_sequence=['dodgerblue'])\n",
        "    fig.show()\n"
      ],
      "metadata": {
        "colab": {
          "base_uri": "https://localhost:8080/",
          "height": 1000
        },
        "id": "uvuy3ukd3tVn",
        "outputId": "992afee5-acdf-42bc-a6d6-9ac18066216b"
      },
      "execution_count": 8,
      "outputs": [
        {
          "output_type": "display_data",
          "data": {
            "text/html": [
              "<html>\n",
              "<head><meta charset=\"utf-8\" /></head>\n",
              "<body>\n",
              "    <div>            <script src=\"https://cdnjs.cloudflare.com/ajax/libs/mathjax/2.7.5/MathJax.js?config=TeX-AMS-MML_SVG\"></script><script type=\"text/javascript\">if (window.MathJax && window.MathJax.Hub && window.MathJax.Hub.Config) {window.MathJax.Hub.Config({SVG: {font: \"STIX-Web\"}});}</script>                <script type=\"text/javascript\">window.PlotlyConfig = {MathJaxConfig: 'local'};</script>\n",
              "        <script charset=\"utf-8\" src=\"https://cdn.plot.ly/plotly-2.35.2.min.js\"></script>                <div id=\"f7180d1d-e607-47fd-a3aa-74f22c09d5fb\" class=\"plotly-graph-div\" style=\"height:525px; width:100%;\"></div>            <script type=\"text/javascript\">                                    window.PLOTLYENV=window.PLOTLYENV || {};                                    if (document.getElementById(\"f7180d1d-e607-47fd-a3aa-74f22c09d5fb\")) {                    Plotly.newPlot(                        \"f7180d1d-e607-47fd-a3aa-74f22c09d5fb\",                        [{\"hovertemplate\":\"Moisture=%{x}\\u003cbr\\u003eFuel Rate=%{y}\\u003cextra\\u003e\\u003c\\u002fextra\\u003e\",\"legendgroup\":\"\",\"marker\":{\"color\":\"dodgerblue\",\"symbol\":\"circle\"},\"mode\":\"markers\",\"name\":\"\",\"orientation\":\"v\",\"showlegend\":false,\"x\":[4.0,4.0,4.0,4.0,4.1,4.1,4.1,4.2,4.3,4.3,4.3,4.3,4.3,4.4,4.4,4.4,4.5,4.6,4.9,4.9,4.9,4.9,5.0,5.0,5.0,5.0,5.0,5.0,5.0,5.1,5.1,5.2,5.2,5.2,5.2,5.4,5.5,5.5,5.6,5.6,5.7,5.9,5.9,6.0,6.0,6.0,6.0,6.0,6.0,6.0,6.0,6.0,6.1,6.1,6.1,6.1,6.1,6.1,6.2,6.3,6.3,6.4,6.4,6.4,6.5,6.5,6.6,6.6,6.6,6.7,6.8,6.8,7.0,7.0,7.0,7.0,7.0,7.0,7.0,7.0,7.1,7.2,7.2,7.2,7.3,7.4,7.5,7.5,7.5,7.6,7.6,7.6,7.6,7.6,7.7,7.7,7.8,7.8,7.8,7.9,7.9,7.9,7.9,7.9,7.9,7.9,7.9,8.0,8.0,8.0,8.0,8.0,8.0,8.0,8.0,8.0,8.0,8.0,8.0,8.0,8.0,8.1,8.1,8.1,8.1,8.1,8.2,8.2,8.3,8.3,8.3,8.3,8.3,8.3,8.4,8.5,8.5,8.6,8.6,8.6,8.6,8.7,8.7,8.7,8.7,8.9,9.0,9.0,9.0,9.0,9.0,9.0,9.1,9.1,9.1,9.1,9.2,9.4,9.5,9.7,9.7,9.7,9.7,9.8,9.9,9.9,10.0,10.0,10.0,10.0,10.0,10.0,10.1,10.1,10.4,10.5,10.6],\"xaxis\":\"x\",\"y\":[568.6,576.6,556.6,593.4,557.8,593.3,555.3,593.8,590.5,568.1,567.2,605.0,579.0,586.1,581.2,556.8,550.7,563.5,578.1,570.8,589.9,595.3,559.1,568.3,585.9,582.9,577.4,573.3,581.9,570.9,591.5,592.4,569.8,579.6,583.9,585.9,573.4,598.0,605.2,592.4,581.2,568.8,576.8,551.5,555.2,565.8,560.9,553.0,587.5,565.9,574.6,581.4,555.9,571.7,567.8,557.0,581.1,573.8,584.0,578.6,601.8,571.7,573.1,579.9,559.2,575.8,599.2,561.1,599.6,573.0,568.6,561.0,596.0,585.0,576.9,573.0,577.1,577.8,558.0,570.4,574.0,596.0,596.0,568.3,584.9,559.8,558.8,575.7,584.6,560.5,583.8,554.8,554.1,567.6,564.4,575.4,562.1,579.3,561.9,552.3,584.4,602.1,549.9,558.5,555.8,551.3,592.5,576.1,552.8,579.9,551.9,564.4,579.6,596.3,585.1,542.7,561.5,553.7,551.1,555.4,560.6,567.5,566.9,563.4,543.4,563.3,566.4,562.4,568.5,557.6,564.3,569.2,557.1,575.5,544.8,557.4,582.6,583.2,584.0,579.5,563.7,559.2,557.4,559.4,575.9,577.4,574.7,568.6,566.1,549.4,555.9,554.6,578.6,566.6,574.4,553.2,575.6,588.4,542.6,566.8,590.2,570.6,544.2,554.7,545.3,545.0,559.3,541.5,589.3,565.6,595.0,595.8,553.2,556.6,541.5,576.2,594.1],\"yaxis\":\"y\",\"type\":\"scatter\"},{\"hovertemplate\":\"\\u003cb\\u003eOLS trendline\\u003c\\u002fb\\u003e\\u003cbr\\u003efuel_rate = -2.50727 * moisture + 589.104\\u003cbr\\u003eR\\u003csup\\u003e2\\u003c\\u002fsup\\u003e=0.083582\\u003cbr\\u003e\\u003cbr\\u003eMoisture=%{x}\\u003cbr\\u003eFuel Rate=%{y} \\u003cb\\u003e(trend)\\u003c\\u002fb\\u003e\\u003cextra\\u003e\\u003c\\u002fextra\\u003e\",\"legendgroup\":\"\",\"marker\":{\"color\":\"dodgerblue\",\"symbol\":\"circle\"},\"mode\":\"lines\",\"name\":\"\",\"showlegend\":false,\"x\":[4.0,4.0,4.0,4.0,4.1,4.1,4.1,4.2,4.3,4.3,4.3,4.3,4.3,4.4,4.4,4.4,4.5,4.6,4.9,4.9,4.9,4.9,5.0,5.0,5.0,5.0,5.0,5.0,5.0,5.1,5.1,5.2,5.2,5.2,5.2,5.4,5.5,5.5,5.6,5.6,5.7,5.9,5.9,6.0,6.0,6.0,6.0,6.0,6.0,6.0,6.0,6.0,6.1,6.1,6.1,6.1,6.1,6.1,6.2,6.3,6.3,6.4,6.4,6.4,6.5,6.5,6.6,6.6,6.6,6.7,6.8,6.8,7.0,7.0,7.0,7.0,7.0,7.0,7.0,7.0,7.1,7.2,7.2,7.2,7.3,7.4,7.5,7.5,7.5,7.6,7.6,7.6,7.6,7.6,7.7,7.7,7.8,7.8,7.8,7.9,7.9,7.9,7.9,7.9,7.9,7.9,7.9,8.0,8.0,8.0,8.0,8.0,8.0,8.0,8.0,8.0,8.0,8.0,8.0,8.0,8.0,8.1,8.1,8.1,8.1,8.1,8.2,8.2,8.3,8.3,8.3,8.3,8.3,8.3,8.4,8.5,8.5,8.6,8.6,8.6,8.6,8.7,8.7,8.7,8.7,8.9,9.0,9.0,9.0,9.0,9.0,9.0,9.1,9.1,9.1,9.1,9.2,9.4,9.5,9.7,9.7,9.7,9.7,9.8,9.9,9.9,10.0,10.0,10.0,10.0,10.0,10.0,10.1,10.1,10.4,10.5,10.6],\"xaxis\":\"x\",\"y\":[579.0745670532643,579.0745670532643,579.0745670532643,579.0745670532643,578.8238396183286,578.8238396183286,578.8238396183286,578.5731121833929,578.3223847484574,578.3223847484574,578.3223847484574,578.3223847484574,578.3223847484574,578.0716573135217,578.0716573135217,578.0716573135217,577.820929878586,577.5702024436503,576.8180201388433,576.8180201388433,576.8180201388433,576.8180201388433,576.5672927039076,576.5672927039076,576.5672927039076,576.5672927039076,576.5672927039076,576.5672927039076,576.5672927039076,576.3165652689719,576.3165652689719,576.0658378340362,576.0658378340362,576.0658378340362,576.0658378340362,575.5643829641648,575.3136555292292,575.3136555292292,575.0629280942935,575.0629280942935,574.8122006593578,574.3107457894864,574.3107457894864,574.0600183545508,574.0600183545508,574.0600183545508,574.0600183545508,574.0600183545508,574.0600183545508,574.0600183545508,574.0600183545508,574.0600183545508,573.8092909196151,573.8092909196151,573.8092909196151,573.8092909196151,573.8092909196151,573.8092909196151,573.5585634846794,573.3078360497437,573.3078360497437,573.057108614808,573.057108614808,573.057108614808,572.8063811798723,572.8063811798723,572.5556537449368,572.5556537449368,572.5556537449368,572.3049263100011,572.0541988750654,572.0541988750654,571.552744005194,571.552744005194,571.552744005194,571.552744005194,571.552744005194,571.552744005194,571.552744005194,571.552744005194,571.3020165702583,571.0512891353227,571.0512891353227,571.0512891353227,570.800561700387,570.5498342654513,570.2991068305156,570.2991068305156,570.2991068305156,570.0483793955799,570.0483793955799,570.0483793955799,570.0483793955799,570.0483793955799,569.7976519606443,569.7976519606443,569.5469245257086,569.5469245257086,569.5469245257086,569.2961970907729,569.2961970907729,569.2961970907729,569.2961970907729,569.2961970907729,569.2961970907729,569.2961970907729,569.2961970907729,569.0454696558372,569.0454696558372,569.0454696558372,569.0454696558372,569.0454696558372,569.0454696558372,569.0454696558372,569.0454696558372,569.0454696558372,569.0454696558372,569.0454696558372,569.0454696558372,569.0454696558372,569.0454696558372,568.7947422209015,568.7947422209015,568.7947422209015,568.7947422209015,568.7947422209015,568.5440147859658,568.5440147859658,568.2932873510302,568.2932873510302,568.2932873510302,568.2932873510302,568.2932873510302,568.2932873510302,568.0425599160945,567.7918324811588,567.7918324811588,567.5411050462232,567.5411050462232,567.5411050462232,567.5411050462232,567.2903776112875,567.2903776112875,567.2903776112875,567.2903776112875,566.7889227414162,566.5381953064805,566.5381953064805,566.5381953064805,566.5381953064805,566.5381953064805,566.5381953064805,566.2874678715448,566.2874678715448,566.2874678715448,566.2874678715448,566.0367404366091,565.5352855667377,565.2845581318021,564.7831032619307,564.7831032619307,564.7831032619307,564.7831032619307,564.532375826995,564.2816483920593,564.2816483920593,564.0309209571237,564.0309209571237,564.0309209571237,564.0309209571237,564.0309209571237,564.0309209571237,563.780193522188,563.780193522188,563.0280112173809,562.7772837824452,562.5265563475097],\"yaxis\":\"y\",\"type\":\"scatter\"}],                        {\"template\":{\"data\":{\"histogram2dcontour\":[{\"type\":\"histogram2dcontour\",\"colorbar\":{\"outlinewidth\":0,\"ticks\":\"\"},\"colorscale\":[[0.0,\"#0d0887\"],[0.1111111111111111,\"#46039f\"],[0.2222222222222222,\"#7201a8\"],[0.3333333333333333,\"#9c179e\"],[0.4444444444444444,\"#bd3786\"],[0.5555555555555556,\"#d8576b\"],[0.6666666666666666,\"#ed7953\"],[0.7777777777777778,\"#fb9f3a\"],[0.8888888888888888,\"#fdca26\"],[1.0,\"#f0f921\"]]}],\"choropleth\":[{\"type\":\"choropleth\",\"colorbar\":{\"outlinewidth\":0,\"ticks\":\"\"}}],\"histogram2d\":[{\"type\":\"histogram2d\",\"colorbar\":{\"outlinewidth\":0,\"ticks\":\"\"},\"colorscale\":[[0.0,\"#0d0887\"],[0.1111111111111111,\"#46039f\"],[0.2222222222222222,\"#7201a8\"],[0.3333333333333333,\"#9c179e\"],[0.4444444444444444,\"#bd3786\"],[0.5555555555555556,\"#d8576b\"],[0.6666666666666666,\"#ed7953\"],[0.7777777777777778,\"#fb9f3a\"],[0.8888888888888888,\"#fdca26\"],[1.0,\"#f0f921\"]]}],\"heatmap\":[{\"type\":\"heatmap\",\"colorbar\":{\"outlinewidth\":0,\"ticks\":\"\"},\"colorscale\":[[0.0,\"#0d0887\"],[0.1111111111111111,\"#46039f\"],[0.2222222222222222,\"#7201a8\"],[0.3333333333333333,\"#9c179e\"],[0.4444444444444444,\"#bd3786\"],[0.5555555555555556,\"#d8576b\"],[0.6666666666666666,\"#ed7953\"],[0.7777777777777778,\"#fb9f3a\"],[0.8888888888888888,\"#fdca26\"],[1.0,\"#f0f921\"]]}],\"heatmapgl\":[{\"type\":\"heatmapgl\",\"colorbar\":{\"outlinewidth\":0,\"ticks\":\"\"},\"colorscale\":[[0.0,\"#0d0887\"],[0.1111111111111111,\"#46039f\"],[0.2222222222222222,\"#7201a8\"],[0.3333333333333333,\"#9c179e\"],[0.4444444444444444,\"#bd3786\"],[0.5555555555555556,\"#d8576b\"],[0.6666666666666666,\"#ed7953\"],[0.7777777777777778,\"#fb9f3a\"],[0.8888888888888888,\"#fdca26\"],[1.0,\"#f0f921\"]]}],\"contourcarpet\":[{\"type\":\"contourcarpet\",\"colorbar\":{\"outlinewidth\":0,\"ticks\":\"\"}}],\"contour\":[{\"type\":\"contour\",\"colorbar\":{\"outlinewidth\":0,\"ticks\":\"\"},\"colorscale\":[[0.0,\"#0d0887\"],[0.1111111111111111,\"#46039f\"],[0.2222222222222222,\"#7201a8\"],[0.3333333333333333,\"#9c179e\"],[0.4444444444444444,\"#bd3786\"],[0.5555555555555556,\"#d8576b\"],[0.6666666666666666,\"#ed7953\"],[0.7777777777777778,\"#fb9f3a\"],[0.8888888888888888,\"#fdca26\"],[1.0,\"#f0f921\"]]}],\"surface\":[{\"type\":\"surface\",\"colorbar\":{\"outlinewidth\":0,\"ticks\":\"\"},\"colorscale\":[[0.0,\"#0d0887\"],[0.1111111111111111,\"#46039f\"],[0.2222222222222222,\"#7201a8\"],[0.3333333333333333,\"#9c179e\"],[0.4444444444444444,\"#bd3786\"],[0.5555555555555556,\"#d8576b\"],[0.6666666666666666,\"#ed7953\"],[0.7777777777777778,\"#fb9f3a\"],[0.8888888888888888,\"#fdca26\"],[1.0,\"#f0f921\"]]}],\"mesh3d\":[{\"type\":\"mesh3d\",\"colorbar\":{\"outlinewidth\":0,\"ticks\":\"\"}}],\"scatter\":[{\"fillpattern\":{\"fillmode\":\"overlay\",\"size\":10,\"solidity\":0.2},\"type\":\"scatter\"}],\"parcoords\":[{\"type\":\"parcoords\",\"line\":{\"colorbar\":{\"outlinewidth\":0,\"ticks\":\"\"}}}],\"scatterpolargl\":[{\"type\":\"scatterpolargl\",\"marker\":{\"colorbar\":{\"outlinewidth\":0,\"ticks\":\"\"}}}],\"bar\":[{\"error_x\":{\"color\":\"#2a3f5f\"},\"error_y\":{\"color\":\"#2a3f5f\"},\"marker\":{\"line\":{\"color\":\"#E5ECF6\",\"width\":0.5},\"pattern\":{\"fillmode\":\"overlay\",\"size\":10,\"solidity\":0.2}},\"type\":\"bar\"}],\"scattergeo\":[{\"type\":\"scattergeo\",\"marker\":{\"colorbar\":{\"outlinewidth\":0,\"ticks\":\"\"}}}],\"scatterpolar\":[{\"type\":\"scatterpolar\",\"marker\":{\"colorbar\":{\"outlinewidth\":0,\"ticks\":\"\"}}}],\"histogram\":[{\"marker\":{\"pattern\":{\"fillmode\":\"overlay\",\"size\":10,\"solidity\":0.2}},\"type\":\"histogram\"}],\"scattergl\":[{\"type\":\"scattergl\",\"marker\":{\"colorbar\":{\"outlinewidth\":0,\"ticks\":\"\"}}}],\"scatter3d\":[{\"type\":\"scatter3d\",\"line\":{\"colorbar\":{\"outlinewidth\":0,\"ticks\":\"\"}},\"marker\":{\"colorbar\":{\"outlinewidth\":0,\"ticks\":\"\"}}}],\"scattermapbox\":[{\"type\":\"scattermapbox\",\"marker\":{\"colorbar\":{\"outlinewidth\":0,\"ticks\":\"\"}}}],\"scatterternary\":[{\"type\":\"scatterternary\",\"marker\":{\"colorbar\":{\"outlinewidth\":0,\"ticks\":\"\"}}}],\"scattercarpet\":[{\"type\":\"scattercarpet\",\"marker\":{\"colorbar\":{\"outlinewidth\":0,\"ticks\":\"\"}}}],\"carpet\":[{\"aaxis\":{\"endlinecolor\":\"#2a3f5f\",\"gridcolor\":\"white\",\"linecolor\":\"white\",\"minorgridcolor\":\"white\",\"startlinecolor\":\"#2a3f5f\"},\"baxis\":{\"endlinecolor\":\"#2a3f5f\",\"gridcolor\":\"white\",\"linecolor\":\"white\",\"minorgridcolor\":\"white\",\"startlinecolor\":\"#2a3f5f\"},\"type\":\"carpet\"}],\"table\":[{\"cells\":{\"fill\":{\"color\":\"#EBF0F8\"},\"line\":{\"color\":\"white\"}},\"header\":{\"fill\":{\"color\":\"#C8D4E3\"},\"line\":{\"color\":\"white\"}},\"type\":\"table\"}],\"barpolar\":[{\"marker\":{\"line\":{\"color\":\"#E5ECF6\",\"width\":0.5},\"pattern\":{\"fillmode\":\"overlay\",\"size\":10,\"solidity\":0.2}},\"type\":\"barpolar\"}],\"pie\":[{\"automargin\":true,\"type\":\"pie\"}]},\"layout\":{\"autotypenumbers\":\"strict\",\"colorway\":[\"#636efa\",\"#EF553B\",\"#00cc96\",\"#ab63fa\",\"#FFA15A\",\"#19d3f3\",\"#FF6692\",\"#B6E880\",\"#FF97FF\",\"#FECB52\"],\"font\":{\"color\":\"#2a3f5f\"},\"hovermode\":\"closest\",\"hoverlabel\":{\"align\":\"left\"},\"paper_bgcolor\":\"white\",\"plot_bgcolor\":\"#E5ECF6\",\"polar\":{\"bgcolor\":\"#E5ECF6\",\"angularaxis\":{\"gridcolor\":\"white\",\"linecolor\":\"white\",\"ticks\":\"\"},\"radialaxis\":{\"gridcolor\":\"white\",\"linecolor\":\"white\",\"ticks\":\"\"}},\"ternary\":{\"bgcolor\":\"#E5ECF6\",\"aaxis\":{\"gridcolor\":\"white\",\"linecolor\":\"white\",\"ticks\":\"\"},\"baxis\":{\"gridcolor\":\"white\",\"linecolor\":\"white\",\"ticks\":\"\"},\"caxis\":{\"gridcolor\":\"white\",\"linecolor\":\"white\",\"ticks\":\"\"}},\"coloraxis\":{\"colorbar\":{\"outlinewidth\":0,\"ticks\":\"\"}},\"colorscale\":{\"sequential\":[[0.0,\"#0d0887\"],[0.1111111111111111,\"#46039f\"],[0.2222222222222222,\"#7201a8\"],[0.3333333333333333,\"#9c179e\"],[0.4444444444444444,\"#bd3786\"],[0.5555555555555556,\"#d8576b\"],[0.6666666666666666,\"#ed7953\"],[0.7777777777777778,\"#fb9f3a\"],[0.8888888888888888,\"#fdca26\"],[1.0,\"#f0f921\"]],\"sequentialminus\":[[0.0,\"#0d0887\"],[0.1111111111111111,\"#46039f\"],[0.2222222222222222,\"#7201a8\"],[0.3333333333333333,\"#9c179e\"],[0.4444444444444444,\"#bd3786\"],[0.5555555555555556,\"#d8576b\"],[0.6666666666666666,\"#ed7953\"],[0.7777777777777778,\"#fb9f3a\"],[0.8888888888888888,\"#fdca26\"],[1.0,\"#f0f921\"]],\"diverging\":[[0,\"#8e0152\"],[0.1,\"#c51b7d\"],[0.2,\"#de77ae\"],[0.3,\"#f1b6da\"],[0.4,\"#fde0ef\"],[0.5,\"#f7f7f7\"],[0.6,\"#e6f5d0\"],[0.7,\"#b8e186\"],[0.8,\"#7fbc41\"],[0.9,\"#4d9221\"],[1,\"#276419\"]]},\"xaxis\":{\"gridcolor\":\"white\",\"linecolor\":\"white\",\"ticks\":\"\",\"title\":{\"standoff\":15},\"zerolinecolor\":\"white\",\"automargin\":true,\"zerolinewidth\":2},\"yaxis\":{\"gridcolor\":\"white\",\"linecolor\":\"white\",\"ticks\":\"\",\"title\":{\"standoff\":15},\"zerolinecolor\":\"white\",\"automargin\":true,\"zerolinewidth\":2},\"scene\":{\"xaxis\":{\"backgroundcolor\":\"#E5ECF6\",\"gridcolor\":\"white\",\"linecolor\":\"white\",\"showbackground\":true,\"ticks\":\"\",\"zerolinecolor\":\"white\",\"gridwidth\":2},\"yaxis\":{\"backgroundcolor\":\"#E5ECF6\",\"gridcolor\":\"white\",\"linecolor\":\"white\",\"showbackground\":true,\"ticks\":\"\",\"zerolinecolor\":\"white\",\"gridwidth\":2},\"zaxis\":{\"backgroundcolor\":\"#E5ECF6\",\"gridcolor\":\"white\",\"linecolor\":\"white\",\"showbackground\":true,\"ticks\":\"\",\"zerolinecolor\":\"white\",\"gridwidth\":2}},\"shapedefaults\":{\"line\":{\"color\":\"#2a3f5f\"}},\"annotationdefaults\":{\"arrowcolor\":\"#2a3f5f\",\"arrowhead\":0,\"arrowwidth\":1},\"geo\":{\"bgcolor\":\"white\",\"landcolor\":\"#E5ECF6\",\"subunitcolor\":\"white\",\"showland\":true,\"showlakes\":true,\"lakecolor\":\"white\"},\"title\":{\"x\":0.05},\"mapbox\":{\"style\":\"light\"}}},\"xaxis\":{\"anchor\":\"y\",\"domain\":[0.0,1.0],\"title\":{\"text\":\"Moisture\"}},\"yaxis\":{\"anchor\":\"x\",\"domain\":[0.0,1.0],\"title\":{\"text\":\"Fuel Rate\"}},\"legend\":{\"tracegroupgap\":0},\"title\":{\"text\":\"Moisture vs Fuel Rate\"}},                        {\"responsive\": true}                    ).then(function(){\n",
              "                            \n",
              "var gd = document.getElementById('f7180d1d-e607-47fd-a3aa-74f22c09d5fb');\n",
              "var x = new MutationObserver(function (mutations, observer) {{\n",
              "        var display = window.getComputedStyle(gd).display;\n",
              "        if (!display || display === 'none') {{\n",
              "            console.log([gd, 'removed!']);\n",
              "            Plotly.purge(gd);\n",
              "            observer.disconnect();\n",
              "        }}\n",
              "}});\n",
              "\n",
              "// Listen for the removal of the full notebook cells\n",
              "var notebookContainer = gd.closest('#notebook-container');\n",
              "if (notebookContainer) {{\n",
              "    x.observe(notebookContainer, {childList: true});\n",
              "}}\n",
              "\n",
              "// Listen for the clearing of the current output cell\n",
              "var outputEl = gd.closest('.output');\n",
              "if (outputEl) {{\n",
              "    x.observe(outputEl, {childList: true});\n",
              "}}\n",
              "\n",
              "                        })                };                            </script>        </div>\n",
              "</body>\n",
              "</html>"
            ]
          },
          "metadata": {}
        },
        {
          "output_type": "display_data",
          "data": {
            "text/html": [
              "<html>\n",
              "<head><meta charset=\"utf-8\" /></head>\n",
              "<body>\n",
              "    <div>            <script src=\"https://cdnjs.cloudflare.com/ajax/libs/mathjax/2.7.5/MathJax.js?config=TeX-AMS-MML_SVG\"></script><script type=\"text/javascript\">if (window.MathJax && window.MathJax.Hub && window.MathJax.Hub.Config) {window.MathJax.Hub.Config({SVG: {font: \"STIX-Web\"}});}</script>                <script type=\"text/javascript\">window.PlotlyConfig = {MathJaxConfig: 'local'};</script>\n",
              "        <script charset=\"utf-8\" src=\"https://cdn.plot.ly/plotly-2.35.2.min.js\"></script>                <div id=\"22708ab2-e849-4cd1-be99-d405b369864e\" class=\"plotly-graph-div\" style=\"height:525px; width:100%;\"></div>            <script type=\"text/javascript\">                                    window.PLOTLYENV=window.PLOTLYENV || {};                                    if (document.getElementById(\"22708ab2-e849-4cd1-be99-d405b369864e\")) {                    Plotly.newPlot(                        \"22708ab2-e849-4cd1-be99-d405b369864e\",                        [{\"hovertemplate\":\"Co Efficiency=%{x}\\u003cbr\\u003eFuel Rate=%{y}\\u003cextra\\u003e\\u003c\\u002fextra\\u003e\",\"legendgroup\":\"\",\"marker\":{\"color\":\"dodgerblue\",\"symbol\":\"circle\"},\"mode\":\"markers\",\"name\":\"\",\"orientation\":\"v\",\"showlegend\":false,\"x\":[46.35105846,45.25,46.19343022,43.62,46.5,45.78,47.49,45.77,46.6,45.61,45.24,45.84,46.93,47.92,47.03,46.37,46.26,46.36,45.48,44.05,45.45,44.6,44.1,47.67,44.86,46.54,47.07,45.5,46.95,45.11,46.39,45.45,46.44,46.08,46.95,47.32,46.65,46.9,45.99,45.95,46.37,48.32477414,45.92,46.1,47.85,46.09,47.25,44.66477484,44.77,47.13,47.69,48.21688208,45.8,45.09,47.28,46.58,47.11,48.07580636,45.87,45.02,46.21161609,45.79450341,46.43,44.99,44.64,47.49,43.83,45.19,47.76,47.03,44.97,44.59,45.16,47.6,48.19437556,47.24,46.89,46.57330036,47.42,46.32375465,47.48,46.65,44.09,46.1,45.29,44.81,44.04,45.15,47.05,47.19,45.34,48.36341427,44.52,45.87977508,44.28,47.98,45.51,46.3,45.47,46.03,46.22,46.76,46.80477851,44.98,46.71949945,46.58,45.29,46.65511495,46.1,45.76,45.00265545,45.92,44.34,46.71422802,44.9,45.85,44.8,46.16,45.12,46.76,46.38459054,45.35,44.72,45.21,46.92,46.13398658,45.12,47.83,45.79,47.98,47.39,46.1,45.09,46.75,45.2,46.73,47.69,46.38,45.73521968,44.4,46.37,45.24,48.0,45.95,46.95,47.98,46.43,44.26,46.3,45.66,46.63,45.02,44.28,43.72,44.67,46.5,45.24,44.9,45.77,46.34,46.36,44.92,45.52,46.71,46.06,46.35,44.29,44.83,46.24,46.6,44.21,47.74,46.49,45.45,45.59,46.17,46.35],\"xaxis\":\"x\",\"y\":[568.6,576.6,556.6,593.4,557.8,593.3,555.3,593.8,590.5,568.1,567.2,605.0,579.0,586.1,581.2,556.8,550.7,563.5,578.1,570.8,589.9,595.3,559.1,568.3,585.9,582.9,577.4,573.3,581.9,570.9,591.5,592.4,569.8,579.6,583.9,585.9,573.4,598.0,605.2,592.4,581.2,568.8,576.8,551.5,555.2,565.8,560.9,553.0,587.5,565.9,574.6,581.4,555.9,571.7,567.8,557.0,581.1,573.8,584.0,578.6,601.8,571.7,573.1,579.9,559.2,575.8,599.2,561.1,599.6,573.0,568.6,561.0,596.0,585.0,576.9,573.0,577.1,577.8,558.0,570.4,574.0,596.0,596.0,568.3,584.9,559.8,558.8,575.7,584.6,560.5,583.8,554.8,554.1,567.6,564.4,575.4,562.1,579.3,561.9,552.3,584.4,602.1,549.9,558.5,555.8,551.3,592.5,576.1,552.8,579.9,551.9,564.4,579.6,596.3,585.1,542.7,561.5,553.7,551.1,555.4,560.6,567.5,566.9,563.4,543.4,563.3,566.4,562.4,568.5,557.6,564.3,569.2,557.1,575.5,544.8,557.4,582.6,583.2,584.0,579.5,563.7,559.2,557.4,559.4,575.9,577.4,574.7,568.6,566.1,549.4,555.9,554.6,578.6,566.6,574.4,553.2,575.6,588.4,542.6,566.8,590.2,570.6,544.2,554.7,545.3,545.0,559.3,541.5,589.3,565.6,595.0,595.8,553.2,556.6,541.5,576.2,594.1],\"yaxis\":\"y\",\"type\":\"scatter\"},{\"hovertemplate\":\"\\u003cb\\u003eOLS trendline\\u003c\\u002fb\\u003e\\u003cbr\\u003efuel_rate = 0.184317 * co_efficiency + 562.605\\u003cbr\\u003eR\\u003csup\\u003e2\\u003c\\u002fsup\\u003e=0.000176\\u003cbr\\u003e\\u003cbr\\u003eCo Efficiency=%{x}\\u003cbr\\u003eFuel Rate=%{y} \\u003cb\\u003e(trend)\\u003c\\u002fb\\u003e\\u003cextra\\u003e\\u003c\\u002fextra\\u003e\",\"legendgroup\":\"\",\"marker\":{\"color\":\"dodgerblue\",\"symbol\":\"circle\"},\"mode\":\"lines\",\"name\":\"\",\"showlegend\":false,\"x\":[43.62,43.72,43.83,44.04,44.05,44.09,44.1,44.21,44.26,44.28,44.28,44.29,44.34,44.4,44.52,44.59,44.6,44.64,44.66477484,44.67,44.72,44.77,44.8,44.81,44.83,44.86,44.9,44.9,44.92,44.97,44.98,44.99,45.00265545,45.02,45.02,45.09,45.09,45.11,45.12,45.12,45.15,45.16,45.19,45.2,45.21,45.24,45.24,45.24,45.25,45.29,45.29,45.34,45.35,45.45,45.45,45.45,45.47,45.48,45.5,45.51,45.52,45.59,45.61,45.66,45.73521968,45.76,45.77,45.77,45.78,45.79,45.79450341,45.8,45.84,45.85,45.87,45.87977508,45.92,45.92,45.95,45.95,45.99,46.03,46.06,46.08,46.09,46.1,46.1,46.1,46.1,46.13398658,46.16,46.17,46.19343022,46.21161609,46.22,46.24,46.26,46.3,46.3,46.32375465,46.34,46.35,46.35,46.35105846,46.36,46.36,46.37,46.37,46.37,46.38,46.38459054,46.39,46.43,46.43,46.44,46.49,46.5,46.5,46.54,46.57330036,46.58,46.58,46.6,46.6,46.63,46.65,46.65,46.65511495,46.71,46.71422802,46.71949945,46.73,46.75,46.76,46.76,46.80477851,46.89,46.9,46.92,46.93,46.95,46.95,46.95,47.03,47.03,47.05,47.07,47.11,47.13,47.19,47.24,47.25,47.28,47.32,47.39,47.42,47.48,47.49,47.49,47.6,47.67,47.69,47.69,47.74,47.76,47.83,47.85,47.92,47.98,47.98,47.98,48.0,48.07580636,48.19437556,48.21688208,48.32477414,48.36341427],\"xaxis\":\"x\",\"y\":[570.6445969860088,570.6630286410382,570.6833034615705,570.7220099371322,570.7238531026352,570.7312257646469,570.7330689301498,570.7533437506822,570.7625595781968,570.7662459092028,570.7662459092028,570.7680890747057,570.7773049022204,570.788363895238,570.8104818812733,570.8233840397938,570.8252272052969,570.8325998673085,570.8371662803514,570.8381293638174,570.8473451913321,570.8565610188468,570.8620905153556,570.8639336808586,570.8676200118645,570.8731495083732,570.880522170385,570.880522170385,570.884208501391,570.8934243289056,570.8952674944086,570.8971106599115,570.8994432687979,570.9026401564203,570.9026401564203,570.9155423149409,570.9155423149409,570.9192286459468,570.9210718114497,570.9210718114497,570.9266013079585,570.9284444734615,570.9339739699702,570.9358171354733,570.9376603009762,570.9431897974849,570.9431897974849,570.9431897974849,570.945032962988,570.9524056249996,570.9524056249996,570.9616214525144,570.9634646180173,570.9818962730467,570.9818962730467,570.9818962730467,570.9855826040526,570.9874257695556,570.9911121005614,570.9929552660643,570.9947984315673,571.0077005900879,571.0113869210937,571.0206027486084,571.0344669805403,571.0390344036379,571.0408775691408,571.0408775691408,571.0427207346437,571.0445639001466,571.0453939531425,571.0464070656496,571.0537797276613,571.0556228931644,571.0593092241702,571.0611109331946,571.0685250516849,571.0685250516849,571.0740545481937,571.0740545481937,571.0814272102054,571.0887998722172,571.094329368726,571.098015699732,571.0998588652349,571.1017020307378,571.1017020307378,571.1017020307378,571.1017020307378,571.1079663199197,571.1127610237554,571.1146041892583,571.1189227665814,571.122274723404,571.123820016773,571.127506347779,571.1311926787848,571.1385653407966,571.1385653407966,571.142943715938,571.1459380028084,571.1477811683113,571.1477811683113,571.1479762600071,571.1496243338142,571.1496243338142,571.1514674993172,571.1514674993172,571.1514674993172,571.1533106648201,571.1541567773169,571.155153830323,571.1625264923348,571.1625264923348,571.1643696578377,571.1735854853524,571.1754286508553,571.1754286508553,571.1828013128671,571.1889391203459,571.1901739748789,571.1901739748789,571.1938603058848,571.1938603058848,571.1993898023936,571.2030761333995,571.2030761333995,571.2040189033385,571.2141351264171,571.2149144204781,571.2158860322709,571.217821457423,571.2215077884289,571.2233509539318,571.2233509539318,571.2316043744223,571.2473121054701,571.249155270973,571.2528416019788,571.2546847674818,571.2583710984877,571.2583710984877,571.2583710984877,571.2731164225112,571.2731164225112,571.2768027535171,571.280489084523,571.2878617465348,571.2915480775406,571.3026070705582,571.3118228980729,571.3136660635759,571.3191955600847,571.3265682220965,571.3394703806171,571.3449998771258,571.3560588701434,571.3579020356465,571.3579020356465,571.3781768561788,571.3910790146994,571.3947653457052,571.3947653457052,571.4039811732199,571.4076675042259,571.4205696627464,571.4242559937522,571.4371581522729,571.4482171452905,571.4482171452905,571.4482171452905,571.4519034762964,571.4658758430619,571.4877301089771,571.4918784331026,571.5117647254059,571.5188867408704],\"yaxis\":\"y\",\"type\":\"scatter\"}],                        {\"template\":{\"data\":{\"histogram2dcontour\":[{\"type\":\"histogram2dcontour\",\"colorbar\":{\"outlinewidth\":0,\"ticks\":\"\"},\"colorscale\":[[0.0,\"#0d0887\"],[0.1111111111111111,\"#46039f\"],[0.2222222222222222,\"#7201a8\"],[0.3333333333333333,\"#9c179e\"],[0.4444444444444444,\"#bd3786\"],[0.5555555555555556,\"#d8576b\"],[0.6666666666666666,\"#ed7953\"],[0.7777777777777778,\"#fb9f3a\"],[0.8888888888888888,\"#fdca26\"],[1.0,\"#f0f921\"]]}],\"choropleth\":[{\"type\":\"choropleth\",\"colorbar\":{\"outlinewidth\":0,\"ticks\":\"\"}}],\"histogram2d\":[{\"type\":\"histogram2d\",\"colorbar\":{\"outlinewidth\":0,\"ticks\":\"\"},\"colorscale\":[[0.0,\"#0d0887\"],[0.1111111111111111,\"#46039f\"],[0.2222222222222222,\"#7201a8\"],[0.3333333333333333,\"#9c179e\"],[0.4444444444444444,\"#bd3786\"],[0.5555555555555556,\"#d8576b\"],[0.6666666666666666,\"#ed7953\"],[0.7777777777777778,\"#fb9f3a\"],[0.8888888888888888,\"#fdca26\"],[1.0,\"#f0f921\"]]}],\"heatmap\":[{\"type\":\"heatmap\",\"colorbar\":{\"outlinewidth\":0,\"ticks\":\"\"},\"colorscale\":[[0.0,\"#0d0887\"],[0.1111111111111111,\"#46039f\"],[0.2222222222222222,\"#7201a8\"],[0.3333333333333333,\"#9c179e\"],[0.4444444444444444,\"#bd3786\"],[0.5555555555555556,\"#d8576b\"],[0.6666666666666666,\"#ed7953\"],[0.7777777777777778,\"#fb9f3a\"],[0.8888888888888888,\"#fdca26\"],[1.0,\"#f0f921\"]]}],\"heatmapgl\":[{\"type\":\"heatmapgl\",\"colorbar\":{\"outlinewidth\":0,\"ticks\":\"\"},\"colorscale\":[[0.0,\"#0d0887\"],[0.1111111111111111,\"#46039f\"],[0.2222222222222222,\"#7201a8\"],[0.3333333333333333,\"#9c179e\"],[0.4444444444444444,\"#bd3786\"],[0.5555555555555556,\"#d8576b\"],[0.6666666666666666,\"#ed7953\"],[0.7777777777777778,\"#fb9f3a\"],[0.8888888888888888,\"#fdca26\"],[1.0,\"#f0f921\"]]}],\"contourcarpet\":[{\"type\":\"contourcarpet\",\"colorbar\":{\"outlinewidth\":0,\"ticks\":\"\"}}],\"contour\":[{\"type\":\"contour\",\"colorbar\":{\"outlinewidth\":0,\"ticks\":\"\"},\"colorscale\":[[0.0,\"#0d0887\"],[0.1111111111111111,\"#46039f\"],[0.2222222222222222,\"#7201a8\"],[0.3333333333333333,\"#9c179e\"],[0.4444444444444444,\"#bd3786\"],[0.5555555555555556,\"#d8576b\"],[0.6666666666666666,\"#ed7953\"],[0.7777777777777778,\"#fb9f3a\"],[0.8888888888888888,\"#fdca26\"],[1.0,\"#f0f921\"]]}],\"surface\":[{\"type\":\"surface\",\"colorbar\":{\"outlinewidth\":0,\"ticks\":\"\"},\"colorscale\":[[0.0,\"#0d0887\"],[0.1111111111111111,\"#46039f\"],[0.2222222222222222,\"#7201a8\"],[0.3333333333333333,\"#9c179e\"],[0.4444444444444444,\"#bd3786\"],[0.5555555555555556,\"#d8576b\"],[0.6666666666666666,\"#ed7953\"],[0.7777777777777778,\"#fb9f3a\"],[0.8888888888888888,\"#fdca26\"],[1.0,\"#f0f921\"]]}],\"mesh3d\":[{\"type\":\"mesh3d\",\"colorbar\":{\"outlinewidth\":0,\"ticks\":\"\"}}],\"scatter\":[{\"fillpattern\":{\"fillmode\":\"overlay\",\"size\":10,\"solidity\":0.2},\"type\":\"scatter\"}],\"parcoords\":[{\"type\":\"parcoords\",\"line\":{\"colorbar\":{\"outlinewidth\":0,\"ticks\":\"\"}}}],\"scatterpolargl\":[{\"type\":\"scatterpolargl\",\"marker\":{\"colorbar\":{\"outlinewidth\":0,\"ticks\":\"\"}}}],\"bar\":[{\"error_x\":{\"color\":\"#2a3f5f\"},\"error_y\":{\"color\":\"#2a3f5f\"},\"marker\":{\"line\":{\"color\":\"#E5ECF6\",\"width\":0.5},\"pattern\":{\"fillmode\":\"overlay\",\"size\":10,\"solidity\":0.2}},\"type\":\"bar\"}],\"scattergeo\":[{\"type\":\"scattergeo\",\"marker\":{\"colorbar\":{\"outlinewidth\":0,\"ticks\":\"\"}}}],\"scatterpolar\":[{\"type\":\"scatterpolar\",\"marker\":{\"colorbar\":{\"outlinewidth\":0,\"ticks\":\"\"}}}],\"histogram\":[{\"marker\":{\"pattern\":{\"fillmode\":\"overlay\",\"size\":10,\"solidity\":0.2}},\"type\":\"histogram\"}],\"scattergl\":[{\"type\":\"scattergl\",\"marker\":{\"colorbar\":{\"outlinewidth\":0,\"ticks\":\"\"}}}],\"scatter3d\":[{\"type\":\"scatter3d\",\"line\":{\"colorbar\":{\"outlinewidth\":0,\"ticks\":\"\"}},\"marker\":{\"colorbar\":{\"outlinewidth\":0,\"ticks\":\"\"}}}],\"scattermapbox\":[{\"type\":\"scattermapbox\",\"marker\":{\"colorbar\":{\"outlinewidth\":0,\"ticks\":\"\"}}}],\"scatterternary\":[{\"type\":\"scatterternary\",\"marker\":{\"colorbar\":{\"outlinewidth\":0,\"ticks\":\"\"}}}],\"scattercarpet\":[{\"type\":\"scattercarpet\",\"marker\":{\"colorbar\":{\"outlinewidth\":0,\"ticks\":\"\"}}}],\"carpet\":[{\"aaxis\":{\"endlinecolor\":\"#2a3f5f\",\"gridcolor\":\"white\",\"linecolor\":\"white\",\"minorgridcolor\":\"white\",\"startlinecolor\":\"#2a3f5f\"},\"baxis\":{\"endlinecolor\":\"#2a3f5f\",\"gridcolor\":\"white\",\"linecolor\":\"white\",\"minorgridcolor\":\"white\",\"startlinecolor\":\"#2a3f5f\"},\"type\":\"carpet\"}],\"table\":[{\"cells\":{\"fill\":{\"color\":\"#EBF0F8\"},\"line\":{\"color\":\"white\"}},\"header\":{\"fill\":{\"color\":\"#C8D4E3\"},\"line\":{\"color\":\"white\"}},\"type\":\"table\"}],\"barpolar\":[{\"marker\":{\"line\":{\"color\":\"#E5ECF6\",\"width\":0.5},\"pattern\":{\"fillmode\":\"overlay\",\"size\":10,\"solidity\":0.2}},\"type\":\"barpolar\"}],\"pie\":[{\"automargin\":true,\"type\":\"pie\"}]},\"layout\":{\"autotypenumbers\":\"strict\",\"colorway\":[\"#636efa\",\"#EF553B\",\"#00cc96\",\"#ab63fa\",\"#FFA15A\",\"#19d3f3\",\"#FF6692\",\"#B6E880\",\"#FF97FF\",\"#FECB52\"],\"font\":{\"color\":\"#2a3f5f\"},\"hovermode\":\"closest\",\"hoverlabel\":{\"align\":\"left\"},\"paper_bgcolor\":\"white\",\"plot_bgcolor\":\"#E5ECF6\",\"polar\":{\"bgcolor\":\"#E5ECF6\",\"angularaxis\":{\"gridcolor\":\"white\",\"linecolor\":\"white\",\"ticks\":\"\"},\"radialaxis\":{\"gridcolor\":\"white\",\"linecolor\":\"white\",\"ticks\":\"\"}},\"ternary\":{\"bgcolor\":\"#E5ECF6\",\"aaxis\":{\"gridcolor\":\"white\",\"linecolor\":\"white\",\"ticks\":\"\"},\"baxis\":{\"gridcolor\":\"white\",\"linecolor\":\"white\",\"ticks\":\"\"},\"caxis\":{\"gridcolor\":\"white\",\"linecolor\":\"white\",\"ticks\":\"\"}},\"coloraxis\":{\"colorbar\":{\"outlinewidth\":0,\"ticks\":\"\"}},\"colorscale\":{\"sequential\":[[0.0,\"#0d0887\"],[0.1111111111111111,\"#46039f\"],[0.2222222222222222,\"#7201a8\"],[0.3333333333333333,\"#9c179e\"],[0.4444444444444444,\"#bd3786\"],[0.5555555555555556,\"#d8576b\"],[0.6666666666666666,\"#ed7953\"],[0.7777777777777778,\"#fb9f3a\"],[0.8888888888888888,\"#fdca26\"],[1.0,\"#f0f921\"]],\"sequentialminus\":[[0.0,\"#0d0887\"],[0.1111111111111111,\"#46039f\"],[0.2222222222222222,\"#7201a8\"],[0.3333333333333333,\"#9c179e\"],[0.4444444444444444,\"#bd3786\"],[0.5555555555555556,\"#d8576b\"],[0.6666666666666666,\"#ed7953\"],[0.7777777777777778,\"#fb9f3a\"],[0.8888888888888888,\"#fdca26\"],[1.0,\"#f0f921\"]],\"diverging\":[[0,\"#8e0152\"],[0.1,\"#c51b7d\"],[0.2,\"#de77ae\"],[0.3,\"#f1b6da\"],[0.4,\"#fde0ef\"],[0.5,\"#f7f7f7\"],[0.6,\"#e6f5d0\"],[0.7,\"#b8e186\"],[0.8,\"#7fbc41\"],[0.9,\"#4d9221\"],[1,\"#276419\"]]},\"xaxis\":{\"gridcolor\":\"white\",\"linecolor\":\"white\",\"ticks\":\"\",\"title\":{\"standoff\":15},\"zerolinecolor\":\"white\",\"automargin\":true,\"zerolinewidth\":2},\"yaxis\":{\"gridcolor\":\"white\",\"linecolor\":\"white\",\"ticks\":\"\",\"title\":{\"standoff\":15},\"zerolinecolor\":\"white\",\"automargin\":true,\"zerolinewidth\":2},\"scene\":{\"xaxis\":{\"backgroundcolor\":\"#E5ECF6\",\"gridcolor\":\"white\",\"linecolor\":\"white\",\"showbackground\":true,\"ticks\":\"\",\"zerolinecolor\":\"white\",\"gridwidth\":2},\"yaxis\":{\"backgroundcolor\":\"#E5ECF6\",\"gridcolor\":\"white\",\"linecolor\":\"white\",\"showbackground\":true,\"ticks\":\"\",\"zerolinecolor\":\"white\",\"gridwidth\":2},\"zaxis\":{\"backgroundcolor\":\"#E5ECF6\",\"gridcolor\":\"white\",\"linecolor\":\"white\",\"showbackground\":true,\"ticks\":\"\",\"zerolinecolor\":\"white\",\"gridwidth\":2}},\"shapedefaults\":{\"line\":{\"color\":\"#2a3f5f\"}},\"annotationdefaults\":{\"arrowcolor\":\"#2a3f5f\",\"arrowhead\":0,\"arrowwidth\":1},\"geo\":{\"bgcolor\":\"white\",\"landcolor\":\"#E5ECF6\",\"subunitcolor\":\"white\",\"showland\":true,\"showlakes\":true,\"lakecolor\":\"white\"},\"title\":{\"x\":0.05},\"mapbox\":{\"style\":\"light\"}}},\"xaxis\":{\"anchor\":\"y\",\"domain\":[0.0,1.0],\"title\":{\"text\":\"Co Efficiency\"}},\"yaxis\":{\"anchor\":\"x\",\"domain\":[0.0,1.0],\"title\":{\"text\":\"Fuel Rate\"}},\"legend\":{\"tracegroupgap\":0},\"title\":{\"text\":\"Co Efficiency vs Fuel Rate\"}},                        {\"responsive\": true}                    ).then(function(){\n",
              "                            \n",
              "var gd = document.getElementById('22708ab2-e849-4cd1-be99-d405b369864e');\n",
              "var x = new MutationObserver(function (mutations, observer) {{\n",
              "        var display = window.getComputedStyle(gd).display;\n",
              "        if (!display || display === 'none') {{\n",
              "            console.log([gd, 'removed!']);\n",
              "            Plotly.purge(gd);\n",
              "            observer.disconnect();\n",
              "        }}\n",
              "}});\n",
              "\n",
              "// Listen for the removal of the full notebook cells\n",
              "var notebookContainer = gd.closest('#notebook-container');\n",
              "if (notebookContainer) {{\n",
              "    x.observe(notebookContainer, {childList: true});\n",
              "}}\n",
              "\n",
              "// Listen for the clearing of the current output cell\n",
              "var outputEl = gd.closest('.output');\n",
              "if (outputEl) {{\n",
              "    x.observe(outputEl, {childList: true});\n",
              "}}\n",
              "\n",
              "                        })                };                            </script>        </div>\n",
              "</body>\n",
              "</html>"
            ]
          },
          "metadata": {}
        },
        {
          "output_type": "display_data",
          "data": {
            "text/html": [
              "<html>\n",
              "<head><meta charset=\"utf-8\" /></head>\n",
              "<body>\n",
              "    <div>            <script src=\"https://cdnjs.cloudflare.com/ajax/libs/mathjax/2.7.5/MathJax.js?config=TeX-AMS-MML_SVG\"></script><script type=\"text/javascript\">if (window.MathJax && window.MathJax.Hub && window.MathJax.Hub.Config) {window.MathJax.Hub.Config({SVG: {font: \"STIX-Web\"}});}</script>                <script type=\"text/javascript\">window.PlotlyConfig = {MathJaxConfig: 'local'};</script>\n",
              "        <script charset=\"utf-8\" src=\"https://cdn.plot.ly/plotly-2.35.2.min.js\"></script>                <div id=\"d963acbb-56ce-4219-b9b9-8e3c5e70be44\" class=\"plotly-graph-div\" style=\"height:525px; width:100%;\"></div>            <script type=\"text/javascript\">                                    window.PLOTLYENV=window.PLOTLYENV || {};                                    if (document.getElementById(\"d963acbb-56ce-4219-b9b9-8e3c5e70be44\")) {                    Plotly.newPlot(                        \"d963acbb-56ce-4219-b9b9-8e3c5e70be44\",                        [{\"hovertemplate\":\"Hot Blast Temp=%{x}\\u003cbr\\u003eFuel Rate=%{y}\\u003cextra\\u003e\\u003c\\u002fextra\\u003e\",\"legendgroup\":\"\",\"marker\":{\"color\":\"dodgerblue\",\"symbol\":\"circle\"},\"mode\":\"markers\",\"name\":\"\",\"orientation\":\"v\",\"showlegend\":false,\"x\":[1162.79,1170.0,1152.0,1111.79,1143.71,1171.0,1110.71,1180.88,1181.79,1183.92,1182.75,1178.38,1163.96,1190.38,1191.71,1130.63,1120.25,1182.88,1177.75,1173.0,1184.83,1185.0,1158.0,1123.0,1161.88,1180.88,1154.71,1177.0,1136.67,1155.29,1182.75,1180.54,1101.0,1182.42,1152.79,1167.96,1181.71,1155.29,1179.67,1183.71,1164.54,1104.54,1178.0,1100.54,1110.79,1178.29,1176.08,1148.5,1162.08,1177.38,1110.83,1162.38,1176.0,1150.54,1183.0,1100.04,1162.29,1119.17,1159.0,1176.0,1162.67,1162.92,1184.75,1181.88,1139.92,1182.04,1138.38,1185.25,1151.58,1133.08,1180.0,1142.33,1156.5,1181.29,1162.33,1162.58,1167.21,1135.5,1160.5,1158.88,1183.33,1163.75,1109.71,1146.21,1112.46,1131.08,1162.08,1150.42,1153.46,1177.38,1142.46,1141.54,1099.67,1159.63,1151.71,1171.04,1141.79,1151.67,1139.92,1140.96,1161.42,1176.88,1157.33,1145.52,1155.71,1111.54,1178.0,1162.58,1120.38,1178.0,1145.54,1153.0,1151.46,1160.0,1162.13,1110.96,1114.9,1150.04,1107.17,1110.79,1160.67,1134.92,1178.05,1121.54,1092.13,1162.96,1151.29,1183.54,1161.83,1111.67,1162.75,1127.71,1150.83,1162.42,1178.0,1141.25,1162.38,1114.0,1162.33,1092.33,1139.17,1135.46,1109.42,1142.08,1176.0,1160.92,1175.0,1181.0,1175.0,1120.75,1110.67,1108.17,1150.08,1178.0,1176.0,1124.21,1152.67,1177.0,1110.13,1183.46,1118.0,1150.58,1099.33,1112.13,1099.58,1114.0,1179.0,1119.17,1164.67,1142.71,1179.0,1162.71,1110.08,1142.04,1110.13,1151.13,1184.08],\"xaxis\":\"x\",\"y\":[568.6,576.6,556.6,593.4,557.8,593.3,555.3,593.8,590.5,568.1,567.2,605.0,579.0,586.1,581.2,556.8,550.7,563.5,578.1,570.8,589.9,595.3,559.1,568.3,585.9,582.9,577.4,573.3,581.9,570.9,591.5,592.4,569.8,579.6,583.9,585.9,573.4,598.0,605.2,592.4,581.2,568.8,576.8,551.5,555.2,565.8,560.9,553.0,587.5,565.9,574.6,581.4,555.9,571.7,567.8,557.0,581.1,573.8,584.0,578.6,601.8,571.7,573.1,579.9,559.2,575.8,599.2,561.1,599.6,573.0,568.6,561.0,596.0,585.0,576.9,573.0,577.1,577.8,558.0,570.4,574.0,596.0,596.0,568.3,584.9,559.8,558.8,575.7,584.6,560.5,583.8,554.8,554.1,567.6,564.4,575.4,562.1,579.3,561.9,552.3,584.4,602.1,549.9,558.5,555.8,551.3,592.5,576.1,552.8,579.9,551.9,564.4,579.6,596.3,585.1,542.7,561.5,553.7,551.1,555.4,560.6,567.5,566.9,563.4,543.4,563.3,566.4,562.4,568.5,557.6,564.3,569.2,557.1,575.5,544.8,557.4,582.6,583.2,584.0,579.5,563.7,559.2,557.4,559.4,575.9,577.4,574.7,568.6,566.1,549.4,555.9,554.6,578.6,566.6,574.4,553.2,575.6,588.4,542.6,566.8,590.2,570.6,544.2,554.7,545.3,545.0,559.3,541.5,589.3,565.6,595.0,595.8,553.2,556.6,541.5,576.2,594.1],\"yaxis\":\"y\",\"type\":\"scatter\"},{\"hovertemplate\":\"\\u003cb\\u003eOLS trendline\\u003c\\u002fb\\u003e\\u003cbr\\u003efuel_rate = 0.274479 * hot_blast_temp + 254.97\\u003cbr\\u003eR\\u003csup\\u003e2\\u003c\\u002fsup\\u003e=0.230210\\u003cbr\\u003e\\u003cbr\\u003eHot Blast Temp=%{x}\\u003cbr\\u003eFuel Rate=%{y} \\u003cb\\u003e(trend)\\u003c\\u002fb\\u003e\\u003cextra\\u003e\\u003c\\u002fextra\\u003e\",\"legendgroup\":\"\",\"marker\":{\"color\":\"dodgerblue\",\"symbol\":\"circle\"},\"mode\":\"lines\",\"name\":\"\",\"showlegend\":false,\"x\":[1092.13,1092.33,1099.33,1099.58,1099.67,1100.04,1100.54,1101.0,1104.54,1107.17,1108.17,1109.42,1109.71,1110.08,1110.13,1110.13,1110.67,1110.71,1110.79,1110.79,1110.83,1110.96,1111.54,1111.67,1111.79,1112.13,1112.46,1114.0,1114.0,1114.9,1118.0,1119.17,1119.17,1120.25,1120.38,1120.75,1121.54,1123.0,1124.21,1127.71,1130.63,1131.08,1133.08,1134.92,1135.46,1135.5,1136.67,1138.38,1139.17,1139.92,1139.92,1140.96,1141.25,1141.54,1141.79,1142.04,1142.08,1142.33,1142.46,1142.71,1143.71,1145.52,1145.54,1146.21,1148.5,1150.04,1150.08,1150.42,1150.54,1150.58,1150.83,1151.13,1151.29,1151.46,1151.58,1151.67,1151.71,1152.0,1152.67,1152.79,1153.0,1153.46,1154.71,1155.29,1155.29,1155.71,1156.5,1157.33,1158.0,1158.88,1159.0,1159.63,1160.0,1160.5,1160.67,1160.92,1161.42,1161.83,1161.88,1162.08,1162.08,1162.13,1162.29,1162.33,1162.33,1162.38,1162.38,1162.42,1162.58,1162.58,1162.67,1162.71,1162.75,1162.79,1162.92,1162.96,1163.75,1163.96,1164.54,1164.67,1167.21,1167.96,1170.0,1171.0,1171.04,1173.0,1175.0,1175.0,1176.0,1176.0,1176.0,1176.0,1176.08,1176.88,1177.0,1177.0,1177.38,1177.38,1177.75,1178.0,1178.0,1178.0,1178.0,1178.0,1178.05,1178.29,1178.38,1179.0,1179.0,1179.67,1180.0,1180.54,1180.88,1180.88,1181.0,1181.29,1181.71,1181.79,1181.88,1182.04,1182.42,1182.75,1182.75,1182.88,1183.0,1183.33,1183.46,1183.54,1183.71,1183.92,1184.08,1184.75,1184.83,1185.0,1185.25,1190.38,1191.71],\"xaxis\":\"x\",\"y\":[554.7371655936116,554.7920613849202,556.7134140807226,556.7820338198585,556.8067369259473,556.9082941398683,557.04553361814,557.1717939381498,558.1434494443129,558.8653291000215,559.1398080565647,559.4829067522437,559.5625056496413,559.6640628635622,559.6777868113894,559.6777868113894,559.8260054479227,559.8369846061845,559.8589429227079,559.8589429227079,559.8699220809697,559.9056043453203,560.0648021401153,560.100484404466,560.1334218792512,560.2267447244758,560.3173227801351,560.7400203732117,560.7400203732117,560.9870514341005,561.8379361993844,562.1590765785401,562.1590765785401,562.4555138516067,562.4911961159573,562.5927533298783,562.8095917055474,563.2103309821006,563.5424505195178,564.5031268674192,565.3046054205253,565.4281209509697,565.9770788640561,566.4821201440957,566.630338780629,566.6413179388908,566.9624583180463,567.4318173337352,567.6486557094044,567.8545149268117,567.8545149268117,568.1399730416167,568.2195719390143,568.2991708364117,568.3677905755476,568.4364103146834,568.447389472945,568.5160092120808,568.5516914764315,568.6203112155673,568.8947901721106,569.3915970834537,569.3970866625846,569.5809875634685,570.2095443739526,570.632241967029,570.6432211252908,570.7365439705155,570.7694814453007,570.7804606035623,570.8490803426981,570.9314240296612,570.975340662708,571.0220020853204,571.0549395601056,571.0796426661946,571.0906218244562,571.1702207218538,571.3541216227377,571.3870590975229,571.444699678397,571.5709599984068,571.9140586940858,572.0732564888809,572.0732564888809,572.1885376506291,572.4053760262982,572.6331935602291,572.817094461113,573.0586359428711,573.0915734176563,573.2644951602786,573.3660523741995,573.5032918524711,573.5499532750835,573.6185730142192,573.7558124924908,573.8683488646735,573.8820728125007,573.9369686038093,573.9369686038093,573.9506925516365,573.9946091846834,574.0055883429451,574.0055883429451,574.0193122907724,574.0193122907724,574.030291449034,574.074208082081,574.074208082081,574.0989111881698,574.1098903464316,574.1208695046934,574.131848662955,574.1675309273056,574.1785100855674,574.3953484612365,574.4529890421106,574.6121868369056,574.6478691012563,575.345045650876,575.5509048682835,576.1108419396317,576.3853208961748,576.3963000544366,576.9342788092613,577.4832367223477,577.4832367223477,577.7577156788909,577.7577156788909,577.7577156788909,577.7577156788909,577.7796739954143,577.999257160649,578.0321946354342,578.0321946354342,578.1364966389206,578.1364966389206,578.2380538528415,578.3066735919773,578.3066735919773,578.3066735919773,578.3066735919773,578.3066735919773,578.3203975398045,578.3862724893748,578.4109755954638,578.5811525485205,578.5811525485205,578.7650534494045,578.8556315050638,579.0038501415971,579.0971729868218,579.0971729868218,579.1301104616069,579.2097093590045,579.3249905207526,579.346948837276,579.371651943365,579.4155685764119,579.5198705798983,579.6104486355576,579.6104486355576,579.6461308999083,579.6790683746934,579.7696464303526,579.8053286947032,579.8272870112268,579.8739484338391,579.9315890147132,579.9755056477601,580.159406548644,580.1813648651674,580.2280262877798,580.2966460269156,581.7047230739823,582.0697800861848],\"yaxis\":\"y\",\"type\":\"scatter\"}],                        {\"template\":{\"data\":{\"histogram2dcontour\":[{\"type\":\"histogram2dcontour\",\"colorbar\":{\"outlinewidth\":0,\"ticks\":\"\"},\"colorscale\":[[0.0,\"#0d0887\"],[0.1111111111111111,\"#46039f\"],[0.2222222222222222,\"#7201a8\"],[0.3333333333333333,\"#9c179e\"],[0.4444444444444444,\"#bd3786\"],[0.5555555555555556,\"#d8576b\"],[0.6666666666666666,\"#ed7953\"],[0.7777777777777778,\"#fb9f3a\"],[0.8888888888888888,\"#fdca26\"],[1.0,\"#f0f921\"]]}],\"choropleth\":[{\"type\":\"choropleth\",\"colorbar\":{\"outlinewidth\":0,\"ticks\":\"\"}}],\"histogram2d\":[{\"type\":\"histogram2d\",\"colorbar\":{\"outlinewidth\":0,\"ticks\":\"\"},\"colorscale\":[[0.0,\"#0d0887\"],[0.1111111111111111,\"#46039f\"],[0.2222222222222222,\"#7201a8\"],[0.3333333333333333,\"#9c179e\"],[0.4444444444444444,\"#bd3786\"],[0.5555555555555556,\"#d8576b\"],[0.6666666666666666,\"#ed7953\"],[0.7777777777777778,\"#fb9f3a\"],[0.8888888888888888,\"#fdca26\"],[1.0,\"#f0f921\"]]}],\"heatmap\":[{\"type\":\"heatmap\",\"colorbar\":{\"outlinewidth\":0,\"ticks\":\"\"},\"colorscale\":[[0.0,\"#0d0887\"],[0.1111111111111111,\"#46039f\"],[0.2222222222222222,\"#7201a8\"],[0.3333333333333333,\"#9c179e\"],[0.4444444444444444,\"#bd3786\"],[0.5555555555555556,\"#d8576b\"],[0.6666666666666666,\"#ed7953\"],[0.7777777777777778,\"#fb9f3a\"],[0.8888888888888888,\"#fdca26\"],[1.0,\"#f0f921\"]]}],\"heatmapgl\":[{\"type\":\"heatmapgl\",\"colorbar\":{\"outlinewidth\":0,\"ticks\":\"\"},\"colorscale\":[[0.0,\"#0d0887\"],[0.1111111111111111,\"#46039f\"],[0.2222222222222222,\"#7201a8\"],[0.3333333333333333,\"#9c179e\"],[0.4444444444444444,\"#bd3786\"],[0.5555555555555556,\"#d8576b\"],[0.6666666666666666,\"#ed7953\"],[0.7777777777777778,\"#fb9f3a\"],[0.8888888888888888,\"#fdca26\"],[1.0,\"#f0f921\"]]}],\"contourcarpet\":[{\"type\":\"contourcarpet\",\"colorbar\":{\"outlinewidth\":0,\"ticks\":\"\"}}],\"contour\":[{\"type\":\"contour\",\"colorbar\":{\"outlinewidth\":0,\"ticks\":\"\"},\"colorscale\":[[0.0,\"#0d0887\"],[0.1111111111111111,\"#46039f\"],[0.2222222222222222,\"#7201a8\"],[0.3333333333333333,\"#9c179e\"],[0.4444444444444444,\"#bd3786\"],[0.5555555555555556,\"#d8576b\"],[0.6666666666666666,\"#ed7953\"],[0.7777777777777778,\"#fb9f3a\"],[0.8888888888888888,\"#fdca26\"],[1.0,\"#f0f921\"]]}],\"surface\":[{\"type\":\"surface\",\"colorbar\":{\"outlinewidth\":0,\"ticks\":\"\"},\"colorscale\":[[0.0,\"#0d0887\"],[0.1111111111111111,\"#46039f\"],[0.2222222222222222,\"#7201a8\"],[0.3333333333333333,\"#9c179e\"],[0.4444444444444444,\"#bd3786\"],[0.5555555555555556,\"#d8576b\"],[0.6666666666666666,\"#ed7953\"],[0.7777777777777778,\"#fb9f3a\"],[0.8888888888888888,\"#fdca26\"],[1.0,\"#f0f921\"]]}],\"mesh3d\":[{\"type\":\"mesh3d\",\"colorbar\":{\"outlinewidth\":0,\"ticks\":\"\"}}],\"scatter\":[{\"fillpattern\":{\"fillmode\":\"overlay\",\"size\":10,\"solidity\":0.2},\"type\":\"scatter\"}],\"parcoords\":[{\"type\":\"parcoords\",\"line\":{\"colorbar\":{\"outlinewidth\":0,\"ticks\":\"\"}}}],\"scatterpolargl\":[{\"type\":\"scatterpolargl\",\"marker\":{\"colorbar\":{\"outlinewidth\":0,\"ticks\":\"\"}}}],\"bar\":[{\"error_x\":{\"color\":\"#2a3f5f\"},\"error_y\":{\"color\":\"#2a3f5f\"},\"marker\":{\"line\":{\"color\":\"#E5ECF6\",\"width\":0.5},\"pattern\":{\"fillmode\":\"overlay\",\"size\":10,\"solidity\":0.2}},\"type\":\"bar\"}],\"scattergeo\":[{\"type\":\"scattergeo\",\"marker\":{\"colorbar\":{\"outlinewidth\":0,\"ticks\":\"\"}}}],\"scatterpolar\":[{\"type\":\"scatterpolar\",\"marker\":{\"colorbar\":{\"outlinewidth\":0,\"ticks\":\"\"}}}],\"histogram\":[{\"marker\":{\"pattern\":{\"fillmode\":\"overlay\",\"size\":10,\"solidity\":0.2}},\"type\":\"histogram\"}],\"scattergl\":[{\"type\":\"scattergl\",\"marker\":{\"colorbar\":{\"outlinewidth\":0,\"ticks\":\"\"}}}],\"scatter3d\":[{\"type\":\"scatter3d\",\"line\":{\"colorbar\":{\"outlinewidth\":0,\"ticks\":\"\"}},\"marker\":{\"colorbar\":{\"outlinewidth\":0,\"ticks\":\"\"}}}],\"scattermapbox\":[{\"type\":\"scattermapbox\",\"marker\":{\"colorbar\":{\"outlinewidth\":0,\"ticks\":\"\"}}}],\"scatterternary\":[{\"type\":\"scatterternary\",\"marker\":{\"colorbar\":{\"outlinewidth\":0,\"ticks\":\"\"}}}],\"scattercarpet\":[{\"type\":\"scattercarpet\",\"marker\":{\"colorbar\":{\"outlinewidth\":0,\"ticks\":\"\"}}}],\"carpet\":[{\"aaxis\":{\"endlinecolor\":\"#2a3f5f\",\"gridcolor\":\"white\",\"linecolor\":\"white\",\"minorgridcolor\":\"white\",\"startlinecolor\":\"#2a3f5f\"},\"baxis\":{\"endlinecolor\":\"#2a3f5f\",\"gridcolor\":\"white\",\"linecolor\":\"white\",\"minorgridcolor\":\"white\",\"startlinecolor\":\"#2a3f5f\"},\"type\":\"carpet\"}],\"table\":[{\"cells\":{\"fill\":{\"color\":\"#EBF0F8\"},\"line\":{\"color\":\"white\"}},\"header\":{\"fill\":{\"color\":\"#C8D4E3\"},\"line\":{\"color\":\"white\"}},\"type\":\"table\"}],\"barpolar\":[{\"marker\":{\"line\":{\"color\":\"#E5ECF6\",\"width\":0.5},\"pattern\":{\"fillmode\":\"overlay\",\"size\":10,\"solidity\":0.2}},\"type\":\"barpolar\"}],\"pie\":[{\"automargin\":true,\"type\":\"pie\"}]},\"layout\":{\"autotypenumbers\":\"strict\",\"colorway\":[\"#636efa\",\"#EF553B\",\"#00cc96\",\"#ab63fa\",\"#FFA15A\",\"#19d3f3\",\"#FF6692\",\"#B6E880\",\"#FF97FF\",\"#FECB52\"],\"font\":{\"color\":\"#2a3f5f\"},\"hovermode\":\"closest\",\"hoverlabel\":{\"align\":\"left\"},\"paper_bgcolor\":\"white\",\"plot_bgcolor\":\"#E5ECF6\",\"polar\":{\"bgcolor\":\"#E5ECF6\",\"angularaxis\":{\"gridcolor\":\"white\",\"linecolor\":\"white\",\"ticks\":\"\"},\"radialaxis\":{\"gridcolor\":\"white\",\"linecolor\":\"white\",\"ticks\":\"\"}},\"ternary\":{\"bgcolor\":\"#E5ECF6\",\"aaxis\":{\"gridcolor\":\"white\",\"linecolor\":\"white\",\"ticks\":\"\"},\"baxis\":{\"gridcolor\":\"white\",\"linecolor\":\"white\",\"ticks\":\"\"},\"caxis\":{\"gridcolor\":\"white\",\"linecolor\":\"white\",\"ticks\":\"\"}},\"coloraxis\":{\"colorbar\":{\"outlinewidth\":0,\"ticks\":\"\"}},\"colorscale\":{\"sequential\":[[0.0,\"#0d0887\"],[0.1111111111111111,\"#46039f\"],[0.2222222222222222,\"#7201a8\"],[0.3333333333333333,\"#9c179e\"],[0.4444444444444444,\"#bd3786\"],[0.5555555555555556,\"#d8576b\"],[0.6666666666666666,\"#ed7953\"],[0.7777777777777778,\"#fb9f3a\"],[0.8888888888888888,\"#fdca26\"],[1.0,\"#f0f921\"]],\"sequentialminus\":[[0.0,\"#0d0887\"],[0.1111111111111111,\"#46039f\"],[0.2222222222222222,\"#7201a8\"],[0.3333333333333333,\"#9c179e\"],[0.4444444444444444,\"#bd3786\"],[0.5555555555555556,\"#d8576b\"],[0.6666666666666666,\"#ed7953\"],[0.7777777777777778,\"#fb9f3a\"],[0.8888888888888888,\"#fdca26\"],[1.0,\"#f0f921\"]],\"diverging\":[[0,\"#8e0152\"],[0.1,\"#c51b7d\"],[0.2,\"#de77ae\"],[0.3,\"#f1b6da\"],[0.4,\"#fde0ef\"],[0.5,\"#f7f7f7\"],[0.6,\"#e6f5d0\"],[0.7,\"#b8e186\"],[0.8,\"#7fbc41\"],[0.9,\"#4d9221\"],[1,\"#276419\"]]},\"xaxis\":{\"gridcolor\":\"white\",\"linecolor\":\"white\",\"ticks\":\"\",\"title\":{\"standoff\":15},\"zerolinecolor\":\"white\",\"automargin\":true,\"zerolinewidth\":2},\"yaxis\":{\"gridcolor\":\"white\",\"linecolor\":\"white\",\"ticks\":\"\",\"title\":{\"standoff\":15},\"zerolinecolor\":\"white\",\"automargin\":true,\"zerolinewidth\":2},\"scene\":{\"xaxis\":{\"backgroundcolor\":\"#E5ECF6\",\"gridcolor\":\"white\",\"linecolor\":\"white\",\"showbackground\":true,\"ticks\":\"\",\"zerolinecolor\":\"white\",\"gridwidth\":2},\"yaxis\":{\"backgroundcolor\":\"#E5ECF6\",\"gridcolor\":\"white\",\"linecolor\":\"white\",\"showbackground\":true,\"ticks\":\"\",\"zerolinecolor\":\"white\",\"gridwidth\":2},\"zaxis\":{\"backgroundcolor\":\"#E5ECF6\",\"gridcolor\":\"white\",\"linecolor\":\"white\",\"showbackground\":true,\"ticks\":\"\",\"zerolinecolor\":\"white\",\"gridwidth\":2}},\"shapedefaults\":{\"line\":{\"color\":\"#2a3f5f\"}},\"annotationdefaults\":{\"arrowcolor\":\"#2a3f5f\",\"arrowhead\":0,\"arrowwidth\":1},\"geo\":{\"bgcolor\":\"white\",\"landcolor\":\"#E5ECF6\",\"subunitcolor\":\"white\",\"showland\":true,\"showlakes\":true,\"lakecolor\":\"white\"},\"title\":{\"x\":0.05},\"mapbox\":{\"style\":\"light\"}}},\"xaxis\":{\"anchor\":\"y\",\"domain\":[0.0,1.0],\"title\":{\"text\":\"Hot Blast Temp\"}},\"yaxis\":{\"anchor\":\"x\",\"domain\":[0.0,1.0],\"title\":{\"text\":\"Fuel Rate\"}},\"legend\":{\"tracegroupgap\":0},\"title\":{\"text\":\"Hot Blast Temp vs Fuel Rate\"}},                        {\"responsive\": true}                    ).then(function(){\n",
              "                            \n",
              "var gd = document.getElementById('d963acbb-56ce-4219-b9b9-8e3c5e70be44');\n",
              "var x = new MutationObserver(function (mutations, observer) {{\n",
              "        var display = window.getComputedStyle(gd).display;\n",
              "        if (!display || display === 'none') {{\n",
              "            console.log([gd, 'removed!']);\n",
              "            Plotly.purge(gd);\n",
              "            observer.disconnect();\n",
              "        }}\n",
              "}});\n",
              "\n",
              "// Listen for the removal of the full notebook cells\n",
              "var notebookContainer = gd.closest('#notebook-container');\n",
              "if (notebookContainer) {{\n",
              "    x.observe(notebookContainer, {childList: true});\n",
              "}}\n",
              "\n",
              "// Listen for the clearing of the current output cell\n",
              "var outputEl = gd.closest('.output');\n",
              "if (outputEl) {{\n",
              "    x.observe(outputEl, {childList: true});\n",
              "}}\n",
              "\n",
              "                        })                };                            </script>        </div>\n",
              "</body>\n",
              "</html>"
            ]
          },
          "metadata": {}
        },
        {
          "output_type": "display_data",
          "data": {
            "text/html": [
              "<html>\n",
              "<head><meta charset=\"utf-8\" /></head>\n",
              "<body>\n",
              "    <div>            <script src=\"https://cdnjs.cloudflare.com/ajax/libs/mathjax/2.7.5/MathJax.js?config=TeX-AMS-MML_SVG\"></script><script type=\"text/javascript\">if (window.MathJax && window.MathJax.Hub && window.MathJax.Hub.Config) {window.MathJax.Hub.Config({SVG: {font: \"STIX-Web\"}});}</script>                <script type=\"text/javascript\">window.PlotlyConfig = {MathJaxConfig: 'local'};</script>\n",
              "        <script charset=\"utf-8\" src=\"https://cdn.plot.ly/plotly-2.35.2.min.js\"></script>                <div id=\"2ce2c784-c11c-4c0a-b627-3e9e2055d9ac\" class=\"plotly-graph-div\" style=\"height:525px; width:100%;\"></div>            <script type=\"text/javascript\">                                    window.PLOTLYENV=window.PLOTLYENV || {};                                    if (document.getElementById(\"2ce2c784-c11c-4c0a-b627-3e9e2055d9ac\")) {                    Plotly.newPlot(                        \"2ce2c784-c11c-4c0a-b627-3e9e2055d9ac\",                        [{\"hovertemplate\":\"Slag Rate=%{x}\\u003cbr\\u003eFuel Rate=%{y}\\u003cextra\\u003e\\u003c\\u002fextra\\u003e\",\"legendgroup\":\"\",\"marker\":{\"color\":\"dodgerblue\",\"symbol\":\"circle\"},\"mode\":\"markers\",\"name\":\"\",\"orientation\":\"v\",\"showlegend\":false,\"x\":[510,514,492,492,477,507,498,512,519,496,528,521,521,490,523,503,487,519,520,515,505,500,512,487,528,511,503,520,491,504,531,510,492,498,521,505,507,528,516,534,540,484,529,494,504,496,506,503,519,522,502,509,503,505,511,496,529,508,499,506,510,518,511,492,495,510,505,505,512,524,538,503,529,536,510,521,504,485,536,493,487,496,504,496,506,504,510,514,514,516,484,495,496,493,505,535,505,504,497,491,514,504,494,522,495,492,505,515,479,481,497,509,502,522,527,470,493,502,494,505,495,499,530,504,473,528,511,517,528,503,523,510,505,519,493,488,515,508,521,505,482,507,502,497,500,518,528,518,498,489,504,492,509,509,483,482,523,502,491,511,513,502,473,501,495,488,515,496,528,511,526,519,495,493,488,507,515],\"xaxis\":\"x\",\"y\":[568.6,576.6,556.6,593.4,557.8,593.3,555.3,593.8,590.5,568.1,567.2,605.0,579.0,586.1,581.2,556.8,550.7,563.5,578.1,570.8,589.9,595.3,559.1,568.3,585.9,582.9,577.4,573.3,581.9,570.9,591.5,592.4,569.8,579.6,583.9,585.9,573.4,598.0,605.2,592.4,581.2,568.8,576.8,551.5,555.2,565.8,560.9,553.0,587.5,565.9,574.6,581.4,555.9,571.7,567.8,557.0,581.1,573.8,584.0,578.6,601.8,571.7,573.1,579.9,559.2,575.8,599.2,561.1,599.6,573.0,568.6,561.0,596.0,585.0,576.9,573.0,577.1,577.8,558.0,570.4,574.0,596.0,596.0,568.3,584.9,559.8,558.8,575.7,584.6,560.5,583.8,554.8,554.1,567.6,564.4,575.4,562.1,579.3,561.9,552.3,584.4,602.1,549.9,558.5,555.8,551.3,592.5,576.1,552.8,579.9,551.9,564.4,579.6,596.3,585.1,542.7,561.5,553.7,551.1,555.4,560.6,567.5,566.9,563.4,543.4,563.3,566.4,562.4,568.5,557.6,564.3,569.2,557.1,575.5,544.8,557.4,582.6,583.2,584.0,579.5,563.7,559.2,557.4,559.4,575.9,577.4,574.7,568.6,566.1,549.4,555.9,554.6,578.6,566.6,574.4,553.2,575.6,588.4,542.6,566.8,590.2,570.6,544.2,554.7,545.3,545.0,559.3,541.5,589.3,565.6,595.0,595.8,553.2,556.6,541.5,576.2,594.1],\"yaxis\":\"y\",\"type\":\"scatter\"},{\"hovertemplate\":\"\\u003cb\\u003eOLS trendline\\u003c\\u002fb\\u003e\\u003cbr\\u003efuel_rate = 0.489513 * slag_rate + 323.273\\u003cbr\\u003eR\\u003csup\\u003e2\\u003c\\u002fsup\\u003e=0.213690\\u003cbr\\u003e\\u003cbr\\u003eSlag Rate=%{x}\\u003cbr\\u003eFuel Rate=%{y} \\u003cb\\u003e(trend)\\u003c\\u002fb\\u003e\\u003cextra\\u003e\\u003c\\u002fextra\\u003e\",\"legendgroup\":\"\",\"marker\":{\"color\":\"dodgerblue\",\"symbol\":\"circle\"},\"mode\":\"lines\",\"name\":\"\",\"showlegend\":false,\"x\":[470,473,473,477,479,481,482,482,483,484,484,485,487,487,487,488,488,488,489,490,491,491,491,492,492,492,492,492,492,493,493,493,493,493,494,494,494,495,495,495,495,495,495,496,496,496,496,496,496,496,497,497,497,498,498,498,499,499,500,500,501,502,502,502,502,502,502,503,503,503,503,503,503,504,504,504,504,504,504,504,504,504,505,505,505,505,505,505,505,505,505,505,505,506,506,506,507,507,507,507,508,508,509,509,509,509,510,510,510,510,510,510,510,511,511,511,511,511,511,512,512,512,513,514,514,514,514,515,515,515,515,515,516,516,517,518,518,518,519,519,519,519,519,520,520,521,521,521,521,521,522,522,522,523,523,523,524,526,527,528,528,528,528,528,528,528,529,529,529,530,531,534,535,536,536,538,540],\"xaxis\":\"x\",\"y\":[553.3441017163975,554.8126405117532,554.8126405117532,556.7706922388941,557.7497181024645,558.7287439660349,559.2182568978201,559.2182568978201,559.7077698296054,560.1972827613905,560.1972827613905,560.6867956931758,561.6658215567462,561.6658215567462,561.6658215567462,562.1553344885315,562.1553344885315,562.1553344885315,562.6448474203166,563.1343603521018,563.6238732838871,563.6238732838871,563.6238732838871,564.1133862156723,564.1133862156723,564.1133862156723,564.1133862156723,564.1133862156723,564.1133862156723,564.6028991474575,564.6028991474575,564.6028991474575,564.6028991474575,564.6028991474575,565.0924120792428,565.0924120792428,565.0924120792428,565.5819250110279,565.5819250110279,565.5819250110279,565.5819250110279,565.5819250110279,565.5819250110279,566.0714379428132,566.0714379428132,566.0714379428132,566.0714379428132,566.0714379428132,566.0714379428132,566.0714379428132,566.5609508745983,566.5609508745983,566.5609508745983,567.0504638063836,567.0504638063836,567.0504638063836,567.5399767381688,567.5399767381688,568.029489669954,568.029489669954,568.5190026017392,569.0085155335245,569.0085155335245,569.0085155335245,569.0085155335245,569.0085155335245,569.0085155335245,569.4980284653097,569.4980284653097,569.4980284653097,569.4980284653097,569.4980284653097,569.4980284653097,569.9875413970949,569.9875413970949,569.9875413970949,569.9875413970949,569.9875413970949,569.9875413970949,569.9875413970949,569.9875413970949,569.9875413970949,570.4770543288801,570.4770543288801,570.4770543288801,570.4770543288801,570.4770543288801,570.4770543288801,570.4770543288801,570.4770543288801,570.4770543288801,570.4770543288801,570.4770543288801,570.9665672606653,570.9665672606653,570.9665672606653,571.4560801924506,571.4560801924506,571.4560801924506,571.4560801924506,571.9455931242358,571.9455931242358,572.435106056021,572.435106056021,572.435106056021,572.435106056021,572.9246189878062,572.9246189878062,572.9246189878062,572.9246189878062,572.9246189878062,572.9246189878062,572.9246189878062,573.4141319195915,573.4141319195915,573.4141319195915,573.4141319195915,573.4141319195915,573.4141319195915,573.9036448513766,573.9036448513766,573.9036448513766,574.3931577831619,574.882670714947,574.882670714947,574.882670714947,574.882670714947,575.3721836467323,575.3721836467323,575.3721836467323,575.3721836467323,575.3721836467323,575.8616965785175,575.8616965785175,576.3512095103027,576.840722442088,576.840722442088,576.840722442088,577.3302353738732,577.3302353738732,577.3302353738732,577.3302353738732,577.3302353738732,577.8197483056583,577.8197483056583,578.3092612374436,578.3092612374436,578.3092612374436,578.3092612374436,578.3092612374436,578.7987741692289,578.7987741692289,578.7987741692289,579.288287101014,579.288287101014,579.288287101014,579.7778000327992,580.7568258963697,581.2463388281549,581.7358517599401,581.7358517599401,581.7358517599401,581.7358517599401,581.7358517599401,581.7358517599401,581.7358517599401,582.2253646917254,582.2253646917254,582.2253646917254,582.7148776235106,583.2043905552957,584.6729293506514,585.1624422824366,585.6519552142219,585.6519552142219,586.6309810777923,587.6100069413627],\"yaxis\":\"y\",\"type\":\"scatter\"}],                        {\"template\":{\"data\":{\"histogram2dcontour\":[{\"type\":\"histogram2dcontour\",\"colorbar\":{\"outlinewidth\":0,\"ticks\":\"\"},\"colorscale\":[[0.0,\"#0d0887\"],[0.1111111111111111,\"#46039f\"],[0.2222222222222222,\"#7201a8\"],[0.3333333333333333,\"#9c179e\"],[0.4444444444444444,\"#bd3786\"],[0.5555555555555556,\"#d8576b\"],[0.6666666666666666,\"#ed7953\"],[0.7777777777777778,\"#fb9f3a\"],[0.8888888888888888,\"#fdca26\"],[1.0,\"#f0f921\"]]}],\"choropleth\":[{\"type\":\"choropleth\",\"colorbar\":{\"outlinewidth\":0,\"ticks\":\"\"}}],\"histogram2d\":[{\"type\":\"histogram2d\",\"colorbar\":{\"outlinewidth\":0,\"ticks\":\"\"},\"colorscale\":[[0.0,\"#0d0887\"],[0.1111111111111111,\"#46039f\"],[0.2222222222222222,\"#7201a8\"],[0.3333333333333333,\"#9c179e\"],[0.4444444444444444,\"#bd3786\"],[0.5555555555555556,\"#d8576b\"],[0.6666666666666666,\"#ed7953\"],[0.7777777777777778,\"#fb9f3a\"],[0.8888888888888888,\"#fdca26\"],[1.0,\"#f0f921\"]]}],\"heatmap\":[{\"type\":\"heatmap\",\"colorbar\":{\"outlinewidth\":0,\"ticks\":\"\"},\"colorscale\":[[0.0,\"#0d0887\"],[0.1111111111111111,\"#46039f\"],[0.2222222222222222,\"#7201a8\"],[0.3333333333333333,\"#9c179e\"],[0.4444444444444444,\"#bd3786\"],[0.5555555555555556,\"#d8576b\"],[0.6666666666666666,\"#ed7953\"],[0.7777777777777778,\"#fb9f3a\"],[0.8888888888888888,\"#fdca26\"],[1.0,\"#f0f921\"]]}],\"heatmapgl\":[{\"type\":\"heatmapgl\",\"colorbar\":{\"outlinewidth\":0,\"ticks\":\"\"},\"colorscale\":[[0.0,\"#0d0887\"],[0.1111111111111111,\"#46039f\"],[0.2222222222222222,\"#7201a8\"],[0.3333333333333333,\"#9c179e\"],[0.4444444444444444,\"#bd3786\"],[0.5555555555555556,\"#d8576b\"],[0.6666666666666666,\"#ed7953\"],[0.7777777777777778,\"#fb9f3a\"],[0.8888888888888888,\"#fdca26\"],[1.0,\"#f0f921\"]]}],\"contourcarpet\":[{\"type\":\"contourcarpet\",\"colorbar\":{\"outlinewidth\":0,\"ticks\":\"\"}}],\"contour\":[{\"type\":\"contour\",\"colorbar\":{\"outlinewidth\":0,\"ticks\":\"\"},\"colorscale\":[[0.0,\"#0d0887\"],[0.1111111111111111,\"#46039f\"],[0.2222222222222222,\"#7201a8\"],[0.3333333333333333,\"#9c179e\"],[0.4444444444444444,\"#bd3786\"],[0.5555555555555556,\"#d8576b\"],[0.6666666666666666,\"#ed7953\"],[0.7777777777777778,\"#fb9f3a\"],[0.8888888888888888,\"#fdca26\"],[1.0,\"#f0f921\"]]}],\"surface\":[{\"type\":\"surface\",\"colorbar\":{\"outlinewidth\":0,\"ticks\":\"\"},\"colorscale\":[[0.0,\"#0d0887\"],[0.1111111111111111,\"#46039f\"],[0.2222222222222222,\"#7201a8\"],[0.3333333333333333,\"#9c179e\"],[0.4444444444444444,\"#bd3786\"],[0.5555555555555556,\"#d8576b\"],[0.6666666666666666,\"#ed7953\"],[0.7777777777777778,\"#fb9f3a\"],[0.8888888888888888,\"#fdca26\"],[1.0,\"#f0f921\"]]}],\"mesh3d\":[{\"type\":\"mesh3d\",\"colorbar\":{\"outlinewidth\":0,\"ticks\":\"\"}}],\"scatter\":[{\"fillpattern\":{\"fillmode\":\"overlay\",\"size\":10,\"solidity\":0.2},\"type\":\"scatter\"}],\"parcoords\":[{\"type\":\"parcoords\",\"line\":{\"colorbar\":{\"outlinewidth\":0,\"ticks\":\"\"}}}],\"scatterpolargl\":[{\"type\":\"scatterpolargl\",\"marker\":{\"colorbar\":{\"outlinewidth\":0,\"ticks\":\"\"}}}],\"bar\":[{\"error_x\":{\"color\":\"#2a3f5f\"},\"error_y\":{\"color\":\"#2a3f5f\"},\"marker\":{\"line\":{\"color\":\"#E5ECF6\",\"width\":0.5},\"pattern\":{\"fillmode\":\"overlay\",\"size\":10,\"solidity\":0.2}},\"type\":\"bar\"}],\"scattergeo\":[{\"type\":\"scattergeo\",\"marker\":{\"colorbar\":{\"outlinewidth\":0,\"ticks\":\"\"}}}],\"scatterpolar\":[{\"type\":\"scatterpolar\",\"marker\":{\"colorbar\":{\"outlinewidth\":0,\"ticks\":\"\"}}}],\"histogram\":[{\"marker\":{\"pattern\":{\"fillmode\":\"overlay\",\"size\":10,\"solidity\":0.2}},\"type\":\"histogram\"}],\"scattergl\":[{\"type\":\"scattergl\",\"marker\":{\"colorbar\":{\"outlinewidth\":0,\"ticks\":\"\"}}}],\"scatter3d\":[{\"type\":\"scatter3d\",\"line\":{\"colorbar\":{\"outlinewidth\":0,\"ticks\":\"\"}},\"marker\":{\"colorbar\":{\"outlinewidth\":0,\"ticks\":\"\"}}}],\"scattermapbox\":[{\"type\":\"scattermapbox\",\"marker\":{\"colorbar\":{\"outlinewidth\":0,\"ticks\":\"\"}}}],\"scatterternary\":[{\"type\":\"scatterternary\",\"marker\":{\"colorbar\":{\"outlinewidth\":0,\"ticks\":\"\"}}}],\"scattercarpet\":[{\"type\":\"scattercarpet\",\"marker\":{\"colorbar\":{\"outlinewidth\":0,\"ticks\":\"\"}}}],\"carpet\":[{\"aaxis\":{\"endlinecolor\":\"#2a3f5f\",\"gridcolor\":\"white\",\"linecolor\":\"white\",\"minorgridcolor\":\"white\",\"startlinecolor\":\"#2a3f5f\"},\"baxis\":{\"endlinecolor\":\"#2a3f5f\",\"gridcolor\":\"white\",\"linecolor\":\"white\",\"minorgridcolor\":\"white\",\"startlinecolor\":\"#2a3f5f\"},\"type\":\"carpet\"}],\"table\":[{\"cells\":{\"fill\":{\"color\":\"#EBF0F8\"},\"line\":{\"color\":\"white\"}},\"header\":{\"fill\":{\"color\":\"#C8D4E3\"},\"line\":{\"color\":\"white\"}},\"type\":\"table\"}],\"barpolar\":[{\"marker\":{\"line\":{\"color\":\"#E5ECF6\",\"width\":0.5},\"pattern\":{\"fillmode\":\"overlay\",\"size\":10,\"solidity\":0.2}},\"type\":\"barpolar\"}],\"pie\":[{\"automargin\":true,\"type\":\"pie\"}]},\"layout\":{\"autotypenumbers\":\"strict\",\"colorway\":[\"#636efa\",\"#EF553B\",\"#00cc96\",\"#ab63fa\",\"#FFA15A\",\"#19d3f3\",\"#FF6692\",\"#B6E880\",\"#FF97FF\",\"#FECB52\"],\"font\":{\"color\":\"#2a3f5f\"},\"hovermode\":\"closest\",\"hoverlabel\":{\"align\":\"left\"},\"paper_bgcolor\":\"white\",\"plot_bgcolor\":\"#E5ECF6\",\"polar\":{\"bgcolor\":\"#E5ECF6\",\"angularaxis\":{\"gridcolor\":\"white\",\"linecolor\":\"white\",\"ticks\":\"\"},\"radialaxis\":{\"gridcolor\":\"white\",\"linecolor\":\"white\",\"ticks\":\"\"}},\"ternary\":{\"bgcolor\":\"#E5ECF6\",\"aaxis\":{\"gridcolor\":\"white\",\"linecolor\":\"white\",\"ticks\":\"\"},\"baxis\":{\"gridcolor\":\"white\",\"linecolor\":\"white\",\"ticks\":\"\"},\"caxis\":{\"gridcolor\":\"white\",\"linecolor\":\"white\",\"ticks\":\"\"}},\"coloraxis\":{\"colorbar\":{\"outlinewidth\":0,\"ticks\":\"\"}},\"colorscale\":{\"sequential\":[[0.0,\"#0d0887\"],[0.1111111111111111,\"#46039f\"],[0.2222222222222222,\"#7201a8\"],[0.3333333333333333,\"#9c179e\"],[0.4444444444444444,\"#bd3786\"],[0.5555555555555556,\"#d8576b\"],[0.6666666666666666,\"#ed7953\"],[0.7777777777777778,\"#fb9f3a\"],[0.8888888888888888,\"#fdca26\"],[1.0,\"#f0f921\"]],\"sequentialminus\":[[0.0,\"#0d0887\"],[0.1111111111111111,\"#46039f\"],[0.2222222222222222,\"#7201a8\"],[0.3333333333333333,\"#9c179e\"],[0.4444444444444444,\"#bd3786\"],[0.5555555555555556,\"#d8576b\"],[0.6666666666666666,\"#ed7953\"],[0.7777777777777778,\"#fb9f3a\"],[0.8888888888888888,\"#fdca26\"],[1.0,\"#f0f921\"]],\"diverging\":[[0,\"#8e0152\"],[0.1,\"#c51b7d\"],[0.2,\"#de77ae\"],[0.3,\"#f1b6da\"],[0.4,\"#fde0ef\"],[0.5,\"#f7f7f7\"],[0.6,\"#e6f5d0\"],[0.7,\"#b8e186\"],[0.8,\"#7fbc41\"],[0.9,\"#4d9221\"],[1,\"#276419\"]]},\"xaxis\":{\"gridcolor\":\"white\",\"linecolor\":\"white\",\"ticks\":\"\",\"title\":{\"standoff\":15},\"zerolinecolor\":\"white\",\"automargin\":true,\"zerolinewidth\":2},\"yaxis\":{\"gridcolor\":\"white\",\"linecolor\":\"white\",\"ticks\":\"\",\"title\":{\"standoff\":15},\"zerolinecolor\":\"white\",\"automargin\":true,\"zerolinewidth\":2},\"scene\":{\"xaxis\":{\"backgroundcolor\":\"#E5ECF6\",\"gridcolor\":\"white\",\"linecolor\":\"white\",\"showbackground\":true,\"ticks\":\"\",\"zerolinecolor\":\"white\",\"gridwidth\":2},\"yaxis\":{\"backgroundcolor\":\"#E5ECF6\",\"gridcolor\":\"white\",\"linecolor\":\"white\",\"showbackground\":true,\"ticks\":\"\",\"zerolinecolor\":\"white\",\"gridwidth\":2},\"zaxis\":{\"backgroundcolor\":\"#E5ECF6\",\"gridcolor\":\"white\",\"linecolor\":\"white\",\"showbackground\":true,\"ticks\":\"\",\"zerolinecolor\":\"white\",\"gridwidth\":2}},\"shapedefaults\":{\"line\":{\"color\":\"#2a3f5f\"}},\"annotationdefaults\":{\"arrowcolor\":\"#2a3f5f\",\"arrowhead\":0,\"arrowwidth\":1},\"geo\":{\"bgcolor\":\"white\",\"landcolor\":\"#E5ECF6\",\"subunitcolor\":\"white\",\"showland\":true,\"showlakes\":true,\"lakecolor\":\"white\"},\"title\":{\"x\":0.05},\"mapbox\":{\"style\":\"light\"}}},\"xaxis\":{\"anchor\":\"y\",\"domain\":[0.0,1.0],\"title\":{\"text\":\"Slag Rate\"}},\"yaxis\":{\"anchor\":\"x\",\"domain\":[0.0,1.0],\"title\":{\"text\":\"Fuel Rate\"}},\"legend\":{\"tracegroupgap\":0},\"title\":{\"text\":\"Slag Rate vs Fuel Rate\"}},                        {\"responsive\": true}                    ).then(function(){\n",
              "                            \n",
              "var gd = document.getElementById('2ce2c784-c11c-4c0a-b627-3e9e2055d9ac');\n",
              "var x = new MutationObserver(function (mutations, observer) {{\n",
              "        var display = window.getComputedStyle(gd).display;\n",
              "        if (!display || display === 'none') {{\n",
              "            console.log([gd, 'removed!']);\n",
              "            Plotly.purge(gd);\n",
              "            observer.disconnect();\n",
              "        }}\n",
              "}});\n",
              "\n",
              "// Listen for the removal of the full notebook cells\n",
              "var notebookContainer = gd.closest('#notebook-container');\n",
              "if (notebookContainer) {{\n",
              "    x.observe(notebookContainer, {childList: true});\n",
              "}}\n",
              "\n",
              "// Listen for the clearing of the current output cell\n",
              "var outputEl = gd.closest('.output');\n",
              "if (outputEl) {{\n",
              "    x.observe(outputEl, {childList: true});\n",
              "}}\n",
              "\n",
              "                        })                };                            </script>        </div>\n",
              "</body>\n",
              "</html>"
            ]
          },
          "metadata": {}
        },
        {
          "output_type": "display_data",
          "data": {
            "text/html": [
              "<html>\n",
              "<head><meta charset=\"utf-8\" /></head>\n",
              "<body>\n",
              "    <div>            <script src=\"https://cdnjs.cloudflare.com/ajax/libs/mathjax/2.7.5/MathJax.js?config=TeX-AMS-MML_SVG\"></script><script type=\"text/javascript\">if (window.MathJax && window.MathJax.Hub && window.MathJax.Hub.Config) {window.MathJax.Hub.Config({SVG: {font: \"STIX-Web\"}});}</script>                <script type=\"text/javascript\">window.PlotlyConfig = {MathJaxConfig: 'local'};</script>\n",
              "        <script charset=\"utf-8\" src=\"https://cdn.plot.ly/plotly-2.35.2.min.js\"></script>                <div id=\"22ca7cdf-83e4-4162-985b-7abd09ffcd04\" class=\"plotly-graph-div\" style=\"height:525px; width:100%;\"></div>            <script type=\"text/javascript\">                                    window.PLOTLYENV=window.PLOTLYENV || {};                                    if (document.getElementById(\"22ca7cdf-83e4-4162-985b-7abd09ffcd04\")) {                    Plotly.newPlot(                        \"22ca7cdf-83e4-4162-985b-7abd09ffcd04\",                        [{\"hovertemplate\":\"Flame Temp=%{x}\\u003cbr\\u003eFuel Rate=%{y}\\u003cextra\\u003e\\u003c\\u002fextra\\u003e\",\"legendgroup\":\"\",\"marker\":{\"color\":\"dodgerblue\",\"symbol\":\"circle\"},\"mode\":\"markers\",\"name\":\"\",\"orientation\":\"v\",\"showlegend\":false,\"x\":[2253.9,2248.2,2188.7,2219.9,2257.2,2309.9,2217.0,2215.6,2236.2,2068.8,2278.5,2121.6,2239.5,2267.8,2116.0,2173.7,2229.2,2202.8,2167.6,2236.0,2082.4,2204.7,2242.0,2149.9,2238.9,2191.3,2172.8,2145.8,2163.8,2287.2,2173.5,2269.1,2083.9,2277.7,2162.1,2161.3,2208.6,2206.7,2122.3,2100.8,2076.4,2152.0,2281.3,2183.6,2238.6,2185.4,2299.4,2195.8,2224.6,2119.4,2194.8,2298.9,2219.9,2296.5,2125.8,2096.2,2262.4,2229.2,2140.7,2216.8,2275.3,2258.9,2119.8,2170.4,2131.8,2133.9,2254.1,2166.8,2173.8,2217.2,2188.8,2161.8,2156.3,2179.4,2254.8,2173.2,2172.5,2147.4,2146.9,2183.9,2196.4,2308.5,2219.3,2163.8,2254.8,2167.7,2167.9,2255.7,2065.2,2222.3,2158.9,2199.1,2148.7,2139.5,2177.2,2155.4,2112.0,2083.6,2176.8,2120.8,2235.5,2098.6,2230.5,2135.0,2154.0,2075.2,2226.1,2168.5,2197.7,2226.5,2174.4,2141.3,2195.7,2204.8,2213.9,2206.6,2165.3,2222.6,2168.7,2120.4,2200.4,2159.7,2212.4,2169.8,2121.0,2239.4,2135.5,2155.2,2144.6,2156.0,2073.2,2176.2,2310.8,2118.4,2220.2,2215.6,2163.3,2081.3,2215.4,2149.9,2104.8,2116.8,2148.9,2156.8,2273.7,2145.3,2186.7,2249.6,2205.5,2165.3,2129.7,2126.7,2200.7,2176.5,2181.6,2224.1,2235.8,2239.8,2187.7,2196.7,2132.2,2056.9,2078.9,2151.2,2154.2,2084.9,2190.7,2120.1,2144.2,2221.7,2208.4,2078.5,2133.6,2160.6,2083.3,2180.4,2093.0],\"xaxis\":\"x\",\"y\":[568.6,576.6,556.6,593.4,557.8,593.3,555.3,593.8,590.5,568.1,567.2,605.0,579.0,586.1,581.2,556.8,550.7,563.5,578.1,570.8,589.9,595.3,559.1,568.3,585.9,582.9,577.4,573.3,581.9,570.9,591.5,592.4,569.8,579.6,583.9,585.9,573.4,598.0,605.2,592.4,581.2,568.8,576.8,551.5,555.2,565.8,560.9,553.0,587.5,565.9,574.6,581.4,555.9,571.7,567.8,557.0,581.1,573.8,584.0,578.6,601.8,571.7,573.1,579.9,559.2,575.8,599.2,561.1,599.6,573.0,568.6,561.0,596.0,585.0,576.9,573.0,577.1,577.8,558.0,570.4,574.0,596.0,596.0,568.3,584.9,559.8,558.8,575.7,584.6,560.5,583.8,554.8,554.1,567.6,564.4,575.4,562.1,579.3,561.9,552.3,584.4,602.1,549.9,558.5,555.8,551.3,592.5,576.1,552.8,579.9,551.9,564.4,579.6,596.3,585.1,542.7,561.5,553.7,551.1,555.4,560.6,567.5,566.9,563.4,543.4,563.3,566.4,562.4,568.5,557.6,564.3,569.2,557.1,575.5,544.8,557.4,582.6,583.2,584.0,579.5,563.7,559.2,557.4,559.4,575.9,577.4,574.7,568.6,566.1,549.4,555.9,554.6,578.6,566.6,574.4,553.2,575.6,588.4,542.6,566.8,590.2,570.6,544.2,554.7,545.3,545.0,559.3,541.5,589.3,565.6,595.0,595.8,553.2,556.6,541.5,576.2,594.1],\"yaxis\":\"y\",\"type\":\"scatter\"},{\"hovertemplate\":\"\\u003cb\\u003eOLS trendline\\u003c\\u002fb\\u003e\\u003cbr\\u003efuel_rate = 0.0387483 * flame_temp + 486.593\\u003cbr\\u003eR\\u003csup\\u003e2\\u003c\\u002fsup\\u003e=0.021809\\u003cbr\\u003e\\u003cbr\\u003eFlame Temp=%{x}\\u003cbr\\u003eFuel Rate=%{y} \\u003cb\\u003e(trend)\\u003c\\u002fb\\u003e\\u003cextra\\u003e\\u003c\\u002fextra\\u003e\",\"legendgroup\":\"\",\"marker\":{\"color\":\"dodgerblue\",\"symbol\":\"circle\"},\"mode\":\"lines\",\"name\":\"\",\"showlegend\":false,\"x\":[2056.9,2065.2,2068.8,2073.2,2075.2,2076.4,2078.5,2078.9,2081.3,2082.4,2083.3,2083.6,2083.9,2084.9,2093.0,2096.2,2098.6,2100.8,2104.8,2112.0,2116.0,2116.8,2118.4,2119.4,2119.8,2120.1,2120.4,2120.8,2121.0,2121.6,2122.3,2125.8,2126.7,2129.7,2131.8,2132.2,2133.6,2133.9,2135.0,2135.5,2139.5,2140.7,2141.3,2144.2,2144.6,2145.3,2145.8,2146.9,2147.4,2148.7,2148.9,2149.9,2149.9,2151.2,2152.0,2154.0,2154.2,2155.2,2155.4,2156.0,2156.3,2156.8,2158.9,2159.7,2160.6,2161.3,2161.8,2162.1,2163.3,2163.8,2163.8,2165.3,2165.3,2166.8,2167.6,2167.7,2167.9,2168.5,2168.7,2169.8,2170.4,2172.5,2172.8,2173.2,2173.5,2173.7,2173.8,2174.4,2176.2,2176.5,2176.8,2177.2,2179.4,2180.4,2181.6,2183.6,2183.9,2185.4,2186.7,2187.7,2188.7,2188.8,2190.7,2191.3,2194.8,2195.7,2195.8,2196.4,2196.7,2197.7,2199.1,2200.4,2200.7,2202.8,2204.7,2204.8,2205.5,2206.6,2206.7,2208.4,2208.6,2212.4,2213.9,2215.4,2215.6,2215.6,2216.8,2217.0,2217.2,2219.3,2219.9,2219.9,2220.2,2221.7,2222.3,2222.6,2224.1,2224.6,2226.1,2226.5,2229.2,2229.2,2230.5,2235.5,2235.8,2236.0,2236.2,2238.6,2238.9,2239.4,2239.5,2239.8,2242.0,2248.2,2249.6,2253.9,2254.1,2254.8,2254.8,2255.7,2257.2,2258.9,2262.4,2267.8,2269.1,2273.7,2275.3,2277.7,2278.5,2281.3,2287.2,2296.5,2298.9,2299.4,2308.5,2309.9,2310.8],\"xaxis\":\"x\",\"y\":[566.2940293416585,566.6156403562157,566.7551342902407,566.925626876271,567.0031235062849,567.0496214842931,567.1309929458076,567.1464922718104,567.239488227827,567.2821113743346,567.3169848578408,567.3286093523428,567.340233846845,567.3789821618518,567.6928435134078,567.8168381214299,567.9098340774465,567.9950803704617,568.1500736304893,568.429061498539,568.5840547585666,568.6150534105722,568.6770507145832,568.71579902959,568.7312983555928,568.7429228500949,568.754547344597,568.7700466705998,568.7777963336011,568.8010453226052,568.8281691431101,568.9637882456343,568.9986617291405,569.1149066741611,569.1962781356757,569.2117774616785,569.2660251026881,569.2776495971902,569.3202727436978,569.3396469012013,569.4946401612289,569.5411381392371,569.5643871282413,569.6767572417613,569.692256567764,569.719380388269,569.7387545457724,569.78137769228,569.8007518497834,569.8511246592924,569.8588743222938,569.8976226373006,569.8976226373006,569.9479954468096,569.9789940988152,570.056490728829,570.0642403918304,570.1029887068373,570.1107383698386,570.1339873588428,570.1456118533449,570.1649860108483,570.2463574723629,570.2773561243683,570.3122296078745,570.3393534283794,570.3587275858829,570.3703520803849,570.4168500583933,570.4362242158967,570.4362242158967,570.4943466884071,570.4943466884071,570.5524691609173,570.5834678129229,570.5873426444236,570.5950923074249,570.6183412964291,570.6260909594305,570.6687141059381,570.6919630949423,570.7733345564568,570.7849590509588,570.8004583769616,570.8120828714636,570.819832534465,570.8237073659657,570.8469563549698,570.9167033219823,570.9283278164844,570.9399523109864,570.9554516369892,571.0406979300044,571.0794462450112,571.1259442230196,571.2034408530334,571.2150653475355,571.2731878200458,571.3235606295548,571.3623089445617,571.4010572595686,571.4049320910693,571.4785538895824,571.5018028785865,571.6374219811107,571.6722954646169,571.6761702961177,571.6994192851217,571.7110437796239,571.7497920946307,571.8040397356405,571.8544125451494,571.8660370396515,571.947408501166,572.0210302996791,572.0249051311798,572.0520289516846,572.0946520981922,572.0985269296929,572.1643990652046,572.172148728206,572.3193923252322,572.3775147977426,572.435637270253,572.4433869332544,572.4433869332544,572.4898849112626,572.497634574264,572.5053842372654,572.5867556987799,572.6100046877841,572.6100046877841,572.6216291822861,572.6797516547965,572.7030006438006,572.7146251383027,572.7727476108131,572.7921217683165,572.8502442408269,572.8657435668297,572.9703640173483,572.9703640173483,573.0207368268573,573.2144784018918,573.2261028963939,573.2338525593952,573.2416022223966,573.3345981784132,573.3462226729152,573.3655968304187,573.3694716619194,573.3810961564214,573.4663424494366,573.7065820024794,573.7608296434892,573.9274473980188,573.9351970610202,573.9623208815251,573.9623208815251,573.9971943650313,574.0553168375416,574.1211889730533,574.2568080755775,574.4660489766148,574.5164217861238,574.6946640351556,574.7566613391666,574.8496572951832,574.8806559471888,574.989151229208,575.2177662877488,575.578125617313,575.6711215733296,575.690495730833,576.0431053973958,576.0973530384056,576.1322265219118],\"yaxis\":\"y\",\"type\":\"scatter\"}],                        {\"template\":{\"data\":{\"histogram2dcontour\":[{\"type\":\"histogram2dcontour\",\"colorbar\":{\"outlinewidth\":0,\"ticks\":\"\"},\"colorscale\":[[0.0,\"#0d0887\"],[0.1111111111111111,\"#46039f\"],[0.2222222222222222,\"#7201a8\"],[0.3333333333333333,\"#9c179e\"],[0.4444444444444444,\"#bd3786\"],[0.5555555555555556,\"#d8576b\"],[0.6666666666666666,\"#ed7953\"],[0.7777777777777778,\"#fb9f3a\"],[0.8888888888888888,\"#fdca26\"],[1.0,\"#f0f921\"]]}],\"choropleth\":[{\"type\":\"choropleth\",\"colorbar\":{\"outlinewidth\":0,\"ticks\":\"\"}}],\"histogram2d\":[{\"type\":\"histogram2d\",\"colorbar\":{\"outlinewidth\":0,\"ticks\":\"\"},\"colorscale\":[[0.0,\"#0d0887\"],[0.1111111111111111,\"#46039f\"],[0.2222222222222222,\"#7201a8\"],[0.3333333333333333,\"#9c179e\"],[0.4444444444444444,\"#bd3786\"],[0.5555555555555556,\"#d8576b\"],[0.6666666666666666,\"#ed7953\"],[0.7777777777777778,\"#fb9f3a\"],[0.8888888888888888,\"#fdca26\"],[1.0,\"#f0f921\"]]}],\"heatmap\":[{\"type\":\"heatmap\",\"colorbar\":{\"outlinewidth\":0,\"ticks\":\"\"},\"colorscale\":[[0.0,\"#0d0887\"],[0.1111111111111111,\"#46039f\"],[0.2222222222222222,\"#7201a8\"],[0.3333333333333333,\"#9c179e\"],[0.4444444444444444,\"#bd3786\"],[0.5555555555555556,\"#d8576b\"],[0.6666666666666666,\"#ed7953\"],[0.7777777777777778,\"#fb9f3a\"],[0.8888888888888888,\"#fdca26\"],[1.0,\"#f0f921\"]]}],\"heatmapgl\":[{\"type\":\"heatmapgl\",\"colorbar\":{\"outlinewidth\":0,\"ticks\":\"\"},\"colorscale\":[[0.0,\"#0d0887\"],[0.1111111111111111,\"#46039f\"],[0.2222222222222222,\"#7201a8\"],[0.3333333333333333,\"#9c179e\"],[0.4444444444444444,\"#bd3786\"],[0.5555555555555556,\"#d8576b\"],[0.6666666666666666,\"#ed7953\"],[0.7777777777777778,\"#fb9f3a\"],[0.8888888888888888,\"#fdca26\"],[1.0,\"#f0f921\"]]}],\"contourcarpet\":[{\"type\":\"contourcarpet\",\"colorbar\":{\"outlinewidth\":0,\"ticks\":\"\"}}],\"contour\":[{\"type\":\"contour\",\"colorbar\":{\"outlinewidth\":0,\"ticks\":\"\"},\"colorscale\":[[0.0,\"#0d0887\"],[0.1111111111111111,\"#46039f\"],[0.2222222222222222,\"#7201a8\"],[0.3333333333333333,\"#9c179e\"],[0.4444444444444444,\"#bd3786\"],[0.5555555555555556,\"#d8576b\"],[0.6666666666666666,\"#ed7953\"],[0.7777777777777778,\"#fb9f3a\"],[0.8888888888888888,\"#fdca26\"],[1.0,\"#f0f921\"]]}],\"surface\":[{\"type\":\"surface\",\"colorbar\":{\"outlinewidth\":0,\"ticks\":\"\"},\"colorscale\":[[0.0,\"#0d0887\"],[0.1111111111111111,\"#46039f\"],[0.2222222222222222,\"#7201a8\"],[0.3333333333333333,\"#9c179e\"],[0.4444444444444444,\"#bd3786\"],[0.5555555555555556,\"#d8576b\"],[0.6666666666666666,\"#ed7953\"],[0.7777777777777778,\"#fb9f3a\"],[0.8888888888888888,\"#fdca26\"],[1.0,\"#f0f921\"]]}],\"mesh3d\":[{\"type\":\"mesh3d\",\"colorbar\":{\"outlinewidth\":0,\"ticks\":\"\"}}],\"scatter\":[{\"fillpattern\":{\"fillmode\":\"overlay\",\"size\":10,\"solidity\":0.2},\"type\":\"scatter\"}],\"parcoords\":[{\"type\":\"parcoords\",\"line\":{\"colorbar\":{\"outlinewidth\":0,\"ticks\":\"\"}}}],\"scatterpolargl\":[{\"type\":\"scatterpolargl\",\"marker\":{\"colorbar\":{\"outlinewidth\":0,\"ticks\":\"\"}}}],\"bar\":[{\"error_x\":{\"color\":\"#2a3f5f\"},\"error_y\":{\"color\":\"#2a3f5f\"},\"marker\":{\"line\":{\"color\":\"#E5ECF6\",\"width\":0.5},\"pattern\":{\"fillmode\":\"overlay\",\"size\":10,\"solidity\":0.2}},\"type\":\"bar\"}],\"scattergeo\":[{\"type\":\"scattergeo\",\"marker\":{\"colorbar\":{\"outlinewidth\":0,\"ticks\":\"\"}}}],\"scatterpolar\":[{\"type\":\"scatterpolar\",\"marker\":{\"colorbar\":{\"outlinewidth\":0,\"ticks\":\"\"}}}],\"histogram\":[{\"marker\":{\"pattern\":{\"fillmode\":\"overlay\",\"size\":10,\"solidity\":0.2}},\"type\":\"histogram\"}],\"scattergl\":[{\"type\":\"scattergl\",\"marker\":{\"colorbar\":{\"outlinewidth\":0,\"ticks\":\"\"}}}],\"scatter3d\":[{\"type\":\"scatter3d\",\"line\":{\"colorbar\":{\"outlinewidth\":0,\"ticks\":\"\"}},\"marker\":{\"colorbar\":{\"outlinewidth\":0,\"ticks\":\"\"}}}],\"scattermapbox\":[{\"type\":\"scattermapbox\",\"marker\":{\"colorbar\":{\"outlinewidth\":0,\"ticks\":\"\"}}}],\"scatterternary\":[{\"type\":\"scatterternary\",\"marker\":{\"colorbar\":{\"outlinewidth\":0,\"ticks\":\"\"}}}],\"scattercarpet\":[{\"type\":\"scattercarpet\",\"marker\":{\"colorbar\":{\"outlinewidth\":0,\"ticks\":\"\"}}}],\"carpet\":[{\"aaxis\":{\"endlinecolor\":\"#2a3f5f\",\"gridcolor\":\"white\",\"linecolor\":\"white\",\"minorgridcolor\":\"white\",\"startlinecolor\":\"#2a3f5f\"},\"baxis\":{\"endlinecolor\":\"#2a3f5f\",\"gridcolor\":\"white\",\"linecolor\":\"white\",\"minorgridcolor\":\"white\",\"startlinecolor\":\"#2a3f5f\"},\"type\":\"carpet\"}],\"table\":[{\"cells\":{\"fill\":{\"color\":\"#EBF0F8\"},\"line\":{\"color\":\"white\"}},\"header\":{\"fill\":{\"color\":\"#C8D4E3\"},\"line\":{\"color\":\"white\"}},\"type\":\"table\"}],\"barpolar\":[{\"marker\":{\"line\":{\"color\":\"#E5ECF6\",\"width\":0.5},\"pattern\":{\"fillmode\":\"overlay\",\"size\":10,\"solidity\":0.2}},\"type\":\"barpolar\"}],\"pie\":[{\"automargin\":true,\"type\":\"pie\"}]},\"layout\":{\"autotypenumbers\":\"strict\",\"colorway\":[\"#636efa\",\"#EF553B\",\"#00cc96\",\"#ab63fa\",\"#FFA15A\",\"#19d3f3\",\"#FF6692\",\"#B6E880\",\"#FF97FF\",\"#FECB52\"],\"font\":{\"color\":\"#2a3f5f\"},\"hovermode\":\"closest\",\"hoverlabel\":{\"align\":\"left\"},\"paper_bgcolor\":\"white\",\"plot_bgcolor\":\"#E5ECF6\",\"polar\":{\"bgcolor\":\"#E5ECF6\",\"angularaxis\":{\"gridcolor\":\"white\",\"linecolor\":\"white\",\"ticks\":\"\"},\"radialaxis\":{\"gridcolor\":\"white\",\"linecolor\":\"white\",\"ticks\":\"\"}},\"ternary\":{\"bgcolor\":\"#E5ECF6\",\"aaxis\":{\"gridcolor\":\"white\",\"linecolor\":\"white\",\"ticks\":\"\"},\"baxis\":{\"gridcolor\":\"white\",\"linecolor\":\"white\",\"ticks\":\"\"},\"caxis\":{\"gridcolor\":\"white\",\"linecolor\":\"white\",\"ticks\":\"\"}},\"coloraxis\":{\"colorbar\":{\"outlinewidth\":0,\"ticks\":\"\"}},\"colorscale\":{\"sequential\":[[0.0,\"#0d0887\"],[0.1111111111111111,\"#46039f\"],[0.2222222222222222,\"#7201a8\"],[0.3333333333333333,\"#9c179e\"],[0.4444444444444444,\"#bd3786\"],[0.5555555555555556,\"#d8576b\"],[0.6666666666666666,\"#ed7953\"],[0.7777777777777778,\"#fb9f3a\"],[0.8888888888888888,\"#fdca26\"],[1.0,\"#f0f921\"]],\"sequentialminus\":[[0.0,\"#0d0887\"],[0.1111111111111111,\"#46039f\"],[0.2222222222222222,\"#7201a8\"],[0.3333333333333333,\"#9c179e\"],[0.4444444444444444,\"#bd3786\"],[0.5555555555555556,\"#d8576b\"],[0.6666666666666666,\"#ed7953\"],[0.7777777777777778,\"#fb9f3a\"],[0.8888888888888888,\"#fdca26\"],[1.0,\"#f0f921\"]],\"diverging\":[[0,\"#8e0152\"],[0.1,\"#c51b7d\"],[0.2,\"#de77ae\"],[0.3,\"#f1b6da\"],[0.4,\"#fde0ef\"],[0.5,\"#f7f7f7\"],[0.6,\"#e6f5d0\"],[0.7,\"#b8e186\"],[0.8,\"#7fbc41\"],[0.9,\"#4d9221\"],[1,\"#276419\"]]},\"xaxis\":{\"gridcolor\":\"white\",\"linecolor\":\"white\",\"ticks\":\"\",\"title\":{\"standoff\":15},\"zerolinecolor\":\"white\",\"automargin\":true,\"zerolinewidth\":2},\"yaxis\":{\"gridcolor\":\"white\",\"linecolor\":\"white\",\"ticks\":\"\",\"title\":{\"standoff\":15},\"zerolinecolor\":\"white\",\"automargin\":true,\"zerolinewidth\":2},\"scene\":{\"xaxis\":{\"backgroundcolor\":\"#E5ECF6\",\"gridcolor\":\"white\",\"linecolor\":\"white\",\"showbackground\":true,\"ticks\":\"\",\"zerolinecolor\":\"white\",\"gridwidth\":2},\"yaxis\":{\"backgroundcolor\":\"#E5ECF6\",\"gridcolor\":\"white\",\"linecolor\":\"white\",\"showbackground\":true,\"ticks\":\"\",\"zerolinecolor\":\"white\",\"gridwidth\":2},\"zaxis\":{\"backgroundcolor\":\"#E5ECF6\",\"gridcolor\":\"white\",\"linecolor\":\"white\",\"showbackground\":true,\"ticks\":\"\",\"zerolinecolor\":\"white\",\"gridwidth\":2}},\"shapedefaults\":{\"line\":{\"color\":\"#2a3f5f\"}},\"annotationdefaults\":{\"arrowcolor\":\"#2a3f5f\",\"arrowhead\":0,\"arrowwidth\":1},\"geo\":{\"bgcolor\":\"white\",\"landcolor\":\"#E5ECF6\",\"subunitcolor\":\"white\",\"showland\":true,\"showlakes\":true,\"lakecolor\":\"white\"},\"title\":{\"x\":0.05},\"mapbox\":{\"style\":\"light\"}}},\"xaxis\":{\"anchor\":\"y\",\"domain\":[0.0,1.0],\"title\":{\"text\":\"Flame Temp\"}},\"yaxis\":{\"anchor\":\"x\",\"domain\":[0.0,1.0],\"title\":{\"text\":\"Fuel Rate\"}},\"legend\":{\"tracegroupgap\":0},\"title\":{\"text\":\"Flame Temp vs Fuel Rate\"}},                        {\"responsive\": true}                    ).then(function(){\n",
              "                            \n",
              "var gd = document.getElementById('22ca7cdf-83e4-4162-985b-7abd09ffcd04');\n",
              "var x = new MutationObserver(function (mutations, observer) {{\n",
              "        var display = window.getComputedStyle(gd).display;\n",
              "        if (!display || display === 'none') {{\n",
              "            console.log([gd, 'removed!']);\n",
              "            Plotly.purge(gd);\n",
              "            observer.disconnect();\n",
              "        }}\n",
              "}});\n",
              "\n",
              "// Listen for the removal of the full notebook cells\n",
              "var notebookContainer = gd.closest('#notebook-container');\n",
              "if (notebookContainer) {{\n",
              "    x.observe(notebookContainer, {childList: true});\n",
              "}}\n",
              "\n",
              "// Listen for the clearing of the current output cell\n",
              "var outputEl = gd.closest('.output');\n",
              "if (outputEl) {{\n",
              "    x.observe(outputEl, {childList: true});\n",
              "}}\n",
              "\n",
              "                        })                };                            </script>        </div>\n",
              "</body>\n",
              "</html>"
            ]
          },
          "metadata": {}
        },
        {
          "output_type": "display_data",
          "data": {
            "text/html": [
              "<html>\n",
              "<head><meta charset=\"utf-8\" /></head>\n",
              "<body>\n",
              "    <div>            <script src=\"https://cdnjs.cloudflare.com/ajax/libs/mathjax/2.7.5/MathJax.js?config=TeX-AMS-MML_SVG\"></script><script type=\"text/javascript\">if (window.MathJax && window.MathJax.Hub && window.MathJax.Hub.Config) {window.MathJax.Hub.Config({SVG: {font: \"STIX-Web\"}});}</script>                <script type=\"text/javascript\">window.PlotlyConfig = {MathJaxConfig: 'local'};</script>\n",
              "        <script charset=\"utf-8\" src=\"https://cdn.plot.ly/plotly-2.35.2.min.js\"></script>                <div id=\"be0cb851-06a0-4e98-894d-cccc3e7eeb80\" class=\"plotly-graph-div\" style=\"height:525px; width:100%;\"></div>            <script type=\"text/javascript\">                                    window.PLOTLYENV=window.PLOTLYENV || {};                                    if (document.getElementById(\"be0cb851-06a0-4e98-894d-cccc3e7eeb80\")) {                    Plotly.newPlot(                        \"be0cb851-06a0-4e98-894d-cccc3e7eeb80\",                        [{\"hovertemplate\":\"Top Pressure=%{x}\\u003cbr\\u003eFuel Rate=%{y}\\u003cextra\\u003e\\u003c\\u002fextra\\u003e\",\"legendgroup\":\"\",\"marker\":{\"color\":\"dodgerblue\",\"symbol\":\"circle\"},\"mode\":\"markers\",\"name\":\"\",\"orientation\":\"v\",\"showlegend\":false,\"x\":[2.26,2.33,2.36,2.45,2.28,2.36,2.47,2.29,2.32,2.35,2.42,2.44,2.49,2.35,2.42,2.48,2.31,2.41,2.29,2.33,2.34,2.44,2.26,2.3,2.35,2.36,2.39,2.4,2.42,2.38,2.38,2.29,2.3,2.32,2.37,2.49,2.26,2.38,2.33,2.39,2.46,2.41,2.41,2.26,2.27,2.31,2.37,2.38,2.38,2.41,2.42,2.42,2.27,2.36,2.4,2.41,2.41,2.44,2.41,2.32,2.32,2.41,2.42,2.44,2.31,2.37,2.36,2.4,2.43,2.41,2.26,2.31,2.28,2.32,2.35,2.37,2.39,2.39,2.4,2.41,2.4,2.31,2.36,2.46,2.37,2.42,2.33,2.36,2.43,2.31,2.32,2.36,2.4,2.42,2.33,2.35,2.31,2.39,2.43,2.23,2.26,2.28,2.31,2.33,2.38,2.41,2.45,2.29,2.32,2.32,2.33,2.33,2.33,2.34,2.35,2.37,2.4,2.41,2.44,2.45,2.46,2.29,2.36,2.37,2.4,2.43,2.35,2.36,2.29,2.36,2.36,2.37,2.38,2.38,2.38,2.34,2.49,2.24,2.33,2.35,2.36,2.23,2.32,2.37,2.37,2.3,2.27,2.3,2.31,2.32,2.32,2.4,2.35,2.36,2.37,2.41,2.35,2.39,2.41,2.27,2.31,2.38,2.43,2.38,2.31,2.35,2.25,2.36,2.38,2.4,2.4,2.44,2.28,2.32,2.45,2.36,2.39],\"xaxis\":\"x\",\"y\":[568.6,576.6,556.6,593.4,557.8,593.3,555.3,593.8,590.5,568.1,567.2,605.0,579.0,586.1,581.2,556.8,550.7,563.5,578.1,570.8,589.9,595.3,559.1,568.3,585.9,582.9,577.4,573.3,581.9,570.9,591.5,592.4,569.8,579.6,583.9,585.9,573.4,598.0,605.2,592.4,581.2,568.8,576.8,551.5,555.2,565.8,560.9,553.0,587.5,565.9,574.6,581.4,555.9,571.7,567.8,557.0,581.1,573.8,584.0,578.6,601.8,571.7,573.1,579.9,559.2,575.8,599.2,561.1,599.6,573.0,568.6,561.0,596.0,585.0,576.9,573.0,577.1,577.8,558.0,570.4,574.0,596.0,596.0,568.3,584.9,559.8,558.8,575.7,584.6,560.5,583.8,554.8,554.1,567.6,564.4,575.4,562.1,579.3,561.9,552.3,584.4,602.1,549.9,558.5,555.8,551.3,592.5,576.1,552.8,579.9,551.9,564.4,579.6,596.3,585.1,542.7,561.5,553.7,551.1,555.4,560.6,567.5,566.9,563.4,543.4,563.3,566.4,562.4,568.5,557.6,564.3,569.2,557.1,575.5,544.8,557.4,582.6,583.2,584.0,579.5,563.7,559.2,557.4,559.4,575.9,577.4,574.7,568.6,566.1,549.4,555.9,554.6,578.6,566.6,574.4,553.2,575.6,588.4,542.6,566.8,590.2,570.6,544.2,554.7,545.3,545.0,559.3,541.5,589.3,565.6,595.0,595.8,553.2,556.6,541.5,576.2,594.1],\"yaxis\":\"y\",\"type\":\"scatter\"},{\"hovertemplate\":\"\\u003cb\\u003eOLS trendline\\u003c\\u002fb\\u003e\\u003cbr\\u003efuel_rate = 13.9543 * top_pressure + 538.133\\u003cbr\\u003eR\\u003csup\\u003e2\\u003c\\u002fsup\\u003e=0.002811\\u003cbr\\u003e\\u003cbr\\u003eTop Pressure=%{x}\\u003cbr\\u003eFuel Rate=%{y} \\u003cb\\u003e(trend)\\u003c\\u002fb\\u003e\\u003cextra\\u003e\\u003c\\u002fextra\\u003e\",\"legendgroup\":\"\",\"marker\":{\"color\":\"dodgerblue\",\"symbol\":\"circle\"},\"mode\":\"lines\",\"name\":\"\",\"showlegend\":false,\"x\":[2.23,2.23,2.24,2.25,2.26,2.26,2.26,2.26,2.26,2.26,2.27,2.27,2.27,2.27,2.28,2.28,2.28,2.28,2.29,2.29,2.29,2.29,2.29,2.29,2.3,2.3,2.3,2.3,2.31,2.31,2.31,2.31,2.31,2.31,2.31,2.31,2.31,2.31,2.31,2.32,2.32,2.32,2.32,2.32,2.32,2.32,2.32,2.32,2.32,2.32,2.32,2.33,2.33,2.33,2.33,2.33,2.33,2.33,2.33,2.33,2.33,2.34,2.34,2.34,2.35,2.35,2.35,2.35,2.35,2.35,2.35,2.35,2.35,2.35,2.35,2.36,2.36,2.36,2.36,2.36,2.36,2.36,2.36,2.36,2.36,2.36,2.36,2.36,2.36,2.36,2.36,2.37,2.37,2.37,2.37,2.37,2.37,2.37,2.37,2.37,2.37,2.37,2.38,2.38,2.38,2.38,2.38,2.38,2.38,2.38,2.38,2.38,2.38,2.38,2.39,2.39,2.39,2.39,2.39,2.39,2.39,2.4,2.4,2.4,2.4,2.4,2.4,2.4,2.4,2.4,2.4,2.4,2.41,2.41,2.41,2.41,2.41,2.41,2.41,2.41,2.41,2.41,2.41,2.41,2.41,2.41,2.42,2.42,2.42,2.42,2.42,2.42,2.42,2.42,2.43,2.43,2.43,2.43,2.43,2.44,2.44,2.44,2.44,2.44,2.44,2.45,2.45,2.45,2.45,2.46,2.46,2.46,2.47,2.48,2.49,2.49,2.49],\"xaxis\":\"x\",\"y\":[569.2513476631176,569.2513476631176,569.3908904374559,569.5304332117943,569.6699759861326,569.6699759861326,569.6699759861326,569.6699759861326,569.6699759861326,569.6699759861326,569.809518760471,569.809518760471,569.809518760471,569.809518760471,569.9490615348093,569.9490615348093,569.9490615348093,569.9490615348093,570.0886043091476,570.0886043091476,570.0886043091476,570.0886043091476,570.0886043091476,570.0886043091476,570.228147083486,570.228147083486,570.228147083486,570.228147083486,570.3676898578243,570.3676898578243,570.3676898578243,570.3676898578243,570.3676898578243,570.3676898578243,570.3676898578243,570.3676898578243,570.3676898578243,570.3676898578243,570.3676898578243,570.5072326321626,570.5072326321626,570.5072326321626,570.5072326321626,570.5072326321626,570.5072326321626,570.5072326321626,570.5072326321626,570.5072326321626,570.5072326321626,570.5072326321626,570.5072326321626,570.646775406501,570.646775406501,570.646775406501,570.646775406501,570.646775406501,570.646775406501,570.646775406501,570.646775406501,570.646775406501,570.646775406501,570.7863181808393,570.7863181808393,570.7863181808393,570.9258609551777,570.9258609551777,570.9258609551777,570.9258609551777,570.9258609551777,570.9258609551777,570.9258609551777,570.9258609551777,570.9258609551777,570.9258609551777,570.9258609551777,571.065403729516,571.065403729516,571.065403729516,571.065403729516,571.065403729516,571.065403729516,571.065403729516,571.065403729516,571.065403729516,571.065403729516,571.065403729516,571.065403729516,571.065403729516,571.065403729516,571.065403729516,571.065403729516,571.2049465038543,571.2049465038543,571.2049465038543,571.2049465038543,571.2049465038543,571.2049465038543,571.2049465038543,571.2049465038543,571.2049465038543,571.2049465038543,571.2049465038543,571.3444892781927,571.3444892781927,571.3444892781927,571.3444892781927,571.3444892781927,571.3444892781927,571.3444892781927,571.3444892781927,571.3444892781927,571.3444892781927,571.3444892781927,571.3444892781927,571.4840320525309,571.4840320525309,571.4840320525309,571.4840320525309,571.4840320525309,571.4840320525309,571.4840320525309,571.6235748268692,571.6235748268692,571.6235748268692,571.6235748268692,571.6235748268692,571.6235748268692,571.6235748268692,571.6235748268692,571.6235748268692,571.6235748268692,571.6235748268692,571.7631176012076,571.7631176012076,571.7631176012076,571.7631176012076,571.7631176012076,571.7631176012076,571.7631176012076,571.7631176012076,571.7631176012076,571.7631176012076,571.7631176012076,571.7631176012076,571.7631176012076,571.7631176012076,571.9026603755459,571.9026603755459,571.9026603755459,571.9026603755459,571.9026603755459,571.9026603755459,571.9026603755459,571.9026603755459,572.0422031498842,572.0422031498842,572.0422031498842,572.0422031498842,572.0422031498842,572.1817459242226,572.1817459242226,572.1817459242226,572.1817459242226,572.1817459242226,572.1817459242226,572.3212886985609,572.3212886985609,572.3212886985609,572.3212886985609,572.4608314728993,572.4608314728993,572.4608314728993,572.6003742472376,572.7399170215759,572.8794597959143,572.8794597959143,572.8794597959143],\"yaxis\":\"y\",\"type\":\"scatter\"}],                        {\"template\":{\"data\":{\"histogram2dcontour\":[{\"type\":\"histogram2dcontour\",\"colorbar\":{\"outlinewidth\":0,\"ticks\":\"\"},\"colorscale\":[[0.0,\"#0d0887\"],[0.1111111111111111,\"#46039f\"],[0.2222222222222222,\"#7201a8\"],[0.3333333333333333,\"#9c179e\"],[0.4444444444444444,\"#bd3786\"],[0.5555555555555556,\"#d8576b\"],[0.6666666666666666,\"#ed7953\"],[0.7777777777777778,\"#fb9f3a\"],[0.8888888888888888,\"#fdca26\"],[1.0,\"#f0f921\"]]}],\"choropleth\":[{\"type\":\"choropleth\",\"colorbar\":{\"outlinewidth\":0,\"ticks\":\"\"}}],\"histogram2d\":[{\"type\":\"histogram2d\",\"colorbar\":{\"outlinewidth\":0,\"ticks\":\"\"},\"colorscale\":[[0.0,\"#0d0887\"],[0.1111111111111111,\"#46039f\"],[0.2222222222222222,\"#7201a8\"],[0.3333333333333333,\"#9c179e\"],[0.4444444444444444,\"#bd3786\"],[0.5555555555555556,\"#d8576b\"],[0.6666666666666666,\"#ed7953\"],[0.7777777777777778,\"#fb9f3a\"],[0.8888888888888888,\"#fdca26\"],[1.0,\"#f0f921\"]]}],\"heatmap\":[{\"type\":\"heatmap\",\"colorbar\":{\"outlinewidth\":0,\"ticks\":\"\"},\"colorscale\":[[0.0,\"#0d0887\"],[0.1111111111111111,\"#46039f\"],[0.2222222222222222,\"#7201a8\"],[0.3333333333333333,\"#9c179e\"],[0.4444444444444444,\"#bd3786\"],[0.5555555555555556,\"#d8576b\"],[0.6666666666666666,\"#ed7953\"],[0.7777777777777778,\"#fb9f3a\"],[0.8888888888888888,\"#fdca26\"],[1.0,\"#f0f921\"]]}],\"heatmapgl\":[{\"type\":\"heatmapgl\",\"colorbar\":{\"outlinewidth\":0,\"ticks\":\"\"},\"colorscale\":[[0.0,\"#0d0887\"],[0.1111111111111111,\"#46039f\"],[0.2222222222222222,\"#7201a8\"],[0.3333333333333333,\"#9c179e\"],[0.4444444444444444,\"#bd3786\"],[0.5555555555555556,\"#d8576b\"],[0.6666666666666666,\"#ed7953\"],[0.7777777777777778,\"#fb9f3a\"],[0.8888888888888888,\"#fdca26\"],[1.0,\"#f0f921\"]]}],\"contourcarpet\":[{\"type\":\"contourcarpet\",\"colorbar\":{\"outlinewidth\":0,\"ticks\":\"\"}}],\"contour\":[{\"type\":\"contour\",\"colorbar\":{\"outlinewidth\":0,\"ticks\":\"\"},\"colorscale\":[[0.0,\"#0d0887\"],[0.1111111111111111,\"#46039f\"],[0.2222222222222222,\"#7201a8\"],[0.3333333333333333,\"#9c179e\"],[0.4444444444444444,\"#bd3786\"],[0.5555555555555556,\"#d8576b\"],[0.6666666666666666,\"#ed7953\"],[0.7777777777777778,\"#fb9f3a\"],[0.8888888888888888,\"#fdca26\"],[1.0,\"#f0f921\"]]}],\"surface\":[{\"type\":\"surface\",\"colorbar\":{\"outlinewidth\":0,\"ticks\":\"\"},\"colorscale\":[[0.0,\"#0d0887\"],[0.1111111111111111,\"#46039f\"],[0.2222222222222222,\"#7201a8\"],[0.3333333333333333,\"#9c179e\"],[0.4444444444444444,\"#bd3786\"],[0.5555555555555556,\"#d8576b\"],[0.6666666666666666,\"#ed7953\"],[0.7777777777777778,\"#fb9f3a\"],[0.8888888888888888,\"#fdca26\"],[1.0,\"#f0f921\"]]}],\"mesh3d\":[{\"type\":\"mesh3d\",\"colorbar\":{\"outlinewidth\":0,\"ticks\":\"\"}}],\"scatter\":[{\"fillpattern\":{\"fillmode\":\"overlay\",\"size\":10,\"solidity\":0.2},\"type\":\"scatter\"}],\"parcoords\":[{\"type\":\"parcoords\",\"line\":{\"colorbar\":{\"outlinewidth\":0,\"ticks\":\"\"}}}],\"scatterpolargl\":[{\"type\":\"scatterpolargl\",\"marker\":{\"colorbar\":{\"outlinewidth\":0,\"ticks\":\"\"}}}],\"bar\":[{\"error_x\":{\"color\":\"#2a3f5f\"},\"error_y\":{\"color\":\"#2a3f5f\"},\"marker\":{\"line\":{\"color\":\"#E5ECF6\",\"width\":0.5},\"pattern\":{\"fillmode\":\"overlay\",\"size\":10,\"solidity\":0.2}},\"type\":\"bar\"}],\"scattergeo\":[{\"type\":\"scattergeo\",\"marker\":{\"colorbar\":{\"outlinewidth\":0,\"ticks\":\"\"}}}],\"scatterpolar\":[{\"type\":\"scatterpolar\",\"marker\":{\"colorbar\":{\"outlinewidth\":0,\"ticks\":\"\"}}}],\"histogram\":[{\"marker\":{\"pattern\":{\"fillmode\":\"overlay\",\"size\":10,\"solidity\":0.2}},\"type\":\"histogram\"}],\"scattergl\":[{\"type\":\"scattergl\",\"marker\":{\"colorbar\":{\"outlinewidth\":0,\"ticks\":\"\"}}}],\"scatter3d\":[{\"type\":\"scatter3d\",\"line\":{\"colorbar\":{\"outlinewidth\":0,\"ticks\":\"\"}},\"marker\":{\"colorbar\":{\"outlinewidth\":0,\"ticks\":\"\"}}}],\"scattermapbox\":[{\"type\":\"scattermapbox\",\"marker\":{\"colorbar\":{\"outlinewidth\":0,\"ticks\":\"\"}}}],\"scatterternary\":[{\"type\":\"scatterternary\",\"marker\":{\"colorbar\":{\"outlinewidth\":0,\"ticks\":\"\"}}}],\"scattercarpet\":[{\"type\":\"scattercarpet\",\"marker\":{\"colorbar\":{\"outlinewidth\":0,\"ticks\":\"\"}}}],\"carpet\":[{\"aaxis\":{\"endlinecolor\":\"#2a3f5f\",\"gridcolor\":\"white\",\"linecolor\":\"white\",\"minorgridcolor\":\"white\",\"startlinecolor\":\"#2a3f5f\"},\"baxis\":{\"endlinecolor\":\"#2a3f5f\",\"gridcolor\":\"white\",\"linecolor\":\"white\",\"minorgridcolor\":\"white\",\"startlinecolor\":\"#2a3f5f\"},\"type\":\"carpet\"}],\"table\":[{\"cells\":{\"fill\":{\"color\":\"#EBF0F8\"},\"line\":{\"color\":\"white\"}},\"header\":{\"fill\":{\"color\":\"#C8D4E3\"},\"line\":{\"color\":\"white\"}},\"type\":\"table\"}],\"barpolar\":[{\"marker\":{\"line\":{\"color\":\"#E5ECF6\",\"width\":0.5},\"pattern\":{\"fillmode\":\"overlay\",\"size\":10,\"solidity\":0.2}},\"type\":\"barpolar\"}],\"pie\":[{\"automargin\":true,\"type\":\"pie\"}]},\"layout\":{\"autotypenumbers\":\"strict\",\"colorway\":[\"#636efa\",\"#EF553B\",\"#00cc96\",\"#ab63fa\",\"#FFA15A\",\"#19d3f3\",\"#FF6692\",\"#B6E880\",\"#FF97FF\",\"#FECB52\"],\"font\":{\"color\":\"#2a3f5f\"},\"hovermode\":\"closest\",\"hoverlabel\":{\"align\":\"left\"},\"paper_bgcolor\":\"white\",\"plot_bgcolor\":\"#E5ECF6\",\"polar\":{\"bgcolor\":\"#E5ECF6\",\"angularaxis\":{\"gridcolor\":\"white\",\"linecolor\":\"white\",\"ticks\":\"\"},\"radialaxis\":{\"gridcolor\":\"white\",\"linecolor\":\"white\",\"ticks\":\"\"}},\"ternary\":{\"bgcolor\":\"#E5ECF6\",\"aaxis\":{\"gridcolor\":\"white\",\"linecolor\":\"white\",\"ticks\":\"\"},\"baxis\":{\"gridcolor\":\"white\",\"linecolor\":\"white\",\"ticks\":\"\"},\"caxis\":{\"gridcolor\":\"white\",\"linecolor\":\"white\",\"ticks\":\"\"}},\"coloraxis\":{\"colorbar\":{\"outlinewidth\":0,\"ticks\":\"\"}},\"colorscale\":{\"sequential\":[[0.0,\"#0d0887\"],[0.1111111111111111,\"#46039f\"],[0.2222222222222222,\"#7201a8\"],[0.3333333333333333,\"#9c179e\"],[0.4444444444444444,\"#bd3786\"],[0.5555555555555556,\"#d8576b\"],[0.6666666666666666,\"#ed7953\"],[0.7777777777777778,\"#fb9f3a\"],[0.8888888888888888,\"#fdca26\"],[1.0,\"#f0f921\"]],\"sequentialminus\":[[0.0,\"#0d0887\"],[0.1111111111111111,\"#46039f\"],[0.2222222222222222,\"#7201a8\"],[0.3333333333333333,\"#9c179e\"],[0.4444444444444444,\"#bd3786\"],[0.5555555555555556,\"#d8576b\"],[0.6666666666666666,\"#ed7953\"],[0.7777777777777778,\"#fb9f3a\"],[0.8888888888888888,\"#fdca26\"],[1.0,\"#f0f921\"]],\"diverging\":[[0,\"#8e0152\"],[0.1,\"#c51b7d\"],[0.2,\"#de77ae\"],[0.3,\"#f1b6da\"],[0.4,\"#fde0ef\"],[0.5,\"#f7f7f7\"],[0.6,\"#e6f5d0\"],[0.7,\"#b8e186\"],[0.8,\"#7fbc41\"],[0.9,\"#4d9221\"],[1,\"#276419\"]]},\"xaxis\":{\"gridcolor\":\"white\",\"linecolor\":\"white\",\"ticks\":\"\",\"title\":{\"standoff\":15},\"zerolinecolor\":\"white\",\"automargin\":true,\"zerolinewidth\":2},\"yaxis\":{\"gridcolor\":\"white\",\"linecolor\":\"white\",\"ticks\":\"\",\"title\":{\"standoff\":15},\"zerolinecolor\":\"white\",\"automargin\":true,\"zerolinewidth\":2},\"scene\":{\"xaxis\":{\"backgroundcolor\":\"#E5ECF6\",\"gridcolor\":\"white\",\"linecolor\":\"white\",\"showbackground\":true,\"ticks\":\"\",\"zerolinecolor\":\"white\",\"gridwidth\":2},\"yaxis\":{\"backgroundcolor\":\"#E5ECF6\",\"gridcolor\":\"white\",\"linecolor\":\"white\",\"showbackground\":true,\"ticks\":\"\",\"zerolinecolor\":\"white\",\"gridwidth\":2},\"zaxis\":{\"backgroundcolor\":\"#E5ECF6\",\"gridcolor\":\"white\",\"linecolor\":\"white\",\"showbackground\":true,\"ticks\":\"\",\"zerolinecolor\":\"white\",\"gridwidth\":2}},\"shapedefaults\":{\"line\":{\"color\":\"#2a3f5f\"}},\"annotationdefaults\":{\"arrowcolor\":\"#2a3f5f\",\"arrowhead\":0,\"arrowwidth\":1},\"geo\":{\"bgcolor\":\"white\",\"landcolor\":\"#E5ECF6\",\"subunitcolor\":\"white\",\"showland\":true,\"showlakes\":true,\"lakecolor\":\"white\"},\"title\":{\"x\":0.05},\"mapbox\":{\"style\":\"light\"}}},\"xaxis\":{\"anchor\":\"y\",\"domain\":[0.0,1.0],\"title\":{\"text\":\"Top Pressure\"}},\"yaxis\":{\"anchor\":\"x\",\"domain\":[0.0,1.0],\"title\":{\"text\":\"Fuel Rate\"}},\"legend\":{\"tracegroupgap\":0},\"title\":{\"text\":\"Top Pressure vs Fuel Rate\"}},                        {\"responsive\": true}                    ).then(function(){\n",
              "                            \n",
              "var gd = document.getElementById('be0cb851-06a0-4e98-894d-cccc3e7eeb80');\n",
              "var x = new MutationObserver(function (mutations, observer) {{\n",
              "        var display = window.getComputedStyle(gd).display;\n",
              "        if (!display || display === 'none') {{\n",
              "            console.log([gd, 'removed!']);\n",
              "            Plotly.purge(gd);\n",
              "            observer.disconnect();\n",
              "        }}\n",
              "}});\n",
              "\n",
              "// Listen for the removal of the full notebook cells\n",
              "var notebookContainer = gd.closest('#notebook-container');\n",
              "if (notebookContainer) {{\n",
              "    x.observe(notebookContainer, {childList: true});\n",
              "}}\n",
              "\n",
              "// Listen for the clearing of the current output cell\n",
              "var outputEl = gd.closest('.output');\n",
              "if (outputEl) {{\n",
              "    x.observe(outputEl, {childList: true});\n",
              "}}\n",
              "\n",
              "                        })                };                            </script>        </div>\n",
              "</body>\n",
              "</html>"
            ]
          },
          "metadata": {}
        }
      ]
    },
    {
      "cell_type": "code",
      "source": [
        "X = df[features]\n",
        "y = df['fuel_rate']\n",
        "X_train, X_test, y_train, y_test = train_test_split(X, y, test_size=0.3, random_state=38)\n",
        "\n",
        "print(\"Data split into training and testing sets.\")"
      ],
      "metadata": {
        "colab": {
          "base_uri": "https://localhost:8080/"
        },
        "id": "SIiGb5H-33Yh",
        "outputId": "775c71ab-460a-4d78-d890-3d5284e188d4"
      },
      "execution_count": 9,
      "outputs": [
        {
          "output_type": "stream",
          "name": "stdout",
          "text": [
            "Data split into training and testing sets.\n"
          ]
        }
      ]
    },
    {
      "cell_type": "code",
      "source": [
        "print(\"Tuning Random Forest...\")\n",
        "rf_param_grid = {\n",
        "    'n_estimators': [100, 200],\n",
        "    'max_depth': [None, 10, 20],\n",
        "    'min_samples_split': [2, 5]\n",
        "}\n",
        "rf_grid = GridSearchCV(RandomForestRegressor(random_state=42), rf_param_grid, cv=5, scoring='r2', n_jobs=-1)\n",
        "rf_grid.fit(X_train, y_train)\n",
        "print(\"Best Random Forest Params:\", rf_grid.best_params_)\n",
        "\n",
        "print(\"\\nTuning Gradient Boosting...\")\n",
        "gb_param_grid = {\n",
        "    'n_estimators': [100, 200],\n",
        "    'learning_rate': [0.05, 0.1],\n",
        "    'max_depth': [3, 5]\n",
        "}\n",
        "gb_grid = GridSearchCV(GradientBoostingRegressor(random_state=42), gb_param_grid, cv=5, scoring='r2', n_jobs=-1)\n",
        "gb_grid.fit(X_train, y_train)\n",
        "print(\"Best Gradient Boosting Params:\", gb_grid.best_params_)\n"
      ],
      "metadata": {
        "colab": {
          "base_uri": "https://localhost:8080/"
        },
        "id": "fsV4Mz2l38l3",
        "outputId": "8b663763-698f-40f6-8eda-19ee5690b3c4"
      },
      "execution_count": 10,
      "outputs": [
        {
          "output_type": "stream",
          "name": "stdout",
          "text": [
            "Tuning Random Forest...\n",
            "Best Random Forest Params: {'max_depth': 10, 'min_samples_split': 5, 'n_estimators': 200}\n",
            "\n",
            "Tuning Gradient Boosting...\n",
            "Best Gradient Boosting Params: {'learning_rate': 0.05, 'max_depth': 3, 'n_estimators': 100}\n"
          ]
        }
      ]
    },
    {
      "cell_type": "code",
      "source": [
        "models = {\n",
        "    'Linear Regression': LinearRegression(),\n",
        "    'Decision Tree': DecisionTreeRegressor(random_state=42),\n",
        "    'Random Forest (Tuned)': rf_grid.best_estimator_,\n",
        "    'Gradient Boosting (Tuned)': gb_grid.best_estimator_\n",
        "}\n",
        "\n",
        "results = []\n",
        "for name, model in models.items():\n",
        "    model.fit(X_train, y_train)\n",
        "    y_pred = model.predict(X_test)\n",
        "    mse = mean_squared_error(y_test, y_pred)\n",
        "    r2 = r2_score(y_test, y_pred)\n",
        "    results.append({'Model': name, 'MSE': mse, 'R2 Score': r2})\n",
        "    print(f\"{name} - MSE: {mse:.2f}, R2: {r2:.2f}\")"
      ],
      "metadata": {
        "colab": {
          "base_uri": "https://localhost:8080/"
        },
        "id": "K8MFoLkx4KnI",
        "outputId": "422dc9aa-681c-4fcf-ae3d-53d8ed9086e2"
      },
      "execution_count": 11,
      "outputs": [
        {
          "output_type": "stream",
          "name": "stdout",
          "text": [
            "Linear Regression - MSE: 170.30, R2: 0.35\n",
            "Decision Tree - MSE: 289.46, R2: -0.10\n",
            "Random Forest (Tuned) - MSE: 163.84, R2: 0.38\n",
            "Gradient Boosting (Tuned) - MSE: 153.89, R2: 0.42\n"
          ]
        }
      ]
    },
    {
      "cell_type": "code",
      "source": [
        "results_df = pd.DataFrame(results)\n",
        "print(\"\\nModel Evaluation Results:\\n\", results_df)\n",
        "\n",
        "fig = px.bar(results_df, x='Model', y='R2 Score', color='Model', text='R2 Score',\n",
        "             title='Model Performance Comparison (R² Score)',\n",
        "             labels={'R2 Score': 'R² Score'})\n",
        "fig.show()\n"
      ],
      "metadata": {
        "colab": {
          "base_uri": "https://localhost:8080/",
          "height": 670
        },
        "id": "mJfrLWL04QOj",
        "outputId": "2df66b7d-997f-4c8f-e9f6-7cc9bc4ee7bc"
      },
      "execution_count": 12,
      "outputs": [
        {
          "output_type": "stream",
          "name": "stdout",
          "text": [
            "\n",
            "Model Evaluation Results:\n",
            "                        Model         MSE  R2 Score\n",
            "0          Linear Regression  170.300498  0.353253\n",
            "1              Decision Tree  289.460556 -0.099279\n",
            "2      Random Forest (Tuned)  163.837522  0.377797\n",
            "3  Gradient Boosting (Tuned)  153.889021  0.415578\n"
          ]
        },
        {
          "output_type": "display_data",
          "data": {
            "text/html": [
              "<html>\n",
              "<head><meta charset=\"utf-8\" /></head>\n",
              "<body>\n",
              "    <div>            <script src=\"https://cdnjs.cloudflare.com/ajax/libs/mathjax/2.7.5/MathJax.js?config=TeX-AMS-MML_SVG\"></script><script type=\"text/javascript\">if (window.MathJax && window.MathJax.Hub && window.MathJax.Hub.Config) {window.MathJax.Hub.Config({SVG: {font: \"STIX-Web\"}});}</script>                <script type=\"text/javascript\">window.PlotlyConfig = {MathJaxConfig: 'local'};</script>\n",
              "        <script charset=\"utf-8\" src=\"https://cdn.plot.ly/plotly-2.35.2.min.js\"></script>                <div id=\"387017ec-8f78-4835-9d1a-d1ea25f5740a\" class=\"plotly-graph-div\" style=\"height:525px; width:100%;\"></div>            <script type=\"text/javascript\">                                    window.PLOTLYENV=window.PLOTLYENV || {};                                    if (document.getElementById(\"387017ec-8f78-4835-9d1a-d1ea25f5740a\")) {                    Plotly.newPlot(                        \"387017ec-8f78-4835-9d1a-d1ea25f5740a\",                        [{\"alignmentgroup\":\"True\",\"hovertemplate\":\"Model=%{x}\\u003cbr\\u003eR² Score=%{text}\\u003cextra\\u003e\\u003c\\u002fextra\\u003e\",\"legendgroup\":\"Linear Regression\",\"marker\":{\"color\":\"#636efa\",\"pattern\":{\"shape\":\"\"}},\"name\":\"Linear Regression\",\"offsetgroup\":\"Linear Regression\",\"orientation\":\"v\",\"showlegend\":true,\"text\":[0.3532528024439472],\"textposition\":\"auto\",\"x\":[\"Linear Regression\"],\"xaxis\":\"x\",\"y\":[0.3532528024439472],\"yaxis\":\"y\",\"type\":\"bar\"},{\"alignmentgroup\":\"True\",\"hovertemplate\":\"Model=%{x}\\u003cbr\\u003eR² Score=%{text}\\u003cextra\\u003e\\u003c\\u002fextra\\u003e\",\"legendgroup\":\"Decision Tree\",\"marker\":{\"color\":\"#EF553B\",\"pattern\":{\"shape\":\"\"}},\"name\":\"Decision Tree\",\"offsetgroup\":\"Decision Tree\",\"orientation\":\"v\",\"showlegend\":true,\"text\":[-0.09927924390905485],\"textposition\":\"auto\",\"x\":[\"Decision Tree\"],\"xaxis\":\"x\",\"y\":[-0.09927924390905485],\"yaxis\":\"y\",\"type\":\"bar\"},{\"alignmentgroup\":\"True\",\"hovertemplate\":\"Model=%{x}\\u003cbr\\u003eR² Score=%{text}\\u003cextra\\u003e\\u003c\\u002fextra\\u003e\",\"legendgroup\":\"Random Forest (Tuned)\",\"marker\":{\"color\":\"#00cc96\",\"pattern\":{\"shape\":\"\"}},\"name\":\"Random Forest (Tuned)\",\"offsetgroup\":\"Random Forest (Tuned)\",\"orientation\":\"v\",\"showlegend\":true,\"text\":[0.37779713249010505],\"textposition\":\"auto\",\"x\":[\"Random Forest (Tuned)\"],\"xaxis\":\"x\",\"y\":[0.37779713249010505],\"yaxis\":\"y\",\"type\":\"bar\"},{\"alignmentgroup\":\"True\",\"hovertemplate\":\"Model=%{x}\\u003cbr\\u003eR² Score=%{text}\\u003cextra\\u003e\\u003c\\u002fextra\\u003e\",\"legendgroup\":\"Gradient Boosting (Tuned)\",\"marker\":{\"color\":\"#ab63fa\",\"pattern\":{\"shape\":\"\"}},\"name\":\"Gradient Boosting (Tuned)\",\"offsetgroup\":\"Gradient Boosting (Tuned)\",\"orientation\":\"v\",\"showlegend\":true,\"text\":[0.4155783801760409],\"textposition\":\"auto\",\"x\":[\"Gradient Boosting (Tuned)\"],\"xaxis\":\"x\",\"y\":[0.4155783801760409],\"yaxis\":\"y\",\"type\":\"bar\"}],                        {\"template\":{\"data\":{\"histogram2dcontour\":[{\"type\":\"histogram2dcontour\",\"colorbar\":{\"outlinewidth\":0,\"ticks\":\"\"},\"colorscale\":[[0.0,\"#0d0887\"],[0.1111111111111111,\"#46039f\"],[0.2222222222222222,\"#7201a8\"],[0.3333333333333333,\"#9c179e\"],[0.4444444444444444,\"#bd3786\"],[0.5555555555555556,\"#d8576b\"],[0.6666666666666666,\"#ed7953\"],[0.7777777777777778,\"#fb9f3a\"],[0.8888888888888888,\"#fdca26\"],[1.0,\"#f0f921\"]]}],\"choropleth\":[{\"type\":\"choropleth\",\"colorbar\":{\"outlinewidth\":0,\"ticks\":\"\"}}],\"histogram2d\":[{\"type\":\"histogram2d\",\"colorbar\":{\"outlinewidth\":0,\"ticks\":\"\"},\"colorscale\":[[0.0,\"#0d0887\"],[0.1111111111111111,\"#46039f\"],[0.2222222222222222,\"#7201a8\"],[0.3333333333333333,\"#9c179e\"],[0.4444444444444444,\"#bd3786\"],[0.5555555555555556,\"#d8576b\"],[0.6666666666666666,\"#ed7953\"],[0.7777777777777778,\"#fb9f3a\"],[0.8888888888888888,\"#fdca26\"],[1.0,\"#f0f921\"]]}],\"heatmap\":[{\"type\":\"heatmap\",\"colorbar\":{\"outlinewidth\":0,\"ticks\":\"\"},\"colorscale\":[[0.0,\"#0d0887\"],[0.1111111111111111,\"#46039f\"],[0.2222222222222222,\"#7201a8\"],[0.3333333333333333,\"#9c179e\"],[0.4444444444444444,\"#bd3786\"],[0.5555555555555556,\"#d8576b\"],[0.6666666666666666,\"#ed7953\"],[0.7777777777777778,\"#fb9f3a\"],[0.8888888888888888,\"#fdca26\"],[1.0,\"#f0f921\"]]}],\"heatmapgl\":[{\"type\":\"heatmapgl\",\"colorbar\":{\"outlinewidth\":0,\"ticks\":\"\"},\"colorscale\":[[0.0,\"#0d0887\"],[0.1111111111111111,\"#46039f\"],[0.2222222222222222,\"#7201a8\"],[0.3333333333333333,\"#9c179e\"],[0.4444444444444444,\"#bd3786\"],[0.5555555555555556,\"#d8576b\"],[0.6666666666666666,\"#ed7953\"],[0.7777777777777778,\"#fb9f3a\"],[0.8888888888888888,\"#fdca26\"],[1.0,\"#f0f921\"]]}],\"contourcarpet\":[{\"type\":\"contourcarpet\",\"colorbar\":{\"outlinewidth\":0,\"ticks\":\"\"}}],\"contour\":[{\"type\":\"contour\",\"colorbar\":{\"outlinewidth\":0,\"ticks\":\"\"},\"colorscale\":[[0.0,\"#0d0887\"],[0.1111111111111111,\"#46039f\"],[0.2222222222222222,\"#7201a8\"],[0.3333333333333333,\"#9c179e\"],[0.4444444444444444,\"#bd3786\"],[0.5555555555555556,\"#d8576b\"],[0.6666666666666666,\"#ed7953\"],[0.7777777777777778,\"#fb9f3a\"],[0.8888888888888888,\"#fdca26\"],[1.0,\"#f0f921\"]]}],\"surface\":[{\"type\":\"surface\",\"colorbar\":{\"outlinewidth\":0,\"ticks\":\"\"},\"colorscale\":[[0.0,\"#0d0887\"],[0.1111111111111111,\"#46039f\"],[0.2222222222222222,\"#7201a8\"],[0.3333333333333333,\"#9c179e\"],[0.4444444444444444,\"#bd3786\"],[0.5555555555555556,\"#d8576b\"],[0.6666666666666666,\"#ed7953\"],[0.7777777777777778,\"#fb9f3a\"],[0.8888888888888888,\"#fdca26\"],[1.0,\"#f0f921\"]]}],\"mesh3d\":[{\"type\":\"mesh3d\",\"colorbar\":{\"outlinewidth\":0,\"ticks\":\"\"}}],\"scatter\":[{\"fillpattern\":{\"fillmode\":\"overlay\",\"size\":10,\"solidity\":0.2},\"type\":\"scatter\"}],\"parcoords\":[{\"type\":\"parcoords\",\"line\":{\"colorbar\":{\"outlinewidth\":0,\"ticks\":\"\"}}}],\"scatterpolargl\":[{\"type\":\"scatterpolargl\",\"marker\":{\"colorbar\":{\"outlinewidth\":0,\"ticks\":\"\"}}}],\"bar\":[{\"error_x\":{\"color\":\"#2a3f5f\"},\"error_y\":{\"color\":\"#2a3f5f\"},\"marker\":{\"line\":{\"color\":\"#E5ECF6\",\"width\":0.5},\"pattern\":{\"fillmode\":\"overlay\",\"size\":10,\"solidity\":0.2}},\"type\":\"bar\"}],\"scattergeo\":[{\"type\":\"scattergeo\",\"marker\":{\"colorbar\":{\"outlinewidth\":0,\"ticks\":\"\"}}}],\"scatterpolar\":[{\"type\":\"scatterpolar\",\"marker\":{\"colorbar\":{\"outlinewidth\":0,\"ticks\":\"\"}}}],\"histogram\":[{\"marker\":{\"pattern\":{\"fillmode\":\"overlay\",\"size\":10,\"solidity\":0.2}},\"type\":\"histogram\"}],\"scattergl\":[{\"type\":\"scattergl\",\"marker\":{\"colorbar\":{\"outlinewidth\":0,\"ticks\":\"\"}}}],\"scatter3d\":[{\"type\":\"scatter3d\",\"line\":{\"colorbar\":{\"outlinewidth\":0,\"ticks\":\"\"}},\"marker\":{\"colorbar\":{\"outlinewidth\":0,\"ticks\":\"\"}}}],\"scattermapbox\":[{\"type\":\"scattermapbox\",\"marker\":{\"colorbar\":{\"outlinewidth\":0,\"ticks\":\"\"}}}],\"scatterternary\":[{\"type\":\"scatterternary\",\"marker\":{\"colorbar\":{\"outlinewidth\":0,\"ticks\":\"\"}}}],\"scattercarpet\":[{\"type\":\"scattercarpet\",\"marker\":{\"colorbar\":{\"outlinewidth\":0,\"ticks\":\"\"}}}],\"carpet\":[{\"aaxis\":{\"endlinecolor\":\"#2a3f5f\",\"gridcolor\":\"white\",\"linecolor\":\"white\",\"minorgridcolor\":\"white\",\"startlinecolor\":\"#2a3f5f\"},\"baxis\":{\"endlinecolor\":\"#2a3f5f\",\"gridcolor\":\"white\",\"linecolor\":\"white\",\"minorgridcolor\":\"white\",\"startlinecolor\":\"#2a3f5f\"},\"type\":\"carpet\"}],\"table\":[{\"cells\":{\"fill\":{\"color\":\"#EBF0F8\"},\"line\":{\"color\":\"white\"}},\"header\":{\"fill\":{\"color\":\"#C8D4E3\"},\"line\":{\"color\":\"white\"}},\"type\":\"table\"}],\"barpolar\":[{\"marker\":{\"line\":{\"color\":\"#E5ECF6\",\"width\":0.5},\"pattern\":{\"fillmode\":\"overlay\",\"size\":10,\"solidity\":0.2}},\"type\":\"barpolar\"}],\"pie\":[{\"automargin\":true,\"type\":\"pie\"}]},\"layout\":{\"autotypenumbers\":\"strict\",\"colorway\":[\"#636efa\",\"#EF553B\",\"#00cc96\",\"#ab63fa\",\"#FFA15A\",\"#19d3f3\",\"#FF6692\",\"#B6E880\",\"#FF97FF\",\"#FECB52\"],\"font\":{\"color\":\"#2a3f5f\"},\"hovermode\":\"closest\",\"hoverlabel\":{\"align\":\"left\"},\"paper_bgcolor\":\"white\",\"plot_bgcolor\":\"#E5ECF6\",\"polar\":{\"bgcolor\":\"#E5ECF6\",\"angularaxis\":{\"gridcolor\":\"white\",\"linecolor\":\"white\",\"ticks\":\"\"},\"radialaxis\":{\"gridcolor\":\"white\",\"linecolor\":\"white\",\"ticks\":\"\"}},\"ternary\":{\"bgcolor\":\"#E5ECF6\",\"aaxis\":{\"gridcolor\":\"white\",\"linecolor\":\"white\",\"ticks\":\"\"},\"baxis\":{\"gridcolor\":\"white\",\"linecolor\":\"white\",\"ticks\":\"\"},\"caxis\":{\"gridcolor\":\"white\",\"linecolor\":\"white\",\"ticks\":\"\"}},\"coloraxis\":{\"colorbar\":{\"outlinewidth\":0,\"ticks\":\"\"}},\"colorscale\":{\"sequential\":[[0.0,\"#0d0887\"],[0.1111111111111111,\"#46039f\"],[0.2222222222222222,\"#7201a8\"],[0.3333333333333333,\"#9c179e\"],[0.4444444444444444,\"#bd3786\"],[0.5555555555555556,\"#d8576b\"],[0.6666666666666666,\"#ed7953\"],[0.7777777777777778,\"#fb9f3a\"],[0.8888888888888888,\"#fdca26\"],[1.0,\"#f0f921\"]],\"sequentialminus\":[[0.0,\"#0d0887\"],[0.1111111111111111,\"#46039f\"],[0.2222222222222222,\"#7201a8\"],[0.3333333333333333,\"#9c179e\"],[0.4444444444444444,\"#bd3786\"],[0.5555555555555556,\"#d8576b\"],[0.6666666666666666,\"#ed7953\"],[0.7777777777777778,\"#fb9f3a\"],[0.8888888888888888,\"#fdca26\"],[1.0,\"#f0f921\"]],\"diverging\":[[0,\"#8e0152\"],[0.1,\"#c51b7d\"],[0.2,\"#de77ae\"],[0.3,\"#f1b6da\"],[0.4,\"#fde0ef\"],[0.5,\"#f7f7f7\"],[0.6,\"#e6f5d0\"],[0.7,\"#b8e186\"],[0.8,\"#7fbc41\"],[0.9,\"#4d9221\"],[1,\"#276419\"]]},\"xaxis\":{\"gridcolor\":\"white\",\"linecolor\":\"white\",\"ticks\":\"\",\"title\":{\"standoff\":15},\"zerolinecolor\":\"white\",\"automargin\":true,\"zerolinewidth\":2},\"yaxis\":{\"gridcolor\":\"white\",\"linecolor\":\"white\",\"ticks\":\"\",\"title\":{\"standoff\":15},\"zerolinecolor\":\"white\",\"automargin\":true,\"zerolinewidth\":2},\"scene\":{\"xaxis\":{\"backgroundcolor\":\"#E5ECF6\",\"gridcolor\":\"white\",\"linecolor\":\"white\",\"showbackground\":true,\"ticks\":\"\",\"zerolinecolor\":\"white\",\"gridwidth\":2},\"yaxis\":{\"backgroundcolor\":\"#E5ECF6\",\"gridcolor\":\"white\",\"linecolor\":\"white\",\"showbackground\":true,\"ticks\":\"\",\"zerolinecolor\":\"white\",\"gridwidth\":2},\"zaxis\":{\"backgroundcolor\":\"#E5ECF6\",\"gridcolor\":\"white\",\"linecolor\":\"white\",\"showbackground\":true,\"ticks\":\"\",\"zerolinecolor\":\"white\",\"gridwidth\":2}},\"shapedefaults\":{\"line\":{\"color\":\"#2a3f5f\"}},\"annotationdefaults\":{\"arrowcolor\":\"#2a3f5f\",\"arrowhead\":0,\"arrowwidth\":1},\"geo\":{\"bgcolor\":\"white\",\"landcolor\":\"#E5ECF6\",\"subunitcolor\":\"white\",\"showland\":true,\"showlakes\":true,\"lakecolor\":\"white\"},\"title\":{\"x\":0.05},\"mapbox\":{\"style\":\"light\"}}},\"xaxis\":{\"anchor\":\"y\",\"domain\":[0.0,1.0],\"title\":{\"text\":\"Model\"},\"categoryorder\":\"array\",\"categoryarray\":[\"Linear Regression\",\"Decision Tree\",\"Random Forest (Tuned)\",\"Gradient Boosting (Tuned)\"]},\"yaxis\":{\"anchor\":\"x\",\"domain\":[0.0,1.0],\"title\":{\"text\":\"R² Score\"}},\"legend\":{\"title\":{\"text\":\"Model\"},\"tracegroupgap\":0},\"title\":{\"text\":\"Model Performance Comparison (R² Score)\"},\"barmode\":\"relative\"},                        {\"responsive\": true}                    ).then(function(){\n",
              "                            \n",
              "var gd = document.getElementById('387017ec-8f78-4835-9d1a-d1ea25f5740a');\n",
              "var x = new MutationObserver(function (mutations, observer) {{\n",
              "        var display = window.getComputedStyle(gd).display;\n",
              "        if (!display || display === 'none') {{\n",
              "            console.log([gd, 'removed!']);\n",
              "            Plotly.purge(gd);\n",
              "            observer.disconnect();\n",
              "        }}\n",
              "}});\n",
              "\n",
              "// Listen for the removal of the full notebook cells\n",
              "var notebookContainer = gd.closest('#notebook-container');\n",
              "if (notebookContainer) {{\n",
              "    x.observe(notebookContainer, {childList: true});\n",
              "}}\n",
              "\n",
              "// Listen for the clearing of the current output cell\n",
              "var outputEl = gd.closest('.output');\n",
              "if (outputEl) {{\n",
              "    x.observe(outputEl, {childList: true});\n",
              "}}\n",
              "\n",
              "                        })                };                            </script>        </div>\n",
              "</body>\n",
              "</html>"
            ]
          },
          "metadata": {}
        }
      ]
    },
    {
      "cell_type": "code",
      "source": [
        "best_model = rf_grid.best_estimator_\n",
        "print(f\"The best model selected is: {type(best_model).__name__}\")\n",
        "\n",
        "importances = pd.Series(best_model.feature_importances_, index=features)\n",
        "plt.figure(figsize=(8, 5))\n",
        "importances.sort_values().plot(kind='barh', color='teal')\n",
        "plt.title('Feature Importances for Fuel Rate Prediction')\n",
        "plt.xlabel('Importance')\n",
        "plt.tight_layout()\n",
        "plt.show()\n"
      ],
      "metadata": {
        "colab": {
          "base_uri": "https://localhost:8080/",
          "height": 525
        },
        "id": "J_-pvsi54VeF",
        "outputId": "86c06a00-d06a-47e3-d24f-3df8e171d563"
      },
      "execution_count": 13,
      "outputs": [
        {
          "output_type": "stream",
          "name": "stdout",
          "text": [
            "The best model selected is: RandomForestRegressor\n"
          ]
        },
        {
          "output_type": "display_data",
          "data": {
            "text/plain": [
              "<Figure size 800x500 with 1 Axes>"
            ],
            "image/png": "[encoded data removed]"
          },
          "metadata": {}
        }
      ]
    },
    {
      "cell_type": "code",
      "source": [
        "def get_user_input():\n",
        "    inputs = {}\n",
        "    print(\"\\nPlease enter the following values to predict the fuel rate:\")\n",
        "    for feature in features:\n",
        "        while True:\n",
        "            try:\n",
        "                value = float(input(f\"Enter {feature.replace('_', ' ')}: \"))\n",
        "                inputs[feature] = value\n",
        "                break\n",
        "            except ValueError:\n",
        "                print(\"Invalid input. Please enter a numeric value.\")\n",
        "    return pd.DataFrame([inputs])\n",
        "\n",
        "# Example new data for prediction\n",
        "example_new_data = pd.DataFrame([\n",
        "    {'moisture': 5.0, 'co_efficiency': 50.0, 'hot_blast_temp': 1200.0,\n",
        "     'slag_rate': 250.0, 'flame_temp': 2000.0, 'top_pressure': 1.5}\n",
        "])\n",
        "\n",
        "predicted_fuel_rate = best_model.predict(example_new_data)\n",
        "print(\"\\nPredicted Fuel Rate for New Data:\", predicted_fuel_rate[0])\n"
      ],
      "metadata": {
        "colab": {
          "base_uri": "https://localhost:8080/"
        },
        "id": "Aa44TEi44Z2j",
        "outputId": "b87a0811-18d1-4e38-f81f-473b147e2bdb"
      },
      "execution_count": 16,
      "outputs": [
        {
          "output_type": "stream",
          "name": "stdout",
          "text": [
            "\n",
            "Predicted Fuel Rate for New Data: 575.8677841269846\n"
          ]
        }
      ]
    },
    {
      "cell_type": "code",
      "source": [
        "model_path = 'fuel_rate_rf_model.pkl'\n",
        "joblib.dump(best_model, model_path)\n",
        "print(f\"\\nModel saved as '{model_path}'\")\n",
        "\n",
        "df.to_csv('cleaned_blast_furnace_data.csv', index=False)\n",
        "print(\"Cleaned data saved as 'cleaned_blast_furnace_data.csv'\")"
      ],
      "metadata": {
        "colab": {
          "base_uri": "https://localhost:8080/"
        },
        "id": "iWPNUeTO4c7I",
        "outputId": "b762689c-ef46-49a5-f51c-87fc09795d60"
      },
      "execution_count": 15,
      "outputs": [
        {
          "output_type": "stream",
          "name": "stdout",
          "text": [
            "\n",
            "Model saved as 'fuel_rate_rf_model.pkl'\n",
            "Cleaned data saved as 'cleaned_blast_furnace_data.csv'\n"
          ]
        }
      ]
    }
  ]
}