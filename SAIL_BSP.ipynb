{
  "nbformat": 4,
  "nbformat_minor": 0,
  "metadata": {
    "colab": {
      "provenance": [],
      "authorship_tag": "ABX9TyNslKJzjwbpgF4OKfIY6+z7",
      "include_colab_link": true
    },
    "kernelspec": {
      "name": "python3",
      "display_name": "Python 3"
    },
    "language_info": {
      "name": "python"
    }
  },
  "cells": [
    {
      "cell_type": "markdown",
      "metadata": {
        "id": "view-in-github",
        "colab_type": "text"
      },
      "source": [
        "<a href=\"https://colab.research.google.com/github/pnrdgp/SAIL-Bhilai-Steel-Plant-Project/blob/main/SAIL_BSP.ipynb\" target=\"_parent\"><img src=\"https://colab.research.google.com/assets/colab-badge.svg\" alt=\"Open In Colab\"/></a>"
      ]
    },
    {
      "cell_type": "code",
      "execution_count": 3,
      "metadata": {
        "id": "br-4v6wh1tlm"
      },
      "outputs": [],
      "source": [
        "import pandas as pd\n",
        "import numpy as np\n",
        "import plotly.express as px\n",
        "import matplotlib.pyplot as plt\n",
        "import seaborn as sns\n",
        "from sklearn.model_selection import train_test_split, GridSearchCV\n",
        "from sklearn.ensemble import RandomForestRegressor, GradientBoostingRegressor\n",
        "from sklearn.linear_model import LinearRegression\n",
        "from sklearn.tree import DecisionTreeRegressor\n",
        "from sklearn.metrics import mean_squared_error, r2_score\n",
        "import joblib\n",
        "import os\n",
        "import sys\n"
      ]
    },
    {
      "cell_type": "code",
      "source": [
        "try:\n",
        "    # Use the filename directly after uploading it to the Colab environment\n",
        "    df = pd.read_csv('blastfurnacedata.csv', encoding='utf-8-sig')\n",
        "    print(\"Dataset loaded successfully.\")\n",
        "except FileNotFoundError:\n",
        "    print(\"Error: 'blastfurnacedata.csv' not found. Please upload the file to the Colab environment.\")\n",
        "    sys.exit()\n",
        "\n",
        "df.head()\n"
      ],
      "metadata": {
        "colab": {
          "base_uri": "https://localhost:8080/",
          "height": 223
        },
        "id": "Yr2XhpAf3I0L",
        "outputId": "0ba393af-5e72-435c-b628-01d593d5cfbd"
      },
      "execution_count": 4,
      "outputs": [
        {
          "output_type": "stream",
          "name": "stdout",
          "text": [
            "Dataset loaded successfully.\n"
          ]
        },
        {
          "output_type": "execute_result",
          "data": {
            "text/plain": [
              "   fuel rate  moisture  co efficiency  hot blast temp  slag rate  flame temp  \\\n",
              "0      573.0       4.0      46.200000         1140.00        453      2195.3   \n",
              "1      568.6       4.0      46.351058         1162.79        510      2253.9   \n",
              "2      576.6       4.0      45.250000         1170.00        514      2248.2   \n",
              "3      556.6       4.0      46.193430         1152.00        492      2188.7   \n",
              "4      593.4       4.0      43.620000         1111.79        492      2219.9   \n",
              "\n",
              "   top pressure  \n",
              "0          2.24  \n",
              "1          2.26  \n",
              "2          2.33  \n",
              "3          2.36  \n",
              "4          2.45  "
            ],
            "text/html": [
              "\n",
              "  <div id=\"df-89e5a429-0190-46f9-b7fa-f6db603ba3bc\" class=\"colab-df-container\">\n",
              "    <div>\n",
              "<style scoped>\n",
              "    .dataframe tbody tr th:only-of-type {\n",
              "        vertical-align: middle;\n",
              "    }\n",
              "\n",
              "    .dataframe tbody tr th {\n",
              "        vertical-align: top;\n",
              "    }\n",
              "\n",
              "    .dataframe thead th {\n",
              "        text-align: right;\n",
              "    }\n",
              "</style>\n",
              "<table border=\"1\" class=\"dataframe\">\n",
              "  <thead>\n",
              "    <tr style=\"text-align: right;\">\n",
              "      <th></th>\n",
              "      <th>fuel rate</th>\n",
              "      <th>moisture</th>\n",
              "      <th>co efficiency</th>\n",
              "      <th>hot blast temp</th>\n",
              "      <th>slag rate</th>\n",
              "      <th>flame temp</th>\n",
              "      <th>top pressure</th>\n",
              "    </tr>\n",
              "  </thead>\n",
              "  <tbody>\n",
              "    <tr>\n",
              "      <th>0</th>\n",
              "      <td>573.0</td>\n",
              "      <td>4.0</td>\n",
              "      <td>46.200000</td>\n",
              "      <td>1140.00</td>\n",
              "      <td>453</td>\n",
              "      <td>2195.3</td>\n",
              "      <td>2.24</td>\n",
              "    </tr>\n",
              "    <tr>\n",
              "      <th>1</th>\n",
              "      <td>568.6</td>\n",
              "      <td>4.0</td>\n",
              "      <td>46.351058</td>\n",
              "      <td>1162.79</td>\n",
              "      <td>510</td>\n",
              "      <td>2253.9</td>\n",
              "      <td>2.26</td>\n",
              "    </tr>\n",
              "    <tr>\n",
              "      <th>2</th>\n",
              "      <td>576.6</td>\n",
              "      <td>4.0</td>\n",
              "      <td>45.250000</td>\n",
              "      <td>1170.00</td>\n",
              "      <td>514</td>\n",
              "      <td>2248.2</td>\n",
              "      <td>2.33</td>\n",
              "    </tr>\n",
              "    <tr>\n",
              "      <th>3</th>\n",
              "      <td>556.6</td>\n",
              "      <td>4.0</td>\n",
              "      <td>46.193430</td>\n",
              "      <td>1152.00</td>\n",
              "      <td>492</td>\n",
              "      <td>2188.7</td>\n",
              "      <td>2.36</td>\n",
              "    </tr>\n",
              "    <tr>\n",
              "      <th>4</th>\n",
              "      <td>593.4</td>\n",
              "      <td>4.0</td>\n",
              "      <td>43.620000</td>\n",
              "      <td>1111.79</td>\n",
              "      <td>492</td>\n",
              "      <td>2219.9</td>\n",
              "      <td>2.45</td>\n",
              "    </tr>\n",
              "  </tbody>\n",
              "</table>\n",
              "</div>\n",
              "    <div class=\"colab-df-buttons\">\n",
              "\n",
              "  <div class=\"colab-df-container\">\n",
              "    <button class=\"colab-df-convert\" onclick=\"convertToInteractive('df-89e5a429-0190-46f9-b7fa-f6db603ba3bc')\"\n",
              "            title=\"Convert this dataframe to an interactive table.\"\n",
              "            style=\"display:none;\">\n",
              "\n",
              "  <svg xmlns=\"http://www.w3.org/2000/svg\" height=\"24px\" viewBox=\"0 -960 960 960\">\n",
              "    <path d=\"M120-120v-720h720v720H120Zm60-500h600v-160H180v160Zm220 220h160v-160H400v160Zm0 220h160v-160H400v160ZM180-400h160v-160H180v160Zm440 0h160v-160H620v160ZM180-180h160v-160H180v160Zm440 0h160v-160H620v160Z\"/>\n",
              "  </svg>\n",
              "    </button>\n",
              "\n",
              "  <style>\n",
              "    .colab-df-container {\n",
              "      display:flex;\n",
              "      gap: 12px;\n",
              "    }\n",
              "\n",
              "    .colab-df-convert {\n",
              "      background-color: #E8F0FE;\n",
              "      border: none;\n",
              "      border-radius: 50%;\n",
              "      cursor: pointer;\n",
              "      display: none;\n",
              "      fill: #1967D2;\n",
              "      height: 32px;\n",
              "      padding: 0 0 0 0;\n",
              "      width: 32px;\n",
              "    }\n",
              "\n",
              "    .colab-df-convert:hover {\n",
              "      background-color: #E2EBFA;\n",
              "      box-shadow: 0px 1px 2px rgba(60, 64, 67, 0.3), 0px 1px 3px 1px rgba(60, 64, 67, 0.15);\n",
              "      fill: #174EA6;\n",
              "    }\n",
              "\n",
              "    .colab-df-buttons div {\n",
              "      margin-bottom: 4px;\n",
              "    }\n",
              "\n",
              "    [theme=dark] .colab-df-convert {\n",
              "      background-color: #3B4455;\n",
              "      fill: #D2E3FC;\n",
              "    }\n",
              "\n",
              "    [theme=dark] .colab-df-convert:hover {\n",
              "      background-color: #434B5C;\n",
              "      box-shadow: 0px 1px 3px 1px rgba(0, 0, 0, 0.15);\n",
              "      filter: drop-shadow(0px 1px 2px rgba(0, 0, 0, 0.3));\n",
              "      fill: #FFFFFF;\n",
              "    }\n",
              "  </style>\n",
              "\n",
              "    <script>\n",
              "      const buttonEl =\n",
              "        document.querySelector('#df-89e5a429-0190-46f9-b7fa-f6db603ba3bc button.colab-df-convert');\n",
              "      buttonEl.style.display =\n",
              "        google.colab.kernel.accessAllowed ? 'block' : 'none';\n",
              "\n",
              "      async function convertToInteractive(key) {\n",
              "        const element = document.querySelector('#df-89e5a429-0190-46f9-b7fa-f6db603ba3bc');\n",
              "        const dataTable =\n",
              "          await google.colab.kernel.invokeFunction('convertToInteractive',\n",
              "                                                    [key], {});\n",
              "        if (!dataTable) return;\n",
              "\n",
              "        const docLinkHtml = 'Like what you see? Visit the ' +\n",
              "          '<a target=\"_blank\" href=https://colab.research.google.com/notebooks/data_table.ipynb>data table notebook</a>'\n",
              "          + ' to learn more about interactive tables.';\n",
              "        element.innerHTML = '';\n",
              "        dataTable['output_type'] = 'display_data';\n",
              "        await google.colab.output.renderOutput(dataTable, element);\n",
              "        const docLink = document.createElement('div');\n",
              "        docLink.innerHTML = docLinkHtml;\n",
              "        element.appendChild(docLink);\n",
              "      }\n",
              "    </script>\n",
              "  </div>\n",
              "\n",
              "\n",
              "    <div id=\"df-c28d1d73-fbf4-4580-94e8-7869b2b04141\">\n",
              "      <button class=\"colab-df-quickchart\" onclick=\"quickchart('df-c28d1d73-fbf4-4580-94e8-7869b2b04141')\"\n",
              "                title=\"Suggest charts\"\n",
              "                style=\"display:none;\">\n",
              "\n",
              "<svg xmlns=\"http://www.w3.org/2000/svg\" height=\"24px\"viewBox=\"0 0 24 24\"\n",
              "     width=\"24px\">\n",
              "    <g>\n",
              "        <path d=\"M19 3H5c-1.1 0-2 .9-2 2v14c0 1.1.9 2 2 2h14c1.1 0 2-.9 2-2V5c0-1.1-.9-2-2-2zM9 17H7v-7h2v7zm4 0h-2V7h2v10zm4 0h-2v-4h2v4z\"/>\n",
              "    </g>\n",
              "</svg>\n",
              "      </button>\n",
              "\n",
              "<style>\n",
              "  .colab-df-quickchart {\n",
              "      --bg-color: #E8F0FE;\n",
              "      --fill-color: #1967D2;\n",
              "      --hover-bg-color: #E2EBFA;\n",
              "      --hover-fill-color: #174EA6;\n",
              "      --disabled-fill-color: #AAA;\n",
              "      --disabled-bg-color: #DDD;\n",
              "  }\n",
              "\n",
              "  [theme=dark] .colab-df-quickchart {\n",
              "      --bg-color: #3B4455;\n",
              "      --fill-color: #D2E3FC;\n",
              "      --hover-bg-color: #434B5C;\n",
              "      --hover-fill-color: #FFFFFF;\n",
              "      --disabled-bg-color: #3B4455;\n",
              "      --disabled-fill-color: #666;\n",
              "  }\n",
              "\n",
              "  .colab-df-quickchart {\n",
              "    background-color: var(--bg-color);\n",
              "    border: none;\n",
              "    border-radius: 50%;\n",
              "    cursor: pointer;\n",
              "    display: none;\n",
              "    fill: var(--fill-color);\n",
              "    height: 32px;\n",
              "    padding: 0;\n",
              "    width: 32px;\n",
              "  }\n",
              "\n",
              "  .colab-df-quickchart:hover {\n",
              "    background-color: var(--hover-bg-color);\n",
              "    box-shadow: 0 1px 2px rgba(60, 64, 67, 0.3), 0 1px 3px 1px rgba(60, 64, 67, 0.15);\n",
              "    fill: var(--button-hover-fill-color);\n",
              "  }\n",
              "\n",
              "  .colab-df-quickchart-complete:disabled,\n",
              "  .colab-df-quickchart-complete:disabled:hover {\n",
              "    background-color: var(--disabled-bg-color);\n",
              "    fill: var(--disabled-fill-color);\n",
              "    box-shadow: none;\n",
              "  }\n",
              "\n",
              "  .colab-df-spinner {\n",
              "    border: 2px solid var(--fill-color);\n",
              "    border-color: transparent;\n",
              "    border-bottom-color: var(--fill-color);\n",
              "    animation:\n",
              "      spin 1s steps(1) infinite;\n",
              "  }\n",
              "\n",
              "  @keyframes spin {\n",
              "    0% {\n",
              "      border-color: transparent;\n",
              "      border-bottom-color: var(--fill-color);\n",
              "      border-left-color: var(--fill-color);\n",
              "    }\n",
              "    20% {\n",
              "      border-color: transparent;\n",
              "      border-left-color: var(--fill-color);\n",
              "      border-top-color: var(--fill-color);\n",
              "    }\n",
              "    30% {\n",
              "      border-color: transparent;\n",
              "      border-left-color: var(--fill-color);\n",
              "      border-top-color: var(--fill-color);\n",
              "      border-right-color: var(--fill-color);\n",
              "    }\n",
              "    40% {\n",
              "      border-color: transparent;\n",
              "      border-right-color: var(--fill-color);\n",
              "      border-top-color: var(--fill-color);\n",
              "    }\n",
              "    60% {\n",
              "      border-color: transparent;\n",
              "      border-right-color: var(--fill-color);\n",
              "    }\n",
              "    80% {\n",
              "      border-color: transparent;\n",
              "      border-right-color: var(--fill-color);\n",
              "      border-bottom-color: var(--fill-color);\n",
              "    }\n",
              "    90% {\n",
              "      border-color: transparent;\n",
              "      border-bottom-color: var(--fill-color);\n",
              "    }\n",
              "  }\n",
              "</style>\n",
              "\n",
              "      <script>\n",
              "        async function quickchart(key) {\n",
              "          const quickchartButtonEl =\n",
              "            document.querySelector('#' + key + ' button');\n",
              "          quickchartButtonEl.disabled = true;  // To prevent multiple clicks.\n",
              "          quickchartButtonEl.classList.add('colab-df-spinner');\n",
              "          try {\n",
              "            const charts = await google.colab.kernel.invokeFunction(\n",
              "                'suggestCharts', [key], {});\n",
              "          } catch (error) {\n",
              "            console.error('Error during call to suggestCharts:', error);\n",
              "          }\n",
              "          quickchartButtonEl.classList.remove('colab-df-spinner');\n",
              "          quickchartButtonEl.classList.add('colab-df-quickchart-complete');\n",
              "        }\n",
              "        (() => {\n",
              "          let quickchartButtonEl =\n",
              "            document.querySelector('#df-c28d1d73-fbf4-4580-94e8-7869b2b04141 button');\n",
              "          quickchartButtonEl.style.display =\n",
              "            google.colab.kernel.accessAllowed ? 'block' : 'none';\n",
              "        })();\n",
              "      </script>\n",
              "    </div>\n",
              "\n",
              "    </div>\n",
              "  </div>\n"
            ],
            "application/vnd.google.colaboratory.intrinsic+json": {
              "type": "dataframe",
              "variable_name": "df",
              "summary": "{\n  \"name\": \"df\",\n  \"rows\": 234,\n  \"fields\": [\n    {\n      \"column\": \"fuel rate\",\n      \"properties\": {\n        \"dtype\": \"number\",\n        \"std\": 14.920306400457257,\n        \"min\": 541.5,\n        \"max\": 606.8,\n        \"num_unique_values\": 199,\n        \"samples\": [\n          573.1,\n          586.1,\n          577.3\n        ],\n        \"semantic_type\": \"\",\n        \"description\": \"\"\n      }\n    },\n    {\n      \"column\": \"moisture\",\n      \"properties\": {\n        \"dtype\": \"number\",\n        \"std\": 1.7466283870008652,\n        \"min\": 4.0,\n        \"max\": 10.7,\n        \"num_unique_values\": 61,\n        \"samples\": [\n          4.0,\n          4.5,\n          8.9\n        ],\n        \"semantic_type\": \"\",\n        \"description\": \"\"\n      }\n    },\n    {\n      \"column\": \"co efficiency\",\n      \"properties\": {\n        \"dtype\": \"number\",\n        \"std\": 1.3800600272466441,\n        \"min\": 41.06,\n        \"max\": 52.29151021,\n        \"num_unique_values\": 187,\n        \"samples\": [\n          45.59,\n          45.59890467,\n          45.92\n        ],\n        \"semantic_type\": \"\",\n        \"description\": \"\"\n      }\n    },\n    {\n      \"column\": \"hot blast temp\",\n      \"properties\": {\n        \"dtype\": \"number\",\n        \"std\": 28.96961368191549,\n        \"min\": 1073.21,\n        \"max\": 1191.71,\n        \"num_unique_values\": 195,\n        \"samples\": [\n          1162.13,\n          1157.46,\n          1162.75\n        ],\n        \"semantic_type\": \"\",\n        \"description\": \"\"\n      }\n    },\n    {\n      \"column\": \"slag rate\",\n      \"properties\": {\n        \"dtype\": \"number\",\n        \"std\": 20,\n        \"min\": 419,\n        \"max\": 560,\n        \"num_unique_values\": 83,\n        \"samples\": [\n          504,\n          453,\n          505\n        ],\n        \"semantic_type\": \"\",\n        \"description\": \"\"\n      }\n    },\n    {\n      \"column\": \"flame temp\",\n      \"properties\": {\n        \"dtype\": \"number\",\n        \"std\": 65.14072934925835,\n        \"min\": 1987.0,\n        \"max\": 2329.7,\n        \"num_unique_values\": 225,\n        \"samples\": [\n          2183.3,\n          2142.4,\n          2158.9\n        ],\n        \"semantic_type\": \"\",\n        \"description\": \"\"\n      }\n    },\n    {\n      \"column\": \"top pressure\",\n      \"properties\": {\n        \"dtype\": \"number\",\n        \"std\": 0.06976444302075348,\n        \"min\": 2.14,\n        \"max\": 2.49,\n        \"num_unique_values\": 34,\n        \"samples\": [\n          2.31,\n          2.3,\n          2.15\n        ],\n        \"semantic_type\": \"\",\n        \"description\": \"\"\n      }\n    }\n  ]\n}"
            }
          },
          "metadata": {},
          "execution_count": 4
        }
      ]
    },
    {
      "cell_type": "code",
      "source": [
        "# Rename Columns\n",
        "df = df.rename(columns={\n",
        "    'ï»¿fuel rate': 'fuel_rate',\n",
        "    'fuel rate': 'fuel_rate',\n",
        "    'moisture': 'moisture',\n",
        "    'co efficiency': 'co_efficiency',\n",
        "    'hot blast temp': 'hot_blast_temp',\n",
        "    'slag rate': 'slag_rate',\n",
        "    'flame temp': 'flame_temp',\n",
        "    'top pressure': 'top_pressure'\n",
        "})\n",
        "\n",
        "print(\"Columns renamed successfully.\")\n",
        "\n",
        "# Validate and Clean Columns\n",
        "required_cols = ['moisture', 'co_efficiency', 'hot_blast_temp',\n",
        "                 'slag_rate', 'flame_temp', 'top_pressure', 'fuel_rate']\n",
        "missing_cols = [col for col in required_cols if col not in df.columns]\n",
        "if missing_cols:\n",
        "    print(f\"\\nMissing Columns: {missing_cols}. Please check your dataset.\")\n",
        "    sys.exit()\n",
        "\n",
        "df[required_cols] = df[required_cols].apply(pd.to_numeric, errors='coerce')\n",
        "df.dropna(subset=required_cols, inplace=True)\n",
        "print(\"\\nData types converted and missing values removed.\")\n",
        "print(f\"Data shape after cleaning: {df.shape}\")\n"
      ],
      "metadata": {
        "colab": {
          "base_uri": "https://localhost:8080/"
        },
        "id": "NFc-aB-S3cYZ",
        "outputId": "6f7807fa-b4c3-4a82-8f81-ddaef432ddb8"
      },
      "execution_count": 5,
      "outputs": [
        {
          "output_type": "stream",
          "name": "stdout",
          "text": [
            "Columns renamed successfully.\n",
            "\n",
            "Data types converted and missing values removed.\n",
            "Data shape after cleaning: (234, 7)\n"
          ]
        }
      ]
    },
    {
      "cell_type": "code",
      "source": [
        "Q1 = df[required_cols].quantile(0.25)\n",
        "Q3 = df[required_cols].quantile(0.75)\n",
        "IQR = Q3 - Q1\n",
        "df = df[~((df[required_cols] < (Q1 - 1.5 * IQR)) | (df[required_cols] > (Q3 + 1.5 * IQR))).any(axis=1)]\n",
        "\n",
        "print(f\"Data shape after outlier removal: {df.shape}\")\n"
      ],
      "metadata": {
        "colab": {
          "base_uri": "https://localhost:8080/"
        },
        "id": "pYX1Yzeu3kbp",
        "outputId": "b98223ea-2108-4b1d-d2e9-05e458fd3f53"
      },
      "execution_count": 6,
      "outputs": [
        {
          "output_type": "stream",
          "name": "stdout",
          "text": [
            "Data shape after outlier removal: (209, 7)\n"
          ]
        }
      ]
    },
    {
      "cell_type": "code",
      "source": [
        "fig = px.imshow(df[required_cols].corr(), text_auto=True,\n",
        "                title=\"Correlation Heatmap\", color_continuous_scale='RdBu_r')\n",
        "fig.show()"
      ],
      "metadata": {
        "colab": {
          "base_uri": "https://localhost:8080/",
          "height": 542
        },
        "id": "o0LNnoVd3omf",
        "outputId": "7b22f43b-6a64-4a02-8bee-120daca1eac4"
      },
      "execution_count": 7,
      "outputs": [
        {
          "output_type": "display_data",
          "data": {
            "text/html": [
              "<html>\n",
              "<head><meta charset=\"utf-8\" /></head>\n",
              "<body>\n",
              "    <div>            <script src=\"https://cdnjs.cloudflare.com/ajax/libs/mathjax/2.7.5/MathJax.js?config=TeX-AMS-MML_SVG\"></script><script type=\"text/javascript\">if (window.MathJax && window.MathJax.Hub && window.MathJax.Hub.Config) {window.MathJax.Hub.Config({SVG: {font: \"STIX-Web\"}});}</script>                <script type=\"text/javascript\">window.PlotlyConfig = {MathJaxConfig: 'local'};</script>\n",
              "        <script charset=\"utf-8\" src=\"https://cdn.plot.ly/plotly-2.35.2.min.js\"></script>                <div id=\"03278f1e-3f10-4c2a-9ca8-162db6baa4d8\" class=\"plotly-graph-div\" style=\"height:525px; width:100%;\"></div>            <script type=\"text/javascript\">                                    window.PLOTLYENV=window.PLOTLYENV || {};                                    if (document.getElementById(\"03278f1e-3f10-4c2a-9ca8-162db6baa4d8\")) {                    Plotly.newPlot(                        \"03278f1e-3f10-4c2a-9ca8-162db6baa4d8\",                        [{\"coloraxis\":\"coloraxis\",\"name\":\"0\",\"texttemplate\":\"%{z}\",\"x\":[\"moisture\",\"co_efficiency\",\"hot_blast_temp\",\"slag_rate\",\"flame_temp\",\"top_pressure\",\"fuel_rate\"],\"y\":[\"moisture\",\"co_efficiency\",\"hot_blast_temp\",\"slag_rate\",\"flame_temp\",\"top_pressure\",\"fuel_rate\"],\"z\":[[1.0,-0.0973356805349536,-0.22850860087903532,-0.1514854079132131,-0.26741081548884893,-0.11060614441239208,-0.2911487057028315],[-0.0973356805349536,1.0,-0.1388504794772433,-0.1260788129320122,-0.23301265256335124,0.11153502761869455,0.0008394164760390223],[-0.22850860087903532,-0.1388504794772433,1.0,0.5678927140750902,0.3299827871593424,-0.036027603336042935,0.4096489632037551],[-0.1514854079132131,-0.1260788129320122,0.5678927140750902,1.0,0.17091655912272294,0.04845123363175041,0.3884175309025594],[-0.26741081548884893,-0.23301265256335124,0.3299827871593424,0.17091655912272294,1.0,-0.0890460361201081,0.12895692613635662],[-0.11060614441239208,0.11153502761869455,-0.036027603336042935,0.04845123363175041,-0.0890460361201081,1.0,0.033716520635007415],[-0.2911487057028315,0.0008394164760390223,0.4096489632037551,0.3884175309025594,0.12895692613635662,0.033716520635007415,1.0]],\"type\":\"heatmap\",\"xaxis\":\"x\",\"yaxis\":\"y\",\"hovertemplate\":\"x: %{x}\\u003cbr\\u003ey: %{y}\\u003cbr\\u003ecolor: %{z}\\u003cextra\\u003e\\u003c\\u002fextra\\u003e\"}],                        {\"template\":{\"data\":{\"histogram2dcontour\":[{\"type\":\"histogram2dcontour\",\"colorbar\":{\"outlinewidth\":0,\"ticks\":\"\"},\"colorscale\":[[0.0,\"#0d0887\"],[0.1111111111111111,\"#46039f\"],[0.2222222222222222,\"#7201a8\"],[0.3333333333333333,\"#9c179e\"],[0.4444444444444444,\"#bd3786\"],[0.5555555555555556,\"#d8576b\"],[0.6666666666666666,\"#ed7953\"],[0.7777777777777778,\"#fb9f3a\"],[0.8888888888888888,\"#fdca26\"],[1.0,\"#f0f921\"]]}],\"choropleth\":[{\"type\":\"choropleth\",\"colorbar\":{\"outlinewidth\":0,\"ticks\":\"\"}}],\"histogram2d\":[{\"type\":\"histogram2d\",\"colorbar\":{\"outlinewidth\":0,\"ticks\":\"\"},\"colorscale\":[[0.0,\"#0d0887\"],[0.1111111111111111,\"#46039f\"],[0.2222222222222222,\"#7201a8\"],[0.3333333333333333,\"#9c179e\"],[0.4444444444444444,\"#bd3786\"],[0.5555555555555556,\"#d8576b\"],[0.6666666666666666,\"#ed7953\"],[0.7777777777777778,\"#fb9f3a\"],[0.8888888888888888,\"#fdca26\"],[1.0,\"#f0f921\"]]}],\"heatmap\":[{\"type\":\"heatmap\",\"colorbar\":{\"outlinewidth\":0,\"ticks\":\"\"},\"colorscale\":[[0.0,\"#0d0887\"],[0.1111111111111111,\"#46039f\"],[0.2222222222222222,\"#7201a8\"],[0.3333333333333333,\"#9c179e\"],[0.4444444444444444,\"#bd3786\"],[0.5555555555555556,\"#d8576b\"],[0.6666666666666666,\"#ed7953\"],[0.7777777777777778,\"#fb9f3a\"],[0.8888888888888888,\"#fdca26\"],[1.0,\"#f0f921\"]]}],\"heatmapgl\":[{\"type\":\"heatmapgl\",\"colorbar\":{\"outlinewidth\":0,\"ticks\":\"\"},\"colorscale\":[[0.0,\"#0d0887\"],[0.1111111111111111,\"#46039f\"],[0.2222222222222222,\"#7201a8\"],[0.3333333333333333,\"#9c179e\"],[0.4444444444444444,\"#bd3786\"],[0.5555555555555556,\"#d8576b\"],[0.6666666666666666,\"#ed7953\"],[0.7777777777777778,\"#fb9f3a\"],[0.8888888888888888,\"#fdca26\"],[1.0,\"#f0f921\"]]}],\"contourcarpet\":[{\"type\":\"contourcarpet\",\"colorbar\":{\"outlinewidth\":0,\"ticks\":\"\"}}],\"contour\":[{\"type\":\"contour\",\"colorbar\":{\"outlinewidth\":0,\"ticks\":\"\"},\"colorscale\":[[0.0,\"#0d0887\"],[0.1111111111111111,\"#46039f\"],[0.2222222222222222,\"#7201a8\"],[0.3333333333333333,\"#9c179e\"],[0.4444444444444444,\"#bd3786\"],[0.5555555555555556,\"#d8576b\"],[0.6666666666666666,\"#ed7953\"],[0.7777777777777778,\"#fb9f3a\"],[0.8888888888888888,\"#fdca26\"],[1.0,\"#f0f921\"]]}],\"surface\":[{\"type\":\"surface\",\"colorbar\":{\"outlinewidth\":0,\"ticks\":\"\"},\"colorscale\":[[0.0,\"#0d0887\"],[0.1111111111111111,\"#46039f\"],[0.2222222222222222,\"#7201a8\"],[0.3333333333333333,\"#9c179e\"],[0.4444444444444444,\"#bd3786\"],[0.5555555555555556,\"#d8576b\"],[0.6666666666666666,\"#ed7953\"],[0.7777777777777778,\"#fb9f3a\"],[0.8888888888888888,\"#fdca26\"],[1.0,\"#f0f921\"]]}],\"mesh3d\":[{\"type\":\"mesh3d\",\"colorbar\":{\"outlinewidth\":0,\"ticks\":\"\"}}],\"scatter\":[{\"fillpattern\":{\"fillmode\":\"overlay\",\"size\":10,\"solidity\":0.2},\"type\":\"scatter\"}],\"parcoords\":[{\"type\":\"parcoords\",\"line\":{\"colorbar\":{\"outlinewidth\":0,\"ticks\":\"\"}}}],\"scatterpolargl\":[{\"type\":\"scatterpolargl\",\"marker\":{\"colorbar\":{\"outlinewidth\":0,\"ticks\":\"\"}}}],\"bar\":[{\"error_x\":{\"color\":\"#2a3f5f\"},\"error_y\":{\"color\":\"#2a3f5f\"},\"marker\":{\"line\":{\"color\":\"#E5ECF6\",\"width\":0.5},\"pattern\":{\"fillmode\":\"overlay\",\"size\":10,\"solidity\":0.2}},\"type\":\"bar\"}],\"scattergeo\":[{\"type\":\"scattergeo\",\"marker\":{\"colorbar\":{\"outlinewidth\":0,\"ticks\":\"\"}}}],\"scatterpolar\":[{\"type\":\"scatterpolar\",\"marker\":{\"colorbar\":{\"outlinewidth\":0,\"ticks\":\"\"}}}],\"histogram\":[{\"marker\":{\"pattern\":{\"fillmode\":\"overlay\",\"size\":10,\"solidity\":0.2}},\"type\":\"histogram\"}],\"scattergl\":[{\"type\":\"scattergl\",\"marker\":{\"colorbar\":{\"outlinewidth\":0,\"ticks\":\"\"}}}],\"scatter3d\":[{\"type\":\"scatter3d\",\"line\":{\"colorbar\":{\"outlinewidth\":0,\"ticks\":\"\"}},\"marker\":{\"colorbar\":{\"outlinewidth\":0,\"ticks\":\"\"}}}],\"scattermapbox\":[{\"type\":\"scattermapbox\",\"marker\":{\"colorbar\":{\"outlinewidth\":0,\"ticks\":\"\"}}}],\"scatterternary\":[{\"type\":\"scatterternary\",\"marker\":{\"colorbar\":{\"outlinewidth\":0,\"ticks\":\"\"}}}],\"scattercarpet\":[{\"type\":\"scattercarpet\",\"marker\":{\"colorbar\":{\"outlinewidth\":0,\"ticks\":\"\"}}}],\"carpet\":[{\"aaxis\":{\"endlinecolor\":\"#2a3f5f\",\"gridcolor\":\"white\",\"linecolor\":\"white\",\"minorgridcolor\":\"white\",\"startlinecolor\":\"#2a3f5f\"},\"baxis\":{\"endlinecolor\":\"#2a3f5f\",\"gridcolor\":\"white\",\"linecolor\":\"white\",\"minorgridcolor\":\"white\",\"startlinecolor\":\"#2a3f5f\"},\"type\":\"carpet\"}],\"table\":[{\"cells\":{\"fill\":{\"color\":\"#EBF0F8\"},\"line\":{\"color\":\"white\"}},\"header\":{\"fill\":{\"color\":\"#C8D4E3\"},\"line\":{\"color\":\"white\"}},\"type\":\"table\"}],\"barpolar\":[{\"marker\":{\"line\":{\"color\":\"#E5ECF6\",\"width\":0.5},\"pattern\":{\"fillmode\":\"overlay\",\"size\":10,\"solidity\":0.2}},\"type\":\"barpolar\"}],\"pie\":[{\"automargin\":true,\"type\":\"pie\"}]},\"layout\":{\"autotypenumbers\":\"strict\",\"colorway\":[\"#636efa\",\"#EF553B\",\"#00cc96\",\"#ab63fa\",\"#FFA15A\",\"#19d3f3\",\"#FF6692\",\"#B6E880\",\"#FF97FF\",\"#FECB52\"],\"font\":{\"color\":\"#2a3f5f\"},\"hovermode\":\"closest\",\"hoverlabel\":{\"align\":\"left\"},\"paper_bgcolor\":\"white\",\"plot_bgcolor\":\"#E5ECF6\",\"polar\":{\"bgcolor\":\"#E5ECF6\",\"angularaxis\":{\"gridcolor\":\"white\",\"linecolor\":\"white\",\"ticks\":\"\"},\"radialaxis\":{\"gridcolor\":\"white\",\"linecolor\":\"white\",\"ticks\":\"\"}},\"ternary\":{\"bgcolor\":\"#E5ECF6\",\"aaxis\":{\"gridcolor\":\"white\",\"linecolor\":\"white\",\"ticks\":\"\"},\"baxis\":{\"gridcolor\":\"white\",\"linecolor\":\"white\",\"ticks\":\"\"},\"caxis\":{\"gridcolor\":\"white\",\"linecolor\":\"white\",\"ticks\":\"\"}},\"coloraxis\":{\"colorbar\":{\"outlinewidth\":0,\"ticks\":\"\"}},\"colorscale\":{\"sequential\":[[0.0,\"#0d0887\"],[0.1111111111111111,\"#46039f\"],[0.2222222222222222,\"#7201a8\"],[0.3333333333333333,\"#9c179e\"],[0.4444444444444444,\"#bd3786\"],[0.5555555555555556,\"#d8576b\"],[0.6666666666666666,\"#ed7953\"],[0.7777777777777778,\"#fb9f3a\"],[0.8888888888888888,\"#fdca26\"],[1.0,\"#f0f921\"]],\"sequentialminus\":[[0.0,\"#0d0887\"],[0.1111111111111111,\"#46039f\"],[0.2222222222222222,\"#7201a8\"],[0.3333333333333333,\"#9c179e\"],[0.4444444444444444,\"#bd3786\"],[0.5555555555555556,\"#d8576b\"],[0.6666666666666666,\"#ed7953\"],[0.7777777777777778,\"#fb9f3a\"],[0.8888888888888888,\"#fdca26\"],[1.0,\"#f0f921\"]],\"diverging\":[[0,\"#8e0152\"],[0.1,\"#c51b7d\"],[0.2,\"#de77ae\"],[0.3,\"#f1b6da\"],[0.4,\"#fde0ef\"],[0.5,\"#f7f7f7\"],[0.6,\"#e6f5d0\"],[0.7,\"#b8e186\"],[0.8,\"#7fbc41\"],[0.9,\"#4d9221\"],[1,\"#276419\"]]},\"xaxis\":{\"gridcolor\":\"white\",\"linecolor\":\"white\",\"ticks\":\"\",\"title\":{\"standoff\":15},\"zerolinecolor\":\"white\",\"automargin\":true,\"zerolinewidth\":2},\"yaxis\":{\"gridcolor\":\"white\",\"linecolor\":\"white\",\"ticks\":\"\",\"title\":{\"standoff\":15},\"zerolinecolor\":\"white\",\"automargin\":true,\"zerolinewidth\":2},\"scene\":{\"xaxis\":{\"backgroundcolor\":\"#E5ECF6\",\"gridcolor\":\"white\",\"linecolor\":\"white\",\"showbackground\":true,\"ticks\":\"\",\"zerolinecolor\":\"white\",\"gridwidth\":2},\"yaxis\":{\"backgroundcolor\":\"#E5ECF6\",\"gridcolor\":\"white\",\"linecolor\":\"white\",\"showbackground\":true,\"ticks\":\"\",\"zerolinecolor\":\"white\",\"gridwidth\":2},\"zaxis\":{\"backgroundcolor\":\"#E5ECF6\",\"gridcolor\":\"white\",\"linecolor\":\"white\",\"showbackground\":true,\"ticks\":\"\",\"zerolinecolor\":\"white\",\"gridwidth\":2}},\"shapedefaults\":{\"line\":{\"color\":\"#2a3f5f\"}},\"annotationdefaults\":{\"arrowcolor\":\"#2a3f5f\",\"arrowhead\":0,\"arrowwidth\":1},\"geo\":{\"bgcolor\":\"white\",\"landcolor\":\"#E5ECF6\",\"subunitcolor\":\"white\",\"showland\":true,\"showlakes\":true,\"lakecolor\":\"white\"},\"title\":{\"x\":0.05},\"mapbox\":{\"style\":\"light\"}}},\"xaxis\":{\"anchor\":\"y\",\"domain\":[0.0,1.0],\"scaleanchor\":\"y\",\"constrain\":\"domain\"},\"yaxis\":{\"anchor\":\"x\",\"domain\":[0.0,1.0],\"autorange\":\"reversed\",\"constrain\":\"domain\"},\"coloraxis\":{\"colorscale\":[[0.0,\"rgb(5,48,97)\"],[0.1,\"rgb(33,102,172)\"],[0.2,\"rgb(67,147,195)\"],[0.3,\"rgb(146,197,222)\"],[0.4,\"rgb(209,229,240)\"],[0.5,\"rgb(247,247,247)\"],[0.6,\"rgb(253,219,199)\"],[0.7,\"rgb(244,165,130)\"],[0.8,\"rgb(214,96,77)\"],[0.9,\"rgb(178,24,43)\"],[1.0,\"rgb(103,0,31)\"]]},\"title\":{\"text\":\"Correlation Heatmap\"}},                        {\"responsive\": true}                    ).then(function(){\n",
              "                            \n",
              "var gd = document.getElementById('03278f1e-3f10-4c2a-9ca8-162db6baa4d8');\n",
              "var x = new MutationObserver(function (mutations, observer) {{\n",
              "        var display = window.getComputedStyle(gd).display;\n",
              "        if (!display || display === 'none') {{\n",
              "            console.log([gd, 'removed!']);\n",
              "            Plotly.purge(gd);\n",
              "            observer.disconnect();\n",
              "        }}\n",
              "}});\n",
              "\n",
              "// Listen for the removal of the full notebook cells\n",
              "var notebookContainer = gd.closest('#notebook-container');\n",
              "if (notebookContainer) {{\n",
              "    x.observe(notebookContainer, {childList: true});\n",
              "}}\n",
              "\n",
              "// Listen for the clearing of the current output cell\n",
              "var outputEl = gd.closest('.output');\n",
              "if (outputEl) {{\n",
              "    x.observe(outputEl, {childList: true});\n",
              "}}\n",
              "\n",
              "                        })                };                            </script>        </div>\n",
              "</body>\n",
              "</html>"
            ]
          },
          "metadata": {}
        }
      ]
    },
    {
      "cell_type": "code",
      "source": [
        "features = ['moisture', 'co_efficiency', 'hot_blast_temp',\n",
        "            'slag_rate', 'flame_temp', 'top_pressure']\n",
        "\n",
        "for feature in features:\n",
        "    fig = px.scatter(df, x=feature, y='fuel_rate',\n",
        "                     trendline=\"ols\",\n",
        "                     title=f'{feature.replace(\"_\", \" \").title()} vs Fuel Rate',\n",
        "                     labels={feature: feature.replace('_', ' ').title(), 'fuel_rate': 'Fuel Rate'},\n",
        "                     color_discrete_sequence=['dodgerblue'])\n",
        "    fig.show()\n"
      ],
      "metadata": {
        "colab": {
          "base_uri": "https://localhost:8080/",
          "height": 1000
        },
        "id": "uvuy3ukd3tVn",
        "outputId": "fa7651c6-49e0-4423-ea3d-7e94842e9b3f"
      },
      "execution_count": 8,
      "outputs": [
        {
          "output_type": "display_data",
          "data": {
            "text/html": [
              "<html>\n",
              "<head><meta charset=\"utf-8\" /></head>\n",
              "<body>\n",
              "    <div>            <script src=\"https://cdnjs.cloudflare.com/ajax/libs/mathjax/2.7.5/MathJax.js?config=TeX-AMS-MML_SVG\"></script><script type=\"text/javascript\">if (window.MathJax && window.MathJax.Hub && window.MathJax.Hub.Config) {window.MathJax.Hub.Config({SVG: {font: \"STIX-Web\"}});}</script>                <script type=\"text/javascript\">window.PlotlyConfig = {MathJaxConfig: 'local'};</script>\n",
              "        <script charset=\"utf-8\" src=\"https://cdn.plot.ly/plotly-2.35.2.min.js\"></script>                <div id=\"8339ac80-ea7f-4382-a099-0aa55e836f34\" class=\"plotly-graph-div\" style=\"height:525px; width:100%;\"></div>            <script type=\"text/javascript\">                                    window.PLOTLYENV=window.PLOTLYENV || {};                                    if (document.getElementById(\"8339ac80-ea7f-4382-a099-0aa55e836f34\")) {                    Plotly.newPlot(                        \"8339ac80-ea7f-4382-a099-0aa55e836f34\",                        [{\"hovertemplate\":\"Moisture=%{x}\\u003cbr\\u003eFuel Rate=%{y}\\u003cextra\\u003e\\u003c\\u002fextra\\u003e\",\"legendgroup\":\"\",\"marker\":{\"color\":\"dodgerblue\",\"symbol\":\"circle\"},\"mode\":\"markers\",\"name\":\"\",\"orientation\":\"v\",\"showlegend\":false,\"x\":[4.0,4.0,4.0,4.0,4.1,4.1,4.1,4.2,4.3,4.3,4.3,4.3,4.3,4.4,4.4,4.4,4.4,4.5,4.6,4.9,4.9,4.9,4.9,4.9,5.0,5.0,5.0,5.0,5.0,5.0,5.0,5.0,5.0,5.0,5.1,5.1,5.2,5.2,5.2,5.2,5.4,5.4,5.4,5.5,5.5,5.6,5.6,5.7,5.7,5.8,5.8,5.9,5.9,6.0,6.0,6.0,6.0,6.0,6.0,6.0,6.0,6.0,6.1,6.1,6.1,6.1,6.1,6.1,6.2,6.3,6.3,6.3,6.4,6.4,6.4,6.4,6.4,6.5,6.5,6.5,6.6,6.6,6.6,6.7,6.8,6.8,6.9,6.9,6.9,7.0,7.0,7.0,7.0,7.0,7.0,7.0,7.0,7.0,7.1,7.2,7.2,7.2,7.3,7.4,7.5,7.5,7.5,7.5,7.6,7.6,7.6,7.6,7.6,7.6,7.6,7.7,7.7,7.7,7.8,7.8,7.8,7.9,7.9,7.9,7.9,7.9,7.9,7.9,7.9,7.9,8.0,8.0,8.0,8.0,8.0,8.0,8.0,8.0,8.0,8.0,8.0,8.0,8.0,8.0,8.0,8.0,8.0,8.0,8.1,8.1,8.1,8.1,8.1,8.2,8.2,8.3,8.3,8.3,8.3,8.3,8.3,8.4,8.5,8.5,8.6,8.6,8.6,8.6,8.7,8.7,8.7,8.7,8.9,9.0,9.0,9.0,9.0,9.0,9.0,9.1,9.1,9.1,9.1,9.2,9.4,9.5,9.7,9.7,9.7,9.7,9.7,9.8,9.8,9.9,9.9,9.9,10.0,10.0,10.0,10.0,10.0,10.0,10.0,10.1,10.1,10.1,10.4,10.5,10.6],\"xaxis\":\"x\",\"y\":[568.6,576.6,556.6,593.4,557.8,593.3,555.3,593.8,590.5,568.1,567.2,605.0,579.0,586.1,572.8,581.2,556.8,550.7,563.5,578.1,570.8,589.9,548.4,595.3,569.5,559.1,568.3,575.4,578.9,585.9,582.9,577.4,573.3,581.9,570.9,591.5,592.4,569.8,579.6,583.9,605.9,604.1,585.9,573.4,598.0,605.2,592.4,569.3,581.2,575.8,588.0,568.8,576.8,551.5,555.2,565.8,560.9,553.0,587.5,565.9,574.6,581.4,555.9,571.7,567.8,557.0,581.1,573.8,584.0,578.6,601.8,571.2,575.9,594.2,571.7,573.1,579.9,563.9,559.2,575.8,599.2,561.1,599.6,573.0,568.6,561.0,586.6,572.5,606.8,596.0,585.0,576.9,566.1,573.0,577.1,577.8,558.0,570.4,574.0,596.0,596.0,568.3,584.9,559.8,558.8,575.7,584.6,555.3,586.4,560.5,583.8,577.3,554.8,554.1,567.6,565.7,564.4,575.4,562.1,579.3,561.9,552.3,584.4,572.2,602.1,549.9,558.5,555.8,551.3,592.5,576.1,552.8,564.2,579.9,551.9,564.4,579.6,596.3,556.4,585.1,542.7,581.5,561.5,553.7,551.1,555.4,560.0,560.6,567.5,566.9,563.4,543.4,563.3,566.4,562.4,568.5,557.6,564.3,569.2,557.1,575.5,544.8,557.4,582.6,583.2,584.0,579.5,563.7,559.2,557.4,559.4,575.9,577.4,574.7,568.6,566.1,549.4,555.9,554.6,578.6,566.6,574.4,553.2,575.6,588.4,542.6,566.8,590.2,580.6,570.6,544.2,560.2,554.7,569.4,545.3,545.0,559.3,568.6,541.5,589.3,565.6,595.0,595.8,553.2,556.6,556.3,541.5,576.2,594.1],\"yaxis\":\"y\",\"type\":\"scatter\"},{\"hovertemplate\":\"\\u003cb\\u003eOLS trendline\\u003c\\u002fb\\u003e\\u003cbr\\u003efuel_rate = -2.53966 * moisture + 589.783\\u003cbr\\u003eR\\u003csup\\u003e2\\u003c\\u002fsup\\u003e=0.084768\\u003cbr\\u003e\\u003cbr\\u003eMoisture=%{x}\\u003cbr\\u003eFuel Rate=%{y} \\u003cb\\u003e(trend)\\u003c\\u002fb\\u003e\\u003cextra\\u003e\\u003c\\u002fextra\\u003e\",\"legendgroup\":\"\",\"marker\":{\"color\":\"dodgerblue\",\"symbol\":\"circle\"},\"mode\":\"lines\",\"name\":\"\",\"showlegend\":false,\"x\":[4.0,4.0,4.0,4.0,4.1,4.1,4.1,4.2,4.3,4.3,4.3,4.3,4.3,4.4,4.4,4.4,4.4,4.5,4.6,4.9,4.9,4.9,4.9,4.9,5.0,5.0,5.0,5.0,5.0,5.0,5.0,5.0,5.0,5.0,5.1,5.1,5.2,5.2,5.2,5.2,5.4,5.4,5.4,5.5,5.5,5.6,5.6,5.7,5.7,5.8,5.8,5.9,5.9,6.0,6.0,6.0,6.0,6.0,6.0,6.0,6.0,6.0,6.1,6.1,6.1,6.1,6.1,6.1,6.2,6.3,6.3,6.3,6.4,6.4,6.4,6.4,6.4,6.5,6.5,6.5,6.6,6.6,6.6,6.7,6.8,6.8,6.9,6.9,6.9,7.0,7.0,7.0,7.0,7.0,7.0,7.0,7.0,7.0,7.1,7.2,7.2,7.2,7.3,7.4,7.5,7.5,7.5,7.5,7.6,7.6,7.6,7.6,7.6,7.6,7.6,7.7,7.7,7.7,7.8,7.8,7.8,7.9,7.9,7.9,7.9,7.9,7.9,7.9,7.9,7.9,8.0,8.0,8.0,8.0,8.0,8.0,8.0,8.0,8.0,8.0,8.0,8.0,8.0,8.0,8.0,8.0,8.0,8.0,8.1,8.1,8.1,8.1,8.1,8.2,8.2,8.3,8.3,8.3,8.3,8.3,8.3,8.4,8.5,8.5,8.6,8.6,8.6,8.6,8.7,8.7,8.7,8.7,8.9,9.0,9.0,9.0,9.0,9.0,9.0,9.1,9.1,9.1,9.1,9.2,9.4,9.5,9.7,9.7,9.7,9.7,9.7,9.8,9.8,9.9,9.9,9.9,10.0,10.0,10.0,10.0,10.0,10.0,10.0,10.1,10.1,10.1,10.4,10.5,10.6],\"xaxis\":\"x\",\"y\":[579.6242316700213,579.6242316700213,579.6242316700213,579.6242316700213,579.3702651971761,579.3702651971761,579.3702651971761,579.1162987243308,578.8623322514856,578.8623322514856,578.8623322514856,578.8623322514856,578.8623322514856,578.6083657786403,578.6083657786403,578.6083657786403,578.6083657786403,578.354399305795,578.1004328329498,577.338533414414,577.338533414414,577.338533414414,577.338533414414,577.338533414414,577.0845669415687,577.0845669415687,577.0845669415687,577.0845669415687,577.0845669415687,577.0845669415687,577.0845669415687,577.0845669415687,577.0845669415687,577.0845669415687,576.8306004687234,576.8306004687234,576.5766339958782,576.5766339958782,576.5766339958782,576.5766339958782,576.0687010501877,576.0687010501877,576.0687010501877,575.8147345773424,575.8147345773424,575.5607681044971,575.5607681044971,575.3068016316519,575.3068016316519,575.0528351588066,575.0528351588066,574.7988686859613,574.7988686859613,574.5449022131161,574.5449022131161,574.5449022131161,574.5449022131161,574.5449022131161,574.5449022131161,574.5449022131161,574.5449022131161,574.5449022131161,574.2909357402708,574.2909357402708,574.2909357402708,574.2909357402708,574.2909357402708,574.2909357402708,574.0369692674255,573.7830027945803,573.7830027945803,573.7830027945803,573.529036321735,573.529036321735,573.529036321735,573.529036321735,573.529036321735,573.2750698488898,573.2750698488898,573.2750698488898,573.0211033760445,573.0211033760445,573.0211033760445,572.7671369031992,572.513170430354,572.513170430354,572.2592039575087,572.2592039575087,572.2592039575087,572.0052374846634,572.0052374846634,572.0052374846634,572.0052374846634,572.0052374846634,572.0052374846634,572.0052374846634,572.0052374846634,572.0052374846634,571.7512710118182,571.4973045389729,571.4973045389729,571.4973045389729,571.2433380661276,570.9893715932824,570.7354051204371,570.7354051204371,570.7354051204371,570.7354051204371,570.4814386475919,570.4814386475919,570.4814386475919,570.4814386475919,570.4814386475919,570.4814386475919,570.4814386475919,570.2274721747466,570.2274721747466,570.2274721747466,569.9735057019013,569.9735057019013,569.9735057019013,569.7195392290561,569.7195392290561,569.7195392290561,569.7195392290561,569.7195392290561,569.7195392290561,569.7195392290561,569.7195392290561,569.7195392290561,569.4655727562108,569.4655727562108,569.4655727562108,569.4655727562108,569.4655727562108,569.4655727562108,569.4655727562108,569.4655727562108,569.4655727562108,569.4655727562108,569.4655727562108,569.4655727562108,569.4655727562108,569.4655727562108,569.4655727562108,569.4655727562108,569.4655727562108,569.4655727562108,569.2116062833655,569.2116062833655,569.2116062833655,569.2116062833655,569.2116062833655,568.9576398105203,568.9576398105203,568.703673337675,568.703673337675,568.703673337675,568.703673337675,568.703673337675,568.703673337675,568.4497068648297,568.1957403919845,568.1957403919845,567.9417739191392,567.9417739191392,567.9417739191392,567.9417739191392,567.6878074462941,567.6878074462941,567.6878074462941,567.6878074462941,567.1798745006035,566.9259080277583,566.9259080277583,566.9259080277583,566.9259080277583,566.9259080277583,566.9259080277583,566.671941554913,566.671941554913,566.671941554913,566.671941554913,566.4179750820678,565.9100421363772,565.656075663532,565.1481427178414,565.1481427178414,565.1481427178414,565.1481427178414,565.1481427178414,564.8941762449962,564.8941762449962,564.6402097721509,564.6402097721509,564.6402097721509,564.3862432993056,564.3862432993056,564.3862432993056,564.3862432993056,564.3862432993056,564.3862432993056,564.3862432993056,564.1322768264604,564.1322768264604,564.1322768264604,563.3703774079246,563.1164109350793,562.8624444622341],\"yaxis\":\"y\",\"type\":\"scatter\"}],                        {\"template\":{\"data\":{\"histogram2dcontour\":[{\"type\":\"histogram2dcontour\",\"colorbar\":{\"outlinewidth\":0,\"ticks\":\"\"},\"colorscale\":[[0.0,\"#0d0887\"],[0.1111111111111111,\"#46039f\"],[0.2222222222222222,\"#7201a8\"],[0.3333333333333333,\"#9c179e\"],[0.4444444444444444,\"#bd3786\"],[0.5555555555555556,\"#d8576b\"],[0.6666666666666666,\"#ed7953\"],[0.7777777777777778,\"#fb9f3a\"],[0.8888888888888888,\"#fdca26\"],[1.0,\"#f0f921\"]]}],\"choropleth\":[{\"type\":\"choropleth\",\"colorbar\":{\"outlinewidth\":0,\"ticks\":\"\"}}],\"histogram2d\":[{\"type\":\"histogram2d\",\"colorbar\":{\"outlinewidth\":0,\"ticks\":\"\"},\"colorscale\":[[0.0,\"#0d0887\"],[0.1111111111111111,\"#46039f\"],[0.2222222222222222,\"#7201a8\"],[0.3333333333333333,\"#9c179e\"],[0.4444444444444444,\"#bd3786\"],[0.5555555555555556,\"#d8576b\"],[0.6666666666666666,\"#ed7953\"],[0.7777777777777778,\"#fb9f3a\"],[0.8888888888888888,\"#fdca26\"],[1.0,\"#f0f921\"]]}],\"heatmap\":[{\"type\":\"heatmap\",\"colorbar\":{\"outlinewidth\":0,\"ticks\":\"\"},\"colorscale\":[[0.0,\"#0d0887\"],[0.1111111111111111,\"#46039f\"],[0.2222222222222222,\"#7201a8\"],[0.3333333333333333,\"#9c179e\"],[0.4444444444444444,\"#bd3786\"],[0.5555555555555556,\"#d8576b\"],[0.6666666666666666,\"#ed7953\"],[0.7777777777777778,\"#fb9f3a\"],[0.8888888888888888,\"#fdca26\"],[1.0,\"#f0f921\"]]}],\"heatmapgl\":[{\"type\":\"heatmapgl\",\"colorbar\":{\"outlinewidth\":0,\"ticks\":\"\"},\"colorscale\":[[0.0,\"#0d0887\"],[0.1111111111111111,\"#46039f\"],[0.2222222222222222,\"#7201a8\"],[0.3333333333333333,\"#9c179e\"],[0.4444444444444444,\"#bd3786\"],[0.5555555555555556,\"#d8576b\"],[0.6666666666666666,\"#ed7953\"],[0.7777777777777778,\"#fb9f3a\"],[0.8888888888888888,\"#fdca26\"],[1.0,\"#f0f921\"]]}],\"contourcarpet\":[{\"type\":\"contourcarpet\",\"colorbar\":{\"outlinewidth\":0,\"ticks\":\"\"}}],\"contour\":[{\"type\":\"contour\",\"colorbar\":{\"outlinewidth\":0,\"ticks\":\"\"},\"colorscale\":[[0.0,\"#0d0887\"],[0.1111111111111111,\"#46039f\"],[0.2222222222222222,\"#7201a8\"],[0.3333333333333333,\"#9c179e\"],[0.4444444444444444,\"#bd3786\"],[0.5555555555555556,\"#d8576b\"],[0.6666666666666666,\"#ed7953\"],[0.7777777777777778,\"#fb9f3a\"],[0.8888888888888888,\"#fdca26\"],[1.0,\"#f0f921\"]]}],\"surface\":[{\"type\":\"surface\",\"colorbar\":{\"outlinewidth\":0,\"ticks\":\"\"},\"colorscale\":[[0.0,\"#0d0887\"],[0.1111111111111111,\"#46039f\"],[0.2222222222222222,\"#7201a8\"],[0.3333333333333333,\"#9c179e\"],[0.4444444444444444,\"#bd3786\"],[0.5555555555555556,\"#d8576b\"],[0.6666666666666666,\"#ed7953\"],[0.7777777777777778,\"#fb9f3a\"],[0.8888888888888888,\"#fdca26\"],[1.0,\"#f0f921\"]]}],\"mesh3d\":[{\"type\":\"mesh3d\",\"colorbar\":{\"outlinewidth\":0,\"ticks\":\"\"}}],\"scatter\":[{\"fillpattern\":{\"fillmode\":\"overlay\",\"size\":10,\"solidity\":0.2},\"type\":\"scatter\"}],\"parcoords\":[{\"type\":\"parcoords\",\"line\":{\"colorbar\":{\"outlinewidth\":0,\"ticks\":\"\"}}}],\"scatterpolargl\":[{\"type\":\"scatterpolargl\",\"marker\":{\"colorbar\":{\"outlinewidth\":0,\"ticks\":\"\"}}}],\"bar\":[{\"error_x\":{\"color\":\"#2a3f5f\"},\"error_y\":{\"color\":\"#2a3f5f\"},\"marker\":{\"line\":{\"color\":\"#E5ECF6\",\"width\":0.5},\"pattern\":{\"fillmode\":\"overlay\",\"size\":10,\"solidity\":0.2}},\"type\":\"bar\"}],\"scattergeo\":[{\"type\":\"scattergeo\",\"marker\":{\"colorbar\":{\"outlinewidth\":0,\"ticks\":\"\"}}}],\"scatterpolar\":[{\"type\":\"scatterpolar\",\"marker\":{\"colorbar\":{\"outlinewidth\":0,\"ticks\":\"\"}}}],\"histogram\":[{\"marker\":{\"pattern\":{\"fillmode\":\"overlay\",\"size\":10,\"solidity\":0.2}},\"type\":\"histogram\"}],\"scattergl\":[{\"type\":\"scattergl\",\"marker\":{\"colorbar\":{\"outlinewidth\":0,\"ticks\":\"\"}}}],\"scatter3d\":[{\"type\":\"scatter3d\",\"line\":{\"colorbar\":{\"outlinewidth\":0,\"ticks\":\"\"}},\"marker\":{\"colorbar\":{\"outlinewidth\":0,\"ticks\":\"\"}}}],\"scattermapbox\":[{\"type\":\"scattermapbox\",\"marker\":{\"colorbar\":{\"outlinewidth\":0,\"ticks\":\"\"}}}],\"scatterternary\":[{\"type\":\"scatterternary\",\"marker\":{\"colorbar\":{\"outlinewidth\":0,\"ticks\":\"\"}}}],\"scattercarpet\":[{\"type\":\"scattercarpet\",\"marker\":{\"colorbar\":{\"outlinewidth\":0,\"ticks\":\"\"}}}],\"carpet\":[{\"aaxis\":{\"endlinecolor\":\"#2a3f5f\",\"gridcolor\":\"white\",\"linecolor\":\"white\",\"minorgridcolor\":\"white\",\"startlinecolor\":\"#2a3f5f\"},\"baxis\":{\"endlinecolor\":\"#2a3f5f\",\"gridcolor\":\"white\",\"linecolor\":\"white\",\"minorgridcolor\":\"white\",\"startlinecolor\":\"#2a3f5f\"},\"type\":\"carpet\"}],\"table\":[{\"cells\":{\"fill\":{\"color\":\"#EBF0F8\"},\"line\":{\"color\":\"white\"}},\"header\":{\"fill\":{\"color\":\"#C8D4E3\"},\"line\":{\"color\":\"white\"}},\"type\":\"table\"}],\"barpolar\":[{\"marker\":{\"line\":{\"color\":\"#E5ECF6\",\"width\":0.5},\"pattern\":{\"fillmode\":\"overlay\",\"size\":10,\"solidity\":0.2}},\"type\":\"barpolar\"}],\"pie\":[{\"automargin\":true,\"type\":\"pie\"}]},\"layout\":{\"autotypenumbers\":\"strict\",\"colorway\":[\"#636efa\",\"#EF553B\",\"#00cc96\",\"#ab63fa\",\"#FFA15A\",\"#19d3f3\",\"#FF6692\",\"#B6E880\",\"#FF97FF\",\"#FECB52\"],\"font\":{\"color\":\"#2a3f5f\"},\"hovermode\":\"closest\",\"hoverlabel\":{\"align\":\"left\"},\"paper_bgcolor\":\"white\",\"plot_bgcolor\":\"#E5ECF6\",\"polar\":{\"bgcolor\":\"#E5ECF6\",\"angularaxis\":{\"gridcolor\":\"white\",\"linecolor\":\"white\",\"ticks\":\"\"},\"radialaxis\":{\"gridcolor\":\"white\",\"linecolor\":\"white\",\"ticks\":\"\"}},\"ternary\":{\"bgcolor\":\"#E5ECF6\",\"aaxis\":{\"gridcolor\":\"white\",\"linecolor\":\"white\",\"ticks\":\"\"},\"baxis\":{\"gridcolor\":\"white\",\"linecolor\":\"white\",\"ticks\":\"\"},\"caxis\":{\"gridcolor\":\"white\",\"linecolor\":\"white\",\"ticks\":\"\"}},\"coloraxis\":{\"colorbar\":{\"outlinewidth\":0,\"ticks\":\"\"}},\"colorscale\":{\"sequential\":[[0.0,\"#0d0887\"],[0.1111111111111111,\"#46039f\"],[0.2222222222222222,\"#7201a8\"],[0.3333333333333333,\"#9c179e\"],[0.4444444444444444,\"#bd3786\"],[0.5555555555555556,\"#d8576b\"],[0.6666666666666666,\"#ed7953\"],[0.7777777777777778,\"#fb9f3a\"],[0.8888888888888888,\"#fdca26\"],[1.0,\"#f0f921\"]],\"sequentialminus\":[[0.0,\"#0d0887\"],[0.1111111111111111,\"#46039f\"],[0.2222222222222222,\"#7201a8\"],[0.3333333333333333,\"#9c179e\"],[0.4444444444444444,\"#bd3786\"],[0.5555555555555556,\"#d8576b\"],[0.6666666666666666,\"#ed7953\"],[0.7777777777777778,\"#fb9f3a\"],[0.8888888888888888,\"#fdca26\"],[1.0,\"#f0f921\"]],\"diverging\":[[0,\"#8e0152\"],[0.1,\"#c51b7d\"],[0.2,\"#de77ae\"],[0.3,\"#f1b6da\"],[0.4,\"#fde0ef\"],[0.5,\"#f7f7f7\"],[0.6,\"#e6f5d0\"],[0.7,\"#b8e186\"],[0.8,\"#7fbc41\"],[0.9,\"#4d9221\"],[1,\"#276419\"]]},\"xaxis\":{\"gridcolor\":\"white\",\"linecolor\":\"white\",\"ticks\":\"\",\"title\":{\"standoff\":15},\"zerolinecolor\":\"white\",\"automargin\":true,\"zerolinewidth\":2},\"yaxis\":{\"gridcolor\":\"white\",\"linecolor\":\"white\",\"ticks\":\"\",\"title\":{\"standoff\":15},\"zerolinecolor\":\"white\",\"automargin\":true,\"zerolinewidth\":2},\"scene\":{\"xaxis\":{\"backgroundcolor\":\"#E5ECF6\",\"gridcolor\":\"white\",\"linecolor\":\"white\",\"showbackground\":true,\"ticks\":\"\",\"zerolinecolor\":\"white\",\"gridwidth\":2},\"yaxis\":{\"backgroundcolor\":\"#E5ECF6\",\"gridcolor\":\"white\",\"linecolor\":\"white\",\"showbackground\":true,\"ticks\":\"\",\"zerolinecolor\":\"white\",\"gridwidth\":2},\"zaxis\":{\"backgroundcolor\":\"#E5ECF6\",\"gridcolor\":\"white\",\"linecolor\":\"white\",\"showbackground\":true,\"ticks\":\"\",\"zerolinecolor\":\"white\",\"gridwidth\":2}},\"shapedefaults\":{\"line\":{\"color\":\"#2a3f5f\"}},\"annotationdefaults\":{\"arrowcolor\":\"#2a3f5f\",\"arrowhead\":0,\"arrowwidth\":1},\"geo\":{\"bgcolor\":\"white\",\"landcolor\":\"#E5ECF6\",\"subunitcolor\":\"white\",\"showland\":true,\"showlakes\":true,\"lakecolor\":\"white\"},\"title\":{\"x\":0.05},\"mapbox\":{\"style\":\"light\"}}},\"xaxis\":{\"anchor\":\"y\",\"domain\":[0.0,1.0],\"title\":{\"text\":\"Moisture\"}},\"yaxis\":{\"anchor\":\"x\",\"domain\":[0.0,1.0],\"title\":{\"text\":\"Fuel Rate\"}},\"legend\":{\"tracegroupgap\":0},\"title\":{\"text\":\"Moisture vs Fuel Rate\"}},                        {\"responsive\": true}                    ).then(function(){\n",
              "                            \n",
              "var gd = document.getElementById('8339ac80-ea7f-4382-a099-0aa55e836f34');\n",
              "var x = new MutationObserver(function (mutations, observer) {{\n",
              "        var display = window.getComputedStyle(gd).display;\n",
              "        if (!display || display === 'none') {{\n",
              "            console.log([gd, 'removed!']);\n",
              "            Plotly.purge(gd);\n",
              "            observer.disconnect();\n",
              "        }}\n",
              "}});\n",
              "\n",
              "// Listen for the removal of the full notebook cells\n",
              "var notebookContainer = gd.closest('#notebook-container');\n",
              "if (notebookContainer) {{\n",
              "    x.observe(notebookContainer, {childList: true});\n",
              "}}\n",
              "\n",
              "// Listen for the clearing of the current output cell\n",
              "var outputEl = gd.closest('.output');\n",
              "if (outputEl) {{\n",
              "    x.observe(outputEl, {childList: true});\n",
              "}}\n",
              "\n",
              "                        })                };                            </script>        </div>\n",
              "</body>\n",
              "</html>"
            ]
          },
          "metadata": {}
        },
        {
          "output_type": "display_data",
          "data": {
            "text/html": [
              "<html>\n",
              "<head><meta charset=\"utf-8\" /></head>\n",
              "<body>\n",
              "    <div>            <script src=\"https://cdnjs.cloudflare.com/ajax/libs/mathjax/2.7.5/MathJax.js?config=TeX-AMS-MML_SVG\"></script><script type=\"text/javascript\">if (window.MathJax && window.MathJax.Hub && window.MathJax.Hub.Config) {window.MathJax.Hub.Config({SVG: {font: \"STIX-Web\"}});}</script>                <script type=\"text/javascript\">window.PlotlyConfig = {MathJaxConfig: 'local'};</script>\n",
              "        <script charset=\"utf-8\" src=\"https://cdn.plot.ly/plotly-2.35.2.min.js\"></script>                <div id=\"f269ee65-ffb7-4f90-86e4-58937ba02729\" class=\"plotly-graph-div\" style=\"height:525px; width:100%;\"></div>            <script type=\"text/javascript\">                                    window.PLOTLYENV=window.PLOTLYENV || {};                                    if (document.getElementById(\"f269ee65-ffb7-4f90-86e4-58937ba02729\")) {                    Plotly.newPlot(                        \"f269ee65-ffb7-4f90-86e4-58937ba02729\",                        [{\"hovertemplate\":\"Co Efficiency=%{x}\\u003cbr\\u003eFuel Rate=%{y}\\u003cextra\\u003e\\u003c\\u002fextra\\u003e\",\"legendgroup\":\"\",\"marker\":{\"color\":\"dodgerblue\",\"symbol\":\"circle\"},\"mode\":\"markers\",\"name\":\"\",\"orientation\":\"v\",\"showlegend\":false,\"x\":[46.35105846,45.25,46.19343022,43.62,46.5,45.78,47.49,45.77,46.6,45.61,45.24,45.84,46.93,47.92,48.83,47.03,46.37,46.26,46.36,45.48,44.05,45.45,43.51,44.6,46.68,44.1,47.67,46.99570107,43.45,44.86,46.54,47.07,45.5,46.95,45.11,46.39,45.45,46.44,46.08,46.95,46.01,45.67,47.32,46.65,46.9,45.99,45.95,43.58,46.37,48.71,48.82,48.32477414,45.92,46.1,47.85,46.09,47.25,44.66477484,44.77,47.13,47.69,48.21688208,45.8,45.09,47.28,46.58,47.11,48.07580636,45.87,45.02,46.21161609,46.76189379,45.59890467,45.26,45.79450341,46.43,44.99,45.35,44.64,47.49,43.83,45.19,47.76,47.03,44.97,44.59,43.28,47.11,45.9,45.16,47.6,48.19437556,47.00779869,47.24,46.89,46.57330036,47.42,46.32375465,47.48,46.65,44.09,46.1,45.29,44.81,44.04,45.15,47.05,49.07946012,46.56,47.19,45.34,45.71,48.36341427,44.52,45.87977508,47.1,44.28,47.98,45.51,46.3,45.47,46.03,46.22,43.46,46.76,46.80477851,44.98,46.71949945,46.58,45.29,46.65511495,46.1,43.31,45.76,45.00265545,45.92,44.34,46.71422802,47.24,44.9,45.85,43.52,44.8,46.16,45.12,46.76,43.36,46.38459054,45.35,44.72,45.21,46.92,46.13398658,45.12,47.83,45.79,47.98,47.39,46.1,45.09,46.75,45.2,46.73,47.69,46.38,45.73521968,44.4,46.37,45.24,48.0,45.95,46.95,47.98,46.43,44.26,46.3,45.66,46.63,45.02,44.28,43.72,44.67,46.5,45.24,44.9,45.77,46.34,46.36,43.1,44.92,45.52,44.98,46.71,47.95,46.06,46.35,44.29,47.1,44.83,46.24,46.6,44.21,47.74,46.49,45.45,45.89,45.59,46.17,46.35],\"xaxis\":\"x\",\"y\":[568.6,576.6,556.6,593.4,557.8,593.3,555.3,593.8,590.5,568.1,567.2,605.0,579.0,586.1,572.8,581.2,556.8,550.7,563.5,578.1,570.8,589.9,548.4,595.3,569.5,559.1,568.3,575.4,578.9,585.9,582.9,577.4,573.3,581.9,570.9,591.5,592.4,569.8,579.6,583.9,605.9,604.1,585.9,573.4,598.0,605.2,592.4,569.3,581.2,575.8,588.0,568.8,576.8,551.5,555.2,565.8,560.9,553.0,587.5,565.9,574.6,581.4,555.9,571.7,567.8,557.0,581.1,573.8,584.0,578.6,601.8,571.2,575.9,594.2,571.7,573.1,579.9,563.9,559.2,575.8,599.2,561.1,599.6,573.0,568.6,561.0,586.6,572.5,606.8,596.0,585.0,576.9,566.1,573.0,577.1,577.8,558.0,570.4,574.0,596.0,596.0,568.3,584.9,559.8,558.8,575.7,584.6,555.3,586.4,560.5,583.8,577.3,554.8,554.1,567.6,565.7,564.4,575.4,562.1,579.3,561.9,552.3,584.4,572.2,602.1,549.9,558.5,555.8,551.3,592.5,576.1,552.8,564.2,579.9,551.9,564.4,579.6,596.3,556.4,585.1,542.7,581.5,561.5,553.7,551.1,555.4,560.0,560.6,567.5,566.9,563.4,543.4,563.3,566.4,562.4,568.5,557.6,564.3,569.2,557.1,575.5,544.8,557.4,582.6,583.2,584.0,579.5,563.7,559.2,557.4,559.4,575.9,577.4,574.7,568.6,566.1,549.4,555.9,554.6,578.6,566.6,574.4,553.2,575.6,588.4,542.6,566.8,590.2,580.6,570.6,544.2,560.2,554.7,569.4,545.3,545.0,559.3,568.6,541.5,589.3,565.6,595.0,595.8,553.2,556.6,556.3,541.5,576.2,594.1],\"yaxis\":\"y\",\"type\":\"scatter\"},{\"hovertemplate\":\"\\u003cb\\u003eOLS trendline\\u003c\\u002fb\\u003e\\u003cbr\\u003efuel_rate = 0.0102098 * co_efficiency + 571.123\\u003cbr\\u003eR\\u003csup\\u003e2\\u003c\\u002fsup\\u003e=0.000001\\u003cbr\\u003e\\u003cbr\\u003eCo Efficiency=%{x}\\u003cbr\\u003eFuel Rate=%{y} \\u003cb\\u003e(trend)\\u003c\\u002fb\\u003e\\u003cextra\\u003e\\u003c\\u002fextra\\u003e\",\"legendgroup\":\"\",\"marker\":{\"color\":\"dodgerblue\",\"symbol\":\"circle\"},\"mode\":\"lines\",\"name\":\"\",\"showlegend\":false,\"x\":[43.1,43.28,43.31,43.36,43.45,43.46,43.51,43.52,43.58,43.62,43.72,43.83,44.04,44.05,44.09,44.1,44.21,44.26,44.28,44.28,44.29,44.34,44.4,44.52,44.59,44.6,44.64,44.66477484,44.67,44.72,44.77,44.8,44.81,44.83,44.86,44.9,44.9,44.92,44.97,44.98,44.98,44.99,45.00265545,45.02,45.02,45.09,45.09,45.11,45.12,45.12,45.15,45.16,45.19,45.2,45.21,45.24,45.24,45.24,45.25,45.26,45.29,45.29,45.34,45.35,45.35,45.45,45.45,45.45,45.47,45.48,45.5,45.51,45.52,45.59,45.59890467,45.61,45.66,45.67,45.71,45.73521968,45.76,45.77,45.77,45.78,45.79,45.79450341,45.8,45.84,45.85,45.87,45.87977508,45.89,45.9,45.92,45.92,45.95,45.95,45.99,46.01,46.03,46.06,46.08,46.09,46.1,46.1,46.1,46.1,46.13398658,46.16,46.17,46.19343022,46.21161609,46.22,46.24,46.26,46.3,46.3,46.32375465,46.34,46.35,46.35,46.35105846,46.36,46.36,46.37,46.37,46.37,46.38,46.38459054,46.39,46.43,46.43,46.44,46.49,46.5,46.5,46.54,46.56,46.57330036,46.58,46.58,46.6,46.6,46.63,46.65,46.65,46.65511495,46.68,46.71,46.71422802,46.71949945,46.73,46.75,46.76,46.76,46.76189379,46.80477851,46.89,46.9,46.92,46.93,46.95,46.95,46.95,46.99570107,47.00779869,47.03,47.03,47.05,47.07,47.1,47.1,47.11,47.11,47.13,47.19,47.24,47.24,47.25,47.28,47.32,47.39,47.42,47.48,47.49,47.49,47.6,47.67,47.69,47.69,47.74,47.76,47.83,47.85,47.92,47.95,47.98,47.98,47.98,48.0,48.07580636,48.19437556,48.21688208,48.32477414,48.36341427,48.71,48.82,48.83,49.07946012],\"xaxis\":\"x\",\"y\":[571.563449620725,571.5652873880955,571.5655936826572,571.5661041735934,571.5670230572787,571.567125155466,571.5676356464022,571.5677377445894,571.5683503337129,571.568758726462,571.5697797083344,571.5709027883942,571.5730468503264,571.5731489485137,571.5735573412627,571.5736594394499,571.5747825195097,571.5752930104459,571.5754972068204,571.5754972068204,571.5755993050076,571.5761097959439,571.5767223850673,571.5779475633144,571.5786622506251,571.5787643488123,571.5791727415614,571.5794256881867,571.5794790361231,571.5799895270594,571.5805000179956,571.5808063125573,571.5809084107447,571.581112607119,571.5814189016809,571.5818272944299,571.5818272944299,571.5820314908043,571.5825419817406,571.5826440799278,571.5826440799278,571.5827461781151,571.5828753879655,571.5830524726769,571.5830524726769,571.5837671599876,571.5837671599876,571.5839713563621,571.5840734545493,571.5840734545493,571.5843797491111,571.5844818472983,571.58478814186,571.5848902400473,571.5849923382345,571.5852986327964,571.5852986327964,571.5852986327964,571.5854007309836,571.5855028291709,571.5858091237326,571.5858091237326,571.5863196146688,571.5864217128561,571.5864217128561,571.5874426947286,571.5874426947286,571.5874426947286,571.5876468911031,571.5877489892903,571.5879531856648,571.5880552838521,571.5881573820393,571.58887206935,571.5889629844165,571.5890762657245,571.5895867566608,571.5896888548481,571.5900972475971,571.5903547359582,571.5906077385333,571.5907098367205,571.5907098367205,571.5908119349078,571.590914033095,571.5909600120948,571.5910161312823,571.5914245240313,571.5915266222186,571.5917308185931,571.5918306203879,571.5919350149676,571.5920371131548,571.5922413095293,571.5922413095293,571.592547604091,571.592547604091,571.59295599684,571.5931601932145,571.593364389589,571.5936706841508,571.5938748805253,571.5939769787125,571.5940790768998,571.5940790768998,571.5940790768998,571.5940790768998,571.5944260737207,571.5946916660233,571.5947937642105,571.5950329825095,571.5952186569455,571.5953042551467,571.5955084515213,571.5957126478958,571.5961210406448,571.5961210406448,571.5963635713151,571.5965294333938,571.596631531581,571.596631531581,571.5966423382657,571.5967336297682,571.5967336297682,571.5968357279555,571.5968357279555,571.5968357279555,571.5969378261427,571.596984694724,571.59703992433,571.597448317079,571.597448317079,571.5975504152663,571.5980609062025,571.5981630043898,571.5981630043898,571.5985713971387,571.5987755935132,571.5989113877778,571.5989797898877,571.5989797898877,571.5991839862622,571.5991839862622,571.5994902808239,571.5996944771985,571.5996944771985,571.5997466999107,571.6000007717603,571.600307066322,571.6003502336398,571.6004040539844,571.6005112626965,571.600715459071,571.6008175572582,571.6008175572582,571.6008368925109,571.6012747377281,571.6021448336925,571.6022469318797,571.6024511282542,571.6025532264415,571.602757422816,571.602757422816,571.602757422816,571.6032240224562,571.6033475369634,571.603574208314,571.603574208314,571.6037784046885,571.603982601063,571.6042888956247,571.6042888956247,571.604390993812,571.604390993812,571.6045951901865,571.6052077793099,571.6057182702463,571.6057182702463,571.6058203684335,571.6061266629952,571.6065350557442,571.6072497430549,571.6075560376167,571.6081686267402,571.6082707249275,571.6082707249275,571.6093938049872,571.610108492298,571.6103126886725,571.6103126886725,571.6108231796087,571.6110273759832,571.611742063294,571.6119462596685,571.6126609469792,571.6129672415409,571.6132735361026,571.6132735361026,571.6132735361026,571.6134777324771,571.6142517016709,571.6154622717094,571.6156920591986,571.6167936175731,571.6171881262959,571.6207267037719,571.6218497838316,571.6219518820188,571.6244988246232],\"yaxis\":\"y\",\"type\":\"scatter\"}],                        {\"template\":{\"data\":{\"histogram2dcontour\":[{\"type\":\"histogram2dcontour\",\"colorbar\":{\"outlinewidth\":0,\"ticks\":\"\"},\"colorscale\":[[0.0,\"#0d0887\"],[0.1111111111111111,\"#46039f\"],[0.2222222222222222,\"#7201a8\"],[0.3333333333333333,\"#9c179e\"],[0.4444444444444444,\"#bd3786\"],[0.5555555555555556,\"#d8576b\"],[0.6666666666666666,\"#ed7953\"],[0.7777777777777778,\"#fb9f3a\"],[0.8888888888888888,\"#fdca26\"],[1.0,\"#f0f921\"]]}],\"choropleth\":[{\"type\":\"choropleth\",\"colorbar\":{\"outlinewidth\":0,\"ticks\":\"\"}}],\"histogram2d\":[{\"type\":\"histogram2d\",\"colorbar\":{\"outlinewidth\":0,\"ticks\":\"\"},\"colorscale\":[[0.0,\"#0d0887\"],[0.1111111111111111,\"#46039f\"],[0.2222222222222222,\"#7201a8\"],[0.3333333333333333,\"#9c179e\"],[0.4444444444444444,\"#bd3786\"],[0.5555555555555556,\"#d8576b\"],[0.6666666666666666,\"#ed7953\"],[0.7777777777777778,\"#fb9f3a\"],[0.8888888888888888,\"#fdca26\"],[1.0,\"#f0f921\"]]}],\"heatmap\":[{\"type\":\"heatmap\",\"colorbar\":{\"outlinewidth\":0,\"ticks\":\"\"},\"colorscale\":[[0.0,\"#0d0887\"],[0.1111111111111111,\"#46039f\"],[0.2222222222222222,\"#7201a8\"],[0.3333333333333333,\"#9c179e\"],[0.4444444444444444,\"#bd3786\"],[0.5555555555555556,\"#d8576b\"],[0.6666666666666666,\"#ed7953\"],[0.7777777777777778,\"#fb9f3a\"],[0.8888888888888888,\"#fdca26\"],[1.0,\"#f0f921\"]]}],\"heatmapgl\":[{\"type\":\"heatmapgl\",\"colorbar\":{\"outlinewidth\":0,\"ticks\":\"\"},\"colorscale\":[[0.0,\"#0d0887\"],[0.1111111111111111,\"#46039f\"],[0.2222222222222222,\"#7201a8\"],[0.3333333333333333,\"#9c179e\"],[0.4444444444444444,\"#bd3786\"],[0.5555555555555556,\"#d8576b\"],[0.6666666666666666,\"#ed7953\"],[0.7777777777777778,\"#fb9f3a\"],[0.8888888888888888,\"#fdca26\"],[1.0,\"#f0f921\"]]}],\"contourcarpet\":[{\"type\":\"contourcarpet\",\"colorbar\":{\"outlinewidth\":0,\"ticks\":\"\"}}],\"contour\":[{\"type\":\"contour\",\"colorbar\":{\"outlinewidth\":0,\"ticks\":\"\"},\"colorscale\":[[0.0,\"#0d0887\"],[0.1111111111111111,\"#46039f\"],[0.2222222222222222,\"#7201a8\"],[0.3333333333333333,\"#9c179e\"],[0.4444444444444444,\"#bd3786\"],[0.5555555555555556,\"#d8576b\"],[0.6666666666666666,\"#ed7953\"],[0.7777777777777778,\"#fb9f3a\"],[0.8888888888888888,\"#fdca26\"],[1.0,\"#f0f921\"]]}],\"surface\":[{\"type\":\"surface\",\"colorbar\":{\"outlinewidth\":0,\"ticks\":\"\"},\"colorscale\":[[0.0,\"#0d0887\"],[0.1111111111111111,\"#46039f\"],[0.2222222222222222,\"#7201a8\"],[0.3333333333333333,\"#9c179e\"],[0.4444444444444444,\"#bd3786\"],[0.5555555555555556,\"#d8576b\"],[0.6666666666666666,\"#ed7953\"],[0.7777777777777778,\"#fb9f3a\"],[0.8888888888888888,\"#fdca26\"],[1.0,\"#f0f921\"]]}],\"mesh3d\":[{\"type\":\"mesh3d\",\"colorbar\":{\"outlinewidth\":0,\"ticks\":\"\"}}],\"scatter\":[{\"fillpattern\":{\"fillmode\":\"overlay\",\"size\":10,\"solidity\":0.2},\"type\":\"scatter\"}],\"parcoords\":[{\"type\":\"parcoords\",\"line\":{\"colorbar\":{\"outlinewidth\":0,\"ticks\":\"\"}}}],\"scatterpolargl\":[{\"type\":\"scatterpolargl\",\"marker\":{\"colorbar\":{\"outlinewidth\":0,\"ticks\":\"\"}}}],\"bar\":[{\"error_x\":{\"color\":\"#2a3f5f\"},\"error_y\":{\"color\":\"#2a3f5f\"},\"marker\":{\"line\":{\"color\":\"#E5ECF6\",\"width\":0.5},\"pattern\":{\"fillmode\":\"overlay\",\"size\":10,\"solidity\":0.2}},\"type\":\"bar\"}],\"scattergeo\":[{\"type\":\"scattergeo\",\"marker\":{\"colorbar\":{\"outlinewidth\":0,\"ticks\":\"\"}}}],\"scatterpolar\":[{\"type\":\"scatterpolar\",\"marker\":{\"colorbar\":{\"outlinewidth\":0,\"ticks\":\"\"}}}],\"histogram\":[{\"marker\":{\"pattern\":{\"fillmode\":\"overlay\",\"size\":10,\"solidity\":0.2}},\"type\":\"histogram\"}],\"scattergl\":[{\"type\":\"scattergl\",\"marker\":{\"colorbar\":{\"outlinewidth\":0,\"ticks\":\"\"}}}],\"scatter3d\":[{\"type\":\"scatter3d\",\"line\":{\"colorbar\":{\"outlinewidth\":0,\"ticks\":\"\"}},\"marker\":{\"colorbar\":{\"outlinewidth\":0,\"ticks\":\"\"}}}],\"scattermapbox\":[{\"type\":\"scattermapbox\",\"marker\":{\"colorbar\":{\"outlinewidth\":0,\"ticks\":\"\"}}}],\"scatterternary\":[{\"type\":\"scatterternary\",\"marker\":{\"colorbar\":{\"outlinewidth\":0,\"ticks\":\"\"}}}],\"scattercarpet\":[{\"type\":\"scattercarpet\",\"marker\":{\"colorbar\":{\"outlinewidth\":0,\"ticks\":\"\"}}}],\"carpet\":[{\"aaxis\":{\"endlinecolor\":\"#2a3f5f\",\"gridcolor\":\"white\",\"linecolor\":\"white\",\"minorgridcolor\":\"white\",\"startlinecolor\":\"#2a3f5f\"},\"baxis\":{\"endlinecolor\":\"#2a3f5f\",\"gridcolor\":\"white\",\"linecolor\":\"white\",\"minorgridcolor\":\"white\",\"startlinecolor\":\"#2a3f5f\"},\"type\":\"carpet\"}],\"table\":[{\"cells\":{\"fill\":{\"color\":\"#EBF0F8\"},\"line\":{\"color\":\"white\"}},\"header\":{\"fill\":{\"color\":\"#C8D4E3\"},\"line\":{\"color\":\"white\"}},\"type\":\"table\"}],\"barpolar\":[{\"marker\":{\"line\":{\"color\":\"#E5ECF6\",\"width\":0.5},\"pattern\":{\"fillmode\":\"overlay\",\"size\":10,\"solidity\":0.2}},\"type\":\"barpolar\"}],\"pie\":[{\"automargin\":true,\"type\":\"pie\"}]},\"layout\":{\"autotypenumbers\":\"strict\",\"colorway\":[\"#636efa\",\"#EF553B\",\"#00cc96\",\"#ab63fa\",\"#FFA15A\",\"#19d3f3\",\"#FF6692\",\"#B6E880\",\"#FF97FF\",\"#FECB52\"],\"font\":{\"color\":\"#2a3f5f\"},\"hovermode\":\"closest\",\"hoverlabel\":{\"align\":\"left\"},\"paper_bgcolor\":\"white\",\"plot_bgcolor\":\"#E5ECF6\",\"polar\":{\"bgcolor\":\"#E5ECF6\",\"angularaxis\":{\"gridcolor\":\"white\",\"linecolor\":\"white\",\"ticks\":\"\"},\"radialaxis\":{\"gridcolor\":\"white\",\"linecolor\":\"white\",\"ticks\":\"\"}},\"ternary\":{\"bgcolor\":\"#E5ECF6\",\"aaxis\":{\"gridcolor\":\"white\",\"linecolor\":\"white\",\"ticks\":\"\"},\"baxis\":{\"gridcolor\":\"white\",\"linecolor\":\"white\",\"ticks\":\"\"},\"caxis\":{\"gridcolor\":\"white\",\"linecolor\":\"white\",\"ticks\":\"\"}},\"coloraxis\":{\"colorbar\":{\"outlinewidth\":0,\"ticks\":\"\"}},\"colorscale\":{\"sequential\":[[0.0,\"#0d0887\"],[0.1111111111111111,\"#46039f\"],[0.2222222222222222,\"#7201a8\"],[0.3333333333333333,\"#9c179e\"],[0.4444444444444444,\"#bd3786\"],[0.5555555555555556,\"#d8576b\"],[0.6666666666666666,\"#ed7953\"],[0.7777777777777778,\"#fb9f3a\"],[0.8888888888888888,\"#fdca26\"],[1.0,\"#f0f921\"]],\"sequentialminus\":[[0.0,\"#0d0887\"],[0.1111111111111111,\"#46039f\"],[0.2222222222222222,\"#7201a8\"],[0.3333333333333333,\"#9c179e\"],[0.4444444444444444,\"#bd3786\"],[0.5555555555555556,\"#d8576b\"],[0.6666666666666666,\"#ed7953\"],[0.7777777777777778,\"#fb9f3a\"],[0.8888888888888888,\"#fdca26\"],[1.0,\"#f0f921\"]],\"diverging\":[[0,\"#8e0152\"],[0.1,\"#c51b7d\"],[0.2,\"#de77ae\"],[0.3,\"#f1b6da\"],[0.4,\"#fde0ef\"],[0.5,\"#f7f7f7\"],[0.6,\"#e6f5d0\"],[0.7,\"#b8e186\"],[0.8,\"#7fbc41\"],[0.9,\"#4d9221\"],[1,\"#276419\"]]},\"xaxis\":{\"gridcolor\":\"white\",\"linecolor\":\"white\",\"ticks\":\"\",\"title\":{\"standoff\":15},\"zerolinecolor\":\"white\",\"automargin\":true,\"zerolinewidth\":2},\"yaxis\":{\"gridcolor\":\"white\",\"linecolor\":\"white\",\"ticks\":\"\",\"title\":{\"standoff\":15},\"zerolinecolor\":\"white\",\"automargin\":true,\"zerolinewidth\":2},\"scene\":{\"xaxis\":{\"backgroundcolor\":\"#E5ECF6\",\"gridcolor\":\"white\",\"linecolor\":\"white\",\"showbackground\":true,\"ticks\":\"\",\"zerolinecolor\":\"white\",\"gridwidth\":2},\"yaxis\":{\"backgroundcolor\":\"#E5ECF6\",\"gridcolor\":\"white\",\"linecolor\":\"white\",\"showbackground\":true,\"ticks\":\"\",\"zerolinecolor\":\"white\",\"gridwidth\":2},\"zaxis\":{\"backgroundcolor\":\"#E5ECF6\",\"gridcolor\":\"white\",\"linecolor\":\"white\",\"showbackground\":true,\"ticks\":\"\",\"zerolinecolor\":\"white\",\"gridwidth\":2}},\"shapedefaults\":{\"line\":{\"color\":\"#2a3f5f\"}},\"annotationdefaults\":{\"arrowcolor\":\"#2a3f5f\",\"arrowhead\":0,\"arrowwidth\":1},\"geo\":{\"bgcolor\":\"white\",\"landcolor\":\"#E5ECF6\",\"subunitcolor\":\"white\",\"showland\":true,\"showlakes\":true,\"lakecolor\":\"white\"},\"title\":{\"x\":0.05},\"mapbox\":{\"style\":\"light\"}}},\"xaxis\":{\"anchor\":\"y\",\"domain\":[0.0,1.0],\"title\":{\"text\":\"Co Efficiency\"}},\"yaxis\":{\"anchor\":\"x\",\"domain\":[0.0,1.0],\"title\":{\"text\":\"Fuel Rate\"}},\"legend\":{\"tracegroupgap\":0},\"title\":{\"text\":\"Co Efficiency vs Fuel Rate\"}},                        {\"responsive\": true}                    ).then(function(){\n",
              "                            \n",
              "var gd = document.getElementById('f269ee65-ffb7-4f90-86e4-58937ba02729');\n",
              "var x = new MutationObserver(function (mutations, observer) {{\n",
              "        var display = window.getComputedStyle(gd).display;\n",
              "        if (!display || display === 'none') {{\n",
              "            console.log([gd, 'removed!']);\n",
              "            Plotly.purge(gd);\n",
              "            observer.disconnect();\n",
              "        }}\n",
              "}});\n",
              "\n",
              "// Listen for the removal of the full notebook cells\n",
              "var notebookContainer = gd.closest('#notebook-container');\n",
              "if (notebookContainer) {{\n",
              "    x.observe(notebookContainer, {childList: true});\n",
              "}}\n",
              "\n",
              "// Listen for the clearing of the current output cell\n",
              "var outputEl = gd.closest('.output');\n",
              "if (outputEl) {{\n",
              "    x.observe(outputEl, {childList: true});\n",
              "}}\n",
              "\n",
              "                        })                };                            </script>        </div>\n",
              "</body>\n",
              "</html>"
            ]
          },
          "metadata": {}
        },
        {
          "output_type": "display_data",
          "data": {
            "text/html": [
              "<html>\n",
              "<head><meta charset=\"utf-8\" /></head>\n",
              "<body>\n",
              "    <div>            <script src=\"https://cdnjs.cloudflare.com/ajax/libs/mathjax/2.7.5/MathJax.js?config=TeX-AMS-MML_SVG\"></script><script type=\"text/javascript\">if (window.MathJax && window.MathJax.Hub && window.MathJax.Hub.Config) {window.MathJax.Hub.Config({SVG: {font: \"STIX-Web\"}});}</script>                <script type=\"text/javascript\">window.PlotlyConfig = {MathJaxConfig: 'local'};</script>\n",
              "        <script charset=\"utf-8\" src=\"https://cdn.plot.ly/plotly-2.35.2.min.js\"></script>                <div id=\"14ea5503-8daf-49a6-bf71-116907fd2076\" class=\"plotly-graph-div\" style=\"height:525px; width:100%;\"></div>            <script type=\"text/javascript\">                                    window.PLOTLYENV=window.PLOTLYENV || {};                                    if (document.getElementById(\"14ea5503-8daf-49a6-bf71-116907fd2076\")) {                    Plotly.newPlot(                        \"14ea5503-8daf-49a6-bf71-116907fd2076\",                        [{\"hovertemplate\":\"Hot Blast Temp=%{x}\\u003cbr\\u003eFuel Rate=%{y}\\u003cextra\\u003e\\u003c\\u002fextra\\u003e\",\"legendgroup\":\"\",\"marker\":{\"color\":\"dodgerblue\",\"symbol\":\"circle\"},\"mode\":\"markers\",\"name\":\"\",\"orientation\":\"v\",\"showlegend\":false,\"x\":[1162.79,1170.0,1152.0,1111.79,1143.71,1171.0,1110.71,1180.88,1181.79,1183.92,1182.75,1178.38,1163.96,1190.38,1157.46,1191.71,1130.63,1120.25,1182.88,1177.75,1173.0,1184.83,1178.0,1185.0,1182.5,1158.0,1123.0,1162.71,1177.0,1161.88,1180.88,1154.71,1177.0,1136.67,1155.29,1182.75,1180.54,1101.0,1182.42,1152.79,1183.08,1159.04,1167.96,1181.71,1155.29,1179.67,1183.71,1161.21,1164.54,1176.88,1096.0,1104.54,1178.0,1100.54,1110.79,1178.29,1176.08,1148.5,1162.08,1177.38,1110.83,1162.38,1176.0,1150.54,1183.0,1100.04,1162.29,1119.17,1159.0,1176.0,1162.67,1080.83,1162.42,1181.21,1162.92,1184.75,1181.88,1087.0,1139.92,1182.04,1138.38,1185.25,1151.58,1133.08,1180.0,1142.33,1181.21,1076.0,1181.38,1156.5,1181.29,1162.33,1085.21,1162.58,1167.21,1135.5,1160.5,1158.88,1183.33,1163.75,1109.71,1146.21,1112.46,1131.08,1162.08,1150.42,1153.46,1111.33,1083.0,1177.38,1142.46,1078.0,1141.54,1099.67,1159.63,1131.0,1151.71,1171.04,1141.79,1151.67,1139.92,1140.96,1161.42,1144.25,1176.88,1157.33,1145.52,1155.71,1111.54,1178.0,1162.58,1120.38,1152.67,1178.0,1145.54,1153.0,1151.46,1160.0,1073.21,1162.13,1110.96,1175.0,1114.9,1150.04,1107.17,1110.79,1180.0,1160.67,1134.92,1178.05,1121.54,1092.13,1162.96,1151.29,1183.54,1161.83,1111.67,1162.75,1127.71,1150.83,1162.42,1178.0,1141.25,1162.38,1114.0,1162.33,1092.33,1139.17,1135.46,1109.42,1142.08,1176.0,1160.92,1175.0,1181.0,1175.0,1120.75,1110.67,1108.17,1150.08,1178.0,1176.0,1124.21,1152.67,1177.0,1110.13,1183.46,1118.0,1177.0,1150.58,1099.33,1160.42,1112.13,1137.0,1099.58,1114.0,1179.0,1136.0,1119.17,1164.67,1142.71,1179.0,1162.71,1110.08,1142.04,1177.0,1110.13,1151.13,1184.08],\"xaxis\":\"x\",\"y\":[568.6,576.6,556.6,593.4,557.8,593.3,555.3,593.8,590.5,568.1,567.2,605.0,579.0,586.1,572.8,581.2,556.8,550.7,563.5,578.1,570.8,589.9,548.4,595.3,569.5,559.1,568.3,575.4,578.9,585.9,582.9,577.4,573.3,581.9,570.9,591.5,592.4,569.8,579.6,583.9,605.9,604.1,585.9,573.4,598.0,605.2,592.4,569.3,581.2,575.8,588.0,568.8,576.8,551.5,555.2,565.8,560.9,553.0,587.5,565.9,574.6,581.4,555.9,571.7,567.8,557.0,581.1,573.8,584.0,578.6,601.8,571.2,575.9,594.2,571.7,573.1,579.9,563.9,559.2,575.8,599.2,561.1,599.6,573.0,568.6,561.0,586.6,572.5,606.8,596.0,585.0,576.9,566.1,573.0,577.1,577.8,558.0,570.4,574.0,596.0,596.0,568.3,584.9,559.8,558.8,575.7,584.6,555.3,586.4,560.5,583.8,577.3,554.8,554.1,567.6,565.7,564.4,575.4,562.1,579.3,561.9,552.3,584.4,572.2,602.1,549.9,558.5,555.8,551.3,592.5,576.1,552.8,564.2,579.9,551.9,564.4,579.6,596.3,556.4,585.1,542.7,581.5,561.5,553.7,551.1,555.4,560.0,560.6,567.5,566.9,563.4,543.4,563.3,566.4,562.4,568.5,557.6,564.3,569.2,557.1,575.5,544.8,557.4,582.6,583.2,584.0,579.5,563.7,559.2,557.4,559.4,575.9,577.4,574.7,568.6,566.1,549.4,555.9,554.6,578.6,566.6,574.4,553.2,575.6,588.4,542.6,566.8,590.2,580.6,570.6,544.2,560.2,554.7,569.4,545.3,545.0,559.3,568.6,541.5,589.3,565.6,595.0,595.8,553.2,556.6,556.3,541.5,576.2,594.1],\"yaxis\":\"y\",\"type\":\"scatter\"},{\"hovertemplate\":\"\\u003cb\\u003eOLS trendline\\u003c\\u002fb\\u003e\\u003cbr\\u003efuel_rate = 0.213077 * hot_blast_temp + 326.463\\u003cbr\\u003eR\\u003csup\\u003e2\\u003c\\u002fsup\\u003e=0.167812\\u003cbr\\u003e\\u003cbr\\u003eHot Blast Temp=%{x}\\u003cbr\\u003eFuel Rate=%{y} \\u003cb\\u003e(trend)\\u003c\\u002fb\\u003e\\u003cextra\\u003e\\u003c\\u002fextra\\u003e\",\"legendgroup\":\"\",\"marker\":{\"color\":\"dodgerblue\",\"symbol\":\"circle\"},\"mode\":\"lines\",\"name\":\"\",\"showlegend\":false,\"x\":[1073.21,1076.0,1078.0,1080.83,1083.0,1085.21,1087.0,1092.13,1092.33,1096.0,1099.33,1099.58,1099.67,1100.04,1100.54,1101.0,1104.54,1107.17,1108.17,1109.42,1109.71,1110.08,1110.13,1110.13,1110.67,1110.71,1110.79,1110.79,1110.83,1110.96,1111.33,1111.54,1111.67,1111.79,1112.13,1112.46,1114.0,1114.0,1114.9,1118.0,1119.17,1119.17,1120.25,1120.38,1120.75,1121.54,1123.0,1124.21,1127.71,1130.63,1131.0,1131.08,1133.08,1134.92,1135.46,1135.5,1136.0,1136.67,1137.0,1138.38,1139.17,1139.92,1139.92,1140.96,1141.25,1141.54,1141.79,1142.04,1142.08,1142.33,1142.46,1142.71,1143.71,1144.25,1145.52,1145.54,1146.21,1148.5,1150.04,1150.08,1150.42,1150.54,1150.58,1150.83,1151.13,1151.29,1151.46,1151.58,1151.67,1151.71,1152.0,1152.67,1152.67,1152.79,1153.0,1153.46,1154.71,1155.29,1155.29,1155.71,1156.5,1157.33,1157.46,1158.0,1158.88,1159.0,1159.04,1159.63,1160.0,1160.42,1160.5,1160.67,1160.92,1161.21,1161.42,1161.83,1161.88,1162.08,1162.08,1162.13,1162.29,1162.33,1162.33,1162.38,1162.38,1162.42,1162.42,1162.58,1162.58,1162.67,1162.71,1162.71,1162.75,1162.79,1162.92,1162.96,1163.75,1163.96,1164.54,1164.67,1167.21,1167.96,1170.0,1171.0,1171.04,1173.0,1175.0,1175.0,1175.0,1176.0,1176.0,1176.0,1176.0,1176.08,1176.88,1176.88,1177.0,1177.0,1177.0,1177.0,1177.0,1177.38,1177.38,1177.75,1178.0,1178.0,1178.0,1178.0,1178.0,1178.0,1178.05,1178.29,1178.38,1179.0,1179.0,1179.67,1180.0,1180.0,1180.54,1180.88,1180.88,1181.0,1181.21,1181.21,1181.29,1181.38,1181.71,1181.79,1181.88,1182.04,1182.42,1182.5,1182.75,1182.75,1182.88,1183.0,1183.08,1183.33,1183.46,1183.54,1183.71,1183.92,1184.08,1184.75,1184.83,1185.0,1185.25,1190.38,1191.71],\"xaxis\":\"x\",\"y\":[555.1396170252403,555.7341026212569,556.1602571703727,556.7632658573714,557.225643543162,557.6965443199349,558.0779526413935,559.1710390598755,559.2136545147871,559.9956481124145,560.7051954366922,560.7584647553317,560.777641710042,560.8564803016283,560.9630189389072,561.0610344852039,561.8153280371388,562.375721269226,562.5887985437839,562.8551451369813,562.916937546603,562.9957761381894,563.0064300019174,563.0064300019174,563.1214917301786,563.1300148211609,563.1470610031255,563.1470610031255,563.1555840941078,563.1832841398003,563.2621227313867,563.3068689590439,563.3345690047365,563.3601382776834,563.4325845510331,563.5029000516372,563.8310390544563,563.8310390544563,564.0228086015584,564.6833481526878,564.9326485639206,564.9326485639206,565.1627720204431,565.1904720661356,565.2693106577219,565.4376417046227,565.7487345254772,566.0065580276922,566.7523284886448,567.3745141303539,567.4533527219403,567.4703989039049,567.8965534530206,568.2886156382071,568.4036773664684,568.4122004574507,568.5187390947297,568.6615008686834,568.7318163692876,569.0258630081775,569.1941940550781,569.3540020109965,569.3540020109965,569.5756023765367,569.6373947861586,569.6991871957803,569.7524565144197,569.8057258330592,569.8142489240415,569.867518242681,569.8952182883736,569.948487607013,570.1615648815709,570.2766266098322,570.5472347485206,570.5514962940118,570.6942580679656,571.1822050267032,571.5103440295222,571.5188671205046,571.5913133938543,571.6168826668012,571.6254057577835,571.678675076423,571.7425982587904,571.7766906227196,571.8129137593944,571.8384830323414,571.8576599870516,571.8661830780339,571.9279754876557,572.0707372616096,572.0707372616096,572.0963065345564,572.1410527622136,572.2390683085102,572.5054149017076,572.6289997209511,572.6289997209511,572.7184921762655,572.8868232231662,573.0636773610493,573.0913774067417,573.2064391350029,573.393947136614,573.4195164095609,573.4280395005432,573.5537550925324,573.6325936841188,573.722086139433,573.7391323213977,573.7753554580726,573.828624776712,573.8904171863338,573.935163413991,574.0225250965597,574.0331789602876,574.0757944151992,574.0757944151992,574.086448278927,574.1205406428563,574.1290637338386,574.1290637338386,574.1397175975666,574.1397175975666,574.1482406885489,574.1482406885489,574.182333052478,574.182333052478,574.2015100071883,574.2100330981706,574.2100330981706,574.2185561891529,574.2270792801353,574.2547793258277,574.2633024168101,574.4316334637108,574.4763796913679,574.5999645106115,574.6276645563041,575.1688808336811,575.3286887895995,575.7633664296975,575.9764437042554,575.9849667952377,576.4025982533713,576.828752802487,576.828752802487,576.828752802487,577.0418300770448,577.0418300770448,577.0418300770448,577.0418300770448,577.0588762590095,577.2293380786558,577.2293380786558,577.2549073516027,577.2549073516027,577.2549073516027,577.2549073516027,577.2549073516027,577.3358767159348,577.3358767159348,577.4147153075211,577.4679846261606,577.4679846261606,577.4679846261606,577.4679846261606,577.4679846261606,577.4679846261606,577.4786384898885,577.5297770357823,577.5489539904926,577.6810619007185,577.6810619007185,577.8238236746722,577.8941391752763,577.8941391752763,578.0092009035376,578.0816471768874,578.0816471768874,578.1072164498343,578.1519626774914,578.1519626774914,578.169008859456,578.1881858141662,578.2585013147703,578.2755474967349,578.2947244514452,578.3288168153745,578.4097861797064,578.426832361671,578.4801016803106,578.4801016803106,578.5078017260031,578.53337099895,578.5504171809146,578.6036864995541,578.6313865452466,578.6484327272112,578.6846558638861,578.7294020915433,578.7634944554725,578.9062562294263,578.9233024113909,578.9595255480658,579.0127948667052,580.1058812851871,580.3892740603492],\"yaxis\":\"y\",\"type\":\"scatter\"}],                        {\"template\":{\"data\":{\"histogram2dcontour\":[{\"type\":\"histogram2dcontour\",\"colorbar\":{\"outlinewidth\":0,\"ticks\":\"\"},\"colorscale\":[[0.0,\"#0d0887\"],[0.1111111111111111,\"#46039f\"],[0.2222222222222222,\"#7201a8\"],[0.3333333333333333,\"#9c179e\"],[0.4444444444444444,\"#bd3786\"],[0.5555555555555556,\"#d8576b\"],[0.6666666666666666,\"#ed7953\"],[0.7777777777777778,\"#fb9f3a\"],[0.8888888888888888,\"#fdca26\"],[1.0,\"#f0f921\"]]}],\"choropleth\":[{\"type\":\"choropleth\",\"colorbar\":{\"outlinewidth\":0,\"ticks\":\"\"}}],\"histogram2d\":[{\"type\":\"histogram2d\",\"colorbar\":{\"outlinewidth\":0,\"ticks\":\"\"},\"colorscale\":[[0.0,\"#0d0887\"],[0.1111111111111111,\"#46039f\"],[0.2222222222222222,\"#7201a8\"],[0.3333333333333333,\"#9c179e\"],[0.4444444444444444,\"#bd3786\"],[0.5555555555555556,\"#d8576b\"],[0.6666666666666666,\"#ed7953\"],[0.7777777777777778,\"#fb9f3a\"],[0.8888888888888888,\"#fdca26\"],[1.0,\"#f0f921\"]]}],\"heatmap\":[{\"type\":\"heatmap\",\"colorbar\":{\"outlinewidth\":0,\"ticks\":\"\"},\"colorscale\":[[0.0,\"#0d0887\"],[0.1111111111111111,\"#46039f\"],[0.2222222222222222,\"#7201a8\"],[0.3333333333333333,\"#9c179e\"],[0.4444444444444444,\"#bd3786\"],[0.5555555555555556,\"#d8576b\"],[0.6666666666666666,\"#ed7953\"],[0.7777777777777778,\"#fb9f3a\"],[0.8888888888888888,\"#fdca26\"],[1.0,\"#f0f921\"]]}],\"heatmapgl\":[{\"type\":\"heatmapgl\",\"colorbar\":{\"outlinewidth\":0,\"ticks\":\"\"},\"colorscale\":[[0.0,\"#0d0887\"],[0.1111111111111111,\"#46039f\"],[0.2222222222222222,\"#7201a8\"],[0.3333333333333333,\"#9c179e\"],[0.4444444444444444,\"#bd3786\"],[0.5555555555555556,\"#d8576b\"],[0.6666666666666666,\"#ed7953\"],[0.7777777777777778,\"#fb9f3a\"],[0.8888888888888888,\"#fdca26\"],[1.0,\"#f0f921\"]]}],\"contourcarpet\":[{\"type\":\"contourcarpet\",\"colorbar\":{\"outlinewidth\":0,\"ticks\":\"\"}}],\"contour\":[{\"type\":\"contour\",\"colorbar\":{\"outlinewidth\":0,\"ticks\":\"\"},\"colorscale\":[[0.0,\"#0d0887\"],[0.1111111111111111,\"#46039f\"],[0.2222222222222222,\"#7201a8\"],[0.3333333333333333,\"#9c179e\"],[0.4444444444444444,\"#bd3786\"],[0.5555555555555556,\"#d8576b\"],[0.6666666666666666,\"#ed7953\"],[0.7777777777777778,\"#fb9f3a\"],[0.8888888888888888,\"#fdca26\"],[1.0,\"#f0f921\"]]}],\"surface\":[{\"type\":\"surface\",\"colorbar\":{\"outlinewidth\":0,\"ticks\":\"\"},\"colorscale\":[[0.0,\"#0d0887\"],[0.1111111111111111,\"#46039f\"],[0.2222222222222222,\"#7201a8\"],[0.3333333333333333,\"#9c179e\"],[0.4444444444444444,\"#bd3786\"],[0.5555555555555556,\"#d8576b\"],[0.6666666666666666,\"#ed7953\"],[0.7777777777777778,\"#fb9f3a\"],[0.8888888888888888,\"#fdca26\"],[1.0,\"#f0f921\"]]}],\"mesh3d\":[{\"type\":\"mesh3d\",\"colorbar\":{\"outlinewidth\":0,\"ticks\":\"\"}}],\"scatter\":[{\"fillpattern\":{\"fillmode\":\"overlay\",\"size\":10,\"solidity\":0.2},\"type\":\"scatter\"}],\"parcoords\":[{\"type\":\"parcoords\",\"line\":{\"colorbar\":{\"outlinewidth\":0,\"ticks\":\"\"}}}],\"scatterpolargl\":[{\"type\":\"scatterpolargl\",\"marker\":{\"colorbar\":{\"outlinewidth\":0,\"ticks\":\"\"}}}],\"bar\":[{\"error_x\":{\"color\":\"#2a3f5f\"},\"error_y\":{\"color\":\"#2a3f5f\"},\"marker\":{\"line\":{\"color\":\"#E5ECF6\",\"width\":0.5},\"pattern\":{\"fillmode\":\"overlay\",\"size\":10,\"solidity\":0.2}},\"type\":\"bar\"}],\"scattergeo\":[{\"type\":\"scattergeo\",\"marker\":{\"colorbar\":{\"outlinewidth\":0,\"ticks\":\"\"}}}],\"scatterpolar\":[{\"type\":\"scatterpolar\",\"marker\":{\"colorbar\":{\"outlinewidth\":0,\"ticks\":\"\"}}}],\"histogram\":[{\"marker\":{\"pattern\":{\"fillmode\":\"overlay\",\"size\":10,\"solidity\":0.2}},\"type\":\"histogram\"}],\"scattergl\":[{\"type\":\"scattergl\",\"marker\":{\"colorbar\":{\"outlinewidth\":0,\"ticks\":\"\"}}}],\"scatter3d\":[{\"type\":\"scatter3d\",\"line\":{\"colorbar\":{\"outlinewidth\":0,\"ticks\":\"\"}},\"marker\":{\"colorbar\":{\"outlinewidth\":0,\"ticks\":\"\"}}}],\"scattermapbox\":[{\"type\":\"scattermapbox\",\"marker\":{\"colorbar\":{\"outlinewidth\":0,\"ticks\":\"\"}}}],\"scatterternary\":[{\"type\":\"scatterternary\",\"marker\":{\"colorbar\":{\"outlinewidth\":0,\"ticks\":\"\"}}}],\"scattercarpet\":[{\"type\":\"scattercarpet\",\"marker\":{\"colorbar\":{\"outlinewidth\":0,\"ticks\":\"\"}}}],\"carpet\":[{\"aaxis\":{\"endlinecolor\":\"#2a3f5f\",\"gridcolor\":\"white\",\"linecolor\":\"white\",\"minorgridcolor\":\"white\",\"startlinecolor\":\"#2a3f5f\"},\"baxis\":{\"endlinecolor\":\"#2a3f5f\",\"gridcolor\":\"white\",\"linecolor\":\"white\",\"minorgridcolor\":\"white\",\"startlinecolor\":\"#2a3f5f\"},\"type\":\"carpet\"}],\"table\":[{\"cells\":{\"fill\":{\"color\":\"#EBF0F8\"},\"line\":{\"color\":\"white\"}},\"header\":{\"fill\":{\"color\":\"#C8D4E3\"},\"line\":{\"color\":\"white\"}},\"type\":\"table\"}],\"barpolar\":[{\"marker\":{\"line\":{\"color\":\"#E5ECF6\",\"width\":0.5},\"pattern\":{\"fillmode\":\"overlay\",\"size\":10,\"solidity\":0.2}},\"type\":\"barpolar\"}],\"pie\":[{\"automargin\":true,\"type\":\"pie\"}]},\"layout\":{\"autotypenumbers\":\"strict\",\"colorway\":[\"#636efa\",\"#EF553B\",\"#00cc96\",\"#ab63fa\",\"#FFA15A\",\"#19d3f3\",\"#FF6692\",\"#B6E880\",\"#FF97FF\",\"#FECB52\"],\"font\":{\"color\":\"#2a3f5f\"},\"hovermode\":\"closest\",\"hoverlabel\":{\"align\":\"left\"},\"paper_bgcolor\":\"white\",\"plot_bgcolor\":\"#E5ECF6\",\"polar\":{\"bgcolor\":\"#E5ECF6\",\"angularaxis\":{\"gridcolor\":\"white\",\"linecolor\":\"white\",\"ticks\":\"\"},\"radialaxis\":{\"gridcolor\":\"white\",\"linecolor\":\"white\",\"ticks\":\"\"}},\"ternary\":{\"bgcolor\":\"#E5ECF6\",\"aaxis\":{\"gridcolor\":\"white\",\"linecolor\":\"white\",\"ticks\":\"\"},\"baxis\":{\"gridcolor\":\"white\",\"linecolor\":\"white\",\"ticks\":\"\"},\"caxis\":{\"gridcolor\":\"white\",\"linecolor\":\"white\",\"ticks\":\"\"}},\"coloraxis\":{\"colorbar\":{\"outlinewidth\":0,\"ticks\":\"\"}},\"colorscale\":{\"sequential\":[[0.0,\"#0d0887\"],[0.1111111111111111,\"#46039f\"],[0.2222222222222222,\"#7201a8\"],[0.3333333333333333,\"#9c179e\"],[0.4444444444444444,\"#bd3786\"],[0.5555555555555556,\"#d8576b\"],[0.6666666666666666,\"#ed7953\"],[0.7777777777777778,\"#fb9f3a\"],[0.8888888888888888,\"#fdca26\"],[1.0,\"#f0f921\"]],\"sequentialminus\":[[0.0,\"#0d0887\"],[0.1111111111111111,\"#46039f\"],[0.2222222222222222,\"#7201a8\"],[0.3333333333333333,\"#9c179e\"],[0.4444444444444444,\"#bd3786\"],[0.5555555555555556,\"#d8576b\"],[0.6666666666666666,\"#ed7953\"],[0.7777777777777778,\"#fb9f3a\"],[0.8888888888888888,\"#fdca26\"],[1.0,\"#f0f921\"]],\"diverging\":[[0,\"#8e0152\"],[0.1,\"#c51b7d\"],[0.2,\"#de77ae\"],[0.3,\"#f1b6da\"],[0.4,\"#fde0ef\"],[0.5,\"#f7f7f7\"],[0.6,\"#e6f5d0\"],[0.7,\"#b8e186\"],[0.8,\"#7fbc41\"],[0.9,\"#4d9221\"],[1,\"#276419\"]]},\"xaxis\":{\"gridcolor\":\"white\",\"linecolor\":\"white\",\"ticks\":\"\",\"title\":{\"standoff\":15},\"zerolinecolor\":\"white\",\"automargin\":true,\"zerolinewidth\":2},\"yaxis\":{\"gridcolor\":\"white\",\"linecolor\":\"white\",\"ticks\":\"\",\"title\":{\"standoff\":15},\"zerolinecolor\":\"white\",\"automargin\":true,\"zerolinewidth\":2},\"scene\":{\"xaxis\":{\"backgroundcolor\":\"#E5ECF6\",\"gridcolor\":\"white\",\"linecolor\":\"white\",\"showbackground\":true,\"ticks\":\"\",\"zerolinecolor\":\"white\",\"gridwidth\":2},\"yaxis\":{\"backgroundcolor\":\"#E5ECF6\",\"gridcolor\":\"white\",\"linecolor\":\"white\",\"showbackground\":true,\"ticks\":\"\",\"zerolinecolor\":\"white\",\"gridwidth\":2},\"zaxis\":{\"backgroundcolor\":\"#E5ECF6\",\"gridcolor\":\"white\",\"linecolor\":\"white\",\"showbackground\":true,\"ticks\":\"\",\"zerolinecolor\":\"white\",\"gridwidth\":2}},\"shapedefaults\":{\"line\":{\"color\":\"#2a3f5f\"}},\"annotationdefaults\":{\"arrowcolor\":\"#2a3f5f\",\"arrowhead\":0,\"arrowwidth\":1},\"geo\":{\"bgcolor\":\"white\",\"landcolor\":\"#E5ECF6\",\"subunitcolor\":\"white\",\"showland\":true,\"showlakes\":true,\"lakecolor\":\"white\"},\"title\":{\"x\":0.05},\"mapbox\":{\"style\":\"light\"}}},\"xaxis\":{\"anchor\":\"y\",\"domain\":[0.0,1.0],\"title\":{\"text\":\"Hot Blast Temp\"}},\"yaxis\":{\"anchor\":\"x\",\"domain\":[0.0,1.0],\"title\":{\"text\":\"Fuel Rate\"}},\"legend\":{\"tracegroupgap\":0},\"title\":{\"text\":\"Hot Blast Temp vs Fuel Rate\"}},                        {\"responsive\": true}                    ).then(function(){\n",
              "                            \n",
              "var gd = document.getElementById('14ea5503-8daf-49a6-bf71-116907fd2076');\n",
              "var x = new MutationObserver(function (mutations, observer) {{\n",
              "        var display = window.getComputedStyle(gd).display;\n",
              "        if (!display || display === 'none') {{\n",
              "            console.log([gd, 'removed!']);\n",
              "            Plotly.purge(gd);\n",
              "            observer.disconnect();\n",
              "        }}\n",
              "}});\n",
              "\n",
              "// Listen for the removal of the full notebook cells\n",
              "var notebookContainer = gd.closest('#notebook-container');\n",
              "if (notebookContainer) {{\n",
              "    x.observe(notebookContainer, {childList: true});\n",
              "}}\n",
              "\n",
              "// Listen for the clearing of the current output cell\n",
              "var outputEl = gd.closest('.output');\n",
              "if (outputEl) {{\n",
              "    x.observe(outputEl, {childList: true});\n",
              "}}\n",
              "\n",
              "                        })                };                            </script>        </div>\n",
              "</body>\n",
              "</html>"
            ]
          },
          "metadata": {}
        },
        {
          "output_type": "display_data",
          "data": {
            "text/html": [
              "<html>\n",
              "<head><meta charset=\"utf-8\" /></head>\n",
              "<body>\n",
              "    <div>            <script src=\"https://cdnjs.cloudflare.com/ajax/libs/mathjax/2.7.5/MathJax.js?config=TeX-AMS-MML_SVG\"></script><script type=\"text/javascript\">if (window.MathJax && window.MathJax.Hub && window.MathJax.Hub.Config) {window.MathJax.Hub.Config({SVG: {font: \"STIX-Web\"}});}</script>                <script type=\"text/javascript\">window.PlotlyConfig = {MathJaxConfig: 'local'};</script>\n",
              "        <script charset=\"utf-8\" src=\"https://cdn.plot.ly/plotly-2.35.2.min.js\"></script>                <div id=\"15252b38-86eb-44d0-a9e2-adefc1cb4983\" class=\"plotly-graph-div\" style=\"height:525px; width:100%;\"></div>            <script type=\"text/javascript\">                                    window.PLOTLYENV=window.PLOTLYENV || {};                                    if (document.getElementById(\"15252b38-86eb-44d0-a9e2-adefc1cb4983\")) {                    Plotly.newPlot(                        \"15252b38-86eb-44d0-a9e2-adefc1cb4983\",                        [{\"hovertemplate\":\"Slag Rate=%{x}\\u003cbr\\u003eFuel Rate=%{y}\\u003cextra\\u003e\\u003c\\u002fextra\\u003e\",\"legendgroup\":\"\",\"marker\":{\"color\":\"dodgerblue\",\"symbol\":\"circle\"},\"mode\":\"markers\",\"name\":\"\",\"orientation\":\"v\",\"showlegend\":false,\"x\":[510,514,492,492,477,507,498,512,519,496,528,521,521,490,515,523,503,487,519,520,515,505,517,500,537,512,487,513,515,528,511,503,520,491,504,531,510,492,498,521,524,545,505,507,528,516,534,517,540,520,474,484,529,494,504,496,506,503,519,522,502,509,503,505,511,496,529,508,499,506,510,510,518,548,518,511,492,468,495,510,505,505,512,524,538,503,546,475,515,529,536,510,503,521,504,485,536,493,487,496,504,496,506,504,510,514,514,504,472,516,484,464,495,496,493,465,505,535,505,504,497,491,514,506,504,494,522,495,492,505,515,479,512,481,497,509,502,522,496,527,470,527,493,502,494,505,529,495,499,530,504,473,528,511,517,528,503,523,510,505,519,493,488,515,508,521,505,482,507,502,497,500,518,528,518,498,489,504,492,509,509,483,482,523,502,491,511,513,525,502,473,506,501,466,495,488,515,461,496,528,511,526,519,495,493,547,488,507,515],\"xaxis\":\"x\",\"y\":[568.6,576.6,556.6,593.4,557.8,593.3,555.3,593.8,590.5,568.1,567.2,605.0,579.0,586.1,572.8,581.2,556.8,550.7,563.5,578.1,570.8,589.9,548.4,595.3,569.5,559.1,568.3,575.4,578.9,585.9,582.9,577.4,573.3,581.9,570.9,591.5,592.4,569.8,579.6,583.9,605.9,604.1,585.9,573.4,598.0,605.2,592.4,569.3,581.2,575.8,588.0,568.8,576.8,551.5,555.2,565.8,560.9,553.0,587.5,565.9,574.6,581.4,555.9,571.7,567.8,557.0,581.1,573.8,584.0,578.6,601.8,571.2,575.9,594.2,571.7,573.1,579.9,563.9,559.2,575.8,599.2,561.1,599.6,573.0,568.6,561.0,586.6,572.5,606.8,596.0,585.0,576.9,566.1,573.0,577.1,577.8,558.0,570.4,574.0,596.0,596.0,568.3,584.9,559.8,558.8,575.7,584.6,555.3,586.4,560.5,583.8,577.3,554.8,554.1,567.6,565.7,564.4,575.4,562.1,579.3,561.9,552.3,584.4,572.2,602.1,549.9,558.5,555.8,551.3,592.5,576.1,552.8,564.2,579.9,551.9,564.4,579.6,596.3,556.4,585.1,542.7,581.5,561.5,553.7,551.1,555.4,560.0,560.6,567.5,566.9,563.4,543.4,563.3,566.4,562.4,568.5,557.6,564.3,569.2,557.1,575.5,544.8,557.4,582.6,583.2,584.0,579.5,563.7,559.2,557.4,559.4,575.9,577.4,574.7,568.6,566.1,549.4,555.9,554.6,578.6,566.6,574.4,553.2,575.6,588.4,542.6,566.8,590.2,580.6,570.6,544.2,560.2,554.7,569.4,545.3,545.0,559.3,568.6,541.5,589.3,565.6,595.0,595.8,553.2,556.6,556.3,541.5,576.2,594.1],\"yaxis\":\"y\",\"type\":\"scatter\"},{\"hovertemplate\":\"\\u003cb\\u003eOLS trendline\\u003c\\u002fb\\u003e\\u003cbr\\u003efuel_rate = 0.350213 * slag_rate + 394.228\\u003cbr\\u003eR\\u003csup\\u003e2\\u003c\\u002fsup\\u003e=0.150868\\u003cbr\\u003e\\u003cbr\\u003eSlag Rate=%{x}\\u003cbr\\u003eFuel Rate=%{y} \\u003cb\\u003e(trend)\\u003c\\u002fb\\u003e\\u003cextra\\u003e\\u003c\\u002fextra\\u003e\",\"legendgroup\":\"\",\"marker\":{\"color\":\"dodgerblue\",\"symbol\":\"circle\"},\"mode\":\"lines\",\"name\":\"\",\"showlegend\":false,\"x\":[461,464,465,466,468,470,472,473,473,474,475,477,479,481,482,482,483,484,484,485,487,487,487,488,488,488,489,490,491,491,491,492,492,492,492,492,492,493,493,493,493,493,494,494,494,495,495,495,495,495,495,496,496,496,496,496,496,496,496,497,497,497,498,498,498,499,499,500,500,501,502,502,502,502,502,502,503,503,503,503,503,503,503,504,504,504,504,504,504,504,504,504,504,505,505,505,505,505,505,505,505,505,505,505,506,506,506,506,506,507,507,507,507,508,508,509,509,509,509,510,510,510,510,510,510,510,510,511,511,511,511,511,511,512,512,512,512,513,513,514,514,514,514,515,515,515,515,515,515,515,515,516,516,517,517,517,518,518,518,518,519,519,519,519,519,520,520,520,521,521,521,521,521,522,522,522,523,523,523,524,524,525,526,527,527,528,528,528,528,528,528,528,529,529,529,529,530,531,534,535,536,536,537,538,540,545,546,547,548],\"xaxis\":\"x\",\"y\":[555.6762035137341,556.7268425701493,557.0770555889544,557.4272686077595,558.1276946453696,558.8281206829797,559.5285467205899,559.878759739395,559.878759739395,560.2289727582,560.5791857770051,561.2796118146152,561.9800378522255,562.6804638898356,563.0306769086407,563.0306769086407,563.3808899274458,563.7311029462508,563.7311029462508,564.0813159650559,564.7817420026661,564.7817420026661,564.7817420026661,565.1319550214711,565.1319550214711,565.1319550214711,565.4821680402762,565.8323810590813,566.1825940778863,566.1825940778863,566.1825940778863,566.5328070966914,566.5328070966914,566.5328070966914,566.5328070966914,566.5328070966914,566.5328070966914,566.8830201154965,566.8830201154965,566.8830201154965,566.8830201154965,566.8830201154965,567.2332331343016,567.2332331343016,567.2332331343016,567.5834461531067,567.5834461531067,567.5834461531067,567.5834461531067,567.5834461531067,567.5834461531067,567.9336591719117,567.9336591719117,567.9336591719117,567.9336591719117,567.9336591719117,567.9336591719117,567.9336591719117,567.9336591719117,568.2838721907168,568.2838721907168,568.2838721907168,568.6340852095218,568.6340852095218,568.6340852095218,568.9842982283269,568.9842982283269,569.334511247132,569.334511247132,569.6847242659371,570.0349372847422,570.0349372847422,570.0349372847422,570.0349372847422,570.0349372847422,570.0349372847422,570.3851503035472,570.3851503035472,570.3851503035472,570.3851503035472,570.3851503035472,570.3851503035472,570.3851503035472,570.7353633223523,570.7353633223523,570.7353633223523,570.7353633223523,570.7353633223523,570.7353633223523,570.7353633223523,570.7353633223523,570.7353633223523,570.7353633223523,571.0855763411574,571.0855763411574,571.0855763411574,571.0855763411574,571.0855763411574,571.0855763411574,571.0855763411574,571.0855763411574,571.0855763411574,571.0855763411574,571.0855763411574,571.4357893599624,571.4357893599624,571.4357893599624,571.4357893599624,571.4357893599624,571.7860023787675,571.7860023787675,571.7860023787675,571.7860023787675,572.1362153975726,572.1362153975726,572.4864284163777,572.4864284163777,572.4864284163777,572.4864284163777,572.8366414351827,572.8366414351827,572.8366414351827,572.8366414351827,572.8366414351827,572.8366414351827,572.8366414351827,572.8366414351827,573.1868544539878,573.1868544539878,573.1868544539878,573.1868544539878,573.1868544539878,573.1868544539878,573.537067472793,573.537067472793,573.537067472793,573.537067472793,573.887280491598,573.887280491598,574.237493510403,574.237493510403,574.237493510403,574.237493510403,574.5877065292082,574.5877065292082,574.5877065292082,574.5877065292082,574.5877065292082,574.5877065292082,574.5877065292082,574.5877065292082,574.9379195480133,574.9379195480133,575.2881325668183,575.2881325668183,575.2881325668183,575.6383455856234,575.6383455856234,575.6383455856234,575.6383455856234,575.9885586044285,575.9885586044285,575.9885586044285,575.9885586044285,575.9885586044285,576.3387716232335,576.3387716232335,576.3387716232335,576.6889846420386,576.6889846420386,576.6889846420386,576.6889846420386,576.6889846420386,577.0391976608437,577.0391976608437,577.0391976608437,577.3894106796488,577.3894106796488,577.3894106796488,577.7396236984539,577.7396236984539,578.0898367172589,578.440049736064,578.790262754869,578.790262754869,579.1404757736741,579.1404757736741,579.1404757736741,579.1404757736741,579.1404757736741,579.1404757736741,579.1404757736741,579.4906887924792,579.4906887924792,579.4906887924792,579.4906887924792,579.8409018112843,580.1911148300894,581.2417538865046,581.5919669053096,581.9421799241147,581.9421799241147,582.2923929429198,582.6426059617249,583.343031999335,585.0940970933605,585.4443101121655,585.7945231309706,586.1447361497757],\"yaxis\":\"y\",\"type\":\"scatter\"}],                        {\"template\":{\"data\":{\"histogram2dcontour\":[{\"type\":\"histogram2dcontour\",\"colorbar\":{\"outlinewidth\":0,\"ticks\":\"\"},\"colorscale\":[[0.0,\"#0d0887\"],[0.1111111111111111,\"#46039f\"],[0.2222222222222222,\"#7201a8\"],[0.3333333333333333,\"#9c179e\"],[0.4444444444444444,\"#bd3786\"],[0.5555555555555556,\"#d8576b\"],[0.6666666666666666,\"#ed7953\"],[0.7777777777777778,\"#fb9f3a\"],[0.8888888888888888,\"#fdca26\"],[1.0,\"#f0f921\"]]}],\"choropleth\":[{\"type\":\"choropleth\",\"colorbar\":{\"outlinewidth\":0,\"ticks\":\"\"}}],\"histogram2d\":[{\"type\":\"histogram2d\",\"colorbar\":{\"outlinewidth\":0,\"ticks\":\"\"},\"colorscale\":[[0.0,\"#0d0887\"],[0.1111111111111111,\"#46039f\"],[0.2222222222222222,\"#7201a8\"],[0.3333333333333333,\"#9c179e\"],[0.4444444444444444,\"#bd3786\"],[0.5555555555555556,\"#d8576b\"],[0.6666666666666666,\"#ed7953\"],[0.7777777777777778,\"#fb9f3a\"],[0.8888888888888888,\"#fdca26\"],[1.0,\"#f0f921\"]]}],\"heatmap\":[{\"type\":\"heatmap\",\"colorbar\":{\"outlinewidth\":0,\"ticks\":\"\"},\"colorscale\":[[0.0,\"#0d0887\"],[0.1111111111111111,\"#46039f\"],[0.2222222222222222,\"#7201a8\"],[0.3333333333333333,\"#9c179e\"],[0.4444444444444444,\"#bd3786\"],[0.5555555555555556,\"#d8576b\"],[0.6666666666666666,\"#ed7953\"],[0.7777777777777778,\"#fb9f3a\"],[0.8888888888888888,\"#fdca26\"],[1.0,\"#f0f921\"]]}],\"heatmapgl\":[{\"type\":\"heatmapgl\",\"colorbar\":{\"outlinewidth\":0,\"ticks\":\"\"},\"colorscale\":[[0.0,\"#0d0887\"],[0.1111111111111111,\"#46039f\"],[0.2222222222222222,\"#7201a8\"],[0.3333333333333333,\"#9c179e\"],[0.4444444444444444,\"#bd3786\"],[0.5555555555555556,\"#d8576b\"],[0.6666666666666666,\"#ed7953\"],[0.7777777777777778,\"#fb9f3a\"],[0.8888888888888888,\"#fdca26\"],[1.0,\"#f0f921\"]]}],\"contourcarpet\":[{\"type\":\"contourcarpet\",\"colorbar\":{\"outlinewidth\":0,\"ticks\":\"\"}}],\"contour\":[{\"type\":\"contour\",\"colorbar\":{\"outlinewidth\":0,\"ticks\":\"\"},\"colorscale\":[[0.0,\"#0d0887\"],[0.1111111111111111,\"#46039f\"],[0.2222222222222222,\"#7201a8\"],[0.3333333333333333,\"#9c179e\"],[0.4444444444444444,\"#bd3786\"],[0.5555555555555556,\"#d8576b\"],[0.6666666666666666,\"#ed7953\"],[0.7777777777777778,\"#fb9f3a\"],[0.8888888888888888,\"#fdca26\"],[1.0,\"#f0f921\"]]}],\"surface\":[{\"type\":\"surface\",\"colorbar\":{\"outlinewidth\":0,\"ticks\":\"\"},\"colorscale\":[[0.0,\"#0d0887\"],[0.1111111111111111,\"#46039f\"],[0.2222222222222222,\"#7201a8\"],[0.3333333333333333,\"#9c179e\"],[0.4444444444444444,\"#bd3786\"],[0.5555555555555556,\"#d8576b\"],[0.6666666666666666,\"#ed7953\"],[0.7777777777777778,\"#fb9f3a\"],[0.8888888888888888,\"#fdca26\"],[1.0,\"#f0f921\"]]}],\"mesh3d\":[{\"type\":\"mesh3d\",\"colorbar\":{\"outlinewidth\":0,\"ticks\":\"\"}}],\"scatter\":[{\"fillpattern\":{\"fillmode\":\"overlay\",\"size\":10,\"solidity\":0.2},\"type\":\"scatter\"}],\"parcoords\":[{\"type\":\"parcoords\",\"line\":{\"colorbar\":{\"outlinewidth\":0,\"ticks\":\"\"}}}],\"scatterpolargl\":[{\"type\":\"scatterpolargl\",\"marker\":{\"colorbar\":{\"outlinewidth\":0,\"ticks\":\"\"}}}],\"bar\":[{\"error_x\":{\"color\":\"#2a3f5f\"},\"error_y\":{\"color\":\"#2a3f5f\"},\"marker\":{\"line\":{\"color\":\"#E5ECF6\",\"width\":0.5},\"pattern\":{\"fillmode\":\"overlay\",\"size\":10,\"solidity\":0.2}},\"type\":\"bar\"}],\"scattergeo\":[{\"type\":\"scattergeo\",\"marker\":{\"colorbar\":{\"outlinewidth\":0,\"ticks\":\"\"}}}],\"scatterpolar\":[{\"type\":\"scatterpolar\",\"marker\":{\"colorbar\":{\"outlinewidth\":0,\"ticks\":\"\"}}}],\"histogram\":[{\"marker\":{\"pattern\":{\"fillmode\":\"overlay\",\"size\":10,\"solidity\":0.2}},\"type\":\"histogram\"}],\"scattergl\":[{\"type\":\"scattergl\",\"marker\":{\"colorbar\":{\"outlinewidth\":0,\"ticks\":\"\"}}}],\"scatter3d\":[{\"type\":\"scatter3d\",\"line\":{\"colorbar\":{\"outlinewidth\":0,\"ticks\":\"\"}},\"marker\":{\"colorbar\":{\"outlinewidth\":0,\"ticks\":\"\"}}}],\"scattermapbox\":[{\"type\":\"scattermapbox\",\"marker\":{\"colorbar\":{\"outlinewidth\":0,\"ticks\":\"\"}}}],\"scatterternary\":[{\"type\":\"scatterternary\",\"marker\":{\"colorbar\":{\"outlinewidth\":0,\"ticks\":\"\"}}}],\"scattercarpet\":[{\"type\":\"scattercarpet\",\"marker\":{\"colorbar\":{\"outlinewidth\":0,\"ticks\":\"\"}}}],\"carpet\":[{\"aaxis\":{\"endlinecolor\":\"#2a3f5f\",\"gridcolor\":\"white\",\"linecolor\":\"white\",\"minorgridcolor\":\"white\",\"startlinecolor\":\"#2a3f5f\"},\"baxis\":{\"endlinecolor\":\"#2a3f5f\",\"gridcolor\":\"white\",\"linecolor\":\"white\",\"minorgridcolor\":\"white\",\"startlinecolor\":\"#2a3f5f\"},\"type\":\"carpet\"}],\"table\":[{\"cells\":{\"fill\":{\"color\":\"#EBF0F8\"},\"line\":{\"color\":\"white\"}},\"header\":{\"fill\":{\"color\":\"#C8D4E3\"},\"line\":{\"color\":\"white\"}},\"type\":\"table\"}],\"barpolar\":[{\"marker\":{\"line\":{\"color\":\"#E5ECF6\",\"width\":0.5},\"pattern\":{\"fillmode\":\"overlay\",\"size\":10,\"solidity\":0.2}},\"type\":\"barpolar\"}],\"pie\":[{\"automargin\":true,\"type\":\"pie\"}]},\"layout\":{\"autotypenumbers\":\"strict\",\"colorway\":[\"#636efa\",\"#EF553B\",\"#00cc96\",\"#ab63fa\",\"#FFA15A\",\"#19d3f3\",\"#FF6692\",\"#B6E880\",\"#FF97FF\",\"#FECB52\"],\"font\":{\"color\":\"#2a3f5f\"},\"hovermode\":\"closest\",\"hoverlabel\":{\"align\":\"left\"},\"paper_bgcolor\":\"white\",\"plot_bgcolor\":\"#E5ECF6\",\"polar\":{\"bgcolor\":\"#E5ECF6\",\"angularaxis\":{\"gridcolor\":\"white\",\"linecolor\":\"white\",\"ticks\":\"\"},\"radialaxis\":{\"gridcolor\":\"white\",\"linecolor\":\"white\",\"ticks\":\"\"}},\"ternary\":{\"bgcolor\":\"#E5ECF6\",\"aaxis\":{\"gridcolor\":\"white\",\"linecolor\":\"white\",\"ticks\":\"\"},\"baxis\":{\"gridcolor\":\"white\",\"linecolor\":\"white\",\"ticks\":\"\"},\"caxis\":{\"gridcolor\":\"white\",\"linecolor\":\"white\",\"ticks\":\"\"}},\"coloraxis\":{\"colorbar\":{\"outlinewidth\":0,\"ticks\":\"\"}},\"colorscale\":{\"sequential\":[[0.0,\"#0d0887\"],[0.1111111111111111,\"#46039f\"],[0.2222222222222222,\"#7201a8\"],[0.3333333333333333,\"#9c179e\"],[0.4444444444444444,\"#bd3786\"],[0.5555555555555556,\"#d8576b\"],[0.6666666666666666,\"#ed7953\"],[0.7777777777777778,\"#fb9f3a\"],[0.8888888888888888,\"#fdca26\"],[1.0,\"#f0f921\"]],\"sequentialminus\":[[0.0,\"#0d0887\"],[0.1111111111111111,\"#46039f\"],[0.2222222222222222,\"#7201a8\"],[0.3333333333333333,\"#9c179e\"],[0.4444444444444444,\"#bd3786\"],[0.5555555555555556,\"#d8576b\"],[0.6666666666666666,\"#ed7953\"],[0.7777777777777778,\"#fb9f3a\"],[0.8888888888888888,\"#fdca26\"],[1.0,\"#f0f921\"]],\"diverging\":[[0,\"#8e0152\"],[0.1,\"#c51b7d\"],[0.2,\"#de77ae\"],[0.3,\"#f1b6da\"],[0.4,\"#fde0ef\"],[0.5,\"#f7f7f7\"],[0.6,\"#e6f5d0\"],[0.7,\"#b8e186\"],[0.8,\"#7fbc41\"],[0.9,\"#4d9221\"],[1,\"#276419\"]]},\"xaxis\":{\"gridcolor\":\"white\",\"linecolor\":\"white\",\"ticks\":\"\",\"title\":{\"standoff\":15},\"zerolinecolor\":\"white\",\"automargin\":true,\"zerolinewidth\":2},\"yaxis\":{\"gridcolor\":\"white\",\"linecolor\":\"white\",\"ticks\":\"\",\"title\":{\"standoff\":15},\"zerolinecolor\":\"white\",\"automargin\":true,\"zerolinewidth\":2},\"scene\":{\"xaxis\":{\"backgroundcolor\":\"#E5ECF6\",\"gridcolor\":\"white\",\"linecolor\":\"white\",\"showbackground\":true,\"ticks\":\"\",\"zerolinecolor\":\"white\",\"gridwidth\":2},\"yaxis\":{\"backgroundcolor\":\"#E5ECF6\",\"gridcolor\":\"white\",\"linecolor\":\"white\",\"showbackground\":true,\"ticks\":\"\",\"zerolinecolor\":\"white\",\"gridwidth\":2},\"zaxis\":{\"backgroundcolor\":\"#E5ECF6\",\"gridcolor\":\"white\",\"linecolor\":\"white\",\"showbackground\":true,\"ticks\":\"\",\"zerolinecolor\":\"white\",\"gridwidth\":2}},\"shapedefaults\":{\"line\":{\"color\":\"#2a3f5f\"}},\"annotationdefaults\":{\"arrowcolor\":\"#2a3f5f\",\"arrowhead\":0,\"arrowwidth\":1},\"geo\":{\"bgcolor\":\"white\",\"landcolor\":\"#E5ECF6\",\"subunitcolor\":\"white\",\"showland\":true,\"showlakes\":true,\"lakecolor\":\"white\"},\"title\":{\"x\":0.05},\"mapbox\":{\"style\":\"light\"}}},\"xaxis\":{\"anchor\":\"y\",\"domain\":[0.0,1.0],\"title\":{\"text\":\"Slag Rate\"}},\"yaxis\":{\"anchor\":\"x\",\"domain\":[0.0,1.0],\"title\":{\"text\":\"Fuel Rate\"}},\"legend\":{\"tracegroupgap\":0},\"title\":{\"text\":\"Slag Rate vs Fuel Rate\"}},                        {\"responsive\": true}                    ).then(function(){\n",
              "                            \n",
              "var gd = document.getElementById('15252b38-86eb-44d0-a9e2-adefc1cb4983');\n",
              "var x = new MutationObserver(function (mutations, observer) {{\n",
              "        var display = window.getComputedStyle(gd).display;\n",
              "        if (!display || display === 'none') {{\n",
              "            console.log([gd, 'removed!']);\n",
              "            Plotly.purge(gd);\n",
              "            observer.disconnect();\n",
              "        }}\n",
              "}});\n",
              "\n",
              "// Listen for the removal of the full notebook cells\n",
              "var notebookContainer = gd.closest('#notebook-container');\n",
              "if (notebookContainer) {{\n",
              "    x.observe(notebookContainer, {childList: true});\n",
              "}}\n",
              "\n",
              "// Listen for the clearing of the current output cell\n",
              "var outputEl = gd.closest('.output');\n",
              "if (outputEl) {{\n",
              "    x.observe(outputEl, {childList: true});\n",
              "}}\n",
              "\n",
              "                        })                };                            </script>        </div>\n",
              "</body>\n",
              "</html>"
            ]
          },
          "metadata": {}
        },
        {
          "output_type": "display_data",
          "data": {
            "text/html": [
              "<html>\n",
              "<head><meta charset=\"utf-8\" /></head>\n",
              "<body>\n",
              "    <div>            <script src=\"https://cdnjs.cloudflare.com/ajax/libs/mathjax/2.7.5/MathJax.js?config=TeX-AMS-MML_SVG\"></script><script type=\"text/javascript\">if (window.MathJax && window.MathJax.Hub && window.MathJax.Hub.Config) {window.MathJax.Hub.Config({SVG: {font: \"STIX-Web\"}});}</script>                <script type=\"text/javascript\">window.PlotlyConfig = {MathJaxConfig: 'local'};</script>\n",
              "        <script charset=\"utf-8\" src=\"https://cdn.plot.ly/plotly-2.35.2.min.js\"></script>                <div id=\"2ee30e95-d31a-41ce-9b77-27f75c2fc002\" class=\"plotly-graph-div\" style=\"height:525px; width:100%;\"></div>            <script type=\"text/javascript\">                                    window.PLOTLYENV=window.PLOTLYENV || {};                                    if (document.getElementById(\"2ee30e95-d31a-41ce-9b77-27f75c2fc002\")) {                    Plotly.newPlot(                        \"2ee30e95-d31a-41ce-9b77-27f75c2fc002\",                        [{\"hovertemplate\":\"Flame Temp=%{x}\\u003cbr\\u003eFuel Rate=%{y}\\u003cextra\\u003e\\u003c\\u002fextra\\u003e\",\"legendgroup\":\"\",\"marker\":{\"color\":\"dodgerblue\",\"symbol\":\"circle\"},\"mode\":\"markers\",\"name\":\"\",\"orientation\":\"v\",\"showlegend\":false,\"x\":[2253.9,2248.2,2188.7,2219.9,2257.2,2309.9,2217.0,2215.6,2236.2,2068.8,2278.5,2121.6,2239.5,2267.8,2189.3,2116.0,2173.7,2229.2,2202.8,2167.6,2236.0,2082.4,2286.6,2204.7,2327.8,2242.0,2149.9,2329.7,2325.4,2238.9,2191.3,2172.8,2145.8,2163.8,2287.2,2173.5,2269.1,2083.9,2277.7,2162.1,2143.1,2189.1,2161.3,2208.6,2206.7,2122.3,2100.8,2271.4,2076.4,2203.9,2108.8,2152.0,2281.3,2183.6,2238.6,2185.4,2299.4,2195.8,2224.6,2119.4,2194.8,2298.9,2219.9,2296.5,2125.8,2096.2,2262.4,2229.2,2140.7,2216.8,2275.3,2186.6,2228.8,2052.3,2258.9,2119.8,2170.4,2179.0,2131.8,2133.9,2254.1,2166.8,2173.8,2217.2,2188.8,2161.8,2219.4,2121.2,2329.5,2156.3,2179.4,2254.8,2132.3,2173.2,2172.5,2147.4,2146.9,2183.9,2196.4,2308.5,2219.3,2163.8,2254.8,2167.7,2167.9,2255.7,2065.2,2037.8,2099.1,2222.3,2158.9,2128.8,2199.1,2148.7,2139.5,2142.7,2177.2,2155.4,2112.0,2083.6,2176.8,2120.8,2235.5,2192.4,2098.6,2230.5,2135.0,2154.0,2075.2,2226.1,2168.5,2197.7,2259.0,2226.5,2174.4,2141.3,2195.7,2204.8,2074.8,2213.9,2206.6,2308.4,2165.3,2222.6,2168.7,2120.4,2258.5,2200.4,2159.7,2212.4,2169.8,2121.0,2239.4,2135.5,2155.2,2144.6,2156.0,2073.2,2176.2,2310.8,2118.4,2220.2,2215.6,2163.3,2081.3,2215.4,2149.9,2104.8,2116.8,2148.9,2156.8,2273.7,2145.3,2186.7,2249.6,2205.5,2165.3,2129.7,2126.7,2200.7,2176.5,2181.6,2224.1,2235.8,2239.8,2187.7,2196.7,2132.2,2258.5,2056.9,2078.9,2249.8,2151.2,2175.3,2154.2,2084.9,2190.7,2168.9,2120.1,2144.2,2221.7,2208.4,2078.5,2133.6,2160.6,2170.5,2083.3,2180.4,2093.0],\"xaxis\":\"x\",\"y\":[568.6,576.6,556.6,593.4,557.8,593.3,555.3,593.8,590.5,568.1,567.2,605.0,579.0,586.1,572.8,581.2,556.8,550.7,563.5,578.1,570.8,589.9,548.4,595.3,569.5,559.1,568.3,575.4,578.9,585.9,582.9,577.4,573.3,581.9,570.9,591.5,592.4,569.8,579.6,583.9,605.9,604.1,585.9,573.4,598.0,605.2,592.4,569.3,581.2,575.8,588.0,568.8,576.8,551.5,555.2,565.8,560.9,553.0,587.5,565.9,574.6,581.4,555.9,571.7,567.8,557.0,581.1,573.8,584.0,578.6,601.8,571.2,575.9,594.2,571.7,573.1,579.9,563.9,559.2,575.8,599.2,561.1,599.6,573.0,568.6,561.0,586.6,572.5,606.8,596.0,585.0,576.9,566.1,573.0,577.1,577.8,558.0,570.4,574.0,596.0,596.0,568.3,584.9,559.8,558.8,575.7,584.6,555.3,586.4,560.5,583.8,577.3,554.8,554.1,567.6,565.7,564.4,575.4,562.1,579.3,561.9,552.3,584.4,572.2,602.1,549.9,558.5,555.8,551.3,592.5,576.1,552.8,564.2,579.9,551.9,564.4,579.6,596.3,556.4,585.1,542.7,581.5,561.5,553.7,551.1,555.4,560.0,560.6,567.5,566.9,563.4,543.4,563.3,566.4,562.4,568.5,557.6,564.3,569.2,557.1,575.5,544.8,557.4,582.6,583.2,584.0,579.5,563.7,559.2,557.4,559.4,575.9,577.4,574.7,568.6,566.1,549.4,555.9,554.6,578.6,566.6,574.4,553.2,575.6,588.4,542.6,566.8,590.2,580.6,570.6,544.2,560.2,554.7,569.4,545.3,545.0,559.3,568.6,541.5,589.3,565.6,595.0,595.8,553.2,556.6,556.3,541.5,576.2,594.1],\"yaxis\":\"y\",\"type\":\"scatter\"},{\"hovertemplate\":\"\\u003cb\\u003eOLS trendline\\u003c\\u002fb\\u003e\\u003cbr\\u003efuel_rate = 0.0311545 * flame_temp + 503.569\\u003cbr\\u003eR\\u003csup\\u003e2\\u003c\\u002fsup\\u003e=0.016630\\u003cbr\\u003e\\u003cbr\\u003eFlame Temp=%{x}\\u003cbr\\u003eFuel Rate=%{y} \\u003cb\\u003e(trend)\\u003c\\u002fb\\u003e\\u003cextra\\u003e\\u003c\\u002fextra\\u003e\",\"legendgroup\":\"\",\"marker\":{\"color\":\"dodgerblue\",\"symbol\":\"circle\"},\"mode\":\"lines\",\"name\":\"\",\"showlegend\":false,\"x\":[2037.8,2052.3,2056.9,2065.2,2068.8,2073.2,2074.8,2075.2,2076.4,2078.5,2078.9,2081.3,2082.4,2083.3,2083.6,2083.9,2084.9,2093.0,2096.2,2098.6,2099.1,2100.8,2104.8,2108.8,2112.0,2116.0,2116.8,2118.4,2119.4,2119.8,2120.1,2120.4,2120.8,2121.0,2121.2,2121.6,2122.3,2125.8,2126.7,2128.8,2129.7,2131.8,2132.2,2132.3,2133.6,2133.9,2135.0,2135.5,2139.5,2140.7,2141.3,2142.7,2143.1,2144.2,2144.6,2145.3,2145.8,2146.9,2147.4,2148.7,2148.9,2149.9,2149.9,2151.2,2152.0,2154.0,2154.2,2155.2,2155.4,2156.0,2156.3,2156.8,2158.9,2159.7,2160.6,2161.3,2161.8,2162.1,2163.3,2163.8,2163.8,2165.3,2165.3,2166.8,2167.6,2167.7,2167.9,2168.5,2168.7,2168.9,2169.8,2170.4,2170.5,2172.5,2172.8,2173.2,2173.5,2173.7,2173.8,2174.4,2175.3,2176.2,2176.5,2176.8,2177.2,2179.0,2179.4,2180.4,2181.6,2183.6,2183.9,2185.4,2186.6,2186.7,2187.7,2188.7,2188.8,2189.1,2189.3,2190.7,2191.3,2192.4,2194.8,2195.7,2195.8,2196.4,2196.7,2197.7,2199.1,2200.4,2200.7,2202.8,2203.9,2204.7,2204.8,2205.5,2206.6,2206.7,2208.4,2208.6,2212.4,2213.9,2215.4,2215.6,2215.6,2216.8,2217.0,2217.2,2219.3,2219.4,2219.9,2219.9,2220.2,2221.7,2222.3,2222.6,2224.1,2224.6,2226.1,2226.5,2228.8,2229.2,2229.2,2230.5,2235.5,2235.8,2236.0,2236.2,2238.6,2238.9,2239.4,2239.5,2239.8,2242.0,2248.2,2249.6,2249.8,2253.9,2254.1,2254.8,2254.8,2255.7,2257.2,2258.5,2258.5,2258.9,2259.0,2262.4,2267.8,2269.1,2271.4,2273.7,2275.3,2277.7,2278.5,2281.3,2286.6,2287.2,2296.5,2298.9,2299.4,2308.4,2308.5,2309.9,2310.8,2325.4,2327.8,2329.5,2329.7],\"xaxis\":\"x\",\"y\":[567.0550662720623,567.5068058683977,567.6501163610282,567.9086983368614,568.0208543745723,568.1579339762189,568.2077811040904,568.2202428860583,568.2576282319619,568.3230525872932,568.3355143692611,568.4102850610683,568.44455496148,568.4725939709076,568.4819403073835,568.4912866438594,568.5224410987792,568.7747921836285,568.8744864393715,568.9492571311787,568.9648343586385,569.017796932002,569.1424147516807,569.2670325713594,569.3667268271024,569.491344646781,569.5162682107168,569.5661153385884,569.597269793508,569.6097315754758,569.6190779119518,569.6284242484277,569.6408860303956,569.6471169213795,569.6533478123633,569.6658095943312,569.687617712775,569.7966583049939,569.8246973144217,569.890121669753,569.9181606791807,569.983585034512,569.9960468164799,569.9991622619718,570.0396630533673,570.0490093898433,570.083279290255,570.0988565177148,570.2234743373936,570.2608596832971,570.2795523562489,570.3231685931364,570.3356303751043,570.369900275516,570.3823620574839,570.4041701759277,570.4197474033874,570.4540173037991,570.469594531259,570.5100953226545,570.5163262136384,570.5474806685581,570.5474806685581,570.5879814599537,570.6129050238894,570.6752139337289,570.6814448247128,570.7125992796324,570.7188301706163,570.7375228435682,570.7468691800441,570.762446407504,570.8278707628352,570.852794326771,570.8808333361986,570.9026414546424,570.9182186821023,570.9275650185782,570.9649503644819,570.9805275919416,570.9805275919416,571.0272592743212,571.0272592743212,571.0739909567006,571.0989145206364,571.1020299661284,571.1082608571123,571.1269535300642,571.1331844210481,571.139415312032,571.1674543214597,571.1861469944115,571.1892624399035,571.2515713497428,571.2609176862187,571.2733794681866,571.2827258046625,571.2889566956464,571.2920721411384,571.3107648140902,571.338803823518,571.3668428329456,571.3761891694215,571.3855355058975,571.3979972878653,571.4540753067207,571.4665370886886,571.4976915436083,571.5350768895119,571.5973857993513,571.6067321358272,571.6534638182067,571.6908491641103,571.6939646096023,571.7251190645219,571.7562735194416,571.7593889649336,571.7687353014095,571.7749661923934,571.8185824292809,571.8372751022328,571.8715450026444,571.9463156944516,571.9743547038794,571.9774701493714,571.9961628223231,572.005509158799,572.0366636137187,572.0802798506063,572.1207806420018,572.1301269784777,572.195551333809,572.2298212342207,572.2547447981565,572.2578602436485,572.2796683620921,572.3139382625038,572.3170537079958,572.3700162813592,572.3762471723431,572.494634101038,572.5413657834175,572.588097465797,572.5943283567809,572.5943283567809,572.6317137026846,572.6379445936684,572.6441754846524,572.7095998399838,572.7127152854757,572.7282925129355,572.7282925129355,572.7376388494114,572.784370531791,572.8030632047428,572.8124095412187,572.8591412235982,572.874718451058,572.9214501334375,572.9339119154054,573.0055671617207,573.0180289436885,573.0180289436885,573.0585297350841,573.2143020096825,573.2236483461584,573.2298792371423,573.2361101281263,573.3108808199335,573.3202271564094,573.3358043838692,573.3389198293612,573.3482661658371,573.4168059666604,573.6099635871624,573.65357982405,573.6598107150339,573.7875439802045,573.7937748711885,573.8155829896323,573.8155829896323,573.8436219990599,573.8903536814395,573.9308544728351,573.9308544728351,573.943316254803,573.9464317002949,574.0523568470218,574.2205909035881,574.2610916949836,574.3327469412989,574.4044021876141,574.4542493154856,574.5290200072928,574.5539435712286,574.6411760450037,574.806294656078,574.8249873290298,575.1147237597828,575.18949445159,575.2050716790499,575.485461773327,575.4885772188189,575.5321934557064,575.5602324651342,576.0150875069614,576.0898581987688,576.1428207721322,576.1490516631161],\"yaxis\":\"y\",\"type\":\"scatter\"}],                        {\"template\":{\"data\":{\"histogram2dcontour\":[{\"type\":\"histogram2dcontour\",\"colorbar\":{\"outlinewidth\":0,\"ticks\":\"\"},\"colorscale\":[[0.0,\"#0d0887\"],[0.1111111111111111,\"#46039f\"],[0.2222222222222222,\"#7201a8\"],[0.3333333333333333,\"#9c179e\"],[0.4444444444444444,\"#bd3786\"],[0.5555555555555556,\"#d8576b\"],[0.6666666666666666,\"#ed7953\"],[0.7777777777777778,\"#fb9f3a\"],[0.8888888888888888,\"#fdca26\"],[1.0,\"#f0f921\"]]}],\"choropleth\":[{\"type\":\"choropleth\",\"colorbar\":{\"outlinewidth\":0,\"ticks\":\"\"}}],\"histogram2d\":[{\"type\":\"histogram2d\",\"colorbar\":{\"outlinewidth\":0,\"ticks\":\"\"},\"colorscale\":[[0.0,\"#0d0887\"],[0.1111111111111111,\"#46039f\"],[0.2222222222222222,\"#7201a8\"],[0.3333333333333333,\"#9c179e\"],[0.4444444444444444,\"#bd3786\"],[0.5555555555555556,\"#d8576b\"],[0.6666666666666666,\"#ed7953\"],[0.7777777777777778,\"#fb9f3a\"],[0.8888888888888888,\"#fdca26\"],[1.0,\"#f0f921\"]]}],\"heatmap\":[{\"type\":\"heatmap\",\"colorbar\":{\"outlinewidth\":0,\"ticks\":\"\"},\"colorscale\":[[0.0,\"#0d0887\"],[0.1111111111111111,\"#46039f\"],[0.2222222222222222,\"#7201a8\"],[0.3333333333333333,\"#9c179e\"],[0.4444444444444444,\"#bd3786\"],[0.5555555555555556,\"#d8576b\"],[0.6666666666666666,\"#ed7953\"],[0.7777777777777778,\"#fb9f3a\"],[0.8888888888888888,\"#fdca26\"],[1.0,\"#f0f921\"]]}],\"heatmapgl\":[{\"type\":\"heatmapgl\",\"colorbar\":{\"outlinewidth\":0,\"ticks\":\"\"},\"colorscale\":[[0.0,\"#0d0887\"],[0.1111111111111111,\"#46039f\"],[0.2222222222222222,\"#7201a8\"],[0.3333333333333333,\"#9c179e\"],[0.4444444444444444,\"#bd3786\"],[0.5555555555555556,\"#d8576b\"],[0.6666666666666666,\"#ed7953\"],[0.7777777777777778,\"#fb9f3a\"],[0.8888888888888888,\"#fdca26\"],[1.0,\"#f0f921\"]]}],\"contourcarpet\":[{\"type\":\"contourcarpet\",\"colorbar\":{\"outlinewidth\":0,\"ticks\":\"\"}}],\"contour\":[{\"type\":\"contour\",\"colorbar\":{\"outlinewidth\":0,\"ticks\":\"\"},\"colorscale\":[[0.0,\"#0d0887\"],[0.1111111111111111,\"#46039f\"],[0.2222222222222222,\"#7201a8\"],[0.3333333333333333,\"#9c179e\"],[0.4444444444444444,\"#bd3786\"],[0.5555555555555556,\"#d8576b\"],[0.6666666666666666,\"#ed7953\"],[0.7777777777777778,\"#fb9f3a\"],[0.8888888888888888,\"#fdca26\"],[1.0,\"#f0f921\"]]}],\"surface\":[{\"type\":\"surface\",\"colorbar\":{\"outlinewidth\":0,\"ticks\":\"\"},\"colorscale\":[[0.0,\"#0d0887\"],[0.1111111111111111,\"#46039f\"],[0.2222222222222222,\"#7201a8\"],[0.3333333333333333,\"#9c179e\"],[0.4444444444444444,\"#bd3786\"],[0.5555555555555556,\"#d8576b\"],[0.6666666666666666,\"#ed7953\"],[0.7777777777777778,\"#fb9f3a\"],[0.8888888888888888,\"#fdca26\"],[1.0,\"#f0f921\"]]}],\"mesh3d\":[{\"type\":\"mesh3d\",\"colorbar\":{\"outlinewidth\":0,\"ticks\":\"\"}}],\"scatter\":[{\"fillpattern\":{\"fillmode\":\"overlay\",\"size\":10,\"solidity\":0.2},\"type\":\"scatter\"}],\"parcoords\":[{\"type\":\"parcoords\",\"line\":{\"colorbar\":{\"outlinewidth\":0,\"ticks\":\"\"}}}],\"scatterpolargl\":[{\"type\":\"scatterpolargl\",\"marker\":{\"colorbar\":{\"outlinewidth\":0,\"ticks\":\"\"}}}],\"bar\":[{\"error_x\":{\"color\":\"#2a3f5f\"},\"error_y\":{\"color\":\"#2a3f5f\"},\"marker\":{\"line\":{\"color\":\"#E5ECF6\",\"width\":0.5},\"pattern\":{\"fillmode\":\"overlay\",\"size\":10,\"solidity\":0.2}},\"type\":\"bar\"}],\"scattergeo\":[{\"type\":\"scattergeo\",\"marker\":{\"colorbar\":{\"outlinewidth\":0,\"ticks\":\"\"}}}],\"scatterpolar\":[{\"type\":\"scatterpolar\",\"marker\":{\"colorbar\":{\"outlinewidth\":0,\"ticks\":\"\"}}}],\"histogram\":[{\"marker\":{\"pattern\":{\"fillmode\":\"overlay\",\"size\":10,\"solidity\":0.2}},\"type\":\"histogram\"}],\"scattergl\":[{\"type\":\"scattergl\",\"marker\":{\"colorbar\":{\"outlinewidth\":0,\"ticks\":\"\"}}}],\"scatter3d\":[{\"type\":\"scatter3d\",\"line\":{\"colorbar\":{\"outlinewidth\":0,\"ticks\":\"\"}},\"marker\":{\"colorbar\":{\"outlinewidth\":0,\"ticks\":\"\"}}}],\"scattermapbox\":[{\"type\":\"scattermapbox\",\"marker\":{\"colorbar\":{\"outlinewidth\":0,\"ticks\":\"\"}}}],\"scatterternary\":[{\"type\":\"scatterternary\",\"marker\":{\"colorbar\":{\"outlinewidth\":0,\"ticks\":\"\"}}}],\"scattercarpet\":[{\"type\":\"scattercarpet\",\"marker\":{\"colorbar\":{\"outlinewidth\":0,\"ticks\":\"\"}}}],\"carpet\":[{\"aaxis\":{\"endlinecolor\":\"#2a3f5f\",\"gridcolor\":\"white\",\"linecolor\":\"white\",\"minorgridcolor\":\"white\",\"startlinecolor\":\"#2a3f5f\"},\"baxis\":{\"endlinecolor\":\"#2a3f5f\",\"gridcolor\":\"white\",\"linecolor\":\"white\",\"minorgridcolor\":\"white\",\"startlinecolor\":\"#2a3f5f\"},\"type\":\"carpet\"}],\"table\":[{\"cells\":{\"fill\":{\"color\":\"#EBF0F8\"},\"line\":{\"color\":\"white\"}},\"header\":{\"fill\":{\"color\":\"#C8D4E3\"},\"line\":{\"color\":\"white\"}},\"type\":\"table\"}],\"barpolar\":[{\"marker\":{\"line\":{\"color\":\"#E5ECF6\",\"width\":0.5},\"pattern\":{\"fillmode\":\"overlay\",\"size\":10,\"solidity\":0.2}},\"type\":\"barpolar\"}],\"pie\":[{\"automargin\":true,\"type\":\"pie\"}]},\"layout\":{\"autotypenumbers\":\"strict\",\"colorway\":[\"#636efa\",\"#EF553B\",\"#00cc96\",\"#ab63fa\",\"#FFA15A\",\"#19d3f3\",\"#FF6692\",\"#B6E880\",\"#FF97FF\",\"#FECB52\"],\"font\":{\"color\":\"#2a3f5f\"},\"hovermode\":\"closest\",\"hoverlabel\":{\"align\":\"left\"},\"paper_bgcolor\":\"white\",\"plot_bgcolor\":\"#E5ECF6\",\"polar\":{\"bgcolor\":\"#E5ECF6\",\"angularaxis\":{\"gridcolor\":\"white\",\"linecolor\":\"white\",\"ticks\":\"\"},\"radialaxis\":{\"gridcolor\":\"white\",\"linecolor\":\"white\",\"ticks\":\"\"}},\"ternary\":{\"bgcolor\":\"#E5ECF6\",\"aaxis\":{\"gridcolor\":\"white\",\"linecolor\":\"white\",\"ticks\":\"\"},\"baxis\":{\"gridcolor\":\"white\",\"linecolor\":\"white\",\"ticks\":\"\"},\"caxis\":{\"gridcolor\":\"white\",\"linecolor\":\"white\",\"ticks\":\"\"}},\"coloraxis\":{\"colorbar\":{\"outlinewidth\":0,\"ticks\":\"\"}},\"colorscale\":{\"sequential\":[[0.0,\"#0d0887\"],[0.1111111111111111,\"#46039f\"],[0.2222222222222222,\"#7201a8\"],[0.3333333333333333,\"#9c179e\"],[0.4444444444444444,\"#bd3786\"],[0.5555555555555556,\"#d8576b\"],[0.6666666666666666,\"#ed7953\"],[0.7777777777777778,\"#fb9f3a\"],[0.8888888888888888,\"#fdca26\"],[1.0,\"#f0f921\"]],\"sequentialminus\":[[0.0,\"#0d0887\"],[0.1111111111111111,\"#46039f\"],[0.2222222222222222,\"#7201a8\"],[0.3333333333333333,\"#9c179e\"],[0.4444444444444444,\"#bd3786\"],[0.5555555555555556,\"#d8576b\"],[0.6666666666666666,\"#ed7953\"],[0.7777777777777778,\"#fb9f3a\"],[0.8888888888888888,\"#fdca26\"],[1.0,\"#f0f921\"]],\"diverging\":[[0,\"#8e0152\"],[0.1,\"#c51b7d\"],[0.2,\"#de77ae\"],[0.3,\"#f1b6da\"],[0.4,\"#fde0ef\"],[0.5,\"#f7f7f7\"],[0.6,\"#e6f5d0\"],[0.7,\"#b8e186\"],[0.8,\"#7fbc41\"],[0.9,\"#4d9221\"],[1,\"#276419\"]]},\"xaxis\":{\"gridcolor\":\"white\",\"linecolor\":\"white\",\"ticks\":\"\",\"title\":{\"standoff\":15},\"zerolinecolor\":\"white\",\"automargin\":true,\"zerolinewidth\":2},\"yaxis\":{\"gridcolor\":\"white\",\"linecolor\":\"white\",\"ticks\":\"\",\"title\":{\"standoff\":15},\"zerolinecolor\":\"white\",\"automargin\":true,\"zerolinewidth\":2},\"scene\":{\"xaxis\":{\"backgroundcolor\":\"#E5ECF6\",\"gridcolor\":\"white\",\"linecolor\":\"white\",\"showbackground\":true,\"ticks\":\"\",\"zerolinecolor\":\"white\",\"gridwidth\":2},\"yaxis\":{\"backgroundcolor\":\"#E5ECF6\",\"gridcolor\":\"white\",\"linecolor\":\"white\",\"showbackground\":true,\"ticks\":\"\",\"zerolinecolor\":\"white\",\"gridwidth\":2},\"zaxis\":{\"backgroundcolor\":\"#E5ECF6\",\"gridcolor\":\"white\",\"linecolor\":\"white\",\"showbackground\":true,\"ticks\":\"\",\"zerolinecolor\":\"white\",\"gridwidth\":2}},\"shapedefaults\":{\"line\":{\"color\":\"#2a3f5f\"}},\"annotationdefaults\":{\"arrowcolor\":\"#2a3f5f\",\"arrowhead\":0,\"arrowwidth\":1},\"geo\":{\"bgcolor\":\"white\",\"landcolor\":\"#E5ECF6\",\"subunitcolor\":\"white\",\"showland\":true,\"showlakes\":true,\"lakecolor\":\"white\"},\"title\":{\"x\":0.05},\"mapbox\":{\"style\":\"light\"}}},\"xaxis\":{\"anchor\":\"y\",\"domain\":[0.0,1.0],\"title\":{\"text\":\"Flame Temp\"}},\"yaxis\":{\"anchor\":\"x\",\"domain\":[0.0,1.0],\"title\":{\"text\":\"Fuel Rate\"}},\"legend\":{\"tracegroupgap\":0},\"title\":{\"text\":\"Flame Temp vs Fuel Rate\"}},                        {\"responsive\": true}                    ).then(function(){\n",
              "                            \n",
              "var gd = document.getElementById('2ee30e95-d31a-41ce-9b77-27f75c2fc002');\n",
              "var x = new MutationObserver(function (mutations, observer) {{\n",
              "        var display = window.getComputedStyle(gd).display;\n",
              "        if (!display || display === 'none') {{\n",
              "            console.log([gd, 'removed!']);\n",
              "            Plotly.purge(gd);\n",
              "            observer.disconnect();\n",
              "        }}\n",
              "}});\n",
              "\n",
              "// Listen for the removal of the full notebook cells\n",
              "var notebookContainer = gd.closest('#notebook-container');\n",
              "if (notebookContainer) {{\n",
              "    x.observe(notebookContainer, {childList: true});\n",
              "}}\n",
              "\n",
              "// Listen for the clearing of the current output cell\n",
              "var outputEl = gd.closest('.output');\n",
              "if (outputEl) {{\n",
              "    x.observe(outputEl, {childList: true});\n",
              "}}\n",
              "\n",
              "                        })                };                            </script>        </div>\n",
              "</body>\n",
              "</html>"
            ]
          },
          "metadata": {}
        },
        {
          "output_type": "display_data",
          "data": {
            "text/html": [
              "<html>\n",
              "<head><meta charset=\"utf-8\" /></head>\n",
              "<body>\n",
              "    <div>            <script src=\"https://cdnjs.cloudflare.com/ajax/libs/mathjax/2.7.5/MathJax.js?config=TeX-AMS-MML_SVG\"></script><script type=\"text/javascript\">if (window.MathJax && window.MathJax.Hub && window.MathJax.Hub.Config) {window.MathJax.Hub.Config({SVG: {font: \"STIX-Web\"}});}</script>                <script type=\"text/javascript\">window.PlotlyConfig = {MathJaxConfig: 'local'};</script>\n",
              "        <script charset=\"utf-8\" src=\"https://cdn.plot.ly/plotly-2.35.2.min.js\"></script>                <div id=\"341cac65-31f5-4d6e-b4cc-e92532924007\" class=\"plotly-graph-div\" style=\"height:525px; width:100%;\"></div>            <script type=\"text/javascript\">                                    window.PLOTLYENV=window.PLOTLYENV || {};                                    if (document.getElementById(\"341cac65-31f5-4d6e-b4cc-e92532924007\")) {                    Plotly.newPlot(                        \"341cac65-31f5-4d6e-b4cc-e92532924007\",                        [{\"hovertemplate\":\"Top Pressure=%{x}\\u003cbr\\u003eFuel Rate=%{y}\\u003cextra\\u003e\\u003c\\u002fextra\\u003e\",\"legendgroup\":\"\",\"marker\":{\"color\":\"dodgerblue\",\"symbol\":\"circle\"},\"mode\":\"markers\",\"name\":\"\",\"orientation\":\"v\",\"showlegend\":false,\"x\":[2.26,2.33,2.36,2.45,2.28,2.36,2.47,2.29,2.32,2.35,2.42,2.44,2.49,2.35,2.42,2.42,2.48,2.31,2.41,2.29,2.33,2.34,2.36,2.44,2.19,2.26,2.3,2.31,2.34,2.35,2.36,2.39,2.4,2.42,2.38,2.38,2.29,2.3,2.32,2.37,2.37,2.46,2.49,2.26,2.38,2.33,2.39,2.43,2.46,2.31,2.32,2.41,2.41,2.26,2.27,2.31,2.37,2.38,2.38,2.41,2.42,2.42,2.27,2.36,2.4,2.41,2.41,2.44,2.41,2.32,2.32,2.45,2.19,2.26,2.41,2.42,2.44,2.26,2.31,2.37,2.36,2.4,2.43,2.41,2.26,2.31,2.27,2.36,2.38,2.28,2.32,2.35,2.36,2.37,2.39,2.39,2.4,2.41,2.4,2.31,2.36,2.46,2.37,2.42,2.33,2.36,2.43,2.45,2.25,2.31,2.32,2.33,2.36,2.4,2.42,2.31,2.33,2.35,2.31,2.39,2.43,2.23,2.26,2.28,2.28,2.31,2.33,2.38,2.41,2.45,2.29,2.32,2.32,2.32,2.33,2.33,2.33,2.34,2.35,2.35,2.37,2.37,2.4,2.41,2.44,2.45,2.46,2.46,2.29,2.36,2.37,2.4,2.43,2.35,2.36,2.29,2.36,2.36,2.37,2.38,2.38,2.38,2.34,2.49,2.24,2.33,2.35,2.36,2.23,2.32,2.37,2.37,2.3,2.27,2.3,2.31,2.32,2.32,2.4,2.35,2.36,2.37,2.41,2.35,2.39,2.41,2.27,2.31,2.35,2.38,2.43,2.21,2.38,2.23,2.31,2.35,2.25,2.27,2.36,2.38,2.4,2.4,2.44,2.28,2.32,2.34,2.45,2.36,2.39],\"xaxis\":\"x\",\"y\":[568.6,576.6,556.6,593.4,557.8,593.3,555.3,593.8,590.5,568.1,567.2,605.0,579.0,586.1,572.8,581.2,556.8,550.7,563.5,578.1,570.8,589.9,548.4,595.3,569.5,559.1,568.3,575.4,578.9,585.9,582.9,577.4,573.3,581.9,570.9,591.5,592.4,569.8,579.6,583.9,605.9,604.1,585.9,573.4,598.0,605.2,592.4,569.3,581.2,575.8,588.0,568.8,576.8,551.5,555.2,565.8,560.9,553.0,587.5,565.9,574.6,581.4,555.9,571.7,567.8,557.0,581.1,573.8,584.0,578.6,601.8,571.2,575.9,594.2,571.7,573.1,579.9,563.9,559.2,575.8,599.2,561.1,599.6,573.0,568.6,561.0,586.6,572.5,606.8,596.0,585.0,576.9,566.1,573.0,577.1,577.8,558.0,570.4,574.0,596.0,596.0,568.3,584.9,559.8,558.8,575.7,584.6,555.3,586.4,560.5,583.8,577.3,554.8,554.1,567.6,565.7,564.4,575.4,562.1,579.3,561.9,552.3,584.4,572.2,602.1,549.9,558.5,555.8,551.3,592.5,576.1,552.8,564.2,579.9,551.9,564.4,579.6,596.3,556.4,585.1,542.7,581.5,561.5,553.7,551.1,555.4,560.0,560.6,567.5,566.9,563.4,543.4,563.3,566.4,562.4,568.5,557.6,564.3,569.2,557.1,575.5,544.8,557.4,582.6,583.2,584.0,579.5,563.7,559.2,557.4,559.4,575.9,577.4,574.7,568.6,566.1,549.4,555.9,554.6,578.6,566.6,574.4,553.2,575.6,588.4,542.6,566.8,590.2,580.6,570.6,544.2,560.2,554.7,569.4,545.3,545.0,559.3,568.6,541.5,589.3,565.6,595.0,595.8,553.2,556.6,556.3,541.5,576.2,594.1],\"yaxis\":\"y\",\"type\":\"scatter\"},{\"hovertemplate\":\"\\u003cb\\u003eOLS trendline\\u003c\\u002fb\\u003e\\u003cbr\\u003efuel_rate = 8.22411 * top_pressure + 552.208\\u003cbr\\u003eR\\u003csup\\u003e2\\u003c\\u002fsup\\u003e=0.001137\\u003cbr\\u003e\\u003cbr\\u003eTop Pressure=%{x}\\u003cbr\\u003eFuel Rate=%{y} \\u003cb\\u003e(trend)\\u003c\\u002fb\\u003e\\u003cextra\\u003e\\u003c\\u002fextra\\u003e\",\"legendgroup\":\"\",\"marker\":{\"color\":\"dodgerblue\",\"symbol\":\"circle\"},\"mode\":\"lines\",\"name\":\"\",\"showlegend\":false,\"x\":[2.19,2.19,2.21,2.23,2.23,2.23,2.24,2.25,2.25,2.26,2.26,2.26,2.26,2.26,2.26,2.26,2.26,2.27,2.27,2.27,2.27,2.27,2.27,2.28,2.28,2.28,2.28,2.28,2.29,2.29,2.29,2.29,2.29,2.29,2.3,2.3,2.3,2.3,2.31,2.31,2.31,2.31,2.31,2.31,2.31,2.31,2.31,2.31,2.31,2.31,2.31,2.31,2.32,2.32,2.32,2.32,2.32,2.32,2.32,2.32,2.32,2.32,2.32,2.32,2.32,2.32,2.33,2.33,2.33,2.33,2.33,2.33,2.33,2.33,2.33,2.33,2.33,2.34,2.34,2.34,2.34,2.34,2.35,2.35,2.35,2.35,2.35,2.35,2.35,2.35,2.35,2.35,2.35,2.35,2.35,2.36,2.36,2.36,2.36,2.36,2.36,2.36,2.36,2.36,2.36,2.36,2.36,2.36,2.36,2.36,2.36,2.36,2.36,2.36,2.37,2.37,2.37,2.37,2.37,2.37,2.37,2.37,2.37,2.37,2.37,2.37,2.37,2.38,2.38,2.38,2.38,2.38,2.38,2.38,2.38,2.38,2.38,2.38,2.38,2.38,2.39,2.39,2.39,2.39,2.39,2.39,2.39,2.4,2.4,2.4,2.4,2.4,2.4,2.4,2.4,2.4,2.4,2.4,2.41,2.41,2.41,2.41,2.41,2.41,2.41,2.41,2.41,2.41,2.41,2.41,2.41,2.41,2.42,2.42,2.42,2.42,2.42,2.42,2.42,2.42,2.42,2.43,2.43,2.43,2.43,2.43,2.43,2.44,2.44,2.44,2.44,2.44,2.44,2.45,2.45,2.45,2.45,2.45,2.45,2.46,2.46,2.46,2.46,2.46,2.47,2.48,2.49,2.49,2.49],\"xaxis\":\"x\",\"y\":[570.2188134021461,570.2188134021461,570.3832955086167,570.5477776150872,570.5477776150872,570.5477776150872,570.6300186683224,570.7122597215576,570.7122597215576,570.7945007747928,570.7945007747928,570.7945007747928,570.7945007747928,570.7945007747928,570.7945007747928,570.7945007747928,570.7945007747928,570.8767418280281,570.8767418280281,570.8767418280281,570.8767418280281,570.8767418280281,570.8767418280281,570.9589828812633,570.9589828812633,570.9589828812633,570.9589828812633,570.9589828812633,571.0412239344986,571.0412239344986,571.0412239344986,571.0412239344986,571.0412239344986,571.0412239344986,571.1234649877339,571.1234649877339,571.1234649877339,571.1234649877339,571.2057060409691,571.2057060409691,571.2057060409691,571.2057060409691,571.2057060409691,571.2057060409691,571.2057060409691,571.2057060409691,571.2057060409691,571.2057060409691,571.2057060409691,571.2057060409691,571.2057060409691,571.2057060409691,571.2879470942044,571.2879470942044,571.2879470942044,571.2879470942044,571.2879470942044,571.2879470942044,571.2879470942044,571.2879470942044,571.2879470942044,571.2879470942044,571.2879470942044,571.2879470942044,571.2879470942044,571.2879470942044,571.3701881474395,571.3701881474395,571.3701881474395,571.3701881474395,571.3701881474395,571.3701881474395,571.3701881474395,571.3701881474395,571.3701881474395,571.3701881474395,571.3701881474395,571.4524292006748,571.4524292006748,571.4524292006748,571.4524292006748,571.4524292006748,571.53467025391,571.53467025391,571.53467025391,571.53467025391,571.53467025391,571.53467025391,571.53467025391,571.53467025391,571.53467025391,571.53467025391,571.53467025391,571.53467025391,571.53467025391,571.6169113071453,571.6169113071453,571.6169113071453,571.6169113071453,571.6169113071453,571.6169113071453,571.6169113071453,571.6169113071453,571.6169113071453,571.6169113071453,571.6169113071453,571.6169113071453,571.6169113071453,571.6169113071453,571.6169113071453,571.6169113071453,571.6169113071453,571.6169113071453,571.6169113071453,571.6991523603805,571.6991523603805,571.6991523603805,571.6991523603805,571.6991523603805,571.6991523603805,571.6991523603805,571.6991523603805,571.6991523603805,571.6991523603805,571.6991523603805,571.6991523603805,571.6991523603805,571.7813934136158,571.7813934136158,571.7813934136158,571.7813934136158,571.7813934136158,571.7813934136158,571.7813934136158,571.7813934136158,571.7813934136158,571.7813934136158,571.7813934136158,571.7813934136158,571.7813934136158,571.8636344668511,571.8636344668511,571.8636344668511,571.8636344668511,571.8636344668511,571.8636344668511,571.8636344668511,571.9458755200862,571.9458755200862,571.9458755200862,571.9458755200862,571.9458755200862,571.9458755200862,571.9458755200862,571.9458755200862,571.9458755200862,571.9458755200862,571.9458755200862,572.0281165733215,572.0281165733215,572.0281165733215,572.0281165733215,572.0281165733215,572.0281165733215,572.0281165733215,572.0281165733215,572.0281165733215,572.0281165733215,572.0281165733215,572.0281165733215,572.0281165733215,572.0281165733215,572.1103576265567,572.1103576265567,572.1103576265567,572.1103576265567,572.1103576265567,572.1103576265567,572.1103576265567,572.1103576265567,572.1103576265567,572.192598679792,572.192598679792,572.192598679792,572.192598679792,572.192598679792,572.192598679792,572.2748397330272,572.2748397330272,572.2748397330272,572.2748397330272,572.2748397330272,572.2748397330272,572.3570807862625,572.3570807862625,572.3570807862625,572.3570807862625,572.3570807862625,572.3570807862625,572.4393218394977,572.4393218394977,572.4393218394977,572.4393218394977,572.4393218394977,572.521562892733,572.6038039459683,572.6860449992034,572.6860449992034,572.6860449992034],\"yaxis\":\"y\",\"type\":\"scatter\"}],                        {\"template\":{\"data\":{\"histogram2dcontour\":[{\"type\":\"histogram2dcontour\",\"colorbar\":{\"outlinewidth\":0,\"ticks\":\"\"},\"colorscale\":[[0.0,\"#0d0887\"],[0.1111111111111111,\"#46039f\"],[0.2222222222222222,\"#7201a8\"],[0.3333333333333333,\"#9c179e\"],[0.4444444444444444,\"#bd3786\"],[0.5555555555555556,\"#d8576b\"],[0.6666666666666666,\"#ed7953\"],[0.7777777777777778,\"#fb9f3a\"],[0.8888888888888888,\"#fdca26\"],[1.0,\"#f0f921\"]]}],\"choropleth\":[{\"type\":\"choropleth\",\"colorbar\":{\"outlinewidth\":0,\"ticks\":\"\"}}],\"histogram2d\":[{\"type\":\"histogram2d\",\"colorbar\":{\"outlinewidth\":0,\"ticks\":\"\"},\"colorscale\":[[0.0,\"#0d0887\"],[0.1111111111111111,\"#46039f\"],[0.2222222222222222,\"#7201a8\"],[0.3333333333333333,\"#9c179e\"],[0.4444444444444444,\"#bd3786\"],[0.5555555555555556,\"#d8576b\"],[0.6666666666666666,\"#ed7953\"],[0.7777777777777778,\"#fb9f3a\"],[0.8888888888888888,\"#fdca26\"],[1.0,\"#f0f921\"]]}],\"heatmap\":[{\"type\":\"heatmap\",\"colorbar\":{\"outlinewidth\":0,\"ticks\":\"\"},\"colorscale\":[[0.0,\"#0d0887\"],[0.1111111111111111,\"#46039f\"],[0.2222222222222222,\"#7201a8\"],[0.3333333333333333,\"#9c179e\"],[0.4444444444444444,\"#bd3786\"],[0.5555555555555556,\"#d8576b\"],[0.6666666666666666,\"#ed7953\"],[0.7777777777777778,\"#fb9f3a\"],[0.8888888888888888,\"#fdca26\"],[1.0,\"#f0f921\"]]}],\"heatmapgl\":[{\"type\":\"heatmapgl\",\"colorbar\":{\"outlinewidth\":0,\"ticks\":\"\"},\"colorscale\":[[0.0,\"#0d0887\"],[0.1111111111111111,\"#46039f\"],[0.2222222222222222,\"#7201a8\"],[0.3333333333333333,\"#9c179e\"],[0.4444444444444444,\"#bd3786\"],[0.5555555555555556,\"#d8576b\"],[0.6666666666666666,\"#ed7953\"],[0.7777777777777778,\"#fb9f3a\"],[0.8888888888888888,\"#fdca26\"],[1.0,\"#f0f921\"]]}],\"contourcarpet\":[{\"type\":\"contourcarpet\",\"colorbar\":{\"outlinewidth\":0,\"ticks\":\"\"}}],\"contour\":[{\"type\":\"contour\",\"colorbar\":{\"outlinewidth\":0,\"ticks\":\"\"},\"colorscale\":[[0.0,\"#0d0887\"],[0.1111111111111111,\"#46039f\"],[0.2222222222222222,\"#7201a8\"],[0.3333333333333333,\"#9c179e\"],[0.4444444444444444,\"#bd3786\"],[0.5555555555555556,\"#d8576b\"],[0.6666666666666666,\"#ed7953\"],[0.7777777777777778,\"#fb9f3a\"],[0.8888888888888888,\"#fdca26\"],[1.0,\"#f0f921\"]]}],\"surface\":[{\"type\":\"surface\",\"colorbar\":{\"outlinewidth\":0,\"ticks\":\"\"},\"colorscale\":[[0.0,\"#0d0887\"],[0.1111111111111111,\"#46039f\"],[0.2222222222222222,\"#7201a8\"],[0.3333333333333333,\"#9c179e\"],[0.4444444444444444,\"#bd3786\"],[0.5555555555555556,\"#d8576b\"],[0.6666666666666666,\"#ed7953\"],[0.7777777777777778,\"#fb9f3a\"],[0.8888888888888888,\"#fdca26\"],[1.0,\"#f0f921\"]]}],\"mesh3d\":[{\"type\":\"mesh3d\",\"colorbar\":{\"outlinewidth\":0,\"ticks\":\"\"}}],\"scatter\":[{\"fillpattern\":{\"fillmode\":\"overlay\",\"size\":10,\"solidity\":0.2},\"type\":\"scatter\"}],\"parcoords\":[{\"type\":\"parcoords\",\"line\":{\"colorbar\":{\"outlinewidth\":0,\"ticks\":\"\"}}}],\"scatterpolargl\":[{\"type\":\"scatterpolargl\",\"marker\":{\"colorbar\":{\"outlinewidth\":0,\"ticks\":\"\"}}}],\"bar\":[{\"error_x\":{\"color\":\"#2a3f5f\"},\"error_y\":{\"color\":\"#2a3f5f\"},\"marker\":{\"line\":{\"color\":\"#E5ECF6\",\"width\":0.5},\"pattern\":{\"fillmode\":\"overlay\",\"size\":10,\"solidity\":0.2}},\"type\":\"bar\"}],\"scattergeo\":[{\"type\":\"scattergeo\",\"marker\":{\"colorbar\":{\"outlinewidth\":0,\"ticks\":\"\"}}}],\"scatterpolar\":[{\"type\":\"scatterpolar\",\"marker\":{\"colorbar\":{\"outlinewidth\":0,\"ticks\":\"\"}}}],\"histogram\":[{\"marker\":{\"pattern\":{\"fillmode\":\"overlay\",\"size\":10,\"solidity\":0.2}},\"type\":\"histogram\"}],\"scattergl\":[{\"type\":\"scattergl\",\"marker\":{\"colorbar\":{\"outlinewidth\":0,\"ticks\":\"\"}}}],\"scatter3d\":[{\"type\":\"scatter3d\",\"line\":{\"colorbar\":{\"outlinewidth\":0,\"ticks\":\"\"}},\"marker\":{\"colorbar\":{\"outlinewidth\":0,\"ticks\":\"\"}}}],\"scattermapbox\":[{\"type\":\"scattermapbox\",\"marker\":{\"colorbar\":{\"outlinewidth\":0,\"ticks\":\"\"}}}],\"scatterternary\":[{\"type\":\"scatterternary\",\"marker\":{\"colorbar\":{\"outlinewidth\":0,\"ticks\":\"\"}}}],\"scattercarpet\":[{\"type\":\"scattercarpet\",\"marker\":{\"colorbar\":{\"outlinewidth\":0,\"ticks\":\"\"}}}],\"carpet\":[{\"aaxis\":{\"endlinecolor\":\"#2a3f5f\",\"gridcolor\":\"white\",\"linecolor\":\"white\",\"minorgridcolor\":\"white\",\"startlinecolor\":\"#2a3f5f\"},\"baxis\":{\"endlinecolor\":\"#2a3f5f\",\"gridcolor\":\"white\",\"linecolor\":\"white\",\"minorgridcolor\":\"white\",\"startlinecolor\":\"#2a3f5f\"},\"type\":\"carpet\"}],\"table\":[{\"cells\":{\"fill\":{\"color\":\"#EBF0F8\"},\"line\":{\"color\":\"white\"}},\"header\":{\"fill\":{\"color\":\"#C8D4E3\"},\"line\":{\"color\":\"white\"}},\"type\":\"table\"}],\"barpolar\":[{\"marker\":{\"line\":{\"color\":\"#E5ECF6\",\"width\":0.5},\"pattern\":{\"fillmode\":\"overlay\",\"size\":10,\"solidity\":0.2}},\"type\":\"barpolar\"}],\"pie\":[{\"automargin\":true,\"type\":\"pie\"}]},\"layout\":{\"autotypenumbers\":\"strict\",\"colorway\":[\"#636efa\",\"#EF553B\",\"#00cc96\",\"#ab63fa\",\"#FFA15A\",\"#19d3f3\",\"#FF6692\",\"#B6E880\",\"#FF97FF\",\"#FECB52\"],\"font\":{\"color\":\"#2a3f5f\"},\"hovermode\":\"closest\",\"hoverlabel\":{\"align\":\"left\"},\"paper_bgcolor\":\"white\",\"plot_bgcolor\":\"#E5ECF6\",\"polar\":{\"bgcolor\":\"#E5ECF6\",\"angularaxis\":{\"gridcolor\":\"white\",\"linecolor\":\"white\",\"ticks\":\"\"},\"radialaxis\":{\"gridcolor\":\"white\",\"linecolor\":\"white\",\"ticks\":\"\"}},\"ternary\":{\"bgcolor\":\"#E5ECF6\",\"aaxis\":{\"gridcolor\":\"white\",\"linecolor\":\"white\",\"ticks\":\"\"},\"baxis\":{\"gridcolor\":\"white\",\"linecolor\":\"white\",\"ticks\":\"\"},\"caxis\":{\"gridcolor\":\"white\",\"linecolor\":\"white\",\"ticks\":\"\"}},\"coloraxis\":{\"colorbar\":{\"outlinewidth\":0,\"ticks\":\"\"}},\"colorscale\":{\"sequential\":[[0.0,\"#0d0887\"],[0.1111111111111111,\"#46039f\"],[0.2222222222222222,\"#7201a8\"],[0.3333333333333333,\"#9c179e\"],[0.4444444444444444,\"#bd3786\"],[0.5555555555555556,\"#d8576b\"],[0.6666666666666666,\"#ed7953\"],[0.7777777777777778,\"#fb9f3a\"],[0.8888888888888888,\"#fdca26\"],[1.0,\"#f0f921\"]],\"sequentialminus\":[[0.0,\"#0d0887\"],[0.1111111111111111,\"#46039f\"],[0.2222222222222222,\"#7201a8\"],[0.3333333333333333,\"#9c179e\"],[0.4444444444444444,\"#bd3786\"],[0.5555555555555556,\"#d8576b\"],[0.6666666666666666,\"#ed7953\"],[0.7777777777777778,\"#fb9f3a\"],[0.8888888888888888,\"#fdca26\"],[1.0,\"#f0f921\"]],\"diverging\":[[0,\"#8e0152\"],[0.1,\"#c51b7d\"],[0.2,\"#de77ae\"],[0.3,\"#f1b6da\"],[0.4,\"#fde0ef\"],[0.5,\"#f7f7f7\"],[0.6,\"#e6f5d0\"],[0.7,\"#b8e186\"],[0.8,\"#7fbc41\"],[0.9,\"#4d9221\"],[1,\"#276419\"]]},\"xaxis\":{\"gridcolor\":\"white\",\"linecolor\":\"white\",\"ticks\":\"\",\"title\":{\"standoff\":15},\"zerolinecolor\":\"white\",\"automargin\":true,\"zerolinewidth\":2},\"yaxis\":{\"gridcolor\":\"white\",\"linecolor\":\"white\",\"ticks\":\"\",\"title\":{\"standoff\":15},\"zerolinecolor\":\"white\",\"automargin\":true,\"zerolinewidth\":2},\"scene\":{\"xaxis\":{\"backgroundcolor\":\"#E5ECF6\",\"gridcolor\":\"white\",\"linecolor\":\"white\",\"showbackground\":true,\"ticks\":\"\",\"zerolinecolor\":\"white\",\"gridwidth\":2},\"yaxis\":{\"backgroundcolor\":\"#E5ECF6\",\"gridcolor\":\"white\",\"linecolor\":\"white\",\"showbackground\":true,\"ticks\":\"\",\"zerolinecolor\":\"white\",\"gridwidth\":2},\"zaxis\":{\"backgroundcolor\":\"#E5ECF6\",\"gridcolor\":\"white\",\"linecolor\":\"white\",\"showbackground\":true,\"ticks\":\"\",\"zerolinecolor\":\"white\",\"gridwidth\":2}},\"shapedefaults\":{\"line\":{\"color\":\"#2a3f5f\"}},\"annotationdefaults\":{\"arrowcolor\":\"#2a3f5f\",\"arrowhead\":0,\"arrowwidth\":1},\"geo\":{\"bgcolor\":\"white\",\"landcolor\":\"#E5ECF6\",\"subunitcolor\":\"white\",\"showland\":true,\"showlakes\":true,\"lakecolor\":\"white\"},\"title\":{\"x\":0.05},\"mapbox\":{\"style\":\"light\"}}},\"xaxis\":{\"anchor\":\"y\",\"domain\":[0.0,1.0],\"title\":{\"text\":\"Top Pressure\"}},\"yaxis\":{\"anchor\":\"x\",\"domain\":[0.0,1.0],\"title\":{\"text\":\"Fuel Rate\"}},\"legend\":{\"tracegroupgap\":0},\"title\":{\"text\":\"Top Pressure vs Fuel Rate\"}},                        {\"responsive\": true}                    ).then(function(){\n",
              "                            \n",
              "var gd = document.getElementById('341cac65-31f5-4d6e-b4cc-e92532924007');\n",
              "var x = new MutationObserver(function (mutations, observer) {{\n",
              "        var display = window.getComputedStyle(gd).display;\n",
              "        if (!display || display === 'none') {{\n",
              "            console.log([gd, 'removed!']);\n",
              "            Plotly.purge(gd);\n",
              "            observer.disconnect();\n",
              "        }}\n",
              "}});\n",
              "\n",
              "// Listen for the removal of the full notebook cells\n",
              "var notebookContainer = gd.closest('#notebook-container');\n",
              "if (notebookContainer) {{\n",
              "    x.observe(notebookContainer, {childList: true});\n",
              "}}\n",
              "\n",
              "// Listen for the clearing of the current output cell\n",
              "var outputEl = gd.closest('.output');\n",
              "if (outputEl) {{\n",
              "    x.observe(outputEl, {childList: true});\n",
              "}}\n",
              "\n",
              "                        })                };                            </script>        </div>\n",
              "</body>\n",
              "</html>"
            ]
          },
          "metadata": {}
        }
      ]
    },
    {
      "cell_type": "code",
      "source": [
        "X = df[features]\n",
        "y = df['fuel_rate']\n",
        "X_train, X_test, y_train, y_test = train_test_split(X, y, test_size=0.3, random_state=38)\n",
        "\n",
        "print(\"Data split into training and testing sets.\")"
      ],
      "metadata": {
        "colab": {
          "base_uri": "https://localhost:8080/"
        },
        "id": "SIiGb5H-33Yh",
        "outputId": "8f23f5a4-49b7-44ef-fcec-0b717a4b6b01"
      },
      "execution_count": 9,
      "outputs": [
        {
          "output_type": "stream",
          "name": "stdout",
          "text": [
            "Data split into training and testing sets.\n"
          ]
        }
      ]
    },
    {
      "cell_type": "code",
      "source": [
        "print(\"Tuning Random Forest...\")\n",
        "rf_param_grid = {\n",
        "    'n_estimators': [100, 200],\n",
        "    'max_depth': [None, 10, 20],\n",
        "    'min_samples_split': [2, 5]\n",
        "}\n",
        "rf_grid = GridSearchCV(RandomForestRegressor(random_state=42), rf_param_grid, cv=5, scoring='r2', n_jobs=-1)\n",
        "rf_grid.fit(X_train, y_train)\n",
        "print(\"Best Random Forest Params:\", rf_grid.best_params_)\n",
        "\n",
        "print(\"\\nTuning Gradient Boosting...\")\n",
        "gb_param_grid = {\n",
        "    'n_estimators': [100, 200],\n",
        "    'learning_rate': [0.05, 0.1],\n",
        "    'max_depth': [3, 5]\n",
        "}\n",
        "gb_grid = GridSearchCV(GradientBoostingRegressor(random_state=42), gb_param_grid, cv=5, scoring='r2', n_jobs=-1)\n",
        "gb_grid.fit(X_train, y_train)\n",
        "print(\"Best Gradient Boosting Params:\", gb_grid.best_params_)\n"
      ],
      "metadata": {
        "colab": {
          "base_uri": "https://localhost:8080/"
        },
        "id": "fsV4Mz2l38l3",
        "outputId": "7e4a55f0-7019-4cdb-d9cb-315ab466961a"
      },
      "execution_count": 10,
      "outputs": [
        {
          "output_type": "stream",
          "name": "stdout",
          "text": [
            "Tuning Random Forest...\n",
            "Best Random Forest Params: {'max_depth': None, 'min_samples_split': 5, 'n_estimators': 100}\n",
            "\n",
            "Tuning Gradient Boosting...\n",
            "Best Gradient Boosting Params: {'learning_rate': 0.05, 'max_depth': 3, 'n_estimators': 100}\n"
          ]
        }
      ]
    },
    {
      "cell_type": "code",
      "source": [
        "models = {\n",
        "    'Linear Regression': LinearRegression(),\n",
        "    'Decision Tree': DecisionTreeRegressor(random_state=42),\n",
        "    'Random Forest (Tuned)': rf_grid.best_estimator_,\n",
        "    'Gradient Boosting (Tuned)': gb_grid.best_estimator_\n",
        "}\n",
        "\n",
        "results = []\n",
        "for name, model in models.items():\n",
        "    model.fit(X_train, y_train)\n",
        "    y_pred = model.predict(X_test)\n",
        "    mse = mean_squared_error(y_test, y_pred)\n",
        "    r2 = r2_score(y_test, y_pred)\n",
        "    results.append({'Model': name, 'MSE': mse, 'R2 Score': r2})\n",
        "    print(f\"{name} - MSE: {mse:.2f}, R2: {r2:.2f}\")"
      ],
      "metadata": {
        "colab": {
          "base_uri": "https://localhost:8080/"
        },
        "id": "K8MFoLkx4KnI",
        "outputId": "86b7a13f-b514-4972-9f34-0ef6d189337b"
      },
      "execution_count": 11,
      "outputs": [
        {
          "output_type": "stream",
          "name": "stdout",
          "text": [
            "Linear Regression - MSE: 207.47, R2: 0.27\n",
            "Decision Tree - MSE: 297.89, R2: -0.05\n",
            "Random Forest (Tuned) - MSE: 165.81, R2: 0.42\n",
            "Gradient Boosting (Tuned) - MSE: 198.09, R2: 0.30\n"
          ]
        }
      ]
    },
    {
      "cell_type": "code",
      "source": [
        "results_df = pd.DataFrame(results)\n",
        "print(\"\\nModel Evaluation Results:\\n\", results_df)\n",
        "\n",
        "fig = px.bar(results_df, x='Model', y='R2 Score', color='Model', text='R2 Score',\n",
        "             title='Model Performance Comparison (R² Score)',\n",
        "             labels={'R2 Score': 'R² Score'})\n",
        "fig.show()\n"
      ],
      "metadata": {
        "colab": {
          "base_uri": "https://localhost:8080/",
          "height": 663
        },
        "id": "mJfrLWL04QOj",
        "outputId": "a7785dcf-3e06-49d7-ab4a-0bc7159e964f"
      },
      "execution_count": 12,
      "outputs": [
        {
          "output_type": "stream",
          "name": "stdout",
          "text": [
            "\n",
            "Model Evaluation Results:\n",
            "                        Model         MSE  R2 Score\n",
            "0          Linear Regression  207.469673  0.270912\n",
            "1              Decision Tree  297.893016 -0.046853\n",
            "2      Random Forest (Tuned)  165.814301  0.417297\n",
            "3  Gradient Boosting (Tuned)  198.086702  0.303886\n"
          ]
        },
        {
          "output_type": "display_data",
          "data": {
            "text/html": [
              "<html>\n",
              "<head><meta charset=\"utf-8\" /></head>\n",
              "<body>\n",
              "    <div>            <script src=\"https://cdnjs.cloudflare.com/ajax/libs/mathjax/2.7.5/MathJax.js?config=TeX-AMS-MML_SVG\"></script><script type=\"text/javascript\">if (window.MathJax && window.MathJax.Hub && window.MathJax.Hub.Config) {window.MathJax.Hub.Config({SVG: {font: \"STIX-Web\"}});}</script>                <script type=\"text/javascript\">window.PlotlyConfig = {MathJaxConfig: 'local'};</script>\n",
              "        <script charset=\"utf-8\" src=\"https://cdn.plot.ly/plotly-2.35.2.min.js\"></script>                <div id=\"e51166e2-c848-4273-aa60-7528f1e33cf8\" class=\"plotly-graph-div\" style=\"height:525px; width:100%;\"></div>            <script type=\"text/javascript\">                                    window.PLOTLYENV=window.PLOTLYENV || {};                                    if (document.getElementById(\"e51166e2-c848-4273-aa60-7528f1e33cf8\")) {                    Plotly.newPlot(                        \"e51166e2-c848-4273-aa60-7528f1e33cf8\",                        [{\"alignmentgroup\":\"True\",\"hovertemplate\":\"Model=%{x}\\u003cbr\\u003eR² Score=%{text}\\u003cextra\\u003e\\u003c\\u002fextra\\u003e\",\"legendgroup\":\"Linear Regression\",\"marker\":{\"color\":\"#636efa\",\"pattern\":{\"shape\":\"\"}},\"name\":\"Linear Regression\",\"offsetgroup\":\"Linear Regression\",\"orientation\":\"v\",\"showlegend\":true,\"text\":[0.27091195443785787],\"textposition\":\"auto\",\"x\":[\"Linear Regression\"],\"xaxis\":\"x\",\"y\":[0.27091195443785787],\"yaxis\":\"y\",\"type\":\"bar\"},{\"alignmentgroup\":\"True\",\"hovertemplate\":\"Model=%{x}\\u003cbr\\u003eR² Score=%{text}\\u003cextra\\u003e\\u003c\\u002fextra\\u003e\",\"legendgroup\":\"Decision Tree\",\"marker\":{\"color\":\"#EF553B\",\"pattern\":{\"shape\":\"\"}},\"name\":\"Decision Tree\",\"offsetgroup\":\"Decision Tree\",\"orientation\":\"v\",\"showlegend\":true,\"text\":[-0.04685293974158644],\"textposition\":\"auto\",\"x\":[\"Decision Tree\"],\"xaxis\":\"x\",\"y\":[-0.04685293974158644],\"yaxis\":\"y\",\"type\":\"bar\"},{\"alignmentgroup\":\"True\",\"hovertemplate\":\"Model=%{x}\\u003cbr\\u003eR² Score=%{text}\\u003cextra\\u003e\\u003c\\u002fextra\\u003e\",\"legendgroup\":\"Random Forest (Tuned)\",\"marker\":{\"color\":\"#00cc96\",\"pattern\":{\"shape\":\"\"}},\"name\":\"Random Forest (Tuned)\",\"offsetgroup\":\"Random Forest (Tuned)\",\"orientation\":\"v\",\"showlegend\":true,\"text\":[0.41729688431378853],\"textposition\":\"auto\",\"x\":[\"Random Forest (Tuned)\"],\"xaxis\":\"x\",\"y\":[0.41729688431378853],\"yaxis\":\"y\",\"type\":\"bar\"},{\"alignmentgroup\":\"True\",\"hovertemplate\":\"Model=%{x}\\u003cbr\\u003eR² Score=%{text}\\u003cextra\\u003e\\u003c\\u002fextra\\u003e\",\"legendgroup\":\"Gradient Boosting (Tuned)\",\"marker\":{\"color\":\"#ab63fa\",\"pattern\":{\"shape\":\"\"}},\"name\":\"Gradient Boosting (Tuned)\",\"offsetgroup\":\"Gradient Boosting (Tuned)\",\"orientation\":\"v\",\"showlegend\":true,\"text\":[0.3038855062508724],\"textposition\":\"auto\",\"x\":[\"Gradient Boosting (Tuned)\"],\"xaxis\":\"x\",\"y\":[0.3038855062508724],\"yaxis\":\"y\",\"type\":\"bar\"}],                        {\"template\":{\"data\":{\"histogram2dcontour\":[{\"type\":\"histogram2dcontour\",\"colorbar\":{\"outlinewidth\":0,\"ticks\":\"\"},\"colorscale\":[[0.0,\"#0d0887\"],[0.1111111111111111,\"#46039f\"],[0.2222222222222222,\"#7201a8\"],[0.3333333333333333,\"#9c179e\"],[0.4444444444444444,\"#bd3786\"],[0.5555555555555556,\"#d8576b\"],[0.6666666666666666,\"#ed7953\"],[0.7777777777777778,\"#fb9f3a\"],[0.8888888888888888,\"#fdca26\"],[1.0,\"#f0f921\"]]}],\"choropleth\":[{\"type\":\"choropleth\",\"colorbar\":{\"outlinewidth\":0,\"ticks\":\"\"}}],\"histogram2d\":[{\"type\":\"histogram2d\",\"colorbar\":{\"outlinewidth\":0,\"ticks\":\"\"},\"colorscale\":[[0.0,\"#0d0887\"],[0.1111111111111111,\"#46039f\"],[0.2222222222222222,\"#7201a8\"],[0.3333333333333333,\"#9c179e\"],[0.4444444444444444,\"#bd3786\"],[0.5555555555555556,\"#d8576b\"],[0.6666666666666666,\"#ed7953\"],[0.7777777777777778,\"#fb9f3a\"],[0.8888888888888888,\"#fdca26\"],[1.0,\"#f0f921\"]]}],\"heatmap\":[{\"type\":\"heatmap\",\"colorbar\":{\"outlinewidth\":0,\"ticks\":\"\"},\"colorscale\":[[0.0,\"#0d0887\"],[0.1111111111111111,\"#46039f\"],[0.2222222222222222,\"#7201a8\"],[0.3333333333333333,\"#9c179e\"],[0.4444444444444444,\"#bd3786\"],[0.5555555555555556,\"#d8576b\"],[0.6666666666666666,\"#ed7953\"],[0.7777777777777778,\"#fb9f3a\"],[0.8888888888888888,\"#fdca26\"],[1.0,\"#f0f921\"]]}],\"heatmapgl\":[{\"type\":\"heatmapgl\",\"colorbar\":{\"outlinewidth\":0,\"ticks\":\"\"},\"colorscale\":[[0.0,\"#0d0887\"],[0.1111111111111111,\"#46039f\"],[0.2222222222222222,\"#7201a8\"],[0.3333333333333333,\"#9c179e\"],[0.4444444444444444,\"#bd3786\"],[0.5555555555555556,\"#d8576b\"],[0.6666666666666666,\"#ed7953\"],[0.7777777777777778,\"#fb9f3a\"],[0.8888888888888888,\"#fdca26\"],[1.0,\"#f0f921\"]]}],\"contourcarpet\":[{\"type\":\"contourcarpet\",\"colorbar\":{\"outlinewidth\":0,\"ticks\":\"\"}}],\"contour\":[{\"type\":\"contour\",\"colorbar\":{\"outlinewidth\":0,\"ticks\":\"\"},\"colorscale\":[[0.0,\"#0d0887\"],[0.1111111111111111,\"#46039f\"],[0.2222222222222222,\"#7201a8\"],[0.3333333333333333,\"#9c179e\"],[0.4444444444444444,\"#bd3786\"],[0.5555555555555556,\"#d8576b\"],[0.6666666666666666,\"#ed7953\"],[0.7777777777777778,\"#fb9f3a\"],[0.8888888888888888,\"#fdca26\"],[1.0,\"#f0f921\"]]}],\"surface\":[{\"type\":\"surface\",\"colorbar\":{\"outlinewidth\":0,\"ticks\":\"\"},\"colorscale\":[[0.0,\"#0d0887\"],[0.1111111111111111,\"#46039f\"],[0.2222222222222222,\"#7201a8\"],[0.3333333333333333,\"#9c179e\"],[0.4444444444444444,\"#bd3786\"],[0.5555555555555556,\"#d8576b\"],[0.6666666666666666,\"#ed7953\"],[0.7777777777777778,\"#fb9f3a\"],[0.8888888888888888,\"#fdca26\"],[1.0,\"#f0f921\"]]}],\"mesh3d\":[{\"type\":\"mesh3d\",\"colorbar\":{\"outlinewidth\":0,\"ticks\":\"\"}}],\"scatter\":[{\"fillpattern\":{\"fillmode\":\"overlay\",\"size\":10,\"solidity\":0.2},\"type\":\"scatter\"}],\"parcoords\":[{\"type\":\"parcoords\",\"line\":{\"colorbar\":{\"outlinewidth\":0,\"ticks\":\"\"}}}],\"scatterpolargl\":[{\"type\":\"scatterpolargl\",\"marker\":{\"colorbar\":{\"outlinewidth\":0,\"ticks\":\"\"}}}],\"bar\":[{\"error_x\":{\"color\":\"#2a3f5f\"},\"error_y\":{\"color\":\"#2a3f5f\"},\"marker\":{\"line\":{\"color\":\"#E5ECF6\",\"width\":0.5},\"pattern\":{\"fillmode\":\"overlay\",\"size\":10,\"solidity\":0.2}},\"type\":\"bar\"}],\"scattergeo\":[{\"type\":\"scattergeo\",\"marker\":{\"colorbar\":{\"outlinewidth\":0,\"ticks\":\"\"}}}],\"scatterpolar\":[{\"type\":\"scatterpolar\",\"marker\":{\"colorbar\":{\"outlinewidth\":0,\"ticks\":\"\"}}}],\"histogram\":[{\"marker\":{\"pattern\":{\"fillmode\":\"overlay\",\"size\":10,\"solidity\":0.2}},\"type\":\"histogram\"}],\"scattergl\":[{\"type\":\"scattergl\",\"marker\":{\"colorbar\":{\"outlinewidth\":0,\"ticks\":\"\"}}}],\"scatter3d\":[{\"type\":\"scatter3d\",\"line\":{\"colorbar\":{\"outlinewidth\":0,\"ticks\":\"\"}},\"marker\":{\"colorbar\":{\"outlinewidth\":0,\"ticks\":\"\"}}}],\"scattermapbox\":[{\"type\":\"scattermapbox\",\"marker\":{\"colorbar\":{\"outlinewidth\":0,\"ticks\":\"\"}}}],\"scatterternary\":[{\"type\":\"scatterternary\",\"marker\":{\"colorbar\":{\"outlinewidth\":0,\"ticks\":\"\"}}}],\"scattercarpet\":[{\"type\":\"scattercarpet\",\"marker\":{\"colorbar\":{\"outlinewidth\":0,\"ticks\":\"\"}}}],\"carpet\":[{\"aaxis\":{\"endlinecolor\":\"#2a3f5f\",\"gridcolor\":\"white\",\"linecolor\":\"white\",\"minorgridcolor\":\"white\",\"startlinecolor\":\"#2a3f5f\"},\"baxis\":{\"endlinecolor\":\"#2a3f5f\",\"gridcolor\":\"white\",\"linecolor\":\"white\",\"minorgridcolor\":\"white\",\"startlinecolor\":\"#2a3f5f\"},\"type\":\"carpet\"}],\"table\":[{\"cells\":{\"fill\":{\"color\":\"#EBF0F8\"},\"line\":{\"color\":\"white\"}},\"header\":{\"fill\":{\"color\":\"#C8D4E3\"},\"line\":{\"color\":\"white\"}},\"type\":\"table\"}],\"barpolar\":[{\"marker\":{\"line\":{\"color\":\"#E5ECF6\",\"width\":0.5},\"pattern\":{\"fillmode\":\"overlay\",\"size\":10,\"solidity\":0.2}},\"type\":\"barpolar\"}],\"pie\":[{\"automargin\":true,\"type\":\"pie\"}]},\"layout\":{\"autotypenumbers\":\"strict\",\"colorway\":[\"#636efa\",\"#EF553B\",\"#00cc96\",\"#ab63fa\",\"#FFA15A\",\"#19d3f3\",\"#FF6692\",\"#B6E880\",\"#FF97FF\",\"#FECB52\"],\"font\":{\"color\":\"#2a3f5f\"},\"hovermode\":\"closest\",\"hoverlabel\":{\"align\":\"left\"},\"paper_bgcolor\":\"white\",\"plot_bgcolor\":\"#E5ECF6\",\"polar\":{\"bgcolor\":\"#E5ECF6\",\"angularaxis\":{\"gridcolor\":\"white\",\"linecolor\":\"white\",\"ticks\":\"\"},\"radialaxis\":{\"gridcolor\":\"white\",\"linecolor\":\"white\",\"ticks\":\"\"}},\"ternary\":{\"bgcolor\":\"#E5ECF6\",\"aaxis\":{\"gridcolor\":\"white\",\"linecolor\":\"white\",\"ticks\":\"\"},\"baxis\":{\"gridcolor\":\"white\",\"linecolor\":\"white\",\"ticks\":\"\"},\"caxis\":{\"gridcolor\":\"white\",\"linecolor\":\"white\",\"ticks\":\"\"}},\"coloraxis\":{\"colorbar\":{\"outlinewidth\":0,\"ticks\":\"\"}},\"colorscale\":{\"sequential\":[[0.0,\"#0d0887\"],[0.1111111111111111,\"#46039f\"],[0.2222222222222222,\"#7201a8\"],[0.3333333333333333,\"#9c179e\"],[0.4444444444444444,\"#bd3786\"],[0.5555555555555556,\"#d8576b\"],[0.6666666666666666,\"#ed7953\"],[0.7777777777777778,\"#fb9f3a\"],[0.8888888888888888,\"#fdca26\"],[1.0,\"#f0f921\"]],\"sequentialminus\":[[0.0,\"#0d0887\"],[0.1111111111111111,\"#46039f\"],[0.2222222222222222,\"#7201a8\"],[0.3333333333333333,\"#9c179e\"],[0.4444444444444444,\"#bd3786\"],[0.5555555555555556,\"#d8576b\"],[0.6666666666666666,\"#ed7953\"],[0.7777777777777778,\"#fb9f3a\"],[0.8888888888888888,\"#fdca26\"],[1.0,\"#f0f921\"]],\"diverging\":[[0,\"#8e0152\"],[0.1,\"#c51b7d\"],[0.2,\"#de77ae\"],[0.3,\"#f1b6da\"],[0.4,\"#fde0ef\"],[0.5,\"#f7f7f7\"],[0.6,\"#e6f5d0\"],[0.7,\"#b8e186\"],[0.8,\"#7fbc41\"],[0.9,\"#4d9221\"],[1,\"#276419\"]]},\"xaxis\":{\"gridcolor\":\"white\",\"linecolor\":\"white\",\"ticks\":\"\",\"title\":{\"standoff\":15},\"zerolinecolor\":\"white\",\"automargin\":true,\"zerolinewidth\":2},\"yaxis\":{\"gridcolor\":\"white\",\"linecolor\":\"white\",\"ticks\":\"\",\"title\":{\"standoff\":15},\"zerolinecolor\":\"white\",\"automargin\":true,\"zerolinewidth\":2},\"scene\":{\"xaxis\":{\"backgroundcolor\":\"#E5ECF6\",\"gridcolor\":\"white\",\"linecolor\":\"white\",\"showbackground\":true,\"ticks\":\"\",\"zerolinecolor\":\"white\",\"gridwidth\":2},\"yaxis\":{\"backgroundcolor\":\"#E5ECF6\",\"gridcolor\":\"white\",\"linecolor\":\"white\",\"showbackground\":true,\"ticks\":\"\",\"zerolinecolor\":\"white\",\"gridwidth\":2},\"zaxis\":{\"backgroundcolor\":\"#E5ECF6\",\"gridcolor\":\"white\",\"linecolor\":\"white\",\"showbackground\":true,\"ticks\":\"\",\"zerolinecolor\":\"white\",\"gridwidth\":2}},\"shapedefaults\":{\"line\":{\"color\":\"#2a3f5f\"}},\"annotationdefaults\":{\"arrowcolor\":\"#2a3f5f\",\"arrowhead\":0,\"arrowwidth\":1},\"geo\":{\"bgcolor\":\"white\",\"landcolor\":\"#E5ECF6\",\"subunitcolor\":\"white\",\"showland\":true,\"showlakes\":true,\"lakecolor\":\"white\"},\"title\":{\"x\":0.05},\"mapbox\":{\"style\":\"light\"}}},\"xaxis\":{\"anchor\":\"y\",\"domain\":[0.0,1.0],\"title\":{\"text\":\"Model\"},\"categoryorder\":\"array\",\"categoryarray\":[\"Linear Regression\",\"Decision Tree\",\"Random Forest (Tuned)\",\"Gradient Boosting (Tuned)\"]},\"yaxis\":{\"anchor\":\"x\",\"domain\":[0.0,1.0],\"title\":{\"text\":\"R² Score\"}},\"legend\":{\"title\":{\"text\":\"Model\"},\"tracegroupgap\":0},\"title\":{\"text\":\"Model Performance Comparison (R² Score)\"},\"barmode\":\"relative\"},                        {\"responsive\": true}                    ).then(function(){\n",
              "                            \n",
              "var gd = document.getElementById('e51166e2-c848-4273-aa60-7528f1e33cf8');\n",
              "var x = new MutationObserver(function (mutations, observer) {{\n",
              "        var display = window.getComputedStyle(gd).display;\n",
              "        if (!display || display === 'none') {{\n",
              "            console.log([gd, 'removed!']);\n",
              "            Plotly.purge(gd);\n",
              "            observer.disconnect();\n",
              "        }}\n",
              "}});\n",
              "\n",
              "// Listen for the removal of the full notebook cells\n",
              "var notebookContainer = gd.closest('#notebook-container');\n",
              "if (notebookContainer) {{\n",
              "    x.observe(notebookContainer, {childList: true});\n",
              "}}\n",
              "\n",
              "// Listen for the clearing of the current output cell\n",
              "var outputEl = gd.closest('.output');\n",
              "if (outputEl) {{\n",
              "    x.observe(outputEl, {childList: true});\n",
              "}}\n",
              "\n",
              "                        })                };                            </script>        </div>\n",
              "</body>\n",
              "</html>"
            ]
          },
          "metadata": {}
        }
      ]
    },
    {
      "cell_type": "code",
      "source": [
        "best_model = rf_grid.best_estimator_\n",
        "print(f\"The best model selected is: {type(best_model).__name__}\")\n",
        "\n",
        "importances = pd.Series(best_model.feature_importances_, index=features)\n",
        "plt.figure(figsize=(8, 5))\n",
        "importances.sort_values().plot(kind='barh', color='teal')\n",
        "plt.title('Feature Importances for Fuel Rate Prediction')\n",
        "plt.xlabel('Importance')\n",
        "plt.tight_layout()\n",
        "plt.show()\n"
      ],
      "metadata": {
        "colab": {
          "base_uri": "https://localhost:8080/",
          "height": 524
        },
        "id": "J_-pvsi54VeF",
        "outputId": "cc3ba95b-b6fe-401e-89ba-4d9260b6f2c7"
      },
      "execution_count": 13,
      "outputs": [
        {
          "output_type": "stream",
          "name": "stdout",
          "text": [
            "The best model selected is: RandomForestRegressor\n"
          ]
        },
        {
          "output_type": "display_data",
          "data": {
            "text/plain": [
              "<Figure size 800x500 with 1 Axes>"
            ],
            "image/png": "[encoded data removed]"
          },
          "metadata": {}
        }
      ]
    },
    {
      "cell_type": "code",
      "source": [
        "def get_user_input():\n",
        "    inputs = {}\n",
        "    print(\"\\nPlease enter the following values to predict the fuel rate:\")\n",
        "    for feature in features:\n",
        "        while True:\n",
        "            try:\n",
        "                value = float(input(f\"Enter {feature.replace('_', ' ')}: \"))\n",
        "                inputs[feature] = value\n",
        "                break\n",
        "            except ValueError:\n",
        "                print(\"Invalid input. Please enter a numeric value.\")\n",
        "    return pd.DataFrame([inputs])\n",
        "\n",
        "# Example new data for prediction\n",
        "example_new_data = pd.DataFrame([\n",
        "    {'moisture': 5.0, 'co_efficiency': 50.0, 'hot_blast_temp': 1200.0,\n",
        "     'slag_rate': 250.0, 'flame_temp': 2000.0, 'top_pressure': 1.5}\n",
        "])\n",
        "\n",
        "predicted_fuel_rate = best_model.predict(example_new_data)\n",
        "print(\"\\nPredicted Fuel Rate for New Data:\", predicted_fuel_rate[0])\n"
      ],
      "metadata": {
        "colab": {
          "base_uri": "https://localhost:8080/"
        },
        "id": "Aa44TEi44Z2j",
        "outputId": "afd8b1a3-3efd-4a62-88a3-4449e7bfe38c"
      },
      "execution_count": 14,
      "outputs": [
        {
          "output_type": "stream",
          "name": "stdout",
          "text": [
            "\n",
            "Predicted Fuel Rate for New Data: 574.4922215367967\n"
          ]
        }
      ]
    },
    {
      "cell_type": "code",
      "source": [
        "model_path = 'fuel_rate_rf_model.pkl'\n",
        "joblib.dump(best_model, model_path)\n",
        "print(f\"\\nModel saved as '{model_path}'\")\n",
        "\n",
        "df.to_csv('cleaned_blast_furnace_data.csv', index=False)\n",
        "print(\"Cleaned data saved as 'cleaned_blast_furnace_data.csv'\")"
      ],
      "metadata": {
        "colab": {
          "base_uri": "https://localhost:8080/"
        },
        "id": "iWPNUeTO4c7I",
        "outputId": "94f5075b-698a-4dcf-f4bc-7255865c4916"
      },
      "execution_count": 15,
      "outputs": [
        {
          "output_type": "stream",
          "name": "stdout",
          "text": [
            "\n",
            "Model saved as 'fuel_rate_rf_model.pkl'\n",
            "Cleaned data saved as 'cleaned_blast_furnace_data.csv'\n"
          ]
        }
      ]
    }
  ]
}